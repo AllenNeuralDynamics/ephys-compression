{
 "cells": [
  {
   "cell_type": "code",
   "execution_count": null,
   "id": "5e6d52a1",
   "metadata": {},
   "outputs": [],
   "source": [
    "import zarr\n",
    "from numcodecs import Blosc, Zlib, Shuffle\n",
    "\n",
    "import matplotlib.pyplot as plt\n",
    "\n",
    "import numpy as np\n",
    "\n",
    "%matplotlib widget"
   ]
  },
  {
   "cell_type": "code",
   "execution_count": null,
   "id": "dd19cc76",
   "metadata": {},
   "outputs": [],
   "source": [
    "levels = [1, 5, 9]"
   ]
  },
  {
   "cell_type": "code",
   "execution_count": null,
   "id": "772cc5a9",
   "metadata": {},
   "outputs": [],
   "source": [
    "fs = 30000\n",
    "duration = 30\n",
    "num_channels = 16\n",
    "\n",
    "sin_f = 5\n",
    "sin_amp = 100\n",
    "noise_amp = 10\n",
    "phase_shift = 0.1"
   ]
  },
  {
   "cell_type": "code",
   "execution_count": null,
   "id": "8f82d7a9",
   "metadata": {},
   "outputs": [],
   "source": [
    "# make some data\n",
    "data = np.zeros((fs * duration, num_channels), dtype=\"int16\")"
   ]
  },
  {
   "cell_type": "code",
   "execution_count": null,
   "id": "b9ad8a31",
   "metadata": {},
   "outputs": [],
   "source": [
    "for ch in range(num_channels):\n",
    "    data_h = sin_amp * np.sin(2 * np.pi * sin_f * np.arange(fs * duration)/fs + ch*phase_shift)\n",
    "    data_h += noise_amp * np.random.randn(fs * duration)\n",
    "    data[:, ch] = data_h.astype(\"int16\")"
   ]
  },
  {
   "cell_type": "code",
   "execution_count": null,
   "id": "e7528936",
   "metadata": {},
   "outputs": [],
   "source": [
    "plt.figure()\n",
    "plt.plot(data[:, ::5])"
   ]
  },
  {
   "cell_type": "code",
   "execution_count": null,
   "id": "9b720155",
   "metadata": {},
   "outputs": [],
   "source": [
    "Blosc?"
   ]
  },
  {
   "cell_type": "code",
   "execution_count": null,
   "id": "24292f95",
   "metadata": {},
   "outputs": [],
   "source": [
    "# compress\n",
    "chunk_size = 30000\n",
    "\n",
    "\n",
    "for lev in levels:\n",
    "    compressor_blosc = Blosc(cname=\"zlib\", clevel=lev, shuffle=0)\n",
    "    compressor_zlib = Zlib(lev)\n",
    "    \n",
    "    z_blosc = zarr.open(f'../data/zlib_ex_blosc{lev}.zarr', mode='w', shape=data.shape,\n",
    "                        compressor=compressor_blosc, chunks=(chunk_size, None), dtype='i2')\n",
    "    z_noblosc = zarr.open(f'../data/zlib_ex_noblosc{lev}.zarr', mode='w', shape=data.shape,\n",
    "                          compressor=compressor_zlib, chunks=(chunk_size, None), dtype='i2')\n",
    "    \n",
    "    z_blosc[:] = data\n",
    "    z_noblosc[:] = data\n",
    "    \n",
    "    cr_blosc = z_blosc.nbytes / z_blosc.nbytes_stored\n",
    "    cr_noblosc = z_noblosc.nbytes / z_noblosc.nbytes_stored    \n",
    "    \n",
    "    print(f\"Level {lev} : blosc {cr_blosc} - non-blosc {cr_noblosc}\")"
   ]
  }
 ],
 "metadata": {
  "kernelspec": {
   "display_name": "Python 3 (ipykernel)",
   "language": "python",
   "name": "python3"
  },
  "language_info": {
   "codemirror_mode": {
    "name": "ipython",
    "version": 3
   },
   "file_extension": ".py",
   "mimetype": "text/x-python",
   "name": "python",
   "nbconvert_exporter": "python",
   "pygments_lexer": "ipython3",
   "version": "3.9.11"
  }
 },
 "nbformat": 4,
 "nbformat_minor": 5
}
