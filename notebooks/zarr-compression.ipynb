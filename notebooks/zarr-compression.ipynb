{
 "cells": [
  {
   "cell_type": "markdown",
   "id": "b81e4ba1",
   "metadata": {},
   "source": [
    "# ZARR compression on experimental Neuropixels data\n",
    "\n",
    "This notebook investigaes the use of Zarr compressors and filters to compress raw Neuropixels data.\n",
    "\n",
    "In particular it covers:\n",
    "\n",
    "- effect of LSB division on CR\n",
    "- bit truncation\n",
    "   - effect on spike sorting\n",
    "   - effect on waveforms features"
   ]
  },
  {
   "cell_type": "code",
   "execution_count": null,
   "id": "7b39e2dc",
   "metadata": {},
   "outputs": [],
   "source": [
    "import spikeinterface.full as si\n",
    "import spikeinterface.sortingcomponents as scp\n",
    "\n",
    "import probeinterface as pi\n",
    "import numpy as np\n",
    "from tqdm import tqdm\n",
    "from pathlib import Path\n",
    "import matplotlib.pyplot as plt\n",
    "import os\n",
    "import time\n",
    "from pathlib import Path\n",
    "import time\n",
    "import shutil\n",
    "import pandas as pd\n",
    "import seaborn as sns\n",
    "\n",
    "import zarr\n",
    "import numcodecs\n",
    "from numcodecs import Blosc, Zstd, blosc\n",
    "\n",
    "\n",
    "%matplotlib widget"
   ]
  },
  {
   "cell_type": "code",
   "execution_count": null,
   "id": "5ef8356a",
   "metadata": {},
   "outputs": [],
   "source": [
    "job_kwargs = dict(n_jobs=20, chunk_duration=\"1s\", progress_bar=True)"
   ]
  },
  {
   "cell_type": "markdown",
   "id": "c0d10630",
   "metadata": {},
   "source": [
    "### Choose overwrite option"
   ]
  },
  {
   "cell_type": "code",
   "execution_count": null,
   "id": "64c1863c",
   "metadata": {},
   "outputs": [],
   "source": [
    "overwrite = False"
   ]
  },
  {
   "cell_type": "code",
   "execution_count": null,
   "id": "720be7f9",
   "metadata": {},
   "outputs": [],
   "source": [
    "zarr_output_folder = Path(\"zarr_tests\")\n",
    "\n",
    "if overwrite:\n",
    "    if zarr_output_folder.is_dir():\n",
    "        shutil.rmtree(zarr_output_folder)\n",
    "\n",
    "    zarr_output_folder.mkdir()"
   ]
  },
  {
   "cell_type": "markdown",
   "id": "96175782",
   "metadata": {},
   "source": [
    "## Load open-ephys data in SpikeInterface\n"
   ]
  },
  {
   "cell_type": "code",
   "execution_count": null,
   "id": "58a51fe7",
   "metadata": {},
   "outputs": [],
   "source": [
    "data_folder = Path(\"/home/alessio/Documents/data/allen/npix-open-ephys/\")"
   ]
  },
  {
   "cell_type": "code",
   "execution_count": null,
   "id": "5224dd5c",
   "metadata": {},
   "outputs": [],
   "source": [
    "np_version = 1"
   ]
  },
  {
   "cell_type": "code",
   "execution_count": null,
   "id": "b98c7aae",
   "metadata": {},
   "outputs": [],
   "source": [
    "if np_version == 1:\n",
    "    oe_folder = data_folder / \"618382_2022-03-31_14-27-03/Record Node 102/\" # NP1.0\n",
    "else:\n",
    "    oe_folder = data_folder / \"595262_2022-02-22_16-47-26/Record Node 102/\" # NP2.0\n",
    "\n",
    "rec_full = si.read_openephys(oe_folder, stream_id=\"0\")\n",
    "print(rec_full)"
   ]
  },
  {
   "cell_type": "code",
   "execution_count": null,
   "id": "44438284",
   "metadata": {},
   "outputs": [],
   "source": [
    "# rec_full = si.read_spikeglx(\"/home/alessio/Documents/data/gin/ephy_testing_data/spikeglx/Noise4Sam_g0\",\n",
    "#                             stream_id=\"imec0.ap\")"
   ]
  },
  {
   "cell_type": "code",
   "execution_count": null,
   "id": "c33f4e62",
   "metadata": {},
   "outputs": [],
   "source": [
    "rec_full = si.split_recording(rec_full)[0]"
   ]
  },
  {
   "cell_type": "code",
   "execution_count": null,
   "id": "7c7a9523",
   "metadata": {},
   "outputs": [],
   "source": [
    "rec_full"
   ]
  },
  {
   "cell_type": "code",
   "execution_count": null,
   "id": "72a56d43",
   "metadata": {},
   "outputs": [],
   "source": [
    "w = si.plot_probe_map(rec_full)\n",
    "w.ax.set_ylim(0, 200)\n",
    "w.ax.set_xlim(-20, 80)"
   ]
  },
  {
   "cell_type": "markdown",
   "id": "da98622d",
   "metadata": {},
   "source": [
    "(Optional) Remove channels outside of the brain (so far, from visual inspection)"
   ]
  },
  {
   "cell_type": "code",
   "execution_count": null,
   "id": "33e5f545",
   "metadata": {},
   "outputs": [],
   "source": [
    "w = si.plot_timeseries(rec_full, time_range=[100, 110], show_channel_ids=True)"
   ]
  },
  {
   "cell_type": "code",
   "execution_count": null,
   "id": "b5aec999",
   "metadata": {},
   "outputs": [],
   "source": [
    "# remove channels outside\n",
    "# rec = rec_full.channel_slice(channel_ids=rec_full.channel_ids[:-120])"
   ]
  },
  {
   "cell_type": "markdown",
   "id": "2dcb925d",
   "metadata": {},
   "source": [
    "### Check different CMR strategies using peak detection"
   ]
  },
  {
   "cell_type": "code",
   "execution_count": null,
   "id": "cd325dd0",
   "metadata": {},
   "outputs": [],
   "source": [
    "rec_f = si.bandpass_filter(rec_full)\n",
    "rec_cmr_g = si.common_reference(rec_f)\n",
    "rec_cmr_l = si.common_reference(rec_f, reference=\"local\")"
   ]
  },
  {
   "cell_type": "code",
   "execution_count": null,
   "id": "ae253253",
   "metadata": {},
   "outputs": [],
   "source": [
    "# w = si.plot_timeseries(rec, time_range=[100, 105])\n",
    "peaks = scp.detect_peaks(rec_full, **job_kwargs)\n",
    "peaks_cmr_g = scp.detect_peaks(rec_cmr_g, **job_kwargs)\n",
    "peaks_cmr_l = scp.detect_peaks(rec_cmr_l, **job_kwargs)"
   ]
  },
  {
   "cell_type": "code",
   "execution_count": null,
   "id": "3ffe6d5e",
   "metadata": {},
   "outputs": [],
   "source": [
    "si.plot_drift_over_time(rec_full, peaks, mode=\"scatter\")\n",
    "si.plot_drift_over_time(rec_cmr_g, peaks_cmr_g, mode=\"scatter\")\n",
    "si.plot_drift_over_time(rec_cmr_l, peaks_cmr_l, mode=\"scatter\")"
   ]
  },
  {
   "cell_type": "code",
   "execution_count": null,
   "id": "8bb41364",
   "metadata": {},
   "outputs": [],
   "source": [
    "fig, axs = plt.subplots(nrows=3, sharex=True)\n",
    "w = si.plot_timeseries(rec, time_range=[197, 198], show_channel_ids=True, mode=\"line\",\n",
    "                       channel_ids=rec.channel_ids[::20], ax=axs[0])\n",
    "w = si.plot_timeseries(rec_cmr_g, time_range=[197, 198], show_channel_ids=True, mode=\"line\",\n",
    "                       channel_ids=rec_cmr_g.channel_ids[::20], ax=axs[1])\n",
    "w = si.plot_timeseries(rec_cmr_l, time_range=[197, 198], show_channel_ids=True, mode=\"line\",\n",
    "                       channel_ids=rec_cmr_l.channel_ids[::20], ax=axs[2])"
   ]
  },
  {
   "cell_type": "code",
   "execution_count": null,
   "id": "cc385c4e",
   "metadata": {},
   "outputs": [],
   "source": [
    "rec = rec_full"
   ]
  },
  {
   "cell_type": "markdown",
   "id": "eb793614",
   "metadata": {},
   "source": [
    "Local CMR seems to provide better preprocessing output!"
   ]
  },
  {
   "cell_type": "markdown",
   "id": "3c7f52fa",
   "metadata": {},
   "source": [
    "## Correct for LSB\n",
    "\n",
    "NP1.0 should have a 10-bit ADC, NP2.0 should have 14-bit ADC"
   ]
  },
  {
   "cell_type": "code",
   "execution_count": null,
   "id": "5957fa66",
   "metadata": {},
   "outputs": [],
   "source": [
    "if np_version == 1:\n",
    "    nbits = 10\n",
    "else:\n",
    "    nbits = 14"
   ]
  },
  {
   "cell_type": "code",
   "execution_count": null,
   "id": "b70b93fa",
   "metadata": {},
   "outputs": [],
   "source": [
    "max_ptp_i2 = 0\n",
    "\n",
    "for i in range(10):\n",
    "    chunks_i2 = si.get_random_data_chunks(rec, seed=i**2)\n",
    "    \n",
    "    if np.ptp(chunks_i2) > max_ptp_i2:\n",
    "        max_ptp_i2 = np.ptp(chunks_i2)\n",
    "print(f\"Num bits ptp: {int(np.ceil(np.log2(max_ptp_i2)))}\")  "
   ]
  },
  {
   "cell_type": "code",
   "execution_count": null,
   "id": "b5f11006",
   "metadata": {},
   "outputs": [],
   "source": [
    "# gather chunks\n",
    "lsb = 0\n",
    "num_random_chunks = 5\n",
    "chunks = None\n",
    "for i in tqdm(range(num_random_chunks), desc=\"Extracting chunks\"):\n",
    "    chunks_i2 = si.get_random_data_chunks(rec, chunk_size=30000, seed=i**2)\n",
    "    if chunks is None:\n",
    "        chunks = chunks_i2\n",
    "    else:\n",
    "        chunks = np.vstack((chunks, chunks_i2))"
   ]
  },
  {
   "cell_type": "code",
   "execution_count": null,
   "id": "0e27b84c",
   "metadata": {},
   "outputs": [],
   "source": [
    "lsb = 0\n",
    "\n",
    "num_channels = rec.get_num_channels()\n",
    "gain = rec.get_channel_gains()[0]\n",
    "dtype = rec.get_dtype()\n",
    "\n",
    "channel_idxs = np.arange(num_channels)\n",
    "min_values = np.zeros(num_channels, dtype=dtype)\n",
    "median_values = np.zeros(num_channels, dtype=dtype)\n",
    "offsets = np.zeros(num_channels, dtype=dtype)\n",
    "\n",
    "for ch in tqdm(channel_idxs, desc=\"Estimating channel stats\"):\n",
    "    unique_vals = np.unique(chunks[:, ch])\n",
    "    unique_vals_abs = np.abs(unique_vals)\n",
    "    lsb_ = np.min(np.diff(unique_vals))\n",
    "    \n",
    "    min_values[ch] = np.min(unique_vals_abs)\n",
    "    median_values[ch] = np.median(chunks[:, ch]).astype(dtype)\n",
    "    \n",
    "    unique_vals_m = np.unique(chunks[:, ch] - median_values[ch])\n",
    "    unique_vals_abs_m = np.abs(unique_vals_m)\n",
    "    offsets[ch] = np.min(unique_vals_abs_m)\n",
    "    \n",
    "    if lsb_ > lsb:\n",
    "        lsb = lsb_\n",
    "\n",
    "print(f\"LSB int16 {lsb} --> {lsb * gain} uV\")"
   ]
  },
  {
   "cell_type": "code",
   "execution_count": null,
   "id": "c7903aa3",
   "metadata": {},
   "outputs": [],
   "source": [
    "# for ch in channel_idxs:\n",
    "#     if np.ptp(chunks[:, ch]) > lsb * (2 ** nbits):\n",
    "#         print(\"Channel\", ch, np.ptp(chunks[:, ch]), lsb * (2 ** nbits))"
   ]
  },
  {
   "cell_type": "code",
   "execution_count": null,
   "id": "215dbfec",
   "metadata": {},
   "outputs": [],
   "source": [
    "print(f\"PTP: {np.ptp(chunks)} -- ADC Range: {lsb * (2 ** nbits)}\")\n",
    "assert np.ptp(chunks) <= lsb * (2 ** nbits)"
   ]
  },
  {
   "cell_type": "code",
   "execution_count": null,
   "id": "8e3ef3da",
   "metadata": {},
   "outputs": [],
   "source": [
    "print(f\"Num bits ptp after lsb division: {int(np.ceil(np.log2(np.ptp(chunks / lsb))))}\")"
   ]
  },
  {
   "cell_type": "code",
   "execution_count": null,
   "id": "c901f421",
   "metadata": {},
   "outputs": [],
   "source": [
    "lsb_all = np.min(np.diff(np.sort(np.unique(chunks.ravel()))))\n",
    "print(lsb_all)"
   ]
  },
  {
   "cell_type": "markdown",
   "id": "4c0cd233",
   "metadata": {},
   "source": [
    "**Note:** for NP1.0 LSB computed by channel and computed on the concatenated signal differ, probably due to some small offsets in the ADC (try to compute it by ADC). For NP2.0, channel-wise LSB and global LSB are the same (3) "
   ]
  },
  {
   "cell_type": "markdown",
   "id": "3d2aaea3",
   "metadata": {},
   "source": [
    "### Truncation filter \n",
    "\n",
    "Optional truncation filter function (modified from [here](https://github.com/AllenNeuralDynamics/lightsheet-compression-tests/blob/main/compress_zarr.py#L18))"
   ]
  },
  {
   "cell_type": "code",
   "execution_count": null,
   "id": "ad8e9e6d",
   "metadata": {},
   "outputs": [],
   "source": [
    "def trunc_filter(bits, recording, encoded_dtype=None):\n",
    "    scale = 1.0 / (2 ** bits)\n",
    "    if encoded_dtype is None:\n",
    "        encoded_dtype = recording.get_dtype()\n",
    "    dtype = recording.get_dtype()\n",
    "    if bits == 0:\n",
    "        return []\n",
    "    else:\n",
    "        return [numcodecs.fixedscaleoffset.FixedScaleOffset(offset=0, scale=scale, dtype=dtype,\n",
    "                                                            astype=encoded_dtype)]"
   ]
  },
  {
   "cell_type": "markdown",
   "id": "fe1fc770",
   "metadata": {},
   "source": [
    "### Choose zarr compressor\n",
    "\n",
    "`zstd` seems to provide good compression ratios and comp-/decomp speeds. \n",
    "Let's choose a middle level (e.g. 5)"
   ]
  },
  {
   "cell_type": "code",
   "execution_count": null,
   "id": "563f93ce",
   "metadata": {},
   "outputs": [],
   "source": [
    "clevel = 9"
   ]
  },
  {
   "cell_type": "code",
   "execution_count": null,
   "id": "e5ac1fb3",
   "metadata": {},
   "outputs": [],
   "source": [
    "compressor = Blosc(cname='zstd', clevel=clevel, shuffle=Blosc.BITSHUFFLE,)"
   ]
  },
  {
   "cell_type": "markdown",
   "id": "f153cc31",
   "metadata": {},
   "source": [
    "### Define output folder and configs"
   ]
  },
  {
   "cell_type": "code",
   "execution_count": null,
   "id": "ccdc7e46",
   "metadata": {},
   "outputs": [],
   "source": [
    "zarr_root = f\"test_npix{np_version}_full_zarr\""
   ]
  },
  {
   "cell_type": "code",
   "execution_count": null,
   "id": "d1c3f978",
   "metadata": {},
   "outputs": [],
   "source": [
    "# zarr_root = f\"test_spikeglx{np_version}_full_zarr\""
   ]
  },
  {
   "cell_type": "code",
   "execution_count": null,
   "id": "ff205227",
   "metadata": {},
   "outputs": [],
   "source": [
    "# define truncation bits\n",
    "trunc_bits = [0, 1, 2, 3, 4, 5, 6, 7, 8]\n",
    "\n",
    "# optionally define stub as the number of seconds to cut the recording (e.g. stub = 30)\n",
    "stub = None"
   ]
  },
  {
   "cell_type": "code",
   "execution_count": null,
   "id": "97bc4899",
   "metadata": {},
   "outputs": [],
   "source": [
    "blosc.use_threads = True"
   ]
  },
  {
   "cell_type": "markdown",
   "id": "3db3b942",
   "metadata": {},
   "source": [
    "## INT8 for NP1.0 (but trunc 2)"
   ]
  },
  {
   "cell_type": "code",
   "execution_count": null,
   "id": "048f58ee",
   "metadata": {},
   "outputs": [],
   "source": [
    "if stub is not None:\n",
    "    end_frame = int(stub * rec.get_sampling_frequency())\n",
    "    rec_stub = rec.frame_slice(start_frame=0, end_frame=end_frame)\n",
    "else:\n",
    "    rec_stub = rec"
   ]
  },
  {
   "cell_type": "code",
   "execution_count": null,
   "id": "8e6d9279",
   "metadata": {},
   "outputs": [],
   "source": [
    "trunc_bit = 3\n",
    "overwrite = True"
   ]
  },
  {
   "cell_type": "code",
   "execution_count": null,
   "id": "ebd514bb",
   "metadata": {},
   "outputs": [],
   "source": [
    "rec_stub_r = si.scale(rec_stub, gain=1., offset=-median_values, dtype=\"int16\")\n",
    "rec_stub_r = si.scale(rec_stub_r, gain=1. / lsb, dtype=\"int16\")\n",
    "\n",
    "zarr_path = zarr_output_folder / f\"{zarr_root}_trunc{trunc_bit}_int16_LSB.zarr\"\n",
    "if overwrite:\n",
    "    if zarr_path.is_dir():\n",
    "        shutil.rmtree(zarr_path)\n",
    "\n",
    "t_start = time.perf_counter()\n",
    "# first apply offset, then lsb\n",
    "filters = trunc_filter(trunc_bit, rec_stub_r)\n",
    "print(filters)\n",
    "rec_zarr_int16 = rec_stub_r.save(format=\"zarr\", zarr_path=zarr_path, \n",
    "                                 compressor=compressor, filters=filters, \n",
    "                                 **job_kwargs)\n",
    "cr_int16 = rec_zarr_int16.get_annotation(\"compression_ratio\")\n",
    "rec_zarr_int16.set_channel_gains(rec_zarr_int16.get_channel_gains() * lsb)\n",
    "\n",
    "t_stop = time.perf_counter()\n",
    "elapsed_time = np.round(t_stop - t_start, 2)\n",
    "print(f\"Elapsed time truncation: {trunc_bit} - INT16: {elapsed_time}s - CR: {cr_int16}\")"
   ]
  },
  {
   "cell_type": "code",
   "execution_count": null,
   "id": "43fa55d9",
   "metadata": {},
   "outputs": [],
   "source": [
    "filters = trunc_filter(trunc_bit, rec_stub_r, encoded_dtype=\"int8\")"
   ]
  },
  {
   "cell_type": "code",
   "execution_count": null,
   "id": "bb30eb39",
   "metadata": {},
   "outputs": [],
   "source": [
    "zarr_path = zarr_output_folder / f\"{zarr_root}_trunc{trunc_bit}_int8_LSB.zarr\"\n",
    "if overwrite:\n",
    "    if zarr_path.is_dir():\n",
    "        shutil.rmtree(zarr_path)\n",
    "t_start = time.perf_counter()\n",
    "\n",
    "dtype = \"int8\"\n",
    "\n",
    "# first apply offset, then lsb\n",
    "# filters = trunc_filter(trunc_bit, rec_stub_r, dtype=dtype)\n",
    "print(filters)\n",
    "rec_zarr_int8 = rec_stub_r.save(format=\"zarr\", zarr_path=zarr_path, \n",
    "                                compressor=compressor, filters=filters, \n",
    "                                **job_kwargs)\n",
    "cr_int8 = rec_zarr_int8.get_annotation(\"compression_ratio\")\n",
    "rec_zarr_int8.set_channel_gains(rec_zarr_int8.get_channel_gains() * lsb)\n",
    "\n",
    "t_stop = time.perf_counter()\n",
    "elapsed_time = np.round(t_stop - t_start, 2)\n",
    "print(f\"Elapsed time truncation: {trunc_bit} - INT8: {elapsed_time}s - CR: {cr_int8}\")"
   ]
  },
  {
   "cell_type": "code",
   "execution_count": null,
   "id": "bdadb9ee",
   "metadata": {},
   "outputs": [],
   "source": [
    "rec_zarr_int16._recording_segments[0]._timeseries.info"
   ]
  },
  {
   "cell_type": "code",
   "execution_count": null,
   "id": "d1993d72",
   "metadata": {},
   "outputs": [],
   "source": [
    "rec_zarr_int8._recording_segments[0]._timeseries.info"
   ]
  },
  {
   "cell_type": "code",
   "execution_count": null,
   "id": "c4d89c39",
   "metadata": {},
   "outputs": [],
   "source": [
    "rec_zarr_int8.get_traces(end_frame=10).dtype"
   ]
  },
  {
   "cell_type": "code",
   "execution_count": null,
   "id": "a10275a1",
   "metadata": {},
   "outputs": [],
   "source": [
    "rec_zarr_rescale_m.get_annotation(\"compression_ratio\")"
   ]
  },
  {
   "cell_type": "code",
   "execution_count": null,
   "id": "7774d43e",
   "metadata": {},
   "outputs": [],
   "source": [
    "start_frame = int(30*30000)\n",
    "end_frame = int(40*30000)\n",
    "\n",
    "channel_id = rec_zarr_int16.channel_ids[200]\n",
    "\n",
    "tr_int16 = rec_zarr_int16.get_traces(start_frame=start_frame, end_frame=end_frame,\n",
    "                                     channel_ids=[channel_id], return_scaled=True)\n",
    "tr_int8 = rec_zarr_int8.get_traces(start_frame=start_frame, end_frame=end_frame,\n",
    "                                   channel_ids=[channel_id], return_scaled=True)\n",
    "\n",
    "plt.figure()\n",
    "plt.plot(tr_int16, alpha=0.8)\n",
    "plt.plot(tr_int8, alpha=0.8)"
   ]
  },
  {
   "cell_type": "markdown",
   "id": "579b75e5",
   "metadata": {},
   "source": [
    "## Does LSB division improve CR?\n",
    "\n",
    "Here we first try if dividing by the LSB (hence shifting the int16 encoding \"to the right\") improves lossless compression ratio:"
   ]
  },
  {
   "cell_type": "code",
   "execution_count": null,
   "id": "6501fafd",
   "metadata": {},
   "outputs": [],
   "source": [
    "stub = 30"
   ]
  },
  {
   "cell_type": "code",
   "execution_count": null,
   "id": "fc2a2250",
   "metadata": {},
   "outputs": [],
   "source": [
    "if stub is not None:\n",
    "    end_frame = int(stub * rec.get_sampling_frequency())\n",
    "    rec_stub = rec.frame_slice(start_frame=0, end_frame=end_frame)\n",
    "else:\n",
    "    rec_stub = rec"
   ]
  },
  {
   "cell_type": "code",
   "execution_count": null,
   "id": "0b17d9ab",
   "metadata": {},
   "outputs": [],
   "source": [
    "trunc_bit = 0"
   ]
  },
  {
   "cell_type": "code",
   "execution_count": null,
   "id": "59a64b31",
   "metadata": {},
   "outputs": [],
   "source": [
    "overwrite = True"
   ]
  },
  {
   "cell_type": "code",
   "execution_count": null,
   "id": "38162f7d",
   "metadata": {},
   "outputs": [],
   "source": [
    "zarr_path = zarr_output_folder / f\"{zarr_root}_trunc{trunc_bit}_nolsb.zarr\"\n",
    "if overwrite:\n",
    "    if zarr_path.is_dir():\n",
    "        shutil.rmtree(zarr_path)\n",
    "\n",
    "t_start = time.perf_counter()\n",
    "filters = []\n",
    "rec_zarr_nolsb = rec_stub.save(format=\"zarr\", zarr_path=zarr_path, \n",
    "                               compressor=compressor, filters=filters, \n",
    "                               **job_kwargs)\n",
    "t_stop = time.perf_counter()\n",
    "elapsed_time = np.round(t_stop - t_start, 2)\n",
    "cr_nolsb = np.round(rec_zarr_nolsb._root['traces_seg0'].nbytes / rec_zarr_nolsb._root['traces_seg0'].nbytes_stored, 2)\n",
    "print(f\"Elapsed time truncation: {trunc_bit} - no LSB division: {elapsed_time}s - CR: {cr_nolsb}\")\n",
    "\n",
    "# try rescale in SI - MIN value\n",
    "zarr_path = zarr_output_folder / f\"{zarr_root}_trunc{trunc_bit}_lsb_rescale.zarr\"\n",
    "if overwrite:\n",
    "    if zarr_path.is_dir():\n",
    "        shutil.rmtree(zarr_path)\n",
    "t_start = time.perf_counter()\n",
    "# first apply offset, then lsb\n",
    "rec_stub_r = si.scale(rec_stub, gain=1., offset=-min_values, dtype=\"int16\")\n",
    "rec_stub_r = si.scale(rec_stub_r, gain=1. / lsb, dtype=\"int16\")\n",
    "filters = []\n",
    "rec_zarr_rescale = rec_stub_r.save(format=\"zarr\", zarr_path=zarr_path, \n",
    "                                   compressor=compressor, filters=filters, \n",
    "                                   **job_kwargs)\n",
    "cr_lsb_r = np.round(rec_zarr_rescale._root['traces_seg0'].nbytes / rec_zarr_rescale._root['traces_seg0'].nbytes_stored, 2)\n",
    "rec_zarr_rescale = si.scale(rec_zarr_rescale, gain=lsb, dtype=\"int16\")\n",
    "rec_zarr_rescale = si.scale(rec_zarr_rescale, offset=min_values, dtype=\"int16\")\n",
    "t_stop = time.perf_counter()\n",
    "elapsed_time = np.round(t_stop - t_start, 2)\n",
    "print(f\"Elapsed time truncation: {trunc_bit} - LSB pre-scale: {elapsed_time}s - CR: {cr_lsb_r}\")\n",
    "\n",
    "\n",
    "# try rescale in SI - MEDIAN + MINVALUE value\n",
    "zarr_path = zarr_output_folder / f\"{zarr_root}_trunc{trunc_bit}_lsb_rescale.zarr\"\n",
    "if overwrite:\n",
    "    if zarr_path.is_dir():\n",
    "        shutil.rmtree(zarr_path)\n",
    "t_start = time.perf_counter()\n",
    "# first apply offset, then lsb\n",
    "rec_stub_r = si.scale(rec_stub, gain=1., offset=-median_values, dtype=\"int16\")\n",
    "rec_stub_r = si.scale(rec_stub_r, gain=1. / lsb, dtype=\"int16\")\n",
    "filters = []\n",
    "rec_zarr_rescale_m = rec_stub_r.save(format=\"zarr\", zarr_path=zarr_path, \n",
    "                                     compressor=compressor, filters=filters, \n",
    "                                     **job_kwargs)\n",
    "cr_lsb_rm = np.round(rec_zarr_rescale_m._root['traces_seg0'].nbytes / rec_zarr_rescale_m._root['traces_seg0'].nbytes_stored, 2)\n",
    "rec_zarr_rescale_m = si.scale(rec_zarr_rescale_m, gain=lsb, dtype=\"int16\")\n",
    "rec_zarr_rescale_m = si.scale(rec_zarr_rescale_m, offset=median_values, dtype=\"int16\")\n",
    "t_stop = time.perf_counter()\n",
    "elapsed_time = np.round(t_stop - t_start, 2)\n",
    "print(f\"Elapsed time truncation: {trunc_bit} - LSB pre-scale median: {elapsed_time}s - CR: {cr_lsb_rm}\")"
   ]
  },
  {
   "cell_type": "markdown",
   "id": "d013e738",
   "metadata": {},
   "source": [
    "## Doeas DELTA improve CR?"
   ]
  },
  {
   "cell_type": "code",
   "execution_count": null,
   "id": "1c32e809",
   "metadata": {},
   "outputs": [],
   "source": [
    "filters = [numcodecs.Delta(dtype=rec.get_dtype())]"
   ]
  },
  {
   "cell_type": "code",
   "execution_count": null,
   "id": "7ef3fb8f",
   "metadata": {},
   "outputs": [],
   "source": [
    "job_kwargs = dict(n_jobs=1, chunk_duration=\"1s\", progress_bar=True)"
   ]
  },
  {
   "cell_type": "code",
   "execution_count": null,
   "id": "21995a1a",
   "metadata": {},
   "outputs": [],
   "source": [
    "zarr_path = zarr_output_folder / f\"{zarr_root}_trunc{trunc_bit}_delta.zarr\"\n",
    "if overwrite:\n",
    "    if zarr_path.is_dir():\n",
    "        shutil.rmtree(zarr_path)\n",
    "rec_zarr_d = rec_stub.save(format=\"zarr\", zarr_path=zarr_path, \n",
    "                           compressor=compressor, filters=filters, \n",
    "                           **job_kwargs)"
   ]
  },
  {
   "cell_type": "code",
   "execution_count": null,
   "id": "14cf6628",
   "metadata": {},
   "outputs": [],
   "source": [
    "numcodecs.__file__"
   ]
  },
  {
   "cell_type": "code",
   "execution_count": null,
   "id": "5eb2141d",
   "metadata": {},
   "outputs": [],
   "source": [
    "# # try rescale in SI - MEDIAN + MINVALUE value\n",
    "# zarr_path = zarr_output_folder / f\"{zarr_root}_trunc{trunc_bit}_nodelta.zarr\"\n",
    "# if overwrite:\n",
    "#     if zarr_path.is_dir():\n",
    "#         shutil.rmtree(zarr_path)\n",
    "# t_start = time.perf_counter()\n",
    "# # first apply offset, then lsb\n",
    "# rec_stub_r = si.scale(rec_stub, gain=1., offset=-median_values, dtype=\"int16\")\n",
    "# rec_stub_r = si.scale(rec_stub_r, gain=1. / lsb, dtype=\"int16\")\n",
    "# rec_zarr_rescale_m = rec_stub_r.save(format=\"zarr\", zarr_path=zarr_path, \n",
    "#                                      compressor=compressor, filters=[], \n",
    "#                                      **job_kwargs)\n",
    "# cr_lsb_rm = np.round(rec_zarr_rescale_m._root['traces_seg0'].nbytes / rec_zarr_rescale_m._root['traces_seg0'].nbytes_stored, 2)\n",
    "# rec_zarr_rescale_m = si.scale(rec_zarr_rescale_m, gain=lsb, dtype=\"int16\")\n",
    "# rec_zarr_rescale_m = si.scale(rec_zarr_rescale_m, offset=median_values, dtype=\"int16\")\n",
    "# t_stop = time.perf_counter()\n",
    "# elapsed_time = np.round(t_stop - t_start, 2)\n",
    "# print(f\"Elapsed time truncation: {trunc_bit} - LSB - no DELTA: {elapsed_time}s - CR: {cr_lsb_rm}\")\n",
    "\n",
    "\n",
    "# try rescale in SI - MEDIAN + MINVALUE value\n",
    "zarr_path = zarr_output_folder / f\"{zarr_root}_trunc{trunc_bit}_delta.zarr\"\n",
    "if overwrite:\n",
    "    if zarr_path.is_dir():\n",
    "        shutil.rmtree(zarr_path)\n",
    "t_start = time.perf_counter()\n",
    "# first apply offset, then lsb\n",
    "rec_stub_r = si.scale(rec_stub, gain=1., offset=-median_values, dtype=\"int16\")\n",
    "rec_stub_r = si.scale(rec_stub_r, gain=1. / lsb, dtype=\"int16\")\n",
    "rec_zarr_rescale_d = rec_stub_r.save(format=\"zarr\", zarr_path=zarr_path, \n",
    "                                     compressor=compressor, filters=filters, \n",
    "                                     **job_kwargs)\n",
    "cr_lsb_rd = np.round(rec_zarr_rescale_d._root['traces_seg0'].nbytes / rec_zarr_rescale_d._root['traces_seg0'].nbytes_stored, 2)\n",
    "rec_zarr_rescale_d = si.scale(rec_zarr_rescale_d, gain=lsb, dtype=\"int16\")\n",
    "rec_zarr_rescale_d = si.scale(rec_zarr_rescale_d, offset=median_values, dtype=\"int16\")\n",
    "t_stop = time.perf_counter()\n",
    "elapsed_time = np.round(t_stop - t_start, 2)\n",
    "print(f\"Elapsed time truncation: {trunc_bit} - LSB - DELTA: {elapsed_time}s - CR: {cr_lsb_rd}\")"
   ]
  },
  {
   "cell_type": "markdown",
   "id": "056e43ed",
   "metadata": {},
   "source": [
    "## Benchmark bit truncation on traces and spike sorting"
   ]
  },
  {
   "cell_type": "code",
   "execution_count": null,
   "id": "4aafa037",
   "metadata": {},
   "outputs": [],
   "source": [
    "overwrite = True"
   ]
  },
  {
   "cell_type": "code",
   "execution_count": null,
   "id": "05a77ba6",
   "metadata": {},
   "outputs": [],
   "source": [
    "trunc_bits = [0, 1, 2, 4, 5, 6, 7, 8]"
   ]
  },
  {
   "cell_type": "code",
   "execution_count": null,
   "id": "e93aed13",
   "metadata": {
    "scrolled": false
   },
   "outputs": [],
   "source": [
    "rec_zarr_df = None\n",
    "\n",
    "for trunc_bit in trunc_bits:\n",
    "    zarr_path = zarr_output_folder / f\"{zarr_root}_trunc{trunc_bit}.zarr\"\n",
    "\n",
    "    if overwrite:\n",
    "        if zarr_path.is_dir():\n",
    "            shutil.rmtree(zarr_path)\n",
    "\n",
    "    if stub is not None:\n",
    "        end_frame = int(stub * rec.get_sampling_frequency())\n",
    "        rec_stub = rec.frame_slice(start_frame=0, end_frame=end_frame)\n",
    "    else:\n",
    "        rec_stub = rec\n",
    "\n",
    "    if zarr_path.is_dir():\n",
    "        rec_zarr = si.read_zarr(zarr_path)\n",
    "        elapsed_time = 0\n",
    "    else:\n",
    "        t_start = time.perf_counter()\n",
    "        filters = trunc_filter(trunc_bit, rec_stub)\n",
    "\n",
    "        # median correction\n",
    "        rec_to_compress = si.scale(rec_stub, gain=1., offset=-median_values, dtype=\"int16\")\n",
    "        rec_to_compress = si.scale(rec_to_compress, gain=1. / lsb, dtype=\"int16\")\n",
    "\n",
    "        rec_zarr = rec_stub.save(format=\"zarr\", zarr_path=zarr_path, \n",
    "                                 compressor=compressor, filters=filters, \n",
    "                                 **job_kwargs)\n",
    "        rec_to_decompress = si.scale(rec_zarr, gain=lsb, dtype=\"int16\")\n",
    "        rec_to_decompress = si.scale(rec_to_decompress, offset=median_values, \n",
    "                                     dtype=\"int16\")\n",
    "        t_stop = time.perf_counter()\n",
    "        elapsed_time = np.round(t_stop - t_start, 2)\n",
    "    cr = np.round(rec_zarr._root['traces_seg0'].nbytes / rec_zarr._root['traces_seg0'].nbytes_stored, 2)\n",
    "\n",
    "    rec_to_decompress_f = si.bandpass_filter(rec_to_decompress)\n",
    "    out_dict = {\"trunc_bit\": trunc_bit, \"CR\": cr, \"rec\": rec_to_decompress, \"rec_f\": rec_f}\n",
    "\n",
    "    df = pd.DataFrame(out_dict)\n",
    "    if rec_zarr_df is None:\n",
    "        rec_zarr_df = df\n",
    "    else:\n",
    "        rec_zarr_df = pd.concat([rec_zarr_df, df])\n",
    "\n",
    "\n",
    "    print(f\"Elapsed time truncation: {trunc_bit}: {elapsed_time}s - CR: {cr}\")"
   ]
  },
  {
   "cell_type": "markdown",
   "id": "a999d0ec",
   "metadata": {},
   "source": [
    "### Visualization"
   ]
  },
  {
   "cell_type": "code",
   "execution_count": null,
   "id": "519e26c3",
   "metadata": {},
   "outputs": [],
   "source": [
    "time_range = [15, 15.2]\n",
    "channel_ids = rec.get_channel_ids()[100:110]"
   ]
  },
  {
   "cell_type": "code",
   "execution_count": null,
   "id": "88036fe9",
   "metadata": {
    "scrolled": true
   },
   "outputs": [],
   "source": [
    "fig_ts, axs_ts = plt.subplots(nrows=2, sharex=True)\n",
    "for i, (trunc_bit, trunc_dict) in enumerate(rec_zarr_dict.items()):\n",
    "    rec_trunc_nolsb = trunc_dict[\"nolsb\"][\"rec\"]\n",
    "    rec_trunc_lsb = trunc_dict[\"lsb\"][\"rec\"]\n",
    "\n",
    "    _ = si.plot_timeseries(rec_trunc_nolsb, time_range=time_range, channel_ids=channel_ids,\n",
    "                           mode=\"line\", color=f\"C{i}\", ax=axs_ts[0])\n",
    "    l = axs_ts[0].get_lines()[-1].set_label(f\"trunc {trunc_bits[i]} - nolsb\")\n",
    "\n",
    "    _ = si.plot_timeseries(rec_trunc_nolsb, time_range=time_range, channel_ids=channel_ids,\n",
    "                           mode=\"line\", color=f\"C{i}\", ax=axs_ts[0], ls=\"--\")\n",
    "    l = axs_ts[0].get_lines()[-1].set_label(f\"trunc {trunc_bits[i]} - lsb\")\n",
    "\n",
    "\n",
    "    rec_f_nolsb = si.bandpass_filter(rec_trunc_nolsb)\n",
    "    rec_f_lsb = si.bandpass_filter(rec_trunc_lsb)\n",
    "\n",
    "    rec_zarr_dict[trunc_bit][\"nolsb\"][\"rec_filt\"] = rec_f_nolsb\n",
    "    rec_zarr_dict[trunc_bit][\"lsb\"][\"rec_filt\"] = rec_f_lsb\n",
    "\n",
    "    _ = si.plot_timeseries(rec_f_nolsb, time_range=time_range, channel_ids=channel_ids,\n",
    "                           mode=\"line\", color=f\"C{i}\", ax=axs_ts[1])\n",
    "    _ = si.plot_timeseries(rec_f_lsb, time_range=time_range, channel_ids=channel_ids,\n",
    "                           mode=\"line\", color=f\"C{i}\", ax=axs_ts[1], ls=\"--\")\n",
    "axs_ts[0].legend()\n",
    "axs_ts[0].set_title(\"Raw\", fontsize=15)\n",
    "axs_ts[0].set_xlabel(\"\", fontsize=15)\n",
    "axs_ts[1].set_title(\"Filtered\", fontsize=15)\n",
    "fig_ts.subplots_adjust(hspace=0.3)"
   ]
  },
  {
   "cell_type": "markdown",
   "id": "87ff8504",
   "metadata": {},
   "source": [
    "### RMS error on filtered traces"
   ]
  },
  {
   "cell_type": "code",
   "execution_count": null,
   "id": "bcab13c7",
   "metadata": {},
   "outputs": [],
   "source": [
    "time_range = [15, 18]\n",
    "frames = np.array(time_range) * rec.get_sampling_frequency()\n",
    "frames = frames.astype(int)"
   ]
  },
  {
   "cell_type": "code",
   "execution_count": null,
   "id": "c95a09dc",
   "metadata": {},
   "outputs": [],
   "source": [
    "rec_orig_f = si.bandpass_filter(rec_stub)\n",
    "traces_orig = rec_orig_f.get_traces(start_frame=frames[0], end_frame=frames[1], return_scaled=True)\n",
    "errors_rms = []\n",
    "for i, (trunc_bit, trunc_dict) in enumerate(rec_zarr_dict.items()):\n",
    "    for lsb_cor in trunc_dict:\n",
    "        rec_f = trunc_dict[lsb_cor][\"rec_filt\"]\n",
    "        traces_trunc_f = rec_f.get_traces(start_frame=frames[0], end_frame=frames[1], return_scaled=True)\n",
    "\n",
    "        error_rms = np.sqrt(((traces_trunc_f.ravel() - traces_orig.ravel()) ** 2).mean())\n",
    "        rec_zarr_dict[trunc_bit][lsb_cor][\"rmse\"] = error_rms\n",
    "        print(f\"RMS for truncation {trunc_bit} - lsb {lsb_cor}: {np.round(error_rms, 4)} uV\")"
   ]
  },
  {
   "cell_type": "code",
   "execution_count": null,
   "id": "a6986ed9",
   "metadata": {},
   "outputs": [],
   "source": [
    "# fig_e, ax_e = plt.subplots()\n",
    "# ax_cr = ax_e.twinx()\n",
    "\n",
    "trunc_bit_array = []\n",
    "errors_rms_array = []\n",
    "crs_array = []\n",
    "lsb_array = []\n",
    "\n",
    "\n",
    "for (trunc_bit, trunc_dict) in rec_zarr_dict.items():\n",
    "    for lsb_cor in trunc_dict: \n",
    "        trunc_bit_array.append(trunc_bit)\n",
    "        lsb_array.append(lsb_cor == \"lsb\")\n",
    "        crs_array.append(trunc_dict[lsb_cor][\"CR\"])\n",
    "        errors_rms_array.append(trunc_dict[lsb_cor][\"rmse\"])\n",
    "\n",
    "\n",
    "df = pd.DataFrame({\"trunc_bit\": trunc_bit_array, \"lsb\": lsb_array,\n",
    "                   \"CR\": crs_array, \"rmse\": errors_rms_array})\n",
    "\n",
    "plt.figure()\n",
    "sns.pointplot(data=df, x=\"trunc_bit\", y=\"CR\", hue=\"lsb\")\n",
    "plt.figure()\n",
    "sns.pointplot(data=df, x=\"trunc_bit\", y=\"rmse\", hue=\"lsb\")\n",
    "        \n",
    "# ax_e.plot(trunc_bits, errors_rms, \"d\",\n",
    "#           ls=\"--\", label=\"RMSE\")\n",
    "# ax_cr.plot(trunc_bits, crs, \"o\",\n",
    "#            ls=\"-\", color=\"C1\", label=\"CR\")\n",
    "\n",
    "# ax_e.set_title(\"Error VS CR\")\n",
    "# ax_e.set_xlabel(\"# truncation bits\")\n",
    "# ax_e.set_ylabel(\"Error rms $\\mu$V\")\n",
    "# ax_cr.set_ylabel(\"CR\")\n",
    "# ax_e.axhline(1, color=\"C0\", ls=\"--\", alpha=0.4)\n",
    "# ax_cr.axhline(3, color=\"C1\", ls=\"--\", alpha=0.4)\n",
    "# ax_e.spines['left'].set_color('C0')\n",
    "# ax_cr.spines['left'].set_color('C0')\n",
    "# ax_cr.spines['right'].set_color('C1')\n",
    "# ax_e.yaxis.label.set_color('C0')\n",
    "# ax_cr.yaxis.label.set_color('C1')\n",
    "# ax_e.tick_params(axis='y', colors='C0')\n",
    "# ax_cr.tick_params(axis='y', colors='C1')\n",
    "# ax_e.spines['top'].set_visible(False)\n",
    "# ax_cr.spines['top'].set_visible(False)\n",
    "\n",
    "\n",
    "# ax_e.legend()"
   ]
  },
  {
   "cell_type": "markdown",
   "id": "9fcf0ef4",
   "metadata": {},
   "source": [
    "## Spike Sorting\n",
    "\n",
    "Test whether compression affects spike sorting results."
   ]
  },
  {
   "cell_type": "code",
   "execution_count": null,
   "id": "4725c8a1",
   "metadata": {},
   "outputs": [],
   "source": [
    "si.installed_sorters()"
   ]
  },
  {
   "cell_type": "code",
   "execution_count": null,
   "id": "d9210d82",
   "metadata": {},
   "outputs": [],
   "source": [
    "sorter = \"tridesclous\""
   ]
  },
  {
   "cell_type": "code",
   "execution_count": null,
   "id": "6002ca94",
   "metadata": {
    "scrolled": true
   },
   "outputs": [],
   "source": [
    "for (trunc_bit, trunc_dict) in rec_zarr_dict.items():\n",
    "    print(f\"Running {sorter} for truncation bits {trunc_bit}\")\n",
    "    \n",
    "    sorter_folder = zarr_output_folder / f\"{sorter}_trunc{trunc_bit}\"\n",
    "    if sorter_folder.is_dir() and not overwrite:\n",
    "        sort = si.load_extractor(sorter_folder)\n",
    "    else:\n",
    "        rec_f = trunc_dict[\"rec_filt\"]\n",
    "        rec_cmr = si.common_reference(rec_f, operator=\"median\", reference=\"global\")\n",
    "        t_start = time.perf_counter()\n",
    "        sort = si.run_sorter(sorter, rec_f, verbose=True)\n",
    "        sort = sort.save(folder=zarr_output_folder / f\"{sorter}_trunc{trunc_bit}\")\n",
    "        t_stop = time.perf_counter()\n",
    "        elapsed_time = np.round(t_stop - t_start, 2)\n",
    "    rec_zarr_dict[trunc_bit][\"sort\"] = sort\n",
    "    \n",
    "    \n",
    "    print(f\"Elapsed {sorter} - truncation {trunc_bit}: {elapsed_time}s -- num units: {len(sort.unit_ids)}\")"
   ]
  },
  {
   "cell_type": "markdown",
   "id": "3d69174a",
   "metadata": {},
   "source": [
    "### Spike sorting comparison"
   ]
  },
  {
   "cell_type": "code",
   "execution_count": null,
   "id": "06209a6f",
   "metadata": {},
   "outputs": [],
   "source": [
    "# compare to lossless case\n",
    "gt_sorting = rec_zarr_dict[0][\"sort\"]"
   ]
  },
  {
   "cell_type": "code",
   "execution_count": null,
   "id": "2a376c1c",
   "metadata": {
    "scrolled": false
   },
   "outputs": [],
   "source": [
    "fig_st, ax_st = plt.subplots()\n",
    "for i, (trunc_bit, trunc_dict) in enumerate(rec_zarr_dict.items()):\n",
    "    if \"sort\" in trunc_dict:\n",
    "        sort = trunc_dict[\"sort\"]\n",
    "        w = si.plot_rasters(sort, ax=ax_st, color=f\"C{i}\")\n",
    "        ax_st.get_lines()[-1].set_label(f\"Trunc. bits: {trunc_bit}\")\n",
    "    else:\n",
    "        print(f\"Missing sorting object for trunc. bits: {trunc_bit}\")"
   ]
  },
  {
   "cell_type": "code",
   "execution_count": null,
   "id": "bb1631ea",
   "metadata": {
    "scrolled": true
   },
   "outputs": [],
   "source": [
    "sortings = []\n",
    "for (trunc_bit, trunc_dict) in rec_zarr_dict.items():\n",
    "    if trunc_bit == 0:\n",
    "        rec_zarr_dict[trunc_bit][\"cmp\"] = None\n",
    "    else:\n",
    "        if \"sort\" in trunc_dict:\n",
    "            sort = trunc_dict[\"sort\"]\n",
    "            cmp = si.compare_sorter_to_ground_truth(gt_sorting, sort)\n",
    "            rec_zarr_dict[trunc_bit][\"cmp\"] = cmp\n",
    "\n",
    "            print(f\"\\n\\n\\nTrunc bits: {trunc_bit}\")\n",
    "            cmp.print_performance()\n",
    "            sortings.append(sort)\n",
    "        else:\n",
    "            print(f\"Missing sorting object for trunc. bits: {trunc_bit}\")"
   ]
  },
  {
   "cell_type": "code",
   "execution_count": null,
   "id": "a52c02cb",
   "metadata": {
    "scrolled": false
   },
   "outputs": [],
   "source": [
    "# fig_cmp, axs = plt.subplots(nrows=len(trunc_bits) - 1)\n",
    "\n",
    "for i, (trunc_bit, trunc_dict) in enumerate(rec_zarr_dict.items()):\n",
    "    if i != 0:\n",
    "        if \"cmp\" in trunc_dict:\n",
    "            cmp = trunc_dict[\"cmp\"]\n",
    "            w = si.plot_agreement_matrix(cmp)\n",
    "            w.ax.set_title(f\"Bits truncated: {trunc_bit}\", fontsize=15)\n",
    "        else:\n",
    "            print(f\"Missing comparison object for trunc. bits: {trunc_bit}\")"
   ]
  },
  {
   "cell_type": "code",
   "execution_count": null,
   "id": "20a349d2",
   "metadata": {},
   "outputs": [],
   "source": [
    "mcmp = si.compare_multiple_sorters([gt_sorting] + sortings, name_list=[f\"Trunc{t}\" for t in trunc_bits])"
   ]
  },
  {
   "cell_type": "code",
   "execution_count": null,
   "id": "cc00df42",
   "metadata": {},
   "outputs": [],
   "source": [
    "si.plot_multicomp_graph(mcmp)"
   ]
  },
  {
   "cell_type": "code",
   "execution_count": null,
   "id": "b6009eb6",
   "metadata": {},
   "outputs": [],
   "source": [
    "si.plot_multicomp_agreement(mcmp)\n",
    "\n",
    "fig_mcmp, axs_mcmcp = plt.subplots(ncols=3, nrows=3)\n",
    "si.plot_multicomp_agreement_by_sorter(mcmp, axes=axs_mcmcp.ravel())\n",
    "# si.plot_multicomp_graph(mcmp)"
   ]
  },
  {
   "cell_type": "code",
   "execution_count": null,
   "id": "72e0adf2",
   "metadata": {},
   "outputs": [],
   "source": [
    "min_agreement_count = 9"
   ]
  },
  {
   "cell_type": "code",
   "execution_count": null,
   "id": "89e5f031",
   "metadata": {},
   "outputs": [],
   "source": [
    "sorting_agreement = mcmp.get_agreement_sorting(minimum_agreement_count=min_agreement_count)\n",
    "sorting_agreement"
   ]
  },
  {
   "cell_type": "code",
   "execution_count": null,
   "id": "6f624dd2",
   "metadata": {},
   "outputs": [],
   "source": [
    "sorting_agreement = sorting_agreement.save(folder=zarr_output_folder / f\"{sorter}_agreement_all\")"
   ]
  },
  {
   "cell_type": "code",
   "execution_count": null,
   "id": "2547eacf",
   "metadata": {},
   "outputs": [],
   "source": [
    "we_bit0 = si.extract_waveforms(gt_recording, rec_zarr_dict[0][\"sort\"], folder=wfs_folder / \"wf_lossless_0\",\n",
    "                               overwrite=True, **job_kwargs)"
   ]
  },
  {
   "cell_type": "code",
   "execution_count": null,
   "id": "b1dd1dad",
   "metadata": {},
   "outputs": [],
   "source": [
    "si.plot_unit_templates(we_bit0, unit_ids=[we_bit0.sorting.unit_ids[0]])"
   ]
  },
  {
   "cell_type": "markdown",
   "id": "c3e1f855",
   "metadata": {},
   "source": [
    "### Template comparison"
   ]
  },
  {
   "cell_type": "code",
   "execution_count": null,
   "id": "8a40dee3",
   "metadata": {},
   "outputs": [],
   "source": [
    "wfs_folder = zarr_output_folder / f\"wfs_{sorter}\"\n",
    "wfs_folder.mkdir(exist_ok=True)"
   ]
  },
  {
   "cell_type": "code",
   "execution_count": null,
   "id": "2f76e953",
   "metadata": {},
   "outputs": [],
   "source": [
    "gt_recording = rec_zarr_dict[0][\"rec_filt\"]\n",
    "we_gt = si.extract_waveforms(gt_recording, sorting_agreement, folder=wfs_folder / \"wf_lossless\",\n",
    "                             overwrite=True, **job_kwargs)\n",
    "gt_templates = we_gt.get_all_templates()\n",
    "rec_zarr_dict[0][\"we\"] = we_gt\n",
    "rec_zarr_dict[0][\"templates\"] = gt_templates"
   ]
  },
  {
   "cell_type": "code",
   "execution_count": null,
   "id": "df9dc594",
   "metadata": {},
   "outputs": [],
   "source": [
    "query_auto_curation = "
   ]
  },
  {
   "cell_type": "code",
   "execution_count": null,
   "id": "ad1820ea",
   "metadata": {},
   "outputs": [],
   "source": [
    "for i, (trunc_bit, trunc_dict) in enumerate(rec_zarr_dict.items()):\n",
    "    if i != 0:\n",
    "        recording = rec_zarr_dict[trunc_bit][\"rec_filt\"]\n",
    "        we = si.extract_waveforms(recording, sorting_agreement, folder=wfs_folder / f\"wf_{trunc_bit}\",\n",
    "                                  overwrite=True, **job_kwargs)\n",
    "        templates = we.get_all_templates()\n",
    "        rec_zarr_dict[trunc_bit][\"we\"] = we\n",
    "        rec_zarr_dict[trunc_bit][\"templates\"] = templates"
   ]
  },
  {
   "cell_type": "code",
   "execution_count": null,
   "id": "c0da5615",
   "metadata": {},
   "outputs": [],
   "source": [
    "# plot all units\n",
    "fig_all, ax_all = plt.subplots()\n",
    "_ = si.plot_unit_templates(we_gt, radius_um=radius_um, axes=[ax_all] * len(sorting_agreement.unit_ids))"
   ]
  },
  {
   "cell_type": "code",
   "execution_count": null,
   "id": "89454a0d",
   "metadata": {},
   "outputs": [],
   "source": [
    "sorting_agreement.unit_ids"
   ]
  },
  {
   "cell_type": "code",
   "execution_count": null,
   "id": "4e90a732",
   "metadata": {},
   "outputs": [],
   "source": [
    "unit_id = 4\n",
    "radius_um = 300"
   ]
  },
  {
   "cell_type": "code",
   "execution_count": null,
   "id": "ae668818",
   "metadata": {},
   "outputs": [],
   "source": [
    "fig_wf, ax_wf = plt.subplots()\n",
    "\n",
    "_ = si.plot_unit_templates(we_gt, unit_ids=[unit_id], radius_um=radius_um, \n",
    "                           unit_colors={unit_id: f\"C0\"}, axes=[ax_wf])\n",
    "ax_wf.get_lines()[-1].set_label(f\"Trunc. bits: 0\")\n",
    "\n",
    "for i, (trunc_bit, trunc_dict) in enumerate(rec_zarr_dict.items()):\n",
    "    if i != 0:\n",
    "        we = rec_zarr_dict[trunc_bit][\"we\"]\n",
    "        _ = si.plot_unit_templates(we, unit_ids=[unit_id], radius_um=radius_um, \n",
    "                                   unit_colors={unit_id: f\"C{i}\"}, axes=[ax_wf])\n",
    "        ax_wf.get_lines()[-1].set_label(f\"Trunc. bits: {trunc_bit}\")\n",
    "ax_wf.legend()"
   ]
  },
  {
   "cell_type": "markdown",
   "id": "97734895",
   "metadata": {},
   "source": [
    "### Absolute errors"
   ]
  },
  {
   "cell_type": "code",
   "execution_count": null,
   "id": "d05bae2c",
   "metadata": {},
   "outputs": [],
   "source": [
    "max_template_errors = []\n",
    "for i, (trunc_bit, trunc_dict) in enumerate(rec_zarr_dict.items()):\n",
    "    templates = rec_zarr_dict[trunc_bit][\"templates\"]\n",
    "    max_template_error = np.max(np.abs(templates - gt_templates))\n",
    "    max_template_errors.append(max_template_error)\n",
    "    \n",
    "fig_temp_e, ax_temp_e = plt.subplots()\n",
    "ax_temp_cr = ax_e.twinx()\n",
    "\n",
    "\n",
    "ax_temp_e.plot(trunc_bits, max_template_errors, \"d\",\n",
    "               ls=\"--\", label=\"RMSE\")\n",
    "ax_temp_cr.plot(trunc_bits, crs, \"o\",\n",
    "                ls=\"-\", color=\"C1\", label=\"CR\")\n",
    "\n",
    "ax_temp_e.set_title(\"Template error VS CR\")\n",
    "ax_temp_e.set_xlabel(\"# truncation bits\")\n",
    "ax_temp_e.set_ylabel(\"Error rms $\\mu$V\")\n",
    "ax_temp_cr.set_ylabel(\"CR\")\n",
    "ax_temp_e.axhline(1, color=\"C0\", ls=\"--\", alpha=0.4)\n",
    "ax_temp_cr.axhline(3, color=\"C1\", ls=\"--\", alpha=0.4)\n",
    "ax_temp_e.spines['left'].set_color('C0')\n",
    "ax_temp_cr.spines['left'].set_color('C0')\n",
    "ax_temp_cr.spines['right'].set_color('C1')\n",
    "ax_temp_e.yaxis.label.set_color('C0')\n",
    "ax_temp_cr.yaxis.label.set_color('C1')\n",
    "ax_temp_e.tick_params(axis='y', colors='C0')\n",
    "ax_temp_cr.tick_params(axis='y', colors='C1')\n",
    "ax_temp_e.spines['top'].set_visible(False)\n",
    "ax_temp_cr.spines['top'].set_visible(False)"
   ]
  },
  {
   "cell_type": "code",
   "execution_count": null,
   "id": "469404e5",
   "metadata": {},
   "outputs": [],
   "source": [
    "plt.figure()\n",
    "\n",
    "trunc_bit = 5\n",
    "temp_idx = 4\n",
    "\n",
    "gt_temp = gt_templates[temp_idx]\n",
    "tested_temp = rec_zarr_dict[trunc_bit][\"templates\"][temp_idx]\n",
    "\n",
    "temp_abs_dist = np.abs(gt_temp - tested_temp)\n",
    "\n",
    "max_error_samp, max_error_chan = np.unravel_index(np.argmax(temp_abs_dist), temp_abs_dist.shape)\n",
    "\n",
    "print(f\"Max error uV: {np.max(temp_abs_dist)}\")\n",
    "\n",
    "_ = plt.plot(gt_temp, color=\"C0\")\n",
    "_ = plt.plot(tested_temp, color=\"C1\", alpha=0.5)\n",
    "plt.plot([max_error_samp] * 2, [gt_temp[max_error_samp, max_error_chan], \n",
    "                                tested_temp[max_error_samp, max_error_chan]], \n",
    "         color=\"r\", marker=\"*\", ls=\"--\", markersize=5)\n",
    "plt.legend()\n",
    "plt.xlabel(\"# samples\")\n",
    "plt.ylabel(\"voltage ($\\mu$V)\")"
   ]
  },
  {
   "cell_type": "code",
   "execution_count": null,
   "id": "38280842",
   "metadata": {},
   "outputs": [],
   "source": [
    "si.get_template_metric_names()"
   ]
  },
  {
   "cell_type": "code",
   "execution_count": null,
   "id": "458d7f21",
   "metadata": {},
   "outputs": [],
   "source": [
    "# compute template metrics\n",
    "df_tm = None\n",
    "for i, (trunc_bit, trunc_dict) in enumerate(rec_zarr_dict.items()):\n",
    "    we = trunc_dict[\"we\"]\n",
    "    tm = si.calculate_template_metrics(we, upsample=10)\n",
    "    tm[\"trunc_bits\"] = [trunc_bit] * len(tm)\n",
    "    tm[\"unit_id\"] = tm.index\n",
    "    if df_tm is None:\n",
    "        df_tm = tm\n",
    "    else:\n",
    "        df_tm = pd.concat([df_tm, tm], ignore_index=True)"
   ]
  },
  {
   "cell_type": "code",
   "execution_count": null,
   "id": "7c898299",
   "metadata": {},
   "outputs": [],
   "source": [
    "df_tm"
   ]
  },
  {
   "cell_type": "code",
   "execution_count": null,
   "id": "5fc6d13b",
   "metadata": {},
   "outputs": [],
   "source": [
    "df_tm.query(\"unit_id == 10\")"
   ]
  },
  {
   "cell_type": "code",
   "execution_count": null,
   "id": "a59816c6",
   "metadata": {},
   "outputs": [],
   "source": [
    "ax.legend?"
   ]
  },
  {
   "cell_type": "code",
   "execution_count": null,
   "id": "43675198",
   "metadata": {},
   "outputs": [],
   "source": [
    "fig, ax_ptp = plt.subplots(figsize=(10, 7))\n",
    "sns.scatterplot(data=df_tm, x=\"peak_to_valley\", y=\"half_width\", hue=\"trunc_bits\",\n",
    "                style=\"unit_id\", palette=\"tab20\", ax=ax_ptp)\n",
    "ax_ptp.get_figure().legend(bbox_to_anchor=(0.1, 1.02, 0.2, 1), ncol=len(trunc_bits))\n"
   ]
  },
  {
   "cell_type": "code",
   "execution_count": null,
   "id": "b6906a37",
   "metadata": {},
   "outputs": [],
   "source": [
    "fig, ax_ptp = plt.subplots(figsize=(10, 7))\n",
    "sns.scatterplot(data=df_tm, x=\"repolarization_slope\", y=\"recovery_slope\", hue=\"trunc_bits\",\n",
    "                style=\"unit_id\", palette=\"tab20\", ax=ax_ptp)\n",
    "ax_ptp.get_figure().legend(bbox_to_anchor=(0.1, 1.02, 0.2, 1), ncol=len(trunc_bits))\n"
   ]
  },
  {
   "cell_type": "code",
   "execution_count": null,
   "id": "4f476df7",
   "metadata": {},
   "outputs": [],
   "source": []
  },
  {
   "cell_type": "code",
   "execution_count": null,
   "id": "d43f2024",
   "metadata": {},
   "outputs": [],
   "source": []
  },
  {
   "cell_type": "code",
   "execution_count": null,
   "id": "e61e3c4e",
   "metadata": {},
   "outputs": [],
   "source": [
    "import sys\n",
    "sys.path.append(\"..\")"
   ]
  },
  {
   "cell_type": "code",
   "execution_count": null,
   "id": "9e37ba59",
   "metadata": {},
   "outputs": [],
   "source": [
    "from correct_open_ephys_settings import correct_open_ephys_settings\n",
    "\n",
    "oe_folder = \"/home/alessio/Documents/data/allen/npix-open-ephys/605068_2022-03-04_15-06-32/Record Node 102\""
   ]
  },
  {
   "cell_type": "code",
   "execution_count": null,
   "id": "fdbb8847",
   "metadata": {
    "scrolled": false
   },
   "outputs": [],
   "source": [
    "correct_open_ephys_settings(oe_folder)"
   ]
  },
  {
   "cell_type": "code",
   "execution_count": null,
   "id": "f44dcaff",
   "metadata": {},
   "outputs": [],
   "source": []
  },
  {
   "cell_type": "code",
   "execution_count": null,
   "id": "ce1b26c6",
   "metadata": {},
   "outputs": [],
   "source": []
  },
  {
   "cell_type": "code",
   "execution_count": null,
   "id": "61762624",
   "metadata": {},
   "outputs": [],
   "source": []
  },
  {
   "cell_type": "code",
   "execution_count": null,
   "id": "3ed6bf7e",
   "metadata": {},
   "outputs": [],
   "source": [
    "import spikeinterface.full as si\n",
    "from numcodecs import Blosc\n",
    "\n",
    "rec_oe = si.read_openephys(\"path-to-oe-folder\")\n",
    "\n",
    "compressor = Blosc(cname='zstd', clevel=clevel, shuffle=Blosc.BITSHUFFLE)\n",
    "\n",
    "rec_zarr = rec_oe.save(format=\"zarr\", zarr_path=\"outout.zarr\", \n",
    "                       compressor=compressor, n_jobs=20, chunk_duration=\"1s\")"
   ]
  },
  {
   "cell_type": "code",
   "execution_count": null,
   "id": "22c4ecde",
   "metadata": {},
   "outputs": [],
   "source": []
  },
  {
   "cell_type": "code",
   "execution_count": null,
   "id": "eb3ff73f",
   "metadata": {},
   "outputs": [],
   "source": []
  },
  {
   "cell_type": "code",
   "execution_count": null,
   "id": "5ca0ab8c",
   "metadata": {},
   "outputs": [],
   "source": [
    "import numcodecs\n",
    "import numpy as np\n",
    "nsamples = 500\n",
    "stride = 2\n",
    "nchans = 5\n",
    "x = np.arange(0, nsamples, stride, dtype='i8')\n",
    "x = x.reshape(len(x) // nchans, nchans)\n",
    "codec = numcodecs.Delta(dtype='i8', astype='i1')\n",
    "y = codec.encode(x)\n",
    "print(y)\n",
    "z = codec.decode(y)\n",
    "print(z)\n"
   ]
  },
  {
   "cell_type": "code",
   "execution_count": null,
   "id": "53bb889e",
   "metadata": {},
   "outputs": [],
   "source": [
    "nsamples = 500\n",
    "stride = 2\n",
    "x = np.arange(0, nsamples, stride, dtype='i8')"
   ]
  },
  {
   "cell_type": "code",
   "execution_count": null,
   "id": "7c416eca",
   "metadata": {},
   "outputs": [],
   "source": [
    "len(x)"
   ]
  },
  {
   "cell_type": "code",
   "execution_count": null,
   "id": "473e9296",
   "metadata": {},
   "outputs": [],
   "source": [
    "x.shape"
   ]
  },
  {
   "cell_type": "code",
   "execution_count": null,
   "id": "140d8dd9",
   "metadata": {},
   "outputs": [],
   "source": [
    "y = codec.encode(x)"
   ]
  },
  {
   "cell_type": "code",
   "execution_count": null,
   "id": "e5eff31b",
   "metadata": {},
   "outputs": [],
   "source": [
    "y"
   ]
  },
  {
   "cell_type": "code",
   "execution_count": null,
   "id": "9f3d69d2",
   "metadata": {},
   "outputs": [],
   "source": []
  }
 ],
 "metadata": {
  "kernelspec": {
   "display_name": "Python 3 (ipykernel)",
   "language": "python",
   "name": "python3"
  },
  "language_info": {
   "codemirror_mode": {
    "name": "ipython",
    "version": 3
   },
   "file_extension": ".py",
   "mimetype": "text/x-python",
   "name": "python",
   "nbconvert_exporter": "python",
   "pygments_lexer": "ipython3",
   "version": "3.9.11"
  }
 },
 "nbformat": 4,
 "nbformat_minor": 5
}
