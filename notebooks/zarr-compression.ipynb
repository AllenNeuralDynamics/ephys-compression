{
 "cells": [
  {
   "cell_type": "markdown",
   "id": "b81e4ba1",
   "metadata": {},
   "source": [
    "# ZARR compression\n",
    "\n",
    "This notebook investigaes the use of Zarr compressors and filters to compress raw Neuropixels data."
   ]
  },
  {
   "cell_type": "code",
   "execution_count": null,
   "id": "eb9b4652",
   "metadata": {},
   "outputs": [],
   "source": [
    "%load_ext autoreload\n",
    "%autoreload 2"
   ]
  },
  {
   "cell_type": "code",
   "execution_count": null,
   "id": "7b39e2dc",
   "metadata": {},
   "outputs": [],
   "source": [
    "import spikeinterface.full as si\n",
    "import probeinterface as pi\n",
    "import numpy as np\n",
    "from tqdm import tqdm\n",
    "from pathlib import Path\n",
    "import matplotlib.pyplot as plt\n",
    "import os\n",
    "import time\n",
    "from pathlib import Path\n",
    "import time\n",
    "import shutil\n",
    "\n",
    "import zarr\n",
    "import numcodecs\n",
    "from numcodecs import Blosc, blosc\n",
    "\n",
    "\n",
    "%matplotlib widget"
   ]
  },
  {
   "cell_type": "markdown",
   "id": "96175782",
   "metadata": {},
   "source": [
    "## Load data in SpikeInterface\n",
    "\n",
    "- Open Ephys data (`read_openephys()`)\n",
    "- MEArec simulated data (`read_mearec()`)"
   ]
  },
  {
   "cell_type": "code",
   "execution_count": null,
   "id": "c09032b5",
   "metadata": {},
   "outputs": [],
   "source": [
    "# # mearec_file = \"/home/alessio/Documents/data/mearec/recordings/recording_Neuronexus-32_1800_int16.h5\"\n",
    "# rec, sort = si.read_mearec(mearec_file)\n",
    "# print(rec)"
   ]
  },
  {
   "cell_type": "code",
   "execution_count": null,
   "id": "58a51fe7",
   "metadata": {},
   "outputs": [],
   "source": [
    "data_folder = Path(\"/home/alessio/Documents/data/allen/npix-open-ephys/\")"
   ]
  },
  {
   "cell_type": "code",
   "execution_count": null,
   "id": "b98c7aae",
   "metadata": {},
   "outputs": [],
   "source": [
    "oe_folder = data_folder / \"595262_2022-02-22_16-47-26/Record Node 102/\"\n",
    "rec = si.read_openephys(oe_folder, stream_id=\"0\")\n",
    "print(rec)"
   ]
  },
  {
   "cell_type": "code",
   "execution_count": null,
   "id": "ae253253",
   "metadata": {},
   "outputs": [],
   "source": [
    "# w = si.plot_timeseries(rec, time_range=[100, 130])"
   ]
  },
  {
   "cell_type": "markdown",
   "id": "3d2aaea3",
   "metadata": {},
   "source": [
    "### Truncation filter \n",
    "\n",
    "Optional truncation filter function (see [here](https://github.com/AllenNeuralDynamics/lightsheet-compression-tests/blob/main/compress_zarr.py#L18))"
   ]
  },
  {
   "cell_type": "code",
   "execution_count": null,
   "id": "ad8e9e6d",
   "metadata": {},
   "outputs": [],
   "source": [
    "def trunc_filter(bits, recording):\n",
    "    scale = 1.0 / (2 ** bits)\n",
    "    dtype = recording.get_dtype()\n",
    "    if bits == 0:\n",
    "        return []\n",
    "    else:\n",
    "        return [numcodecs.fixedscaleoffset.FixedScaleOffset(offset=0, scale=scale, dtype=dtype)]"
   ]
  },
  {
   "cell_type": "markdown",
   "id": "fe1fc770",
   "metadata": {},
   "source": [
    "### Choose zarr compressor\n",
    "\n",
    "`zstd` seems to provide good compression ratios and comp-/decomp speeds. \n",
    "Let's choose a middle level (e.g. 5)"
   ]
  },
  {
   "cell_type": "code",
   "execution_count": null,
   "id": "e5ac1fb3",
   "metadata": {},
   "outputs": [],
   "source": [
    "compressor = Blosc(cname='zstd', clevel=5, shuffle=Blosc.BITSHUFFLE,)"
   ]
  },
  {
   "cell_type": "markdown",
   "id": "f153cc31",
   "metadata": {},
   "source": [
    "### Define output folder abd configs"
   ]
  },
  {
   "cell_type": "code",
   "execution_count": null,
   "id": "64c1863c",
   "metadata": {},
   "outputs": [],
   "source": [
    "overwrite = False"
   ]
  },
  {
   "cell_type": "code",
   "execution_count": null,
   "id": "720be7f9",
   "metadata": {},
   "outputs": [],
   "source": [
    "zarr_output_folder = Path(\"zarr_tests\")\n",
    "\n",
    "if overwrite:\n",
    "    if zarr_output_folder.is_dir():\n",
    "        shutil.rmtree(zarr_output_folder)\n",
    "\n",
    "    zarr_output_folder.mkdir()"
   ]
  },
  {
   "cell_type": "code",
   "execution_count": null,
   "id": "ccdc7e46",
   "metadata": {},
   "outputs": [],
   "source": [
    "zarr_root = \"test_npix_full_zarr\""
   ]
  },
  {
   "cell_type": "code",
   "execution_count": null,
   "id": "97bc4899",
   "metadata": {},
   "outputs": [],
   "source": [
    "n_jobs = 4\n",
    "chunksize = 100000\n",
    "blosc.use_threads = True\n",
    "\n",
    "# blosc.set_nthreads(8)\n",
    "# print(blosc.get_nthreads())"
   ]
  },
  {
   "cell_type": "code",
   "execution_count": null,
   "id": "ff205227",
   "metadata": {},
   "outputs": [],
   "source": [
    "# define truncation bits\n",
    "trunc_bits = [0, 1, 2, 3, 4, 5, 6, 7, 8]\n",
    "\n",
    "# optionally define stub as the number of seconds to cut the recording (e.g. stub = 30)\n",
    "stub = 30"
   ]
  },
  {
   "cell_type": "code",
   "execution_count": null,
   "id": "e93aed13",
   "metadata": {
    "scrolled": false
   },
   "outputs": [],
   "source": [
    "rec_zarr_dict = {}\n",
    "\n",
    "\n",
    "for trunc_bit in trunc_bits:\n",
    "    rec_zarr_dict[trunc_bit] = {}\n",
    "    zarr_path = zarr_output_folder / f\"{zarr_root}_trunc{trunc_bit}.zarr\"\n",
    "    \n",
    "    if overwrite:\n",
    "        if zarr_path.is_dir():\n",
    "            shutil.rmtree(zarr_path)\n",
    "    \n",
    "    if stub is not None:\n",
    "        end_frame = int(stub * rec.get_sampling_frequency())\n",
    "        rec_stub = rec.frame_slice(start_frame=0, end_frame=end_frame)\n",
    "    else:\n",
    "        rec_stub = rec\n",
    "    \n",
    "    if zarr_path.is_dir():\n",
    "        rec_zarr = si.read_zarr(zarr_path)\n",
    "        elapsed_time = 0\n",
    "    else:\n",
    "        t_start = time.perf_counter()\n",
    "        filters = trunc_filter(trunc_bit, rec_stub)\n",
    "        rec_zarr = rec_stub.save(format=\"zarr\", zarr_path=zarr_path, \n",
    "                                 compressor=compressor, filters=filters, n_jobs=n_jobs,\n",
    "                                 chunk_size=10000, progress_bar=True)\n",
    "        t_stop = time.perf_counter()\n",
    "        elapsed_time = np.round(t_stop - t_start, 2)\n",
    "    cr = np.round(rec_zarr._root['traces_seg0'].nbytes / rec_zarr._root['traces_seg0'].nbytes_stored, 2)\n",
    "    \n",
    "    rec_zarr_dict[trunc_bit][\"CR\"] = cr\n",
    "    rec_zarr_dict[trunc_bit][\"rec\"] = rec_zarr\n",
    "    \n",
    "    print(f\"Elapsed time truncation: {trunc_bit}: {elapsed_time}s - CR: {cr}\")"
   ]
  },
  {
   "cell_type": "markdown",
   "id": "a999d0ec",
   "metadata": {},
   "source": [
    "### Visualization"
   ]
  },
  {
   "cell_type": "code",
   "execution_count": null,
   "id": "519e26c3",
   "metadata": {},
   "outputs": [],
   "source": [
    "time_range = [15, 16]\n",
    "channel_ids = rec.get_channel_ids()[100:110]"
   ]
  },
  {
   "cell_type": "code",
   "execution_count": null,
   "id": "88036fe9",
   "metadata": {},
   "outputs": [],
   "source": [
    "fig, axs = plt.subplots(nrows=2, sharex=True)\n",
    "for i, (trunc_bit, trunc_dict) in enumerate(rec_zarr_dict.items()):\n",
    "    rec_trunc = trunc_dict[\"rec\"]\n",
    "    _ = si.plot_timeseries(rec_trunc, time_range=time_range, channel_ids=channel_ids,\n",
    "                           mode=\"line\", color=f\"C{i}\", ax=axs[0])\n",
    "    \n",
    "    rec_f = si.bandpass_filter(rec_trunc)\n",
    "    rec_zarr_dict[trunc_bit][\"rec_filt\"] = rec_f\n",
    "    l = axs[0].get_lines()[-1].set_label(f\"trunc {trunc_bits[i]}\")\n",
    "    \n",
    "    _ = si.plot_timeseries(rec_f, time_range=time_range, channel_ids=channel_ids,\n",
    "                           mode=\"line\", color=f\"C{i}\", ax=axs[1])\n",
    "axs[0].legend()\n",
    "axs[0].set_title(\"Raw\", fontsize=15)\n",
    "axs[0].set_xlabel(\"\", fontsize=15)\n",
    "axs[1].set_title(\"Filtered\", fontsize=15)\n",
    "fig.subplots_adjust(hspace=0.3)"
   ]
  },
  {
   "cell_type": "markdown",
   "id": "87ff8504",
   "metadata": {},
   "source": [
    "### RMS error on filtered traces"
   ]
  },
  {
   "cell_type": "code",
   "execution_count": null,
   "id": "bcab13c7",
   "metadata": {},
   "outputs": [],
   "source": [
    "time_range = [15, 18]\n",
    "frames = np.array(time_range) * rec.get_sampling_frequency()\n",
    "frames = frames.astype(int)"
   ]
  },
  {
   "cell_type": "code",
   "execution_count": null,
   "id": "c95a09dc",
   "metadata": {},
   "outputs": [],
   "source": [
    "rec_orig_f = si.bandpass_filter(rec_stub)\n",
    "traces_orig = rec_orig_f.get_traces(start_frame=frames[0], end_frame=frames[1], return_scaled=True)\n",
    "errors_rms = []\n",
    "for i, (trunc_bit, trunc_dict) in enumerate(rec_zarr_dict.items()):\n",
    "    rec_f = trunc_dict[\"rec_filt\"]\n",
    "    traces_trunc_f = rec_f.get_traces(start_frame=frames[0], end_frame=frames[1], return_scaled=True)\n",
    "    \n",
    "    error_rms = np.sqrt(((traces_trunc_f.ravel() - traces_orig.ravel()) ** 2).mean())\n",
    "    rec_zarr_dict[trunc_bit][\"rmse\"] = error_rms\n",
    "    print(f\"RMS for truncation {trunc_bit}: {error_rms}\")"
   ]
  },
  {
   "cell_type": "code",
   "execution_count": null,
   "id": "a6986ed9",
   "metadata": {},
   "outputs": [],
   "source": [
    "fig_e, ax_e = plt.subplots()\n",
    "\n",
    "errors_rms = []\n",
    "crs = []\n",
    "\n",
    "for (trunc_bit, trunc_dict) in rec_zarr_dict.items():\n",
    "    crs.append(trunc_dict[\"CR\"])\n",
    "    errors_rms.append(trunc_dict[\"rmse\"])\n",
    "\n",
    "\n",
    "ax_e.plot(trunc_bits, errors_rms, \"d\",\n",
    "          ls=\"--\", label=\"RMSE\")\n",
    "ax_e.plot(trunc_bits, crs, \"o\",\n",
    "          ls=\"-\", label=\"CR\")\n",
    "ax_e.set_title(\"Error VS CR\")\n",
    "ax_e.set_xlabel(\"# truncation bits\")\n",
    "ax_e.set_ylabel(\"\")\n",
    "ax_e.axhline(3, color=\"grey\", ls=\"--\", alpha=0.4)\n",
    "ax_e.legend()"
   ]
  },
  {
   "cell_type": "markdown",
   "id": "9fcf0ef4",
   "metadata": {},
   "source": [
    "## Spike Sorting\n",
    "\n",
    "Test whether compression affects spike sorting results."
   ]
  },
  {
   "cell_type": "code",
   "execution_count": null,
   "id": "4725c8a1",
   "metadata": {},
   "outputs": [],
   "source": [
    "si.installed_sorters()"
   ]
  },
  {
   "cell_type": "code",
   "execution_count": null,
   "id": "d9210d82",
   "metadata": {},
   "outputs": [],
   "source": [
    "sorter = \"tridesclous\""
   ]
  },
  {
   "cell_type": "code",
   "execution_count": null,
   "id": "6002ca94",
   "metadata": {},
   "outputs": [],
   "source": [
    "for (trunc_bit, trunc_dict) in rec_zarr_dict.items():\n",
    "    print(f\"Running {sorter} for truncation bits {trunc_bit}\")\n",
    "    \n",
    "    sorter_folder = zarr_output_folder / f\"{sorter}_trunc{trunc_bit}\"\n",
    "    if sorter_folder.is_dir() and not overwrite:\n",
    "        sort = si.load_extractor(sorter_folder)\n",
    "    else:\n",
    "        rec_f = trunc_dict[\"rec_filt\"]\n",
    "        t_start = time.perf_counter()\n",
    "        sort = si.run_sorter(sorter, rec_f, verbose=True)\n",
    "        sort = sort.save(folder=zarr_output_folder / f\"{sorter}_trunc{trunc_bit}\")\n",
    "        t_stop = time.perf_counter()\n",
    "        elapsed_time = np.round(t_stop - t_start, 2)\n",
    "    rec_zarr_dict[trunc_bit][\"sort\"] = sort\n",
    "    \n",
    "    \n",
    "    print(f\"Elapsed {sorter} - truncation {trunc_bit}: {elapsed_time}s\")"
   ]
  },
  {
   "cell_type": "code",
   "execution_count": null,
   "id": "c7c1b65f",
   "metadata": {},
   "outputs": [],
   "source": [
    "import spikeinterface.sortingcomponents as scp"
   ]
  },
  {
   "cell_type": "code",
   "execution_count": null,
   "id": "7d0c5063",
   "metadata": {},
   "outputs": [],
   "source": [
    "peaks = scp.detect_peaks(rec_f, n_jobs=4, progress_bar=True, chunk_duration=\"2s\")"
   ]
  },
  {
   "cell_type": "code",
   "execution_count": null,
   "id": "1c2c3578",
   "metadata": {},
   "outputs": [],
   "source": [
    "si.plot_drift_over_time(rec_f, peaks, mode=\"scatter\")"
   ]
  },
  {
   "cell_type": "code",
   "execution_count": null,
   "id": "0ee96899",
   "metadata": {},
   "outputs": [],
   "source": []
  }
 ],
 "metadata": {
  "kernelspec": {
   "display_name": "Python 3 (ipykernel)",
   "language": "python",
   "name": "python3"
  },
  "language_info": {
   "codemirror_mode": {
    "name": "ipython",
    "version": 3
   },
   "file_extension": ".py",
   "mimetype": "text/x-python",
   "name": "python",
   "nbconvert_exporter": "python",
   "pygments_lexer": "ipython3",
   "version": "3.9.7"
  }
 },
 "nbformat": 4,
 "nbformat_minor": 5
}
