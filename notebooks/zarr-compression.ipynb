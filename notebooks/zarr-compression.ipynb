{
 "cells": [
  {
   "cell_type": "markdown",
   "id": "b81e4ba1",
   "metadata": {},
   "source": [
    "# ZARR compression on experimental Neuropixels data\n",
    "\n",
    "This notebook investigaes the use of Zarr compressors and filters to compress raw Neuropixels data.\n",
    "\n",
    "In particular it covers:\n",
    "\n",
    "- effect of LSB division on CR\n",
    "- bit truncation\n",
    "   - effect on spike sorting\n",
    "   - effect on waveforms features"
   ]
  },
  {
   "cell_type": "code",
   "execution_count": 1,
   "id": "eb9b4652",
   "metadata": {},
   "outputs": [
    {
     "name": "stdout",
     "output_type": "stream",
     "text": [
      "The autoreload extension is already loaded. To reload it, use:\n",
      "  %reload_ext autoreload\n"
     ]
    }
   ],
   "source": [
    "%load_ext autoreload\n",
    "%autoreload 2"
   ]
  },
  {
   "cell_type": "code",
   "execution_count": 2,
   "id": "7b39e2dc",
   "metadata": {},
   "outputs": [
    {
     "name": "stderr",
     "output_type": "stream",
     "text": [
      "/home/alessio/anaconda3/envs/si/lib/python3.9/site-packages/datalad/cmd.py:375: RuntimeWarning: coroutine 'run_async_cmd' was never awaited\n",
      "  new_loop = True\n",
      "RuntimeWarning: Enable tracemalloc to get the object allocation traceback\n",
      "/home/alessio/Documents/codes/spike_sorting/spikeinterface/spikeinterface/spikeinterface/core/datasets.py:12: RuntimeWarning: coroutine 'run_async_cmd' was never awaited\n",
      "  HAVE_DATALAD = False\n",
      "RuntimeWarning: Enable tracemalloc to get the object allocation traceback\n"
     ]
    }
   ],
   "source": [
    "import spikeinterface.full as si\n",
    "import spikeinterface.sortingcomponents as scp\n",
    "\n",
    "import probeinterface as pi\n",
    "import numpy as np\n",
    "from tqdm import tqdm\n",
    "from pathlib import Path\n",
    "import matplotlib.pyplot as plt\n",
    "import os\n",
    "import time\n",
    "from pathlib import Path\n",
    "import time\n",
    "import shutil\n",
    "import pandas as pd\n",
    "import seaborn as sns\n",
    "\n",
    "import zarr\n",
    "import numcodecs\n",
    "from numcodecs import Blosc, Zstd, blosc\n",
    "\n",
    "\n",
    "%matplotlib widget"
   ]
  },
  {
   "cell_type": "code",
   "execution_count": 3,
   "id": "5ef8356a",
   "metadata": {},
   "outputs": [],
   "source": [
    "job_kwargs = dict(n_jobs=20, chunk_duration=\"1s\", progress_bar=True)"
   ]
  },
  {
   "cell_type": "markdown",
   "id": "c0d10630",
   "metadata": {},
   "source": [
    "### Choose overwrite option"
   ]
  },
  {
   "cell_type": "code",
   "execution_count": 4,
   "id": "64c1863c",
   "metadata": {},
   "outputs": [],
   "source": [
    "overwrite = False"
   ]
  },
  {
   "cell_type": "code",
   "execution_count": 5,
   "id": "720be7f9",
   "metadata": {},
   "outputs": [],
   "source": [
    "zarr_output_folder = Path(\"zarr_tests\")\n",
    "\n",
    "if overwrite:\n",
    "    if zarr_output_folder.is_dir():\n",
    "        shutil.rmtree(zarr_output_folder)\n",
    "\n",
    "    zarr_output_folder.mkdir()"
   ]
  },
  {
   "cell_type": "markdown",
   "id": "96175782",
   "metadata": {},
   "source": [
    "## Load open-ephys data in SpikeInterface\n"
   ]
  },
  {
   "cell_type": "code",
   "execution_count": 6,
   "id": "58a51fe7",
   "metadata": {},
   "outputs": [],
   "source": [
    "data_folder = Path(\"/home/alessio/Documents/data/allen/npix-open-ephys/\")"
   ]
  },
  {
   "cell_type": "code",
   "execution_count": 7,
   "id": "5224dd5c",
   "metadata": {},
   "outputs": [],
   "source": [
    "np_version = 2"
   ]
  },
  {
   "cell_type": "code",
   "execution_count": 8,
   "id": "b98c7aae",
   "metadata": {},
   "outputs": [
    {
     "name": "stdout",
     "output_type": "stream",
     "text": [
      "OpenEphysBinaryRecordingExtractor: 384 channels - 1 segments - 30.0kHz - 616.720s\n"
     ]
    }
   ],
   "source": [
    "if np_version == 1:\n",
    "    oe_folder = data_folder / \"605068_2022-03-04_15-06-32/Record Node 102/\" # NP1.0\n",
    "else:\n",
    "    oe_folder = data_folder / \"595262_2022-02-22_16-47-26/Record Node 102/\" # NP2.0\n",
    "\n",
    "rec_full = si.read_openephys(oe_folder, stream_id=\"0\")\n",
    "print(rec_full)"
   ]
  },
  {
   "cell_type": "code",
   "execution_count": null,
   "id": "44438284",
   "metadata": {},
   "outputs": [],
   "source": [
    "# rec_full = si.read_spikeglx(\"/home/alessio/Documents/data/gin/ephy_testing_data/spikeglx/Noise4Sam_g0\",\n",
    "#                             stream_id=\"imec0.ap\")"
   ]
  },
  {
   "cell_type": "code",
   "execution_count": null,
   "id": "c33f4e62",
   "metadata": {},
   "outputs": [],
   "source": [
    "rec_full = si.split_recording(rec_full)[0]"
   ]
  },
  {
   "cell_type": "code",
   "execution_count": null,
   "id": "7c7a9523",
   "metadata": {},
   "outputs": [],
   "source": [
    "rec_full"
   ]
  },
  {
   "cell_type": "code",
   "execution_count": null,
   "id": "72a56d43",
   "metadata": {},
   "outputs": [],
   "source": [
    "w = si.plot_probe_map(rec_full)\n",
    "w.ax.set_ylim(0, 200)\n",
    "w.ax.set_xlim(-20, 80)"
   ]
  },
  {
   "cell_type": "markdown",
   "id": "da98622d",
   "metadata": {},
   "source": [
    "(Optional) Remove channels outside of the brain (so far, from visual inspection)"
   ]
  },
  {
   "cell_type": "code",
   "execution_count": null,
   "id": "33e5f545",
   "metadata": {},
   "outputs": [],
   "source": [
    "w = si.plot_timeseries(rec_full, time_range=[100, 110], show_channel_ids=True)"
   ]
  },
  {
   "cell_type": "code",
   "execution_count": null,
   "id": "b5aec999",
   "metadata": {},
   "outputs": [],
   "source": [
    "# remove channels outside\n",
    "# rec = rec_full.channel_slice(channel_ids=rec_full.channel_ids[:-120])"
   ]
  },
  {
   "cell_type": "markdown",
   "id": "2dcb925d",
   "metadata": {},
   "source": [
    "### Check different CMR strategies using peak detection"
   ]
  },
  {
   "cell_type": "code",
   "execution_count": null,
   "id": "cd325dd0",
   "metadata": {},
   "outputs": [],
   "source": [
    "rec_f = si.bandpass_filter(rec_full)\n",
    "rec_cmr_g = si.common_reference(rec_f)\n",
    "rec_cmr_l = si.common_reference(rec_f, reference=\"local\")"
   ]
  },
  {
   "cell_type": "code",
   "execution_count": null,
   "id": "ae253253",
   "metadata": {},
   "outputs": [],
   "source": [
    "# w = si.plot_timeseries(rec, time_range=[100, 105])\n",
    "peaks = scp.detect_peaks(rec_full, **job_kwargs)\n",
    "peaks_cmr_g = scp.detect_peaks(rec_cmr_g, **job_kwargs)\n",
    "peaks_cmr_l = scp.detect_peaks(rec_cmr_l, **job_kwargs)"
   ]
  },
  {
   "cell_type": "code",
   "execution_count": null,
   "id": "3ffe6d5e",
   "metadata": {},
   "outputs": [],
   "source": [
    "si.plot_drift_over_time(rec_full, peaks, mode=\"scatter\")\n",
    "si.plot_drift_over_time(rec_cmr_g, peaks_cmr_g, mode=\"scatter\")\n",
    "si.plot_drift_over_time(rec_cmr_l, peaks_cmr_l, mode=\"scatter\")"
   ]
  },
  {
   "cell_type": "code",
   "execution_count": null,
   "id": "8bb41364",
   "metadata": {},
   "outputs": [],
   "source": [
    "fig, axs = plt.subplots(nrows=3, sharex=True)\n",
    "w = si.plot_timeseries(rec, time_range=[197, 198], show_channel_ids=True, mode=\"line\",\n",
    "                       channel_ids=rec.channel_ids[::20], ax=axs[0])\n",
    "w = si.plot_timeseries(rec_cmr_g, time_range=[197, 198], show_channel_ids=True, mode=\"line\",\n",
    "                       channel_ids=rec_cmr_g.channel_ids[::20], ax=axs[1])\n",
    "w = si.plot_timeseries(rec_cmr_l, time_range=[197, 198], show_channel_ids=True, mode=\"line\",\n",
    "                       channel_ids=rec_cmr_l.channel_ids[::20], ax=axs[2])"
   ]
  },
  {
   "cell_type": "code",
   "execution_count": 9,
   "id": "cc385c4e",
   "metadata": {},
   "outputs": [],
   "source": [
    "rec = rec_full"
   ]
  },
  {
   "cell_type": "markdown",
   "id": "eb793614",
   "metadata": {},
   "source": [
    "Local CMR seems to provide better preprocessing output!"
   ]
  },
  {
   "cell_type": "markdown",
   "id": "3c7f52fa",
   "metadata": {},
   "source": [
    "## Correct for LSB\n",
    "\n",
    "NP1.0 should have a 10-bit ADC, NP2.0 should have 14-bit ADC"
   ]
  },
  {
   "cell_type": "code",
   "execution_count": 10,
   "id": "5957fa66",
   "metadata": {},
   "outputs": [],
   "source": [
    "if np_version == 1:\n",
    "    nbits = 10\n",
    "else:\n",
    "    nbits = 14"
   ]
  },
  {
   "cell_type": "code",
   "execution_count": 11,
   "id": "b70b93fa",
   "metadata": {},
   "outputs": [
    {
     "name": "stdout",
     "output_type": "stream",
     "text": [
      "Num bits ptp: 15\n"
     ]
    }
   ],
   "source": [
    "max_ptp_i2 = 0\n",
    "\n",
    "for i in range(10):\n",
    "    chunks_i2 = si.get_random_data_chunks(rec, seed=i**2)\n",
    "    \n",
    "    if np.ptp(chunks_i2) > max_ptp_i2:\n",
    "        max_ptp_i2 = np.ptp(chunks_i2)\n",
    "print(f\"Num bits ptp: {int(np.ceil(np.log2(max_ptp_i2)))}\")  "
   ]
  },
  {
   "cell_type": "code",
   "execution_count": 12,
   "id": "b5f11006",
   "metadata": {},
   "outputs": [
    {
     "name": "stderr",
     "output_type": "stream",
     "text": [
      "100%|███████████████████████████████████████████████████████████████████████████████████████████████████████████████████████████████████████████████████████████████████████████████████████████████████████████████████████████████████████████████| 5/5 [00:09<00:00,  1.80s/it]"
     ]
    },
    {
     "name": "stdout",
     "output_type": "stream",
     "text": [
      "LSB int16 3 --> 0.585 uV\n"
     ]
    },
    {
     "name": "stderr",
     "output_type": "stream",
     "text": [
      "\n"
     ]
    }
   ],
   "source": [
    "lsb = 0\n",
    "num_random_chunks = 5\n",
    "channel_idxs = np.arange(chunks_i2.shape[1])\n",
    "min_values = np.ones(len(channel_idxs), dtype=int) * 2000\n",
    "for i in tqdm(range(num_random_chunks)):\n",
    "    chunks_i2 = si.get_random_data_chunks(rec, seed=i**2)\n",
    "    for ch in channel_idxs:\n",
    "        unique_vals = np.unique(chunks_i2[:, ch])\n",
    "        unique_vals_abs = np.abs(unique_vals)\n",
    "        lsb_ = np.min(np.diff(np.sort(unique_vals)))\n",
    "        min_values[ch] = np.min([min_values[ch], np.min(unique_vals_abs)])\n",
    "        if lsb_ > lsb:\n",
    "            lsb = lsb_\n",
    "    assert np.ptp(chunks_i2[:, ch]) <= lsb * (2 ** nbits)\n",
    "print(f\"LSB int16 {lsb} --> {lsb * 0.195} uV\")"
   ]
  },
  {
   "cell_type": "code",
   "execution_count": 13,
   "id": "ca0bd7e4",
   "metadata": {},
   "outputs": [
    {
     "data": {
      "text/plain": [
       "array([  0,   0,   0,   0,   0,   0,   0,   0,   0,   0,   0,   0,   0,\n",
       "         0,   0,   0,   0,   0,   0,   0,   0,   0,   0,   0,   0,   0,\n",
       "         0,   0,   0,   0,   0,   0,   0,   0,   0,   0,   0,   0,   0,\n",
       "         0,   0,   0,   0,   0,   0,   0,   0,   0,   0,   0,   0,   0,\n",
       "         0,   0,   0,   0,   0,   0,   0,   0,   0,   0,   0,   0,   0,\n",
       "         0,   0,   0,   0,   0,   0,   0,   0,   0,   0,   0,   0,   0,\n",
       "         0,   0,   0,   0,   0,   0,   0,   0,   0,   0,   0,   0,   0,\n",
       "         0,   0,   0,   0,   0,   0,   0,   0,   0,   0,   0,   0,   0,\n",
       "         0,   0,   0,   0,   0,   0,   0,   0,   0,   0,   0,   0,   0,\n",
       "         0,   0,   0,   0,   0,   0,   0,   0,   0,   0, 861,   0,   0,\n",
       "         0,   0,   0,   0,   0,   0,   0,   0,   0,   0,   0,   0,   0,\n",
       "         0,   0,   0,   0,   0,   0,   0,   0,   0,   0,   0,   0,   0,\n",
       "         0,   0,   0,   0,   0,   0,   0,   0,   0,   0,   0,   0,   0,\n",
       "         0,   0,   0,   0,   0,   0,   0,   0,   0,   0,   0,   0,   0,\n",
       "         0,   0,   0,   0,   0,   0,   0,   0,   0,   0,   0,   0,   0,\n",
       "         0,   0,   0,   0,   0,   0,   0,   0,   0,   0,   0,   0,   0,\n",
       "         0,   0,   0,   0,   0,   0,   0,   0,   0,   0,   0,   0,   0,\n",
       "         0,   0,   0,   0,   0,   0,   0,   0,   0,   0,   0,   0,   0,\n",
       "         0,   0,   0,   0,   0,   0,   0,   0,   0,   0,   0,   0,   0,\n",
       "         0,   0,   0,   0,   0,   0,   0,   0,   0,   0,   0,   0,   0,\n",
       "         0,   0,   0,   0,   0,   0,   0,   0,   0,   0,   0,   0,   0,\n",
       "         0,   0,   0,   0,   0,   0,   0,   0,   0,   0,   0,   0,   0,\n",
       "         0,   0,   0,   0,   0,   0,   0,   0,   0,   0,   0,   0,   0,\n",
       "         0,   0,   0,   0,   0,   0,   0,   0,   0,   0,   0,   0,   0,\n",
       "         0,   0,   0,   0,   0,   0,   0,   0,   0,   0,   0,   0,   0,\n",
       "         0,   0,   0,   0,  27,   0,   0,   0,   0,   0,   0,   0,   0,\n",
       "         0,   0,   0,   0,   0,   0,   0,   0,   0,   0,   0,   0,   0,\n",
       "         0,   0,   0, 250,   0,   0,   0,   0,   0,   0,  27,   0,  43,\n",
       "         0,   0,   0,   0,   0,   0,   0,   0,   0,   0,  23,   0,   0,\n",
       "         0,   4,   0,  12,  59,  74,   0])"
      ]
     },
     "execution_count": 13,
     "metadata": {},
     "output_type": "execute_result"
    }
   ],
   "source": [
    "min_values"
   ]
  },
  {
   "cell_type": "code",
   "execution_count": 14,
   "id": "215dbfec",
   "metadata": {},
   "outputs": [
    {
     "name": "stdout",
     "output_type": "stream",
     "text": [
      "PTP: 24586 -- ADC Range: 49152\n"
     ]
    }
   ],
   "source": [
    "print(f\"PTP: {np.ptp(chunks_i2)} -- ADC Range: {lsb * (2 ** nbits)}\")\n",
    "assert np.ptp(chunks_i2) <= lsb * (2 ** nbits)"
   ]
  },
  {
   "cell_type": "code",
   "execution_count": 15,
   "id": "8e3ef3da",
   "metadata": {},
   "outputs": [
    {
     "name": "stdout",
     "output_type": "stream",
     "text": [
      "Num bits ptp after lsb division: 14\n"
     ]
    }
   ],
   "source": [
    "print(f\"Num bits ptp after lsb division: {int(np.ceil(np.log2(np.ptp(chunks_i2 / lsb))))}\")"
   ]
  },
  {
   "cell_type": "code",
   "execution_count": 16,
   "id": "c901f421",
   "metadata": {},
   "outputs": [
    {
     "name": "stdout",
     "output_type": "stream",
     "text": [
      "3\n"
     ]
    }
   ],
   "source": [
    "lsb_all = np.min(np.diff(np.sort(np.unique(chunks_i2.ravel()))))\n",
    "print(lsb_all)"
   ]
  },
  {
   "cell_type": "markdown",
   "id": "4c0cd233",
   "metadata": {},
   "source": [
    "**Note:** for NP1.0 LSB computed by channel and computed on the concatenated signal differ, probably due to some small offsets in the ADC (try to compute it by ADC). For NP2.0, channel-wise LSB and global LSB are the same (3) "
   ]
  },
  {
   "cell_type": "markdown",
   "id": "3d2aaea3",
   "metadata": {},
   "source": [
    "### Truncation filter \n",
    "\n",
    "Optional truncation filter function (modified from [here](https://github.com/AllenNeuralDynamics/lightsheet-compression-tests/blob/main/compress_zarr.py#L18))"
   ]
  },
  {
   "cell_type": "code",
   "execution_count": 17,
   "id": "ad8e9e6d",
   "metadata": {},
   "outputs": [],
   "source": [
    "def trunc_filter(bits, recording, lsb=None):\n",
    "    scale = 1.0 / (2 ** bits)\n",
    "\n",
    "    if lsb is not None:\n",
    "        scale /= lsb\n",
    "    dtype = recording.get_dtype()\n",
    "    if bits == 0:\n",
    "        if lsb is None:\n",
    "            return []\n",
    "        else:\n",
    "            return [numcodecs.fixedscaleoffset.FixedScaleOffset(offset=0, scale=scale, dtype=dtype)]\n",
    "    else:\n",
    "        return [numcodecs.fixedscaleoffset.FixedScaleOffset(offset=0, scale=scale, dtype=dtype)]"
   ]
  },
  {
   "cell_type": "markdown",
   "id": "fe1fc770",
   "metadata": {},
   "source": [
    "### Choose zarr compressor\n",
    "\n",
    "`zstd` seems to provide good compression ratios and comp-/decomp speeds. \n",
    "Let's choose a middle level (e.g. 5)"
   ]
  },
  {
   "cell_type": "code",
   "execution_count": 18,
   "id": "563f93ce",
   "metadata": {},
   "outputs": [],
   "source": [
    "clevel = 9"
   ]
  },
  {
   "cell_type": "code",
   "execution_count": 19,
   "id": "e5ac1fb3",
   "metadata": {},
   "outputs": [],
   "source": [
    "compressor = Blosc(cname='zstd', clevel=9, shuffle=Blosc.BITSHUFFLE,)"
   ]
  },
  {
   "cell_type": "markdown",
   "id": "f153cc31",
   "metadata": {},
   "source": [
    "### Define output folder and configs"
   ]
  },
  {
   "cell_type": "code",
   "execution_count": 20,
   "id": "ccdc7e46",
   "metadata": {},
   "outputs": [],
   "source": [
    "zarr_root = f\"test_npix{np_version}_full_zarr\""
   ]
  },
  {
   "cell_type": "code",
   "execution_count": 21,
   "id": "d1c3f978",
   "metadata": {},
   "outputs": [],
   "source": [
    "# zarr_root = f\"test_spikeglx{np_version}_full_zarr\""
   ]
  },
  {
   "cell_type": "code",
   "execution_count": 22,
   "id": "ff205227",
   "metadata": {},
   "outputs": [],
   "source": [
    "# define truncation bits\n",
    "trunc_bits = [0, 1, 2, 3, 4, 5, 6, 7, 8]\n",
    "\n",
    "# optionally define stub as the number of seconds to cut the recording (e.g. stub = 30)\n",
    "stub = 2"
   ]
  },
  {
   "cell_type": "code",
   "execution_count": 23,
   "id": "97bc4899",
   "metadata": {},
   "outputs": [],
   "source": [
    "blosc.use_threads = True"
   ]
  },
  {
   "cell_type": "markdown",
   "id": "579b75e5",
   "metadata": {},
   "source": [
    "## Does LSB division improve CR?\n",
    "\n",
    "Here we first try if dividing by the LSB (hence shifting the int16 encoding \"to the right\") improves lossless compression ratio:"
   ]
  },
  {
   "cell_type": "code",
   "execution_count": 52,
   "id": "fc2a2250",
   "metadata": {},
   "outputs": [],
   "source": [
    "if stub is not None:\n",
    "    end_frame = int(stub * rec.get_sampling_frequency())\n",
    "    rec_stub = rec.frame_slice(start_frame=0, end_frame=end_frame)\n",
    "else:\n",
    "    rec_stub = rec"
   ]
  },
  {
   "cell_type": "code",
   "execution_count": 53,
   "id": "806b1da1",
   "metadata": {},
   "outputs": [
    {
     "name": "stdout",
     "output_type": "stream",
     "text": [
      "LSB int16 3 --> 0.585 uV\n"
     ]
    }
   ],
   "source": [
    "lsb = 0\n",
    "num_random_chunks = 5\n",
    "channel_idxs = np.arange(rec_stub.get_num_channels())\n",
    "min_values = np.ones(len(channel_idxs), dtype=int) * 2000\n",
    "# for i in tqdm(range(num_random_chunks)):\n",
    "chunks_i2 = rec_stub.get_traces() #si.get_random_data_chunks(rec_stub, seed=i**2)\n",
    "for ch in channel_idxs:\n",
    "    unique_vals = np.unique(chunks_i2[:, ch])\n",
    "    unique_vals_abs = np.abs(unique_vals)\n",
    "    lsb_ = np.min(np.diff(np.sort(unique_vals)))\n",
    "    min_values[ch] = np.min([min_values[ch], np.min(unique_vals_abs)])\n",
    "    if lsb_ > lsb:\n",
    "        lsb = lsb_\n",
    "assert np.ptp(chunks_i2[:, ch]) <= lsb * (2 ** nbits)\n",
    "print(f\"LSB int16 {lsb} --> {lsb * 0.195} uV\")"
   ]
  },
  {
   "cell_type": "code",
   "execution_count": 54,
   "id": "a1b5826c",
   "metadata": {},
   "outputs": [
    {
     "data": {
      "text/plain": [
       "array([   0,    0,    0,    0,    0,    0,    0,    0,    0,    0,    0,\n",
       "          0,    0,    0,    0,    0,    0,    0,    0,    0,    0,    0,\n",
       "          0,    0,    0,    0,    0,    0,    0,    0,    0,    0,    0,\n",
       "          0,    0,    0,    0,    0,    0,    0,    0,    0,    0,    0,\n",
       "          0,    0,    0,    0,    0,    0,    0,    0,    0,    0,    0,\n",
       "          0,    0,    0,    0,    0,    0,    0,    0,    0,    0,    0,\n",
       "          0,    0,    0,    0,    0,    0,    0,    0,    0,    0,    0,\n",
       "          0,    0,    0,    0,    0,    0,    0,    0,    0,    0,    0,\n",
       "          0,    0,    0,    0,    0,    0,    0,    0,    0,    0,    0,\n",
       "          0,    0,    0,    0,    0,    0,    0,    0,    0,    0,    0,\n",
       "          0,    0,    0,    0,    0,    0,    0,    0,    0,    0,    0,\n",
       "          0,    0,    0,    0,    0,    0, 2000,    0,    0,    0,    0,\n",
       "          0,    0,    0,    0,    0,    0,    0,    0,    0,    0,    0,\n",
       "          0,    0,    0,    0,    0,    0,    0,    0,    0,    0,    0,\n",
       "          0,    0,    0,    0,    0,    0,    0,    0,    0,    0,    0,\n",
       "          0,    0,    0,    0,    0,    0,    0,    0,    0,    0,    0,\n",
       "          0,    0,    0,    0,    0,    0,    0,    0,    0,    0,    0,\n",
       "          0,    0,    0,    0,    0,    0,    0,    0,    0,    0,    0,\n",
       "          0,    0,    0,    0,  254,    0,    0,    0,    0,  865,    0,\n",
       "          0,    0,    0,    0,    0,    0,  192,    0,    0,    0,    0,\n",
       "          0,    0,    0,    0,  383,    0,  826,    0,    0,    0,   47,\n",
       "          0,    0,   31,    0,    0,    0,    0,    0,    0,  117,    0,\n",
       "          0,  211,    0,    0,  716,    0,    0,    0,    0,    0,    0,\n",
       "          0,    0,    0,    0,    0,    0,    0,    0,    0,    0,    0,\n",
       "        536,   43,    0,    0,  380,    0,  196,    0,  317,    0,    0,\n",
       "          0,    0,    0,    0,    0,  810,    0,    0,    0,    0,    0,\n",
       "          0,    0,    0,    0,  466,    0,  368,    0,    0,    0,    0,\n",
       "          0,  117,    0,    0,  254,    0,    0,  117,    0,  102,    0,\n",
       "          0,    0,  892,  176,  579,    0, 1491, 2000, 2000, 2000, 2000,\n",
       "        262, 2000,  399, 1099,   59,    0,   27,   20,  239,  266, 1049,\n",
       "       1510,  227,    0,    0,  853,  333, 1585,  278,  614,  215, 1064,\n",
       "       1999,    0,  239,  262,  419,    0, 1072,    0,    0,    0,  528,\n",
       "         86, 1150, 1346, 1092,    0,  786,   43,  157,  446,  481,  227,\n",
       "       1197,  160,  239,    0,  106,  129,  595, 1013,  235,    0, 1013,\n",
       "        301,  180,  274,   51,  278,  591,  998, 1319, 1941,    0])"
      ]
     },
     "execution_count": 54,
     "metadata": {},
     "output_type": "execute_result"
    }
   ],
   "source": [
    "min_values"
   ]
  },
  {
   "cell_type": "code",
   "execution_count": null,
   "id": "0b17d9ab",
   "metadata": {},
   "outputs": [],
   "source": [
    "trunc_bit = 0"
   ]
  },
  {
   "cell_type": "code",
   "execution_count": null,
   "id": "59a64b31",
   "metadata": {},
   "outputs": [],
   "source": [
    "overwrite = True"
   ]
  },
  {
   "cell_type": "code",
   "execution_count": null,
   "id": "38162f7d",
   "metadata": {},
   "outputs": [],
   "source": [
    "# zarr_path = zarr_output_folder / f\"{zarr_root}_trunc{trunc_bit}_nolsb.zarr\"\n",
    "# if overwrite:\n",
    "#     if zarr_path.is_dir():\n",
    "#         shutil.rmtree(zarr_path)\n",
    "\n",
    "# t_start = time.perf_counter()\n",
    "# filters = trunc_filter(0, rec_stub, lsb=None)\n",
    "# rec_zarr_nolsb = rec_stub.save(format=\"zarr\", zarr_path=zarr_path, \n",
    "#                                compressor=compressor, filters=filters, \n",
    "#                                **job_kwargs)\n",
    "# t_stop = time.perf_counter()\n",
    "# elapsed_time = np.round(t_stop - t_start, 2)\n",
    "# cr_nolsb = np.round(rec_zarr_nolsb._root['traces_seg0'].nbytes / rec_zarr_nolsb._root['traces_seg0'].nbytes_stored, 2)\n",
    "# print(f\"Elapsed time truncation: {trunc_bit} - no LSB division: {elapsed_time}s - CR: {cr_nolsb}\")\n",
    "\n",
    "# zarr_path = zarr_output_folder / f\"{zarr_root}_trunc{trunc_bit}_lsb.zarr\"\n",
    "# if overwrite:\n",
    "#     if zarr_path.is_dir():\n",
    "#         shutil.rmtree(zarr_path)\n",
    "\n",
    "# t_start = time.perf_counter()\n",
    "# filters = trunc_filter(0, rec_stub, lsb=lsb)\n",
    "# rec_zarr_lsb = rec_stub.save(format=\"zarr\", zarr_path=zarr_path, \n",
    "#                              compressor=compressor, filters=filters, \n",
    "#                              **job_kwargs)\n",
    "# t_stop = time.perf_counter()\n",
    "# elapsed_time = np.round(t_stop - t_start, 2)\n",
    "# cr_lsb = np.round(rec_zarr_lsb._root['traces_seg0'].nbytes / rec_zarr_lsb._root['traces_seg0'].nbytes_stored, 2)\n",
    "# print(f\"Elapsed time truncation: {trunc_bit} - LSB division: {elapsed_time}s - CR: {cr_lsb}\")\n",
    "\n",
    "# try rescale in SI\n",
    "zarr_path = zarr_output_folder / f\"{zarr_root}_trunc{trunc_bit}_lsb_rescale.zarr\"\n",
    "if overwrite:\n",
    "    if zarr_path.is_dir():\n",
    "        shutil.rmtree(zarr_path)\n",
    "t_start = time.perf_counter()\n",
    "# first apply offset, then lsb\n",
    "rec_stub_r = si.scale(rec_stub, gain=1., offset=-min_values, dtype=\"int16\")\n",
    "rec_stub_r = si.scale(rec_stub_r, gain=1. / lsb, dtype=\"int16\")\n",
    "filters = []\n",
    "rec_zarr_rescale = rec_stub_r.save(format=\"zarr\", zarr_path=zarr_path, \n",
    "                                   compressor=compressor, filters=filters, \n",
    "                                   **job_kwargs)\n",
    "cr_lsb_r = np.round(rec_zarr_rescale._root['traces_seg0'].nbytes / rec_zarr_rescale._root['traces_seg0'].nbytes_stored, 2)\n",
    "rec_zarr_rescale = si.scale(rec_zarr_rescale, gain=lsb, dtype=\"int16\")\n",
    "rec_zarr_rescale = si.scale(rec_zarr_rescale, offset=min_values, dtype=\"int16\")\n",
    "t_stop = time.perf_counter()\n",
    "elapsed_time = np.round(t_stop - t_start, 2)\n",
    "print(f\"Elapsed time truncation: {trunc_bit} - LSB pre-scale: {elapsed_time}s - CR: {cr_lsb_r}\")"
   ]
  },
  {
   "cell_type": "code",
   "execution_count": 34,
   "id": "01ba79cc",
   "metadata": {},
   "outputs": [],
   "source": [
    "rec_stub_pre1 = si.scale(rec_stub, gain=1., offset=-min_values, dtype=\"int16\")\n",
    "rec_stub_pre2 = si.scale(rec_stub_pre1, gain=1. / lsb, dtype=\"int16\")\n",
    "rec_stub_post1 = si.scale(rec_stub_pre2, gain=lsb, dtype=\"int16\")\n",
    "rec_stub_post2 = si.scale(rec_stub_post1, offset=min_values, dtype=\"int16\")"
   ]
  },
  {
   "cell_type": "code",
   "execution_count": 63,
   "id": "b21263ce",
   "metadata": {},
   "outputs": [],
   "source": [
    "tr_stub = rec_stub.get_traces()\n",
    "tr_stub_c = tr_stub - min_values\n",
    "tr_stub_g = (tr_stub_c / lsb).astype(int)\n",
    "tr_stub_g1 = tr_stub_g * lsb\n",
    "tr_stub_c1 = tr_stub_g1 + min_values"
   ]
  },
  {
   "cell_type": "code",
   "execution_count": 64,
   "id": "2c38d0be",
   "metadata": {},
   "outputs": [
    {
     "data": {
      "text/plain": [
       "[<matplotlib.lines.Line2D at 0x7f63384289a0>]"
      ]
     },
     "execution_count": 64,
     "metadata": {},
     "output_type": "execute_result"
    },
    {
     "data": {
      "application/vnd.jupyter.widget-view+json": {
       "model_id": "fa90dbe2bcc946f0916eb8f722268a75",
       "version_major": 2,
       "version_minor": 0
      },
      "image/png": "[encoded data removed]",
      "text/html": [
       "\n",
       "            <div style=\"display: inline-block;\">\n",
       "                <div class=\"jupyter-widgets widget-label\" style=\"text-align: center;\">\n",
       "                    Figure\n",
       "                </div>\n",
       "                <img src='data:image/png;base64,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' width=640.0/>\n",
       "            </div>\n",
       "        "
      ],
      "text/plain": [
       "Canvas(toolbar=Toolbar(toolitems=[('Home', 'Reset original view', 'home', 'home'), ('Back', 'Back to previous …"
      ]
     },
     "metadata": {},
     "output_type": "display_data"
    }
   ],
   "source": [
    "plt.figure()\n",
    "plt.plot(tr_stub[:, -2])\n",
    "plt.plot(tr_stub_c[:, -2])\n",
    "plt.plot(tr_stub_g[:, -2])\n",
    "plt.plot(tr_stub_g1[:, -2])\n",
    "plt.plot(tr_stub_c1[:, -2])"
   ]
  },
  {
   "cell_type": "code",
   "execution_count": 62,
   "id": "4ec48249",
   "metadata": {},
   "outputs": [
    {
     "data": {
      "text/plain": [
       "True"
      ]
     },
     "execution_count": 62,
     "metadata": {},
     "output_type": "execute_result"
    }
   ],
   "source": [
    "np.allclose(tr_stub, tr_stub_c1)"
   ]
  },
  {
   "cell_type": "code",
   "execution_count": 46,
   "id": "b5e5b4f7",
   "metadata": {},
   "outputs": [],
   "source": [
    "rec_stub_pre = si.scale(rec_stub, gain=1. / lsb, offset=-min_values, dtype=\"int16\", gain_first=False)\n",
    "rec_stub_post = si.scale(rec_stub_pre, gain=lsb, offset=min_values, dtype=\"int16\")"
   ]
  },
  {
   "cell_type": "code",
   "execution_count": 47,
   "id": "65952a21",
   "metadata": {},
   "outputs": [],
   "source": [
    "# tr_orig = rec_stub.get_traces()\n",
    "# tr_pre1 = rec_stub_pre1.get_traces()\n",
    "# tr_pre2 = rec_stub_pre2.get_traces()\n",
    "# tr_post1 = rec_stub_post1.get_traces()\n",
    "# tr_post2 = rec_stub_post2.get_traces()\n",
    "tr_pre = rec_stub_pre.get_traces()\n",
    "tr_post = rec_stub_post.get_traces()"
   ]
  },
  {
   "cell_type": "code",
   "execution_count": 45,
   "id": "12147c5b",
   "metadata": {},
   "outputs": [
    {
     "data": {
      "text/plain": [
       "array([   0,    0,    0,    0,    0,    0,    0,    0,    0,    0,    0,\n",
       "          0,    0,    0,    0,    0,    0,    0,    0,    0,    0,    0,\n",
       "          0,    0,    0,    0,    0,    0,    0,    0,    0,    0,    0,\n",
       "          0,    0,    0,    0,    0,    0,    0,    0,    0,    0,    0,\n",
       "          0,    0,    0,    0,    0,    0,    0,    0,    0,    0,    0,\n",
       "          0,    0,    0,    0,    0,    0,    0,    0,    0,    0,    0,\n",
       "          0,    0,    0,    0,    0,    0,    0,    0,    0,    0,    0,\n",
       "          0,    0,    0,    0,    0,    0,    0,    0,    0,    0,    0,\n",
       "          0,    0,    0,    0,    0,    0,    0,    0,    0,    0,    0,\n",
       "          0,    0,    0,    0,    0,    0,    0,    0,    0,    0,    0,\n",
       "          0,    0,    0,    0,    0,    0,    0,    0,    0,    0,    0,\n",
       "          0,    0,    0,    0,    0,    0, 2000,    0,    0,    0,    0,\n",
       "          0,    0,    0,    0,    0,    0,    0,    0,    0,    0,    0,\n",
       "          0,    0,    0,    0,    0,    0,    0,    0,    0,    0,    0,\n",
       "          0,    0,    0,    0,    0,    0,    0,    0,    0,    0,    0,\n",
       "          0,    0,    0,    0,    0,    0,    0,    0,    0,    0,    0,\n",
       "          0,    0,    0,    0,    0,    0,    0,    0,    0,    0,    0,\n",
       "          0,    0,    0,    0,    0,    0,    0,    0,    0,    0,    0,\n",
       "          0,    0,    0,    0,  254,    0,    0,    0,    0,  865,    0,\n",
       "          0,    0,    0,    0,    0,    0,  192,    0,    0,    0,    0,\n",
       "          0,    0,    0,    0,  383,    0,  826,    0,    0,    0,   47,\n",
       "          0,    0,   31,    0,    0,    0,    0,    0,    0,  117,    0,\n",
       "          0,  211,    0,    0,  716,    0,    0,    0,    0,    0,    0,\n",
       "          0,    0,    0,    0,    0,    0,    0,    0,    0,    0,    0,\n",
       "        536,   43,    0,    0,  380,    0,  196,    0,  317,    0,    0,\n",
       "          0,    0,    0,    0,    0,  810,    0,    0,    0,    0,    0,\n",
       "          0,    0,    0,    0,  466,    0,  368,    0,    0,    0,    0,\n",
       "          0,  117,    0,    0,  254,    0,    0,  117,    0,  102,    0,\n",
       "          0,    0,  892,  176,  579,    0, 1491, 2000, 2000, 2000, 2000,\n",
       "        262, 2000,  399, 1099,   59,    0,   27,   20,  239,  266, 1049,\n",
       "       1510,  227,    0,    0,  853,  333, 1585,  278,  614,  215, 1064,\n",
       "       1999,    0,  239,  262,  419,    0, 1072,    0,    0,    0,  528,\n",
       "         86, 1150, 1346, 1092,    0,  786,   43,  157,  446,  481,  227,\n",
       "       1197,  160,  239,    0,  106,  129,  595, 1013,  235,    0, 1013,\n",
       "        301,  180,  274,   51,  278,  591,  998, 1319, 1941,    0])"
      ]
     },
     "execution_count": 45,
     "metadata": {},
     "output_type": "execute_result"
    }
   ],
   "source": [
    "min_values"
   ]
  },
  {
   "cell_type": "code",
   "execution_count": 48,
   "id": "8af2d714",
   "metadata": {},
   "outputs": [],
   "source": [
    "ch = -2"
   ]
  },
  {
   "cell_type": "code",
   "execution_count": 49,
   "id": "2a7fad5f",
   "metadata": {},
   "outputs": [
    {
     "data": {
      "text/plain": [
       "[<matplotlib.lines.Line2D at 0x7f633a5389d0>]"
      ]
     },
     "execution_count": 49,
     "metadata": {},
     "output_type": "execute_result"
    },
    {
     "data": {
      "application/vnd.jupyter.widget-view+json": {
       "model_id": "15474e13815d4910a5bed1d753342075",
       "version_major": 2,
       "version_minor": 0
      },
      "image/png": "[encoded data removed]",
      "text/html": [
       "\n",
       "            <div style=\"display: inline-block;\">\n",
       "                <div class=\"jupyter-widgets widget-label\" style=\"text-align: center;\">\n",
       "                    Figure\n",
       "                </div>\n",
       "                <img src='data:image/png;base64,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' width=640.0/>\n",
       "            </div>\n",
       "        "
      ],
      "text/plain": [
       "Canvas(toolbar=Toolbar(toolitems=[('Home', 'Reset original view', 'home', 'home'), ('Back', 'Back to previous …"
      ]
     },
     "metadata": {},
     "output_type": "display_data"
    }
   ],
   "source": [
    "# plt.figure()\n",
    "\n",
    "# plt.plot(tr_orig[:, ch])\n",
    "# plt.plot(tr_post2[:, ch])\n",
    "\n",
    "\n",
    "# plt.figure()\n",
    "# plt.plot(tr_pre1[:, ch])\n",
    "# plt.plot(tr_post1[:, ch])\n",
    "\n",
    "\n",
    "plt.figure()\n",
    "plt.plot(tr_orig[:, ch])\n",
    "plt.plot(tr_post[:, ch])"
   ]
  },
  {
   "cell_type": "code",
   "execution_count": 50,
   "id": "9c82b7f1",
   "metadata": {},
   "outputs": [
    {
     "name": "stdout",
     "output_type": "stream",
     "text": [
      "LSB int16 1 --> 0.195 uV\n"
     ]
    }
   ],
   "source": [
    "lsb = 0\n",
    "num_random_chunks = 5\n",
    "# channel_idxs = np.arange(chunks_i2.shape[1])\n",
    "min_values = np.ones(len(channel_idxs), dtype=int) * 2000\n",
    "# for i in tqdm(range(num_random_chunks)):\n",
    "chunks_i2 = rec_stub_pre.get_traces() #si.get_random_data_chunks(rec, seed=i**2)\n",
    "for ch in channel_idxs:\n",
    "    unique_vals = np.unique(chunks_i2[:, ch])\n",
    "    unique_vals_abs = np.abs(unique_vals)\n",
    "    lsb_ = np.min(np.diff(np.sort(unique_vals)))\n",
    "    min_values[ch] = np.min([min_values[ch], np.min(unique_vals_abs)])\n",
    "    if lsb_ > lsb:\n",
    "        lsb = lsb_\n",
    "assert np.ptp(chunks_i2[:, ch]) <= lsb * (2 ** nbits)\n",
    "print(f\"LSB int16 {lsb} --> {lsb * 0.195} uV\")"
   ]
  },
  {
   "cell_type": "code",
   "execution_count": 51,
   "id": "378e5b69",
   "metadata": {},
   "outputs": [
    {
     "data": {
      "text/plain": [
       "array([   0,    0,    0,    0,    0,    0,    0,    0,    0,    0,    0,\n",
       "          0,    0,    0,    0,    0,    0,    0,    0,    0,    0,    0,\n",
       "          0,    0,    0,    0,    0,    0,    0,    0,    0,    0,    0,\n",
       "          0,    0,    0,    0,    0,    0,    0,    0,    0,    0,    0,\n",
       "          0,    0,    0,    0,    0,    0,    0,    0,    0,    0,    0,\n",
       "          0,    0,    0,    0,    0,    0,    0,    0,    0,    0,    0,\n",
       "          0,    0,    0,    0,    0,    0,    0,    0,    0,    0,    0,\n",
       "          0,    0,    0,    0,    0,    0,    0,    0,    0,    0,    0,\n",
       "          0,    0,    0,    0,    0,    0,    0,    0,    0,    0,    0,\n",
       "          0,    0,    0,    0,    0,    0,    0,    0,    0,    0,    0,\n",
       "          0,    0,    0,    0,    0,    0,    0,    0,    0,    0,    0,\n",
       "          0,    0,    0,    0,    0,    0, 1350,    0,    0,    0,    0,\n",
       "          0,    0,    0,    0,    0,    0,    0,    0,    0,    0,    0,\n",
       "          0,    0,    0,    0,    0,    0,    0,    0,    0,    0,    0,\n",
       "          0,    0,    0,    0,    0,    0,    0,    0,    0,    0,    0,\n",
       "          0,    0,    0,    0,    0,    0,    0,    0,    0,    0,    0,\n",
       "          0,    0,    0,    0,    0,    0,    0,    0,    0,    0,    0,\n",
       "          0,    0,    0,    0,    0,    0,    0,    0,    0,    0,    0,\n",
       "          0,    0,    0,    0,  169,    0,    0,    0,    0,    0,    0,\n",
       "          0,    0,    0,    0,    0,    0,    0,    0,    0,    0,    0,\n",
       "          0,    0,    0,    0,    0,    0,  550,    0,    0,    0,   31,\n",
       "          0,    0,    0,    0,    0,    0,    0,    0,    0,    0,    0,\n",
       "          0,  140,    0,    0,    0,    0,    0,    0,    0,    0,    0,\n",
       "          0,    0,    0,    0,    0,    0,    0,    0,    0,    0,    0,\n",
       "          0,    0,    0,    0,    0,    0,  130,    0,  211,    0,    0,\n",
       "          0,    0,    0,    0,    0,  540,    0,    0,    0,    0,    0,\n",
       "          0,    0,    0,    0,    0,    0,  245,    0,    0,    0,    0,\n",
       "          0,    0,    0,    0,  169,    0,    0,    0,    0,   68,    0,\n",
       "          0,    0,    0,    0,  386,    0,    0,  762,  526, 2000, 1083,\n",
       "          0,   78,    0,  732,   39,    0,    0,   13,    0,    0,  699,\n",
       "       1006,  151,    0,    0,    0,  222,    0,  185,    0,  143,    0,\n",
       "          0,    0,    0,    0,  279,    0,    0,    0,    0,    0,    0,\n",
       "         57,    0,  897,  728,    0,    0,   28,    0,    0,  320,  151,\n",
       "        798,  106,    0,    0,   70,   86,    0,    0,    0,    0,    0,\n",
       "        200,  120,    0,    0,  185,    0,  665,  879,    0,    0])"
      ]
     },
     "execution_count": 51,
     "metadata": {},
     "output_type": "execute_result"
    }
   ],
   "source": [
    "min_values"
   ]
  },
  {
   "cell_type": "code",
   "execution_count": null,
   "id": "3ea62235",
   "metadata": {},
   "outputs": [],
   "source": [
    "duration_cmp = 1\n",
    "samples_cmp = int(rec_full.get_sampling_frequency() * duration_cmp)"
   ]
  },
  {
   "cell_type": "code",
   "execution_count": null,
   "id": "d99be5d6",
   "metadata": {},
   "outputs": [],
   "source": [
    "for i in range(5):\n",
    "    print(f\"Comparing random chunks: {i + 1} / 5\")\n",
    "    start_frame  = np.random.randint(0, rec_full.get_num_samples() - samples_cmp)\n",
    "    rec_nolsb_sub = rec_zarr_nolsb.frame_slice(start_frame=start_frame, end_frame=start_frame + samples_cmp)\n",
    "#     rec_lsb_sub = rec_zarr_lsb.frame_slice(start_frame=start_frame, end_frame=start_frame + samples_cmp)\n",
    "    rec_r_sub = rec_zarr_rescale.frame_slice(start_frame=start_frame, end_frame=start_frame + samples_cmp) \n",
    "    \n",
    "    tr_nolsb = rec_nolsb_sub.get_traces()\n",
    "#     tr_lsb = rec_lsb_sub.get_traces()\n",
    "    tr_rescale = rec_r_sub.get_traces()\n",
    "    \n",
    "#     print(f\"Max difference filt: {np.max(np.abs(tr_nolsb - tr_lsb))}\")\n",
    "    print(f\"Max difference pre-rescale: {np.max(np.abs(tr_nolsb - tr_rescale))}\")"
   ]
  },
  {
   "cell_type": "code",
   "execution_count": null,
   "id": "3c9c0336",
   "metadata": {},
   "outputs": [],
   "source": [
    "tr_nolsb = rec_nolsb_sub.get_traces()\n",
    "tr_lsb = rec_lsb_sub.get_traces()"
   ]
  },
  {
   "cell_type": "code",
   "execution_count": null,
   "id": "90c58576",
   "metadata": {},
   "outputs": [],
   "source": [
    "len(np.where(np.abs(tr_nolsb - tr_lsb) != 0)[0])"
   ]
  },
  {
   "cell_type": "code",
   "execution_count": null,
   "id": "9dc9d52e",
   "metadata": {},
   "outputs": [],
   "source": [
    "plt.figure()\n",
    "plt.plot(tr_nolsb[:, 100])\n",
    "plt.plot(tr_lsb[:, 100])"
   ]
  },
  {
   "cell_type": "markdown",
   "id": "056e43ed",
   "metadata": {},
   "source": [
    "## Benchmark bit truncation on traces and spike sorting"
   ]
  },
  {
   "cell_type": "code",
   "execution_count": null,
   "id": "4aafa037",
   "metadata": {},
   "outputs": [],
   "source": [
    "overwrite = False"
   ]
  },
  {
   "cell_type": "code",
   "execution_count": null,
   "id": "05a77ba6",
   "metadata": {},
   "outputs": [],
   "source": [
    "trunc_bits = [0, 1, 2, 4, 5, 6]"
   ]
  },
  {
   "cell_type": "code",
   "execution_count": null,
   "id": "e93aed13",
   "metadata": {
    "scrolled": false
   },
   "outputs": [],
   "source": [
    "rec_zarr_dict = {}\n",
    "\n",
    "for trunc_bit in trunc_bits:\n",
    "    for use_lsb in [False, True]:\n",
    "        if trunc_bit not in rec_zarr_dict:\n",
    "            rec_zarr_dict[trunc_bit] = {}\n",
    "        if use_lsb:\n",
    "            lsb_trunc = lsb\n",
    "            rec_zarr_dict[trunc_bit]['lsb'] = {}\n",
    "            out_dict = rec_zarr_dict[trunc_bit]['lsb']\n",
    "        else:\n",
    "            lsb_trunc = None\n",
    "            rec_zarr_dict[trunc_bit]['nolsb'] = {}\n",
    "            out_dict = rec_zarr_dict[trunc_bit]['nolsb']\n",
    "\n",
    "        zarr_path = zarr_output_folder / f\"{zarr_root}_trunc{trunc_bit}_lsb{use_lsb}.zarr\"\n",
    "\n",
    "        if overwrite:\n",
    "            if zarr_path.is_dir():\n",
    "                shutil.rmtree(zarr_path)\n",
    "\n",
    "        if stub is not None:\n",
    "            end_frame = int(stub * rec.get_sampling_frequency())\n",
    "            rec_stub = rec.frame_slice(start_frame=0, end_frame=end_frame)\n",
    "        else:\n",
    "            rec_stub = rec\n",
    "\n",
    "        if zarr_path.is_dir():\n",
    "            rec_zarr = si.read_zarr(zarr_path)\n",
    "            elapsed_time = 0\n",
    "        else:\n",
    "            t_start = time.perf_counter()\n",
    "            filters = trunc_filter(trunc_bit, rec_stub, lsb=lsb_trunc)\n",
    "            rec_zarr = rec_stub.save(format=\"zarr\", zarr_path=zarr_path, \n",
    "                                     compressor=compressor, filters=filters, \n",
    "                                     **job_kwargs)\n",
    "            t_stop = time.perf_counter()\n",
    "            elapsed_time = np.round(t_stop - t_start, 2)\n",
    "        cr = np.round(rec_zarr._root['traces_seg0'].nbytes / rec_zarr._root['traces_seg0'].nbytes_stored, 2)\n",
    "\n",
    "        out_dict[\"CR\"] = cr\n",
    "        out_dict[\"rec\"] = rec_zarr\n",
    "\n",
    "        print(f\"Elapsed time truncation: {trunc_bit} - lsb correction {use_lsb}: {elapsed_time}s - CR: {cr}\")"
   ]
  },
  {
   "cell_type": "markdown",
   "id": "a999d0ec",
   "metadata": {},
   "source": [
    "### Visualization"
   ]
  },
  {
   "cell_type": "code",
   "execution_count": null,
   "id": "519e26c3",
   "metadata": {},
   "outputs": [],
   "source": [
    "time_range = [15, 15.2]\n",
    "channel_ids = rec.get_channel_ids()[100:110]"
   ]
  },
  {
   "cell_type": "code",
   "execution_count": null,
   "id": "88036fe9",
   "metadata": {
    "scrolled": true
   },
   "outputs": [],
   "source": [
    "fig_ts, axs_ts = plt.subplots(nrows=2, sharex=True)\n",
    "for i, (trunc_bit, trunc_dict) in enumerate(rec_zarr_dict.items()):\n",
    "    rec_trunc_nolsb = trunc_dict[\"nolsb\"][\"rec\"]\n",
    "    rec_trunc_lsb = trunc_dict[\"lsb\"][\"rec\"]\n",
    "\n",
    "    _ = si.plot_timeseries(rec_trunc_nolsb, time_range=time_range, channel_ids=channel_ids,\n",
    "                           mode=\"line\", color=f\"C{i}\", ax=axs_ts[0])\n",
    "    l = axs_ts[0].get_lines()[-1].set_label(f\"trunc {trunc_bits[i]} - nolsb\")\n",
    "\n",
    "    _ = si.plot_timeseries(rec_trunc_nolsb, time_range=time_range, channel_ids=channel_ids,\n",
    "                           mode=\"line\", color=f\"C{i}\", ax=axs_ts[0], ls=\"--\")\n",
    "    l = axs_ts[0].get_lines()[-1].set_label(f\"trunc {trunc_bits[i]} - lsb\")\n",
    "\n",
    "\n",
    "    rec_f_nolsb = si.bandpass_filter(rec_trunc_nolsb)\n",
    "    rec_f_lsb = si.bandpass_filter(rec_trunc_lsb)\n",
    "\n",
    "    rec_zarr_dict[trunc_bit][\"nolsb\"][\"rec_filt\"] = rec_f_nolsb\n",
    "    rec_zarr_dict[trunc_bit][\"lsb\"][\"rec_filt\"] = rec_f_lsb\n",
    "\n",
    "    _ = si.plot_timeseries(rec_f_nolsb, time_range=time_range, channel_ids=channel_ids,\n",
    "                           mode=\"line\", color=f\"C{i}\", ax=axs_ts[1])\n",
    "    _ = si.plot_timeseries(rec_f_lsb, time_range=time_range, channel_ids=channel_ids,\n",
    "                           mode=\"line\", color=f\"C{i}\", ax=axs_ts[1], ls=\"--\")\n",
    "axs_ts[0].legend()\n",
    "axs_ts[0].set_title(\"Raw\", fontsize=15)\n",
    "axs_ts[0].set_xlabel(\"\", fontsize=15)\n",
    "axs_ts[1].set_title(\"Filtered\", fontsize=15)\n",
    "fig_ts.subplots_adjust(hspace=0.3)"
   ]
  },
  {
   "cell_type": "markdown",
   "id": "87ff8504",
   "metadata": {},
   "source": [
    "### RMS error on filtered traces"
   ]
  },
  {
   "cell_type": "code",
   "execution_count": null,
   "id": "bcab13c7",
   "metadata": {},
   "outputs": [],
   "source": [
    "time_range = [15, 18]\n",
    "frames = np.array(time_range) * rec.get_sampling_frequency()\n",
    "frames = frames.astype(int)"
   ]
  },
  {
   "cell_type": "code",
   "execution_count": null,
   "id": "c95a09dc",
   "metadata": {},
   "outputs": [],
   "source": [
    "rec_orig_f = si.bandpass_filter(rec_stub)\n",
    "traces_orig = rec_orig_f.get_traces(start_frame=frames[0], end_frame=frames[1], return_scaled=True)\n",
    "errors_rms = []\n",
    "for i, (trunc_bit, trunc_dict) in enumerate(rec_zarr_dict.items()):\n",
    "    for lsb_cor in trunc_dict:\n",
    "        rec_f = trunc_dict[lsb_cor][\"rec_filt\"]\n",
    "        traces_trunc_f = rec_f.get_traces(start_frame=frames[0], end_frame=frames[1], return_scaled=True)\n",
    "\n",
    "        error_rms = np.sqrt(((traces_trunc_f.ravel() - traces_orig.ravel()) ** 2).mean())\n",
    "        rec_zarr_dict[trunc_bit][lsb_cor][\"rmse\"] = error_rms\n",
    "        print(f\"RMS for truncation {trunc_bit} - lsb {lsb_cor}: {np.round(error_rms, 4)} uV\")"
   ]
  },
  {
   "cell_type": "code",
   "execution_count": null,
   "id": "a6986ed9",
   "metadata": {},
   "outputs": [],
   "source": [
    "# fig_e, ax_e = plt.subplots()\n",
    "# ax_cr = ax_e.twinx()\n",
    "\n",
    "trunc_bit_array = []\n",
    "errors_rms_array = []\n",
    "crs_array = []\n",
    "lsb_array = []\n",
    "\n",
    "\n",
    "for (trunc_bit, trunc_dict) in rec_zarr_dict.items():\n",
    "    for lsb_cor in trunc_dict: \n",
    "        trunc_bit_array.append(trunc_bit)\n",
    "        lsb_array.append(lsb_cor == \"lsb\")\n",
    "        crs_array.append(trunc_dict[lsb_cor][\"CR\"])\n",
    "        errors_rms_array.append(trunc_dict[lsb_cor][\"rmse\"])\n",
    "\n",
    "\n",
    "df = pd.DataFrame({\"trunc_bit\": trunc_bit_array, \"lsb\": lsb_array,\n",
    "                   \"CR\": crs_array, \"rmse\": errors_rms_array})\n",
    "\n",
    "plt.figure()\n",
    "sns.pointplot(data=df, x=\"trunc_bit\", y=\"CR\", hue=\"lsb\")\n",
    "plt.figure()\n",
    "sns.pointplot(data=df, x=\"trunc_bit\", y=\"rmse\", hue=\"lsb\")\n",
    "        \n",
    "# ax_e.plot(trunc_bits, errors_rms, \"d\",\n",
    "#           ls=\"--\", label=\"RMSE\")\n",
    "# ax_cr.plot(trunc_bits, crs, \"o\",\n",
    "#            ls=\"-\", color=\"C1\", label=\"CR\")\n",
    "\n",
    "# ax_e.set_title(\"Error VS CR\")\n",
    "# ax_e.set_xlabel(\"# truncation bits\")\n",
    "# ax_e.set_ylabel(\"Error rms $\\mu$V\")\n",
    "# ax_cr.set_ylabel(\"CR\")\n",
    "# ax_e.axhline(1, color=\"C0\", ls=\"--\", alpha=0.4)\n",
    "# ax_cr.axhline(3, color=\"C1\", ls=\"--\", alpha=0.4)\n",
    "# ax_e.spines['left'].set_color('C0')\n",
    "# ax_cr.spines['left'].set_color('C0')\n",
    "# ax_cr.spines['right'].set_color('C1')\n",
    "# ax_e.yaxis.label.set_color('C0')\n",
    "# ax_cr.yaxis.label.set_color('C1')\n",
    "# ax_e.tick_params(axis='y', colors='C0')\n",
    "# ax_cr.tick_params(axis='y', colors='C1')\n",
    "# ax_e.spines['top'].set_visible(False)\n",
    "# ax_cr.spines['top'].set_visible(False)\n",
    "\n",
    "\n",
    "# ax_e.legend()"
   ]
  },
  {
   "cell_type": "markdown",
   "id": "9fcf0ef4",
   "metadata": {},
   "source": [
    "## Spike Sorting\n",
    "\n",
    "Test whether compression affects spike sorting results."
   ]
  },
  {
   "cell_type": "code",
   "execution_count": null,
   "id": "4725c8a1",
   "metadata": {},
   "outputs": [],
   "source": [
    "si.installed_sorters()"
   ]
  },
  {
   "cell_type": "code",
   "execution_count": null,
   "id": "d9210d82",
   "metadata": {},
   "outputs": [],
   "source": [
    "sorter = \"tridesclous\""
   ]
  },
  {
   "cell_type": "code",
   "execution_count": null,
   "id": "6002ca94",
   "metadata": {
    "scrolled": true
   },
   "outputs": [],
   "source": [
    "for (trunc_bit, trunc_dict) in rec_zarr_dict.items():\n",
    "    print(f\"Running {sorter} for truncation bits {trunc_bit}\")\n",
    "    \n",
    "    sorter_folder = zarr_output_folder / f\"{sorter}_trunc{trunc_bit}\"\n",
    "    if sorter_folder.is_dir() and not overwrite:\n",
    "        sort = si.load_extractor(sorter_folder)\n",
    "    else:\n",
    "        rec_f = trunc_dict[\"rec_filt\"]\n",
    "        rec_cmr = si.common_reference(rec_f, operator=\"median\", reference=\"global\")\n",
    "        t_start = time.perf_counter()\n",
    "        sort = si.run_sorter(sorter, rec_f, verbose=True)\n",
    "        sort = sort.save(folder=zarr_output_folder / f\"{sorter}_trunc{trunc_bit}\")\n",
    "        t_stop = time.perf_counter()\n",
    "        elapsed_time = np.round(t_stop - t_start, 2)\n",
    "    rec_zarr_dict[trunc_bit][\"sort\"] = sort\n",
    "    \n",
    "    \n",
    "    print(f\"Elapsed {sorter} - truncation {trunc_bit}: {elapsed_time}s -- num units: {len(sort.unit_ids)}\")"
   ]
  },
  {
   "cell_type": "markdown",
   "id": "3d69174a",
   "metadata": {},
   "source": [
    "### Spike sorting comparison"
   ]
  },
  {
   "cell_type": "code",
   "execution_count": null,
   "id": "06209a6f",
   "metadata": {},
   "outputs": [],
   "source": [
    "# compare to lossless case\n",
    "gt_sorting = rec_zarr_dict[0][\"sort\"]"
   ]
  },
  {
   "cell_type": "code",
   "execution_count": null,
   "id": "2a376c1c",
   "metadata": {
    "scrolled": false
   },
   "outputs": [],
   "source": [
    "fig_st, ax_st = plt.subplots()\n",
    "for i, (trunc_bit, trunc_dict) in enumerate(rec_zarr_dict.items()):\n",
    "    if \"sort\" in trunc_dict:\n",
    "        sort = trunc_dict[\"sort\"]\n",
    "        w = si.plot_rasters(sort, ax=ax_st, color=f\"C{i}\")\n",
    "        ax_st.get_lines()[-1].set_label(f\"Trunc. bits: {trunc_bit}\")\n",
    "    else:\n",
    "        print(f\"Missing sorting object for trunc. bits: {trunc_bit}\")"
   ]
  },
  {
   "cell_type": "code",
   "execution_count": null,
   "id": "bb1631ea",
   "metadata": {
    "scrolled": true
   },
   "outputs": [],
   "source": [
    "sortings = []\n",
    "for (trunc_bit, trunc_dict) in rec_zarr_dict.items():\n",
    "    if trunc_bit == 0:\n",
    "        rec_zarr_dict[trunc_bit][\"cmp\"] = None\n",
    "    else:\n",
    "        if \"sort\" in trunc_dict:\n",
    "            sort = trunc_dict[\"sort\"]\n",
    "            cmp = si.compare_sorter_to_ground_truth(gt_sorting, sort)\n",
    "            rec_zarr_dict[trunc_bit][\"cmp\"] = cmp\n",
    "\n",
    "            print(f\"\\n\\n\\nTrunc bits: {trunc_bit}\")\n",
    "            cmp.print_performance()\n",
    "            sortings.append(sort)\n",
    "        else:\n",
    "            print(f\"Missing sorting object for trunc. bits: {trunc_bit}\")"
   ]
  },
  {
   "cell_type": "code",
   "execution_count": null,
   "id": "a52c02cb",
   "metadata": {
    "scrolled": false
   },
   "outputs": [],
   "source": [
    "# fig_cmp, axs = plt.subplots(nrows=len(trunc_bits) - 1)\n",
    "\n",
    "for i, (trunc_bit, trunc_dict) in enumerate(rec_zarr_dict.items()):\n",
    "    if i != 0:\n",
    "        if \"cmp\" in trunc_dict:\n",
    "            cmp = trunc_dict[\"cmp\"]\n",
    "            w = si.plot_agreement_matrix(cmp)\n",
    "            w.ax.set_title(f\"Bits truncated: {trunc_bit}\", fontsize=15)\n",
    "        else:\n",
    "            print(f\"Missing comparison object for trunc. bits: {trunc_bit}\")"
   ]
  },
  {
   "cell_type": "code",
   "execution_count": null,
   "id": "20a349d2",
   "metadata": {},
   "outputs": [],
   "source": [
    "mcmp = si.compare_multiple_sorters([gt_sorting] + sortings, name_list=[f\"Trunc{t}\" for t in trunc_bits])"
   ]
  },
  {
   "cell_type": "code",
   "execution_count": null,
   "id": "cc00df42",
   "metadata": {},
   "outputs": [],
   "source": [
    "si.plot_multicomp_graph(mcmp)"
   ]
  },
  {
   "cell_type": "code",
   "execution_count": null,
   "id": "b6009eb6",
   "metadata": {},
   "outputs": [],
   "source": [
    "si.plot_multicomp_agreement(mcmp)\n",
    "\n",
    "fig_mcmp, axs_mcmcp = plt.subplots(ncols=3, nrows=3)\n",
    "si.plot_multicomp_agreement_by_sorter(mcmp, axes=axs_mcmcp.ravel())\n",
    "# si.plot_multicomp_graph(mcmp)"
   ]
  },
  {
   "cell_type": "code",
   "execution_count": null,
   "id": "72e0adf2",
   "metadata": {},
   "outputs": [],
   "source": [
    "min_agreement_count = 9"
   ]
  },
  {
   "cell_type": "code",
   "execution_count": null,
   "id": "89e5f031",
   "metadata": {},
   "outputs": [],
   "source": [
    "sorting_agreement = mcmp.get_agreement_sorting(minimum_agreement_count=min_agreement_count)\n",
    "sorting_agreement"
   ]
  },
  {
   "cell_type": "code",
   "execution_count": null,
   "id": "6f624dd2",
   "metadata": {},
   "outputs": [],
   "source": [
    "sorting_agreement = sorting_agreement.save(folder=zarr_output_folder / f\"{sorter}_agreement_all\")"
   ]
  },
  {
   "cell_type": "code",
   "execution_count": null,
   "id": "2547eacf",
   "metadata": {},
   "outputs": [],
   "source": [
    "we_bit0 = si.extract_waveforms(gt_recording, rec_zarr_dict[0][\"sort\"], folder=wfs_folder / \"wf_lossless_0\",\n",
    "                               overwrite=True, **job_kwargs)"
   ]
  },
  {
   "cell_type": "code",
   "execution_count": null,
   "id": "b1dd1dad",
   "metadata": {},
   "outputs": [],
   "source": [
    "si.plot_unit_templates(we_bit0, unit_ids=[we_bit0.sorting.unit_ids[0]])"
   ]
  },
  {
   "cell_type": "markdown",
   "id": "c3e1f855",
   "metadata": {},
   "source": [
    "### Template comparison"
   ]
  },
  {
   "cell_type": "code",
   "execution_count": null,
   "id": "8a40dee3",
   "metadata": {},
   "outputs": [],
   "source": [
    "wfs_folder = zarr_output_folder / f\"wfs_{sorter}\"\n",
    "wfs_folder.mkdir(exist_ok=True)"
   ]
  },
  {
   "cell_type": "code",
   "execution_count": null,
   "id": "2f76e953",
   "metadata": {},
   "outputs": [],
   "source": [
    "gt_recording = rec_zarr_dict[0][\"rec_filt\"]\n",
    "we_gt = si.extract_waveforms(gt_recording, sorting_agreement, folder=wfs_folder / \"wf_lossless\",\n",
    "                             overwrite=True, **job_kwargs)\n",
    "gt_templates = we_gt.get_all_templates()\n",
    "rec_zarr_dict[0][\"we\"] = we_gt\n",
    "rec_zarr_dict[0][\"templates\"] = gt_templates"
   ]
  },
  {
   "cell_type": "code",
   "execution_count": null,
   "id": "df9dc594",
   "metadata": {},
   "outputs": [],
   "source": [
    "query_auto_curation = "
   ]
  },
  {
   "cell_type": "code",
   "execution_count": null,
   "id": "ad1820ea",
   "metadata": {},
   "outputs": [],
   "source": [
    "for i, (trunc_bit, trunc_dict) in enumerate(rec_zarr_dict.items()):\n",
    "    if i != 0:\n",
    "        recording = rec_zarr_dict[trunc_bit][\"rec_filt\"]\n",
    "        we = si.extract_waveforms(recording, sorting_agreement, folder=wfs_folder / f\"wf_{trunc_bit}\",\n",
    "                                  overwrite=True, **job_kwargs)\n",
    "        templates = we.get_all_templates()\n",
    "        rec_zarr_dict[trunc_bit][\"we\"] = we\n",
    "        rec_zarr_dict[trunc_bit][\"templates\"] = templates"
   ]
  },
  {
   "cell_type": "code",
   "execution_count": null,
   "id": "c0da5615",
   "metadata": {},
   "outputs": [],
   "source": [
    "# plot all units\n",
    "fig_all, ax_all = plt.subplots()\n",
    "_ = si.plot_unit_templates(we_gt, radius_um=radius_um, axes=[ax_all] * len(sorting_agreement.unit_ids))"
   ]
  },
  {
   "cell_type": "code",
   "execution_count": null,
   "id": "89454a0d",
   "metadata": {},
   "outputs": [],
   "source": [
    "sorting_agreement.unit_ids"
   ]
  },
  {
   "cell_type": "code",
   "execution_count": null,
   "id": "4e90a732",
   "metadata": {},
   "outputs": [],
   "source": [
    "unit_id = 4\n",
    "radius_um = 300"
   ]
  },
  {
   "cell_type": "code",
   "execution_count": null,
   "id": "ae668818",
   "metadata": {},
   "outputs": [],
   "source": [
    "fig_wf, ax_wf = plt.subplots()\n",
    "\n",
    "_ = si.plot_unit_templates(we_gt, unit_ids=[unit_id], radius_um=radius_um, \n",
    "                           unit_colors={unit_id: f\"C0\"}, axes=[ax_wf])\n",
    "ax_wf.get_lines()[-1].set_label(f\"Trunc. bits: 0\")\n",
    "\n",
    "for i, (trunc_bit, trunc_dict) in enumerate(rec_zarr_dict.items()):\n",
    "    if i != 0:\n",
    "        we = rec_zarr_dict[trunc_bit][\"we\"]\n",
    "        _ = si.plot_unit_templates(we, unit_ids=[unit_id], radius_um=radius_um, \n",
    "                                   unit_colors={unit_id: f\"C{i}\"}, axes=[ax_wf])\n",
    "        ax_wf.get_lines()[-1].set_label(f\"Trunc. bits: {trunc_bit}\")\n",
    "ax_wf.legend()"
   ]
  },
  {
   "cell_type": "markdown",
   "id": "97734895",
   "metadata": {},
   "source": [
    "### Absolute errors"
   ]
  },
  {
   "cell_type": "code",
   "execution_count": null,
   "id": "d05bae2c",
   "metadata": {},
   "outputs": [],
   "source": [
    "max_template_errors = []\n",
    "for i, (trunc_bit, trunc_dict) in enumerate(rec_zarr_dict.items()):\n",
    "    templates = rec_zarr_dict[trunc_bit][\"templates\"]\n",
    "    max_template_error = np.max(np.abs(templates - gt_templates))\n",
    "    max_template_errors.append(max_template_error)\n",
    "    \n",
    "fig_temp_e, ax_temp_e = plt.subplots()\n",
    "ax_temp_cr = ax_e.twinx()\n",
    "\n",
    "\n",
    "ax_temp_e.plot(trunc_bits, max_template_errors, \"d\",\n",
    "               ls=\"--\", label=\"RMSE\")\n",
    "ax_temp_cr.plot(trunc_bits, crs, \"o\",\n",
    "                ls=\"-\", color=\"C1\", label=\"CR\")\n",
    "\n",
    "ax_temp_e.set_title(\"Template error VS CR\")\n",
    "ax_temp_e.set_xlabel(\"# truncation bits\")\n",
    "ax_temp_e.set_ylabel(\"Error rms $\\mu$V\")\n",
    "ax_temp_cr.set_ylabel(\"CR\")\n",
    "ax_temp_e.axhline(1, color=\"C0\", ls=\"--\", alpha=0.4)\n",
    "ax_temp_cr.axhline(3, color=\"C1\", ls=\"--\", alpha=0.4)\n",
    "ax_temp_e.spines['left'].set_color('C0')\n",
    "ax_temp_cr.spines['left'].set_color('C0')\n",
    "ax_temp_cr.spines['right'].set_color('C1')\n",
    "ax_temp_e.yaxis.label.set_color('C0')\n",
    "ax_temp_cr.yaxis.label.set_color('C1')\n",
    "ax_temp_e.tick_params(axis='y', colors='C0')\n",
    "ax_temp_cr.tick_params(axis='y', colors='C1')\n",
    "ax_temp_e.spines['top'].set_visible(False)\n",
    "ax_temp_cr.spines['top'].set_visible(False)"
   ]
  },
  {
   "cell_type": "code",
   "execution_count": null,
   "id": "469404e5",
   "metadata": {},
   "outputs": [],
   "source": [
    "plt.figure()\n",
    "\n",
    "trunc_bit = 5\n",
    "temp_idx = 4\n",
    "\n",
    "gt_temp = gt_templates[temp_idx]\n",
    "tested_temp = rec_zarr_dict[trunc_bit][\"templates\"][temp_idx]\n",
    "\n",
    "temp_abs_dist = np.abs(gt_temp - tested_temp)\n",
    "\n",
    "max_error_samp, max_error_chan = np.unravel_index(np.argmax(temp_abs_dist), temp_abs_dist.shape)\n",
    "\n",
    "print(f\"Max error uV: {np.max(temp_abs_dist)}\")\n",
    "\n",
    "_ = plt.plot(gt_temp, color=\"C0\")\n",
    "_ = plt.plot(tested_temp, color=\"C1\", alpha=0.5)\n",
    "plt.plot([max_error_samp] * 2, [gt_temp[max_error_samp, max_error_chan], \n",
    "                                tested_temp[max_error_samp, max_error_chan]], \n",
    "         color=\"r\", marker=\"*\", ls=\"--\", markersize=5)\n",
    "plt.legend()\n",
    "plt.xlabel(\"# samples\")\n",
    "plt.ylabel(\"voltage ($\\mu$V)\")"
   ]
  },
  {
   "cell_type": "code",
   "execution_count": null,
   "id": "38280842",
   "metadata": {},
   "outputs": [],
   "source": [
    "si.get_template_metric_names()"
   ]
  },
  {
   "cell_type": "code",
   "execution_count": null,
   "id": "458d7f21",
   "metadata": {},
   "outputs": [],
   "source": [
    "# compute template metrics\n",
    "df_tm = None\n",
    "for i, (trunc_bit, trunc_dict) in enumerate(rec_zarr_dict.items()):\n",
    "    we = trunc_dict[\"we\"]\n",
    "    tm = si.calculate_template_metrics(we, upsample=10)\n",
    "    tm[\"trunc_bits\"] = [trunc_bit] * len(tm)\n",
    "    tm[\"unit_id\"] = tm.index\n",
    "    if df_tm is None:\n",
    "        df_tm = tm\n",
    "    else:\n",
    "        df_tm = pd.concat([df_tm, tm], ignore_index=True)"
   ]
  },
  {
   "cell_type": "code",
   "execution_count": null,
   "id": "7c898299",
   "metadata": {},
   "outputs": [],
   "source": [
    "df_tm"
   ]
  },
  {
   "cell_type": "code",
   "execution_count": null,
   "id": "5fc6d13b",
   "metadata": {},
   "outputs": [],
   "source": [
    "df_tm.query(\"unit_id == 10\")"
   ]
  },
  {
   "cell_type": "code",
   "execution_count": null,
   "id": "a59816c6",
   "metadata": {},
   "outputs": [],
   "source": [
    "ax.legend?"
   ]
  },
  {
   "cell_type": "code",
   "execution_count": null,
   "id": "43675198",
   "metadata": {},
   "outputs": [],
   "source": [
    "fig, ax_ptp = plt.subplots(figsize=(10, 7))\n",
    "sns.scatterplot(data=df_tm, x=\"peak_to_valley\", y=\"half_width\", hue=\"trunc_bits\",\n",
    "                style=\"unit_id\", palette=\"tab20\", ax=ax_ptp)\n",
    "ax_ptp.get_figure().legend(bbox_to_anchor=(0.1, 1.02, 0.2, 1), ncol=len(trunc_bits))\n"
   ]
  },
  {
   "cell_type": "code",
   "execution_count": null,
   "id": "b6906a37",
   "metadata": {},
   "outputs": [],
   "source": [
    "fig, ax_ptp = plt.subplots(figsize=(10, 7))\n",
    "sns.scatterplot(data=df_tm, x=\"repolarization_slope\", y=\"recovery_slope\", hue=\"trunc_bits\",\n",
    "                style=\"unit_id\", palette=\"tab20\", ax=ax_ptp)\n",
    "ax_ptp.get_figure().legend(bbox_to_anchor=(0.1, 1.02, 0.2, 1), ncol=len(trunc_bits))\n"
   ]
  },
  {
   "cell_type": "code",
   "execution_count": null,
   "id": "4f476df7",
   "metadata": {},
   "outputs": [],
   "source": []
  },
  {
   "cell_type": "code",
   "execution_count": null,
   "id": "d43f2024",
   "metadata": {},
   "outputs": [],
   "source": []
  },
  {
   "cell_type": "code",
   "execution_count": null,
   "id": "e61e3c4e",
   "metadata": {},
   "outputs": [],
   "source": [
    "import sys\n",
    "sys.path.append(\"..\")"
   ]
  },
  {
   "cell_type": "code",
   "execution_count": null,
   "id": "9e37ba59",
   "metadata": {},
   "outputs": [],
   "source": [
    "from correct_open_ephys_settings import correct_open_ephys_settings\n",
    "\n",
    "oe_folder = \"/home/alessio/Documents/data/allen/npix-open-ephys/605068_2022-03-04_15-06-32/Record Node 102\""
   ]
  },
  {
   "cell_type": "code",
   "execution_count": null,
   "id": "fdbb8847",
   "metadata": {
    "scrolled": false
   },
   "outputs": [],
   "source": [
    "correct_open_ephys_settings(oe_folder)"
   ]
  },
  {
   "cell_type": "code",
   "execution_count": null,
   "id": "f44dcaff",
   "metadata": {},
   "outputs": [],
   "source": []
  }
 ],
 "metadata": {
  "kernelspec": {
   "display_name": "Python 3 (ipykernel)",
   "language": "python",
   "name": "python3"
  },
  "language_info": {
   "codemirror_mode": {
    "name": "ipython",
    "version": 3
   },
   "file_extension": ".py",
   "mimetype": "text/x-python",
   "name": "python",
   "nbconvert_exporter": "python",
   "pygments_lexer": "ipython3",
   "version": "3.9.11"
  }
 },
 "nbformat": 4,
 "nbformat_minor": 5
}
