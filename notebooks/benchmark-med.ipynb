{
 "cells": [
  {
   "cell_type": "markdown",
   "id": "26b54ce0",
   "metadata": {},
   "source": [
    "# Benchmark MED strategy on experimental data\n"
   ]
  },
  {
   "cell_type": "code",
   "execution_count": null,
   "id": "06790569",
   "metadata": {},
   "outputs": [],
   "source": [
    "import spikeinterface.full as si\n",
    "import probeinterface as pi\n",
    "\n",
    "import matplotlib.pyplot as plt\n",
    "import numpy as np\n",
    "import sys\n",
    "\n",
    "import pandas as pd\n",
    "import seaborn as sns\n",
    "\n",
    "import shutil\n",
    "\n",
    "from pathlib import Path\n",
    "\n",
    "sys.path.append(\"..\")\n",
    "\n",
    "from utils import prettify_axes\n",
    "\n",
    "%matplotlib widget"
   ]
  },
  {
   "cell_type": "code",
   "execution_count": null,
   "id": "850173a2",
   "metadata": {},
   "outputs": [],
   "source": [
    "data_folder = Path(\"/home/alessio/Documents/data/allen/med/\")"
   ]
  },
  {
   "cell_type": "code",
   "execution_count": null,
   "id": "1de8dc93",
   "metadata": {},
   "outputs": [],
   "source": [
    "job_kwargs = dict(n_jobs=10, progress_bar=True, chunk_duration=\"1s\")"
   ]
  },
  {
   "cell_type": "code",
   "execution_count": null,
   "id": "849df9f6",
   "metadata": {},
   "outputs": [],
   "source": [
    "save_fig = True\n",
    "\n",
    "fig_folder = Path(\".\") / \"figures\" / \"med\"\n",
    "fig_folder.mkdir(exist_ok=True, parents=True)"
   ]
  },
  {
   "cell_type": "markdown",
   "id": "ce00606a",
   "metadata": {},
   "source": [
    "# Neuropixels 1.0"
   ]
  },
  {
   "cell_type": "code",
   "execution_count": null,
   "id": "7177def0",
   "metadata": {},
   "outputs": [],
   "source": [
    "np_version = 1\n",
    "\n",
    "np_bin = data_folder / f\"continuous_np{np_version}.dat\"\n",
    "np_med = data_folder / f\"continuous_np{np_version}_lossy.dat\"\n",
    "\n",
    "\n",
    "if np_version == 1:\n",
    "    np_folder = \"/home/alessio/Documents/data/allen/npix-open-ephys/618382_2022-03-31_14-27-03/\"\n",
    "else:\n",
    "    np_folder = \"/home/alessio/Documents/data/allen/npix-open-ephys/595262_2022-02-21_15-18-07\"\n",
    "\n"
   ]
  },
  {
   "cell_type": "code",
   "execution_count": null,
   "id": "158baad6",
   "metadata": {},
   "outputs": [],
   "source": [
    "output_folder = Path(f\"../data/med/np{np_version}\")"
   ]
  },
  {
   "cell_type": "markdown",
   "id": "e5fd1689",
   "metadata": {},
   "source": [
    "### Load recordings"
   ]
  },
  {
   "cell_type": "code",
   "execution_count": null,
   "id": "2b2267bf",
   "metadata": {},
   "outputs": [],
   "source": [
    "num_channels = 384\n",
    "dtype = \"int16\"\n",
    "fs = 30000\n",
    "gain_to_uV = 0.195\n",
    "offset_to_uV = 0"
   ]
  },
  {
   "cell_type": "code",
   "execution_count": null,
   "id": "8820a402",
   "metadata": {},
   "outputs": [],
   "source": [
    "rec = si.read_binary(np_bin, sampling_frequency=fs, num_chan=num_channels, dtype=dtype, \n",
    "                     gain_to_uV=gain_to_uV, offset_to_uV=offset_to_uV)\n",
    "rec_med = si.read_binary(np_lossy, sampling_frequency=fs, num_chan=num_channels, dtype=dtype, \n",
    "                           gain_to_uV=gain_to_uV, offset_to_uV=offset_to_uV)\n",
    "probe = pi.read_openephys(np_folder)\n",
    "rec = rec.set_probe(probe)\n",
    "rec_med = rec_med.set_probe(probe)"
   ]
  },
  {
   "cell_type": "markdown",
   "id": "b9c12ab3",
   "metadata": {},
   "source": [
    "### Visualization"
   ]
  },
  {
   "cell_type": "code",
   "execution_count": null,
   "id": "a175329c",
   "metadata": {},
   "outputs": [],
   "source": [
    "w = si.plot_timeseries(rec, channel_ids=rec.channel_ids[30:40], color=\"k\", \n",
    "                       show_channel_ids=True)\n",
    "si.plot_timeseries(rec_med, channel_ids=rec.channel_ids[30:40], color=\"C0\", \n",
    "                   show_channel_ids=True, ax=w.ax)"
   ]
  },
  {
   "cell_type": "code",
   "execution_count": null,
   "id": "66fff86c",
   "metadata": {},
   "outputs": [],
   "source": [
    "channel_id = 100\n",
    "\n",
    "start_frame = int(30 * fs)\n",
    "end_frame = int(32 * fs)\n",
    "\n",
    "ts = np.arange(start_frame, end_frame) / fs\n",
    "\n",
    "rec_f = si.bandpass_filter(rec)\n",
    "rec_med_f = si.bandpass_filter(rec_med)\n",
    "\n",
    "tr = rec.get_traces(start_frame=start_frame, end_frame=end_frame, channel_ids=[channel_id], \n",
    "                    return_scaled=True)\n",
    "tr_med = rec_med.get_traces(start_frame=start_frame, end_frame=end_frame, channel_ids=[channel_id], \n",
    "                              return_scaled=True)\n",
    "tr_f = rec_f.get_traces(start_frame=start_frame, end_frame=end_frame, channel_ids=[channel_id],\n",
    "                        return_scaled=True)\n",
    "tr_med_f = rec_med_f.get_traces(start_frame=start_frame, end_frame=end_frame, channel_ids=[channel_id],\n",
    "                                return_scaled=True)"
   ]
  },
  {
   "cell_type": "code",
   "execution_count": null,
   "id": "b3f3da08",
   "metadata": {},
   "outputs": [],
   "source": [
    "fig_tr, axs_tr = plt.subplots(nrows=2, figsize=(10, 7))\n",
    "\n",
    "axs_tr[0].plot(ts, tr, color=\"k\", alpha=0.8, label=\"raw\")\n",
    "axs_tr[0].plot(ts, tr_med, color=\"C0\", alpha=0.8, label=\"med\")\n",
    "axs_tr[0].set_title(\"Raw\")\n",
    "axs_tr[0].set_xlabel(\"time (s)\")\n",
    "axs_tr[0].set_ylabel(\"V ($\\mu$ V)\")\n",
    "axs_tr[0].legend()\n",
    "\n",
    "axs_tr[1].plot(ts, tr_f, color=\"k\", alpha=0.8)\n",
    "axs_tr[1].plot(ts, tr_med_f, color=\"C0\", alpha=0.8)\n",
    "axs_tr[1].set_title(\"Filtered\")\n",
    "axs_tr[1].set_xlabel(\"time (s)\")\n",
    "axs_tr[1].set_ylabel(\"V ($\\mu$ V)\")"
   ]
  },
  {
   "cell_type": "markdown",
   "id": "17b060ee",
   "metadata": {},
   "source": [
    "### Run spike sorting"
   ]
  },
  {
   "cell_type": "code",
   "execution_count": null,
   "id": "b3fb1298",
   "metadata": {},
   "outputs": [],
   "source": [
    "sorter_list = [\"kilosort2_5\"]\n",
    "sorter_params = {\"kilosort2_5\": {\"n_jobs_bin\": 10, \"total_memory\": \"2G\"}}"
   ]
  },
  {
   "cell_type": "code",
   "execution_count": null,
   "id": "e96ccb2c",
   "metadata": {},
   "outputs": [],
   "source": [
    "rec_dict = {\"raw\": rec, \"med\": rec_med}\n",
    "\n",
    "if (output_folder / \"sorting_raw\").is_dir():\n",
    "    print(\"Loading sorting outputs\")\n",
    "    sorting_raw = si.load_extractor(output_folder / \"sorting_raw\")\n",
    "    sorting_med = si.load_extractor(output_folder / \"sorting_med\")\n",
    "    sort_dict = {\"raw\": sorting_raw, \"med\": sorting_med}\n",
    "else:\n",
    "    working_folder=output_folder / \"working\"\n",
    "    if output_folder.is_dir():\n",
    "        shutil.rmtree(working_folder)\n",
    "    print(f\"Running spike sorting with {sorter_list}\")\n",
    "    sortings = si.run_sorters(sorter_list=sorter_list, recording_dict_or_list=rec_dict, \n",
    "                              working_folder=working_folder, sorter_params=sorter_params,\n",
    "                              verbose=False, mode_if_folder_exists=\"keep\")\n",
    "\n",
    "    # dump sortings\n",
    "    sort_dict = {}\n",
    "    for name, sorting in sortings.items():\n",
    "        rec_name, _ = name\n",
    "        sort = sorting.save(folder=output_folder / f\"sorting_{rec_name}\")\n",
    "        sort_dict[rec_name] = sort\n",
    "    # clean up\n",
    "    shutil.rmtree(working_folder)\n",
    "\n",
    "print(sort_dict)"
   ]
  },
  {
   "cell_type": "code",
   "execution_count": null,
   "id": "80795658",
   "metadata": {},
   "outputs": [],
   "source": [
    "sorting_raw = sort_dict['raw']\n",
    "sorting_med = sort_dict['med']"
   ]
  },
  {
   "cell_type": "code",
   "execution_count": null,
   "id": "534c7318",
   "metadata": {},
   "outputs": [],
   "source": [
    "sorting_raw.unit_ids"
   ]
  },
  {
   "cell_type": "code",
   "execution_count": null,
   "id": "8640a646",
   "metadata": {},
   "outputs": [],
   "source": [
    "# only keep good ones:\n",
    "selected_units = sorting_raw.unit_ids[sorting_raw.get_property('KSLabel')==\"good\"]\n",
    "sorting_good = sorting_raw.select_units(unit_ids=selected_units)\n",
    "sorting_good"
   ]
  },
  {
   "cell_type": "markdown",
   "id": "8499fa94",
   "metadata": {},
   "source": [
    "### Waveforms and waveform features\n",
    "\n",
    "Here we extract waveforms using the \"good\" sorting output from the original raw data:"
   ]
  },
  {
   "cell_type": "code",
   "execution_count": null,
   "id": "f7ea7964",
   "metadata": {},
   "outputs": [],
   "source": [
    "we_raw = si.extract_waveforms(rec_f, sorting_good, output_folder / \"wf_raw\", \n",
    "                              load_if_exists=True, ms_after=5, **job_kwargs)\n",
    "we_med = si.extract_waveforms(rec_med_f, sorting_good, output_folder / \"wf_med\", \n",
    "                              load_if_exists=True, ms_after=5, **job_kwargs)"
   ]
  },
  {
   "cell_type": "code",
   "execution_count": null,
   "id": "7c266cb1",
   "metadata": {},
   "outputs": [],
   "source": [
    "unit_idxs = [0, 1, 2, 3, 4, 5, 6]"
   ]
  },
  {
   "cell_type": "code",
   "execution_count": null,
   "id": "fa12ffaf",
   "metadata": {},
   "outputs": [],
   "source": [
    "fig_u, ax_u = plt.subplots(nrows=len(unit_idxs), figsize=(7, 15))\n",
    "\n",
    "for i, unit_idx in enumerate(unit_idxs):\n",
    "    ax = ax_u[i]\n",
    "    unit_id = we_raw.sorting.unit_ids[unit_idx]\n",
    "    si.plot_unit_templates(we_raw, unit_ids=[unit_id], unit_colors={unit_id: \"k\"}, axes=[ax], radius_um=100)\n",
    "    ax.get_lines()[-1].set_label(\"raw\")\n",
    "\n",
    "    si.plot_unit_templates(we_med, unit_ids=[unit_id], unit_colors={unit_id: \"C0\"}, \n",
    "                           axes=[ax], radius_um=100)\n",
    "    ax.get_lines()[-1].set_label(f\"med\")\n",
    "    if i == len(unit_idxs) // 2:\n",
    "        ax.legend(bbox_to_anchor=(1.2, 0.2))\n",
    "\n",
    "fig_u.subplots_adjust(hspace=0.5, right=0.8)"
   ]
  },
  {
   "cell_type": "code",
   "execution_count": null,
   "id": "33e05454",
   "metadata": {},
   "outputs": [],
   "source": [
    "template_metrics = si.get_template_metric_names()"
   ]
  },
  {
   "cell_type": "code",
   "execution_count": null,
   "id": "11a904c2",
   "metadata": {},
   "outputs": [],
   "source": [
    "sparsity_dict = dict(method=\"radius\", radius_um=30)\n",
    "\n",
    "# compute template metrics\n",
    "df_tm = None\n",
    "\n",
    "tm = si.calculate_template_metrics(we_raw, upsample=10,\n",
    "                                   sparsity_dict=sparsity_dict)\n",
    "tm_med = si.calculate_template_metrics(we_med, upsample=10,\n",
    "                                       sparsity_dict=sparsity_dict)\n",
    "\n",
    "if sparsity_dict is None:\n",
    "    tm[\"unit_id\"] = tm.index\n",
    "    tm[\"rank\"] = [\"0\"] * len(tm)\n",
    "else:\n",
    "    tm[\"unit_id\"] = tm.index.to_frame()[\"unit_id\"].values\n",
    "    tm[\"channel_id\"] = tm.index.to_frame()[\"channel_id\"].values\n",
    "\n",
    "    # add channel rank\n",
    "    for unit_id in np.unique(tm.unit_id):\n",
    "        if isinstance(unit_id, str):\n",
    "            tm_unit = tm.query(f\"unit_id == '{unit_id}'\")\n",
    "        else:\n",
    "            tm_unit = tm.query(f\"unit_id == {unit_id}\")\n",
    "        \n",
    "        i = 0\n",
    "        for index, row in tm_unit.iterrows():\n",
    "            tm.at[index, \"rank\"] = str(i)\n",
    "            i += 1\n",
    "\n",
    "for metric in template_metrics:\n",
    "    tm[f\"{metric}_med\"] = tm_med[metric]"
   ]
  },
  {
   "cell_type": "code",
   "execution_count": null,
   "id": "7f54b52e",
   "metadata": {},
   "outputs": [],
   "source": [
    "ranks = np.unique(tm[\"rank\"])"
   ]
  },
  {
   "cell_type": "code",
   "execution_count": null,
   "id": "38cbc0b6",
   "metadata": {},
   "outputs": [],
   "source": [
    "fig_m, axs_m = plt.subplots(nrows=len(template_metrics), ncols=len(ranks), figsize=(10, 12))\n",
    "\n",
    "for i, metric in enumerate(template_metrics):\n",
    "    for j, rank in enumerate(ranks):\n",
    "        sns.scatterplot(data=tm.query(f\"rank == '{rank}'\"), x=metric, y=f\"{metric}_med\", ax=axs_m[i, j])\n",
    "        axs_m[i, j].set_yticks([])\n",
    "        axs_m[i, j].set_xticks([])\n",
    "        axs_m[i, j].set_xlabel(\"\")\n",
    "        axs_m[i, j].set_ylabel(\"\")\n",
    "        axs_m[i, j].axis(\"equal\")\n",
    "        if i == 0:\n",
    "            axs_m[i, j].set_title(f\"Rank {rank}\")\n",
    "        if i == len(template_metrics) - 1:\n",
    "            axs_m[i, j].set_xlabel(f\"(raw)\")\n",
    "        if j == 0:\n",
    "            axs_m[i, j].set_ylabel(f\"{metric}\\n(med)\")\n",
    "        \n",
    "fig_m.subplots_adjust(wspace=0.5, hspace=0.3)"
   ]
  },
  {
   "cell_type": "markdown",
   "id": "a6590d54",
   "metadata": {},
   "source": [
    "### Spike sorting comparison"
   ]
  },
  {
   "cell_type": "code",
   "execution_count": null,
   "id": "5f50bf56",
   "metadata": {},
   "outputs": [],
   "source": [
    "print(sorting_raw, sorting_med)"
   ]
  },
  {
   "cell_type": "code",
   "execution_count": null,
   "id": "f5f862be",
   "metadata": {},
   "outputs": [],
   "source": [
    "sortings_med_good = sortings_med.select_units(unit_ids=sortings_med.unit_ids[sortings_med.get_property('KSLabel')==\"good\"])\n",
    "sortings_med_good"
   ]
  },
  {
   "cell_type": "code",
   "execution_count": null,
   "id": "c481a113",
   "metadata": {},
   "outputs": [],
   "source": [
    "cmp = si.compare_sorter_to_ground_truth(sortings_good, sortings_med)"
   ]
  },
  {
   "cell_type": "code",
   "execution_count": null,
   "id": "92e99865",
   "metadata": {},
   "outputs": [],
   "source": [
    "fig_p, axs_p = plt.subplots(ncols=3)\n",
    "sns.swarmplot(y=cmp.get_performance()[\"accuracy\"], ax=axs_p[0], color=\"g\")\n",
    "sns.swarmplot(y=cmp.get_performance()[\"precision\"], ax=axs_p[1], color=\"b\")\n",
    "sns.swarmplot(y=cmp.get_performance()[\"recall\"], ax=axs_p[2], color=\"r\")"
   ]
  },
  {
   "cell_type": "code",
   "execution_count": null,
   "id": "80b112d4",
   "metadata": {},
   "outputs": [],
   "source": [
    "good_detection_thr = 0.95"
   ]
  },
  {
   "cell_type": "code",
   "execution_count": null,
   "id": "f2c84bcc",
   "metadata": {},
   "outputs": [],
   "source": [
    "well_detected_fraction = np.round(len(cmp.get_well_detected_units(good_detection_thr)) / len(sortings_good.unit_ids),2)\n",
    "print(f\"Fraction of well detected units from MED: {well_detected_fraction}\")"
   ]
  },
  {
   "cell_type": "markdown",
   "id": "520d20b9",
   "metadata": {},
   "source": [
    "# Neuropixels 2.0"
   ]
  },
  {
   "cell_type": "code",
   "execution_count": null,
   "id": "ca751f70",
   "metadata": {},
   "outputs": [],
   "source": [
    "np_version = 2\n",
    "\n",
    "np_bin = data_folder / f\"continuous_np{np_version}.dat\"\n",
    "np_med = data_folder / f\"continuous_np{np_version}_lossy.dat\"\n",
    "\n",
    "\n",
    "if np_version == 1:\n",
    "    np_folder = \"/home/alessio/Documents/data/allen/npix-open-ephys/618382_2022-03-31_14-27-03/\"\n",
    "else:\n",
    "    np_folder = \"/home/alessio/Documents/data/allen/npix-open-ephys/595262_2022-02-21_15-18-07\"\n",
    "\n"
   ]
  },
  {
   "cell_type": "code",
   "execution_count": null,
   "id": "404ef041",
   "metadata": {},
   "outputs": [],
   "source": [
    "output_folder = Path(f\"../data/med/np{np_version}\")"
   ]
  },
  {
   "cell_type": "markdown",
   "id": "cb4bacaa",
   "metadata": {},
   "source": [
    "### Load recordings"
   ]
  },
  {
   "cell_type": "code",
   "execution_count": null,
   "id": "14db5380",
   "metadata": {},
   "outputs": [],
   "source": [
    "num_channels = 384\n",
    "dtype = \"int16\"\n",
    "fs = 30000\n",
    "gain_to_uV = 0.195\n",
    "offset_to_uV = 0"
   ]
  },
  {
   "cell_type": "code",
   "execution_count": null,
   "id": "364728ca",
   "metadata": {},
   "outputs": [],
   "source": [
    "rec = si.read_binary(np_bin, sampling_frequency=fs, num_chan=num_channels, dtype=dtype, \n",
    "                     gain_to_uV=gain_to_uV, offset_to_uV=offset_to_uV)\n",
    "rec_med = si.read_binary(np_med, sampling_frequency=fs, num_chan=num_channels, dtype=dtype, \n",
    "                         gain_to_uV=gain_to_uV, offset_to_uV=offset_to_uV)\n",
    "probe = pi.read_openephys(np_folder)\n",
    "rec = rec.set_probe(probe)\n",
    "rec_med = rec_med.set_probe(probe)"
   ]
  },
  {
   "cell_type": "markdown",
   "id": "a5f1466a",
   "metadata": {},
   "source": [
    "### Visualization"
   ]
  },
  {
   "cell_type": "code",
   "execution_count": null,
   "id": "78ca0a9d",
   "metadata": {},
   "outputs": [],
   "source": [
    "w = si.plot_timeseries(rec, channel_ids=rec.channel_ids[30:40], color=\"k\", \n",
    "                       show_channel_ids=True)\n",
    "si.plot_timeseries(rec_med, channel_ids=rec.channel_ids[30:40], color=\"C0\", \n",
    "                   show_channel_ids=True, ax=w.ax)"
   ]
  },
  {
   "cell_type": "code",
   "execution_count": null,
   "id": "974a9511",
   "metadata": {},
   "outputs": [],
   "source": [
    "channel_id = 190\n",
    "\n",
    "start_frame = int(30 * fs)\n",
    "end_frame = int(32 * fs)\n",
    "\n",
    "ts = np.arange(start_frame, end_frame) / fs\n",
    "\n",
    "rec_f = si.bandpass_filter(rec)\n",
    "rec_med_f = si.bandpass_filter(rec_med)\n",
    "\n",
    "tr = rec.get_traces(start_frame=start_frame, end_frame=end_frame, channel_ids=[channel_id], \n",
    "                    return_scaled=True)\n",
    "tr_med = rec_med.get_traces(start_frame=start_frame, end_frame=end_frame, channel_ids=[channel_id], \n",
    "                              return_scaled=True)\n",
    "tr_f = rec_f.get_traces(start_frame=start_frame, end_frame=end_frame, channel_ids=[channel_id],\n",
    "                        return_scaled=True)\n",
    "tr_med_f = rec_med_f.get_traces(start_frame=start_frame, end_frame=end_frame, channel_ids=[channel_id],\n",
    "                                return_scaled=True)"
   ]
  },
  {
   "cell_type": "code",
   "execution_count": null,
   "id": "20073cb1",
   "metadata": {},
   "outputs": [],
   "source": [
    "fig_tr, axs_tr = plt.subplots(nrows=2, figsize=(10, 7))\n",
    "\n",
    "axs_tr[0].plot(ts, tr, color=\"k\", alpha=0.8, label=\"raw\")\n",
    "axs_tr[0].plot(ts, tr_med, color=\"C0\", alpha=0.8, label=\"med\")\n",
    "axs_tr[0].set_title(\"Raw\")\n",
    "# axs_tr[0].set_xlabel(\"time (s)\")\n",
    "axs_tr[0].set_ylabel(\"V ($\\mu$ V)\")\n",
    "axs_tr[0].legend()\n",
    "\n",
    "axs_tr[1].plot(ts, tr_f, color=\"k\", alpha=0.8)\n",
    "axs_tr[1].plot(ts, tr_med_f, color=\"C0\", alpha=0.8)\n",
    "axs_tr[1].set_title(\"Filtered\")\n",
    "axs_tr[1].set_xlabel(\"time (s)\")\n",
    "axs_tr[1].set_ylabel(\"V ($\\mu$ V)\")\n",
    "\n",
    "prettify_axes(axs_tr)\n",
    "fig_tr.subplots_adjust(hspace=0.3)"
   ]
  },
  {
   "cell_type": "code",
   "execution_count": null,
   "id": "43dabd67",
   "metadata": {},
   "outputs": [],
   "source": [
    "if save_fig:\n",
    "    fig_tr.savefig(fig_folder / f\"med_traces_np{np_version}.pdf\")"
   ]
  },
  {
   "cell_type": "markdown",
   "id": "ddf7700b",
   "metadata": {},
   "source": [
    "### Run spike sorting"
   ]
  },
  {
   "cell_type": "code",
   "execution_count": null,
   "id": "7a98bb06",
   "metadata": {},
   "outputs": [],
   "source": [
    "sorter_list = [\"kilosort2_5\"]\n",
    "sorter_params = {\"kilosort2_5\": {\"n_jobs_bin\": 10, \"total_memory\": \"2G\"}}"
   ]
  },
  {
   "cell_type": "code",
   "execution_count": null,
   "id": "2992131b",
   "metadata": {},
   "outputs": [],
   "source": [
    "rec_dict = {\"raw\": rec, \"med\": rec_med}\n",
    "\n",
    "if (output_folder / \"sorting_raw\").is_dir():\n",
    "    sorting_raw = si.load_extractor(output_folder / \"sorting_raw\")\n",
    "    sorting_med = si.load_extractor(output_folder / \"sorting_med\")\n",
    "    sort_dict = {\"raw\": sorting_raw, \"med\": sorting_med}\n",
    "else:\n",
    "    working_folder=output_folder / \"working\"\n",
    "    if output_folder.is_dir():\n",
    "        shutil.rmtree(working_folder)\n",
    "    print(f\"Running spike sorting with {sorter_list}\")\n",
    "    sortings = si.run_sorters(sorter_list=sorter_list, recording_dict_or_list=rec_dict, \n",
    "                              working_folder=working_folder, sorter_params=sorter_params,\n",
    "                              verbose=False, mode_if_folder_exists=\"keep\")\n",
    "\n",
    "    # dump sortings\n",
    "    sort_dict = {}\n",
    "    for name, sorting in sortings.items():\n",
    "        rec_name, _ = name\n",
    "        sort = sorting.save(folder=output_folder / f\"sorting_{rec_name}\")\n",
    "        sort_dict[rec_name] = sort\n",
    "\n",
    "    # clean up\n",
    "    shutil.rmtree(working_folder)\n",
    "\n",
    "print(sort_dict)"
   ]
  },
  {
   "cell_type": "code",
   "execution_count": null,
   "id": "d66331c6",
   "metadata": {},
   "outputs": [],
   "source": [
    "sorting_raw = sort_dict['raw']\n",
    "sorting_med = sort_dict['med']"
   ]
  },
  {
   "cell_type": "code",
   "execution_count": null,
   "id": "7ad00983",
   "metadata": {},
   "outputs": [],
   "source": [
    "# only keep good ones:\n",
    "selected_units = sorting_raw.unit_ids[sorting_raw.get_property('KSLabel')==\"good\"]\n",
    "sorting_good = sorting_raw.select_units(unit_ids=selected_units)\n",
    "sorting_good"
   ]
  },
  {
   "cell_type": "markdown",
   "id": "3250f6e6",
   "metadata": {},
   "source": [
    "### Waveforms and waveform features\n",
    "\n",
    "Here we extract waveforms using the \"good\" sorting output from the original raw data:"
   ]
  },
  {
   "cell_type": "code",
   "execution_count": null,
   "id": "0c13afa0",
   "metadata": {},
   "outputs": [],
   "source": [
    "we_raw = si.extract_waveforms(rec_f, sorting_good, output_folder / \"wf_raw\", \n",
    "                              load_if_exists=True, ms_after=5, **job_kwargs)\n",
    "we_med = si.extract_waveforms(rec_med_f, sorting_good, output_folder / \"wf_med\", \n",
    "                              load_if_exists=True, ms_after=5, **job_kwargs)\n",
    "\n",
    "we_dict = {\"raw\": we_raw, \"med\": we_med}"
   ]
  },
  {
   "cell_type": "code",
   "execution_count": null,
   "id": "99f4d14c",
   "metadata": {},
   "outputs": [],
   "source": [
    "unit_idxs = [0, 1, 2, 3, 4, 5, 6, 7]"
   ]
  },
  {
   "cell_type": "code",
   "execution_count": null,
   "id": "1f48208a",
   "metadata": {},
   "outputs": [],
   "source": [
    "fig_u, ax_u = plt.subplots(nrows=2, ncols=len(unit_idxs) // 2, figsize=(15, 10))\n",
    "\n",
    "ax_u = ax_u.flatten()\n",
    "for i, unit_idx in enumerate(unit_idxs):\n",
    "    ax = ax_u[i]\n",
    "    unit_id = we_raw.sorting.unit_ids[unit_idx]\n",
    "    si.plot_unit_templates(we_raw, unit_ids=[unit_id], unit_colors={unit_id: \"k\"}, axes=[ax], radius_um=100,\n",
    "                           lw=3)\n",
    "    ax.get_lines()[-1].set_label(\"raw\")\n",
    "\n",
    "    si.plot_unit_templates(we_med, unit_ids=[unit_id], unit_colors={unit_id: \"C0\"}, \n",
    "                           axes=[ax], radius_um=100)\n",
    "    ax.get_lines()[-1].set_label(f\"med\")\n",
    "    if i == len(unit_idxs) // 2:\n",
    "        ax.legend(bbox_to_anchor=(1.2, 0.2))\n",
    "\n",
    "fig_u.subplots_adjust(hspace=0.5, right=0.8)\n",
    "prettify_axes(ax_u)"
   ]
  },
  {
   "cell_type": "code",
   "execution_count": null,
   "id": "15df32e2",
   "metadata": {},
   "outputs": [],
   "source": [
    "if save_fig:\n",
    "    fig_u.savefig(fig_folder / f\"med_templates_np{np_version}.pdf\")"
   ]
  },
  {
   "cell_type": "code",
   "execution_count": null,
   "id": "65aecb08",
   "metadata": {},
   "outputs": [],
   "source": [
    "template_metrics = si.get_template_metric_names()"
   ]
  },
  {
   "cell_type": "code",
   "execution_count": null,
   "id": "481a81f7",
   "metadata": {},
   "outputs": [],
   "source": [
    "# find channels for each \"GT\" unit\n",
    "target_distances = [0, 30, 60, 90]\n",
    "\n",
    "extremum_channels = si.get_template_extremum_channel(we_raw)\n",
    "rec_locs = rec.get_channel_locations()\n",
    "\n",
    "sparsity = {}\n",
    "for unit, main_ch in extremum_channels.items():\n",
    "    channels_by_dist[unit] = []\n",
    "    main_ch_idx = rec.id_to_index(main_ch)\n",
    "    \n",
    "    # compute distances\n",
    "    main_loc = rec_locs[main_ch_idx]\n",
    "    distances = np.array([np.linalg.norm(loc - main_loc) for loc in rec_locs])\n",
    "    distances_sort_idxs = np.argsort(distances)\n",
    "    distances_sorted = distances[distances_sort_idxs]\n",
    "    dist_idxs = np.searchsorted(distances_sorted, target_distances)\n",
    "    selected_channel_idxs = distances_sort_idxs[dist_idxs]\n",
    "    sparsity[unit] = rec.channel_ids[selected_channel_idxs]"
   ]
  },
  {
   "cell_type": "code",
   "execution_count": null,
   "id": "357a2dcf",
   "metadata": {},
   "outputs": [],
   "source": [
    "# compute template metrics\n",
    "df_tm = None\n",
    "for we_name, we in we_dict.items():\n",
    "    print(f\"Calculating template metrics for {we_name}\")\n",
    "    tm = si.calculate_template_metrics(we, upsample=10,\n",
    "                                       sparsity=sparsity)\n",
    "    tm[\"name\"] = [we_name] * len(tm)\n",
    "    if sparsity is None:\n",
    "        tm[\"unit_id\"] = tm.index\n",
    "        tm[\"distance\"] = [0] * len(tm)\n",
    "    else:\n",
    "        tm[\"unit_id\"] = tm.index.to_frame()[\"unit_id\"].values\n",
    "        tm[\"channel_id\"] = tm.index.to_frame()[\"channel_id\"].values\n",
    "\n",
    "        # add channel rank\n",
    "        for unit_id in np.unique(tm.unit_id):\n",
    "            if isinstance(unit_id, str):\n",
    "                tm_unit = tm.query(f\"unit_id == '{unit_id}'\")\n",
    "            else:\n",
    "                tm_unit = tm.query(f\"unit_id == {unit_id}\")\n",
    "                \n",
    "            loc_main = rec.get_channel_locations(channel_ids=[extremum_channels[unit_id]])[0]\n",
    "            for index, row in tm_unit.iterrows():\n",
    "                loc = rec.get_channel_locations(channel_ids=[row[\"channel_id\"]])[0]\n",
    "                distance = np.linalg.norm(loc - loc_main)\n",
    "                tm.at[index, \"distance\"] = distance\n",
    "\n",
    "    if we_name == \"raw\":\n",
    "        df_tm = tm\n",
    "    else:\n",
    "        for metric in template_metrics:\n",
    "            df_tm[f\"{metric}_med\"] = tm[metric]\n"
   ]
  },
  {
   "cell_type": "code",
   "execution_count": null,
   "id": "ed0c67a8",
   "metadata": {},
   "outputs": [],
   "source": [
    "distances = np.unique(df_tm[\"distance\"])\n",
    "print(distances)"
   ]
  },
  {
   "cell_type": "code",
   "execution_count": null,
   "id": "02183609",
   "metadata": {},
   "outputs": [],
   "source": [
    "fig_m, axs_m = plt.subplots(nrows=len(template_metrics), ncols=len(distances), figsize=(15, 10))\n",
    "\n",
    "for i, metric in enumerate(template_metrics):\n",
    "    for j, dist in enumerate(distances):\n",
    "        tm_dist = df_tm.query(f\"distance == {dist}\")\n",
    "        sns.scatterplot(data=tm_dist, x=metric, y=f\"{metric}_med\", \n",
    "                        color=f\"C{j}\",\n",
    "                        ax=axs_m[i, j])\n",
    "        axs_m[i, j].set_yticks([])\n",
    "        axs_m[i, j].set_xticks([])\n",
    "        axs_m[i, j].set_xlabel(\"\")\n",
    "        axs_m[i, j].set_ylabel(\"\")\n",
    "        lims = [np.min(tm_dist[metric]) - 0.2 * np.ptp(tm_dist[metric]), \n",
    "                np.max(tm_dist[metric]) + 0.2 * np.ptp(tm_dist[metric])]\n",
    "        axs_m[i, j].plot(lims, lims, color=\"grey\", alpha=0.7, ls=\"--\")\n",
    "        axs_m[i, j].axis(\"equal\")\n",
    "        if i == 0:\n",
    "            axs_m[i, j].set_title(f\"Dist: {int(dist)} $\\mu$m\")\n",
    "        if i == len(template_metrics) - 1:\n",
    "            axs_m[i, j].set_xlabel(f\"(raw)\")\n",
    "        if j == 0:\n",
    "            axs_m[i, j].set_ylabel(f\"{metric}\\n(med)\")\n",
    "\n",
    "prettify_axes(axs_m, label_fs=11)\n",
    "fig_m.subplots_adjust(wspace=0.1, hspace=0.3)"
   ]
  },
  {
   "cell_type": "code",
   "execution_count": null,
   "id": "97df93b8",
   "metadata": {},
   "outputs": [],
   "source": [
    "if save_fig:\n",
    "    fig_m.savefig(fig_folder / f\"med_features_np{np_version}.pdf\")"
   ]
  },
  {
   "cell_type": "markdown",
   "id": "46a8bdfc",
   "metadata": {},
   "source": [
    "### Spike sorting comparison"
   ]
  },
  {
   "cell_type": "code",
   "execution_count": null,
   "id": "47d56089",
   "metadata": {},
   "outputs": [],
   "source": [
    "print(sorting_raw, sorting_med)"
   ]
  },
  {
   "cell_type": "code",
   "execution_count": null,
   "id": "123baaf7",
   "metadata": {},
   "outputs": [],
   "source": [
    "selected_units = sorting_med.unit_ids[sorting_med.get_property('KSLabel')==\"good\"]\n",
    "sorting_med_good = sorting_med.select_units(unit_ids=selected_units)\n",
    "sorting_med_good"
   ]
  },
  {
   "cell_type": "code",
   "execution_count": null,
   "id": "289bd599",
   "metadata": {},
   "outputs": [],
   "source": [
    "print(sorting_good, sorting_med_good)"
   ]
  },
  {
   "cell_type": "code",
   "execution_count": null,
   "id": "40e34407",
   "metadata": {},
   "outputs": [],
   "source": [
    "cmp = si.compare_sorter_to_ground_truth(sorting_good, sorting_med_good)"
   ]
  },
  {
   "cell_type": "code",
   "execution_count": null,
   "id": "8e2321c0",
   "metadata": {},
   "outputs": [],
   "source": [
    "fig_p, axs_p = plt.subplots(ncols=3, figsize=(15, 6))\n",
    "sns.swarmplot(y=cmp.get_performance()[\"accuracy\"], ax=axs_p[0], color=\"g\")\n",
    "sns.swarmplot(y=cmp.get_performance()[\"precision\"], ax=axs_p[1], color=\"b\")\n",
    "sns.swarmplot(y=cmp.get_performance()[\"recall\"], ax=axs_p[2], color=\"r\")\n",
    "prettify_axes(axs_p, label_fs=18)\n",
    "fig_p.subplots_adjust(wspace=0.3)"
   ]
  },
  {
   "cell_type": "code",
   "execution_count": null,
   "id": "4c7e449c",
   "metadata": {},
   "outputs": [],
   "source": [
    "if save_fig:\n",
    "    fig_p.savefig(fig_folder / f\"med_ss_np{np_version}.pdf\")"
   ]
  },
  {
   "cell_type": "code",
   "execution_count": null,
   "id": "6974f7dc",
   "metadata": {},
   "outputs": [],
   "source": [
    "good_detection_thr = 0.9"
   ]
  },
  {
   "cell_type": "code",
   "execution_count": null,
   "id": "e9408857",
   "metadata": {},
   "outputs": [],
   "source": [
    "well_detected_fraction = np.round(len(cmp.get_well_detected_units(good_detection_thr)) / len(sorting_good.unit_ids),2)\n",
    "print(f\"Fraction of well detected units from MED: {well_detected_fraction}\")"
   ]
  },
  {
   "cell_type": "markdown",
   "id": "833ea9fa",
   "metadata": {},
   "source": [
    "## Conclusion\n",
    "\n",
    "In its current form, MED is too lossy and it strongly affects downstream analysis, both in terms of waveform shapes and in terms of the performance of spike sorting."
   ]
  }
 ],
 "metadata": {
  "kernelspec": {
   "display_name": "Python 3 (ipykernel)",
   "language": "python",
   "name": "python3"
  },
  "language_info": {
   "codemirror_mode": {
    "name": "ipython",
    "version": 3
   },
   "file_extension": ".py",
   "mimetype": "text/x-python",
   "name": "python",
   "nbconvert_exporter": "python",
   "pygments_lexer": "ipython3",
   "version": "3.9.11"
  }
 },
 "nbformat": 4,
 "nbformat_minor": 5
}
