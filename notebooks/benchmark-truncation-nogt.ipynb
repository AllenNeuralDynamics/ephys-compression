{
 "cells": [
  {
   "cell_type": "code",
   "execution_count": null,
   "id": "cc97da1c",
   "metadata": {},
   "outputs": [],
   "source": [
    "import pandas as pd\n",
    "import seaborn as sns\n",
    "import matplotlib.pyplot as plt\n",
    "import numpy as np\n",
    "from pathlib import Path\n",
    "\n",
    "import spikeinterface.full as si\n",
    "\n",
    "%matplotlib notebook"
   ]
  },
  {
   "cell_type": "code",
   "execution_count": null,
   "id": "67c65c45",
   "metadata": {},
   "outputs": [],
   "source": [
    "save_fig = False\n",
    "\n",
    "fig_folder = Path(\".\") / \"figures\"\n",
    "fig_folder.mkdir(exist_ok=True)"
   ]
  },
  {
   "cell_type": "code",
   "execution_count": null,
   "id": "95d54b34",
   "metadata": {},
   "outputs": [],
   "source": [
    "res = pd.read_csv(\"../data/benchmark-truncation-nogt.csv\", index_col=False)"
   ]
  },
  {
   "cell_type": "code",
   "execution_count": null,
   "id": "2ff4bab5",
   "metadata": {},
   "outputs": [],
   "source": [
    "# plot some traces\n",
    "res_np1 = res.query(\"probe == 'Neuropixels1.0'\")\n",
    "res_np2 = res.query(\"probe == 'Neuropixels2.0'\")"
   ]
  },
  {
   "cell_type": "code",
   "execution_count": null,
   "id": "8906986a",
   "metadata": {},
   "outputs": [],
   "source": [
    "res"
   ]
  },
  {
   "cell_type": "markdown",
   "id": "f0f5e335",
   "metadata": {},
   "source": [
    "## Spike sorting results\n",
    "\n",
    "### Neuropixels 1"
   ]
  },
  {
   "cell_type": "code",
   "execution_count": null,
   "id": "9d189469",
   "metadata": {},
   "outputs": [],
   "source": [
    "fig_np1, axs_np1 = plt.subplots(ncols=2)\n",
    "ax = axs_np1[0]\n",
    "sns.pointplot(data=res_np1, x=\"trunc_bit\", y=\"CR\", ax=ax, color=\"C1\")\n",
    "ax.spines[\"top\"].set_visible(False)\n",
    "ax.spines[\"right\"].set_visible(False)\n",
    "ax = axs_np1[1]\n",
    "sns.pointplot(data=res_np1, x=\"trunc_bit\", y=\"rmse\", ax=ax, color=\"C1\")\n",
    "ax.spines[\"top\"].set_visible(False)\n",
    "ax.spines[\"right\"].set_visible(False)\n",
    "\n",
    "fig_np1.suptitle(\"Neuropixels 1.0\", fontsize=15)"
   ]
  },
  {
   "cell_type": "code",
   "execution_count": null,
   "id": "6587ae06",
   "metadata": {},
   "outputs": [],
   "source": [
    "rec_file = \"/home/alessio/Documents/data/allen/npix-open-ephys/618382_2022-03-31_14-27-03/Record Node 102\"\n",
    "rec_exp = si.read_openephys(rec_file, stream_id=\"0\")\n",
    "rec_exp = si.split_recording(rec_exp)[0]   \n",
    "print(rec_exp)  "
   ]
  },
  {
   "cell_type": "code",
   "execution_count": null,
   "id": "a4fb036f",
   "metadata": {},
   "outputs": [],
   "source": [
    "channel_index = 200\n",
    "nsec = 2\n",
    "t_start = 30\n",
    "time_range = [t_start, t_start + nsec]\n",
    "timestamps = np.linspace(time_range[0], time_range[1], int(nsec * 30000))\n",
    "\n",
    "fig_np1, axs = plt.subplots(nrows=3, sharex=True, sharey=False)\n",
    "\n",
    "traces_exp = rec_exp.get_traces(start_frame=start_frame, end_frame=end_frame,\n",
    "                                channel_ids=channel_ids, return_scaled=True)[:, 0]\n",
    "\n",
    "axs[0].plot(timestamps, traces_exp, color=\"k\", alpha=0.8, label=\"GT\")\n",
    "\n",
    "for index, row in res_np1.iterrows():\n",
    "    trunc_bit = row[\"trunc_bit\"]\n",
    "    rec_zarr = si.read_zarr(row[\"rec_zarr_path\"])\n",
    "    rec_zarr = si.scale(rec_zarr, gain=row.lsb_value, dtype=rec_zarr.get_dtype())\n",
    "    rec_f = si.bandpass_filter(rec_zarr)\n",
    "    fs = rec_zarr.get_sampling_frequency()\n",
    "\n",
    "    start_frame = int(time_range[0] *fs)\n",
    "    end_frame = int(time_range[1] *fs)\n",
    "\n",
    "    channel_ids = [rec_zarr.channel_ids[channel_index]]\n",
    "\n",
    "    traces = rec_zarr.get_traces(start_frame=start_frame, end_frame=end_frame,\n",
    "                                 channel_ids=channel_ids, return_scaled=True)[:, 0]\n",
    "    traces_f = rec_f.get_traces(start_frame=start_frame, end_frame=end_frame,\n",
    "                                channel_ids=channel_ids, return_scaled=True)[:, 0]\n",
    "    axs[1].plot(timestamps, traces, color=f\"C{trunc_bit}\", alpha=0.8, label=trunc_bit)\n",
    "    axs[2].plot(timestamps, traces_f, color=f\"C{trunc_bit}\", alpha=0.8, label=trunc_bit)    \n",
    "axs[1].legend()\n",
    "fig_np1.suptitle(\"Neuropixels 1.0\", fontsize=15)"
   ]
  },
  {
   "cell_type": "code",
   "execution_count": null,
   "id": "0f9822ec",
   "metadata": {},
   "outputs": [],
   "source": [
    "sorting_list_np1 = []\n",
    "sorting_curated_list_np1 = []\n",
    "sorter_names_np1 = []\n",
    "\n",
    "for index, row in res_np1.iterrows():\n",
    "    sort = si.load_extractor(row.sort_path)\n",
    "    sort_curated = si.load_extractor(row.sort_curated_path)\n",
    "    rec_name = f\"bit{row.trunc_bit}\"\n",
    "    \n",
    "    sorting_list_np1.append(sort)\n",
    "    sorting_curated_list_np1.append(sort_curated)\n",
    "    sorter_names_np1.append(rec_name)\n",
    "    \n",
    "    res_np1.loc[index, \"num_units\"] = len(sort.unit_ids)\n",
    "    res_np1.loc[index, \"num_units_curated\"] = len(sort_curated.unit_ids)     "
   ]
  },
  {
   "cell_type": "code",
   "execution_count": null,
   "id": "f3c71b4b",
   "metadata": {
    "scrolled": true
   },
   "outputs": [],
   "source": [
    "mcmp_np1 = si.compare_multiple_sorters(sorting_list_np1, sorter_names_np1, verbose=True)"
   ]
  },
  {
   "cell_type": "code",
   "execution_count": null,
   "id": "e11fe502",
   "metadata": {},
   "outputs": [],
   "source": [
    "mcmp_np1_curated = si.compare_multiple_sorters(sorting_curated_list_np1, sorter_names_np1, verbose=True)"
   ]
  },
  {
   "cell_type": "code",
   "execution_count": null,
   "id": "b443f30a",
   "metadata": {},
   "outputs": [],
   "source": [
    "fig_num, axs = plt.subplots(nrows=2, figsize=(7, 10))\n",
    "\n",
    "sns.barplot(data=res_np1, x=\"trunc_bit\", y=\"num_units\", ax=axs[0],\n",
    "            palette=\"Reds\")\n",
    "sns.barplot(data=res_np1, x=\"trunc_bit\", y=\"num_units_curated\", ax=axs[1],\n",
    "            palette=\"Blues\")\n",
    "axs[0].set_title(\"NP1 - RAW\")\n",
    "axs[1].set_title(\"NP1 - CURATED\")\n",
    "fig_num.subplots_adjust(hspace=0.3)\n",
    "\n",
    "for agr_count in range(2, 8):\n",
    "    sort_agreement = mcmp_np1.get_agreement_sorting(minimum_agreement_count=agr_count)\n",
    "    sort_agreement_curated = mcmp_np1_curated.get_agreement_sorting(minimum_agreement_count=agr_count)\n",
    "    axs[0].axhline(len(sort_agreement.unit_ids), label=f\"Agr. {agr_count}\", color=f\"C{agr_count}\")\n",
    "    axs[1].axhline(len(sort_agreement.unit_ids), label=f\"Agr. {agr_count}\", color=f\"C{agr_count}\")\n",
    "\n",
    "    print(f\"Agreement {agr_count}: \\n\\tRAW {len(sort_agreement.unit_ids)}\\n\\tCURATED  {len(sort_agreement_curated.unit_ids)}\")\n",
    "axs[0].legend()\n",
    "axs[1].legend()"
   ]
  },
  {
   "cell_type": "code",
   "execution_count": null,
   "id": "00c3734f",
   "metadata": {},
   "outputs": [],
   "source": [
    "w = si.plot_multicomp_agreement(mcmp_np1)\n",
    "wc = si.plot_multicomp_agreement(mcmp_np1_curated)\n",
    "\n",
    "w.ax.set_title(\"NP1 RAW\")\n",
    "wc.ax.set_title(\"NP1 CURATED\")"
   ]
  },
  {
   "cell_type": "code",
   "execution_count": null,
   "id": "613dc7e9",
   "metadata": {},
   "outputs": [],
   "source": [
    "fig, axs = plt.subplots(nrows=2, ncols=4, figsize=(10, 7))\n",
    "\n",
    "axes = axs.ravel()[:7]\n",
    "axs.ravel()[-1].axis(\"off\")\n",
    "\n",
    "si.plot_multicomp_agreement_by_sorter(mcmp_np1, axes=axes)\n",
    "\n",
    "fig.suptitle(\"NP1 RAW\")\n",
    "\n",
    "figc, axs = plt.subplots(nrows=2, ncols=4, figsize=(10, 7))\n",
    "\n",
    "axes = axs.ravel()[:7]\n",
    "axs.ravel()[-1].axis(\"off\")\n",
    "\n",
    "si.plot_multicomp_agreement_by_sorter(mcmp_np1_curated, axes=axes)\n",
    "\n",
    "figc.suptitle(\"NP1 CURATED\")"
   ]
  },
  {
   "cell_type": "markdown",
   "id": "9a6ea27d",
   "metadata": {},
   "source": [
    "### Neuropixels 2"
   ]
  },
  {
   "cell_type": "code",
   "execution_count": null,
   "id": "07c0c37a",
   "metadata": {},
   "outputs": [],
   "source": [
    "rec_file = \"/home/alessio/Documents/data/allen/npix-open-ephys/595262_2022-02-21_15-18-07/Record Node 102\"\n",
    "rec_exp = si.read_openephys(rec_file, stream_id=\"0\")\n",
    "rec_exp = si.split_recording(rec_exp)[0]   \n",
    "print(rec_exp)  "
   ]
  },
  {
   "cell_type": "code",
   "execution_count": null,
   "id": "a2c255d8",
   "metadata": {},
   "outputs": [],
   "source": [
    "fig_np2, axs_np2 = plt.subplots(ncols=2)\n",
    "ax = axs_np2[0]\n",
    "sns.pointplot(data=res_np2, x=\"trunc_bit\", y=\"CR\", ax=ax, color=\"C0\")\n",
    "ax.spines[\"top\"].set_visible(False)\n",
    "ax.spines[\"right\"].set_visible(False)\n",
    "ax = axs_np2[1]\n",
    "sns.pointplot(data=res_np2, x=\"trunc_bit\", y=\"rmse\", ax=ax, color=\"C0\")\n",
    "ax.spines[\"top\"].set_visible(False)\n",
    "ax.spines[\"right\"].set_visible(False)\n",
    "\n",
    "fig_np2.suptitle(\"Neuropixels 2.0\", fontsize=15)"
   ]
  },
  {
   "cell_type": "code",
   "execution_count": null,
   "id": "0a6f2d8b",
   "metadata": {},
   "outputs": [],
   "source": [
    "channel_index = 150\n",
    "\n",
    "fig_np2, axs = plt.subplots(nrows=4, sharex=True, sharey=False)\n",
    "\n",
    "traces_exp = rec_exp.get_traces(start_frame=start_frame, end_frame=end_frame,\n",
    "                                channel_ids=channel_ids, return_scaled=True)[:, 0]\n",
    "rec_exp_f = si.bandpass_filter(rec_exp)\n",
    "traces_exp_f = rec_exp_f.get_traces(start_frame=start_frame, end_frame=end_frame,\n",
    "                                    channel_ids=channel_ids, return_scaled=True)[:, 0]\n",
    "axs[0].plot(timestamps, traces_exp, color=\"k\", alpha=0.8, label=\"GT\")\n",
    "axs[1].plot(timestamps, traces_exp_f, color=\"k\", alpha=0.8, label=\"GT_f\")\n",
    "\n",
    "for index, row in res_np2.iterrows():\n",
    "    trunc_bit = row[\"trunc_bit\"]\n",
    "    rec_zarr = si.read_zarr(row[\"rec_zarr_path\"])\n",
    "    rec_zarr = si.scale(rec_zarr, gain=row.lsb_value, dtype=rec_zarr.get_dtype())\n",
    "    rec_f = si.bandpass_filter(rec_zarr)\n",
    "    fs = rec_zarr.get_sampling_frequency()\n",
    "\n",
    "    start_frame = int(time_range[0] *fs)\n",
    "    end_frame = int(time_range[1] *fs)\n",
    "\n",
    "    channel_ids = [rec_zarr.channel_ids[channel_index]]\n",
    "\n",
    "    traces = rec_zarr.get_traces(start_frame=start_frame, end_frame=end_frame,\n",
    "                                 channel_ids=channel_ids, return_scaled=True)[:, 0]\n",
    "    traces_f = rec_f.get_traces(start_frame=start_frame, end_frame=end_frame,\n",
    "                                channel_ids=channel_ids, return_scaled=True)[:, 0]\n",
    "    axs[2].plot(timestamps, traces, color=f\"C{trunc_bit}\", alpha=0.8, label=trunc_bit)\n",
    "    axs[3].plot(timestamps, traces_f, color=f\"C{trunc_bit}\", alpha=0.8, label=trunc_bit)    \n",
    "axs[2].legend()\n",
    "fig_np2.suptitle(\"Neuropixels 2.0\", fontsize=15)"
   ]
  },
  {
   "cell_type": "code",
   "execution_count": null,
   "id": "03ac922b",
   "metadata": {},
   "outputs": [],
   "source": [
    "sorting_list_np2 = []\n",
    "sorting_curated_list_np2 = []\n",
    "sorter_names_np2 = []\n",
    "\n",
    "for index, row in res_np2.iterrows():\n",
    "    sort = si.load_extractor(row.sort_path)\n",
    "    sort_curated = si.load_extractor(row.sort_curated_path)\n",
    "    rec_name = f\"bit{row.trunc_bit}\"\n",
    "    \n",
    "    sorting_list_np2.append(sort)\n",
    "    sorting_curated_list_np2.append(sort_curated)\n",
    "    sorter_names_np2.append(rec_name)\n",
    "    \n",
    "    res_np2.loc[index, \"num_units\"] = len(sort.unit_ids)\n",
    "    res_np2.loc[index, \"num_units_curated\"] = len(sort_curated.unit_ids)     "
   ]
  },
  {
   "cell_type": "code",
   "execution_count": null,
   "id": "c1af063d",
   "metadata": {
    "scrolled": true
   },
   "outputs": [],
   "source": [
    "mcmp_np2 = si.compare_multiple_sorters(sorting_list_np2, sorter_names_np2, verbose=True)"
   ]
  },
  {
   "cell_type": "code",
   "execution_count": null,
   "id": "c93317aa",
   "metadata": {},
   "outputs": [],
   "source": [
    "mcmp_np2_curated = si.compare_multiple_sorters(sorting_curated_list_np2, sorter_names_np2, verbose=True)"
   ]
  },
  {
   "cell_type": "code",
   "execution_count": null,
   "id": "59a08c77",
   "metadata": {},
   "outputs": [],
   "source": [
    "fig_num, axs = plt.subplots(nrows=2, figsize=(7, 10))\n",
    "\n",
    "sns.barplot(data=res_np2, x=\"trunc_bit\", y=\"num_units\", ax=axs[0],\n",
    "            palette=\"Reds\")\n",
    "sns.barplot(data=res_np2, x=\"trunc_bit\", y=\"num_units_curated\", ax=axs[1],\n",
    "            palette=\"Blues\")\n",
    "axs[0].set_title(\"NP2 - RAW\")\n",
    "axs[1].set_title(\"NP2 - CURATED\")\n",
    "fig_num.subplots_adjust(hspace=0.3)\n",
    "\n",
    "for agr_count in range(2, 8):\n",
    "    sort_agreement = mcmp_np2.get_agreement_sorting(minimum_agreement_count=agr_count)\n",
    "    sort_agreement_curated = mcmp_np2_curated.get_agreement_sorting(minimum_agreement_count=agr_count)\n",
    "    axs[0].axhline(len(sort_agreement.unit_ids), label=f\"Agr. {agr_count}\", color=f\"C{agr_count}\")\n",
    "    axs[1].axhline(len(sort_agreement.unit_ids), label=f\"Agr. {agr_count}\", color=f\"C{agr_count}\")\n",
    "\n",
    "    print(f\"Agreement {agr_count}: \\n\\tRAW {len(sort_agreement.unit_ids)}\\n\\tCURATED  {len(sort_agreement_curated.unit_ids)}\")\n",
    "axs[0].legend()\n",
    "axs[1].legend()"
   ]
  },
  {
   "cell_type": "code",
   "execution_count": null,
   "id": "fd1c99c1",
   "metadata": {},
   "outputs": [],
   "source": [
    "w = si.plot_multicomp_agreement(mcmp_np2)\n",
    "wc = si.plot_multicomp_agreement(mcmp_np2_curated)\n",
    "\n",
    "w.ax.set_title(\"NP2 RAW\")\n",
    "wc.ax.set_title(\"NP2 CURATED\")"
   ]
  },
  {
   "cell_type": "code",
   "execution_count": null,
   "id": "5d2e18ee",
   "metadata": {},
   "outputs": [],
   "source": [
    "fig, axs = plt.subplots(nrows=2, ncols=4, figsize=(10, 7))\n",
    "\n",
    "axes = axs.ravel()[:7]\n",
    "axs.ravel()[-1].axis(\"off\")\n",
    "\n",
    "si.plot_multicomp_agreement_by_sorter(mcmp_np2, axes=axes)\n",
    "\n",
    "fig.suptitle(\"NP2 RAW\")\n",
    "\n",
    "figc, axs = plt.subplots(nrows=2, ncols=4, figsize=(10, 7))\n",
    "\n",
    "axes = axs.ravel()[:7]\n",
    "axs.ravel()[-1].axis(\"off\")\n",
    "\n",
    "si.plot_multicomp_agreement_by_sorter(mcmp_np2_curated, axes=axes)\n",
    "\n",
    "figc.suptitle(\"NP2 CURATED\")"
   ]
  }
 ],
 "metadata": {
  "kernelspec": {
   "display_name": "Python 3 (ipykernel)",
   "language": "python",
   "name": "python3"
  },
  "language_info": {
   "codemirror_mode": {
    "name": "ipython",
    "version": 3
   },
   "file_extension": ".py",
   "mimetype": "text/x-python",
   "name": "python",
   "nbconvert_exporter": "python",
   "pygments_lexer": "ipython3",
   "version": "3.9.11"
  }
 },
 "nbformat": 4,
 "nbformat_minor": 5
}
