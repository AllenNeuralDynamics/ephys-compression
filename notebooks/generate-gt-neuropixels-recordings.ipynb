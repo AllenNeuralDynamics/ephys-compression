{
 "cells": [
  {
   "cell_type": "markdown",
   "id": "ec7190c7",
   "metadata": {},
   "source": [
    "## Generate MEArec synthetic for compression benchmark\n",
    "\n",
    "This notebooks generates MEArec templates and recordings for NP1 and NP2 as recorded by the Open Ephys GUI.\n",
    "\n",
    "In particular, the simulated data mimic the experimental data in terms of:\n",
    "\n",
    "- Dtype: int16 (both NP1 and NP2)\n",
    "- Least Significant Bit (LSB): \n",
    "   * 12 for NP1\n",
    "   * 3 for NP2 \n",
    "- Gain to uV: 0.195 (both NP1 and NP2)\n",
    "\n",
    "**Note** that the LSB > 1 is only for Open Ephys data and not for SpikeGLX.\n"
   ]
  },
  {
   "cell_type": "code",
   "execution_count": null,
   "id": "01b9b911",
   "metadata": {},
   "outputs": [],
   "source": [
    "import MEArec as mr\n",
    "import MEAutility as mu\n",
    "import yaml\n",
    "import numpy as np\n",
    "from pprint import pprint\n",
    "import spikeinterface.full as si\n",
    "import matplotlib.pylab as plt\n",
    "from pathlib import Path\n",
    "\n",
    "\n",
    "%matplotlib notebook"
   ]
  },
  {
   "cell_type": "code",
   "execution_count": null,
   "id": "c803ee0f",
   "metadata": {},
   "outputs": [],
   "source": [
    "mearec_folder = Path(\"mearec/\")"
   ]
  },
  {
   "cell_type": "code",
   "execution_count": null,
   "id": "874fb84a",
   "metadata": {},
   "outputs": [],
   "source": [
    "np_version = 2\n",
    "\n",
    "if np_version == 1:\n",
    "    template_file = mearec_folder / \"templates_drift_Neuropixels-384.h5\"\n",
    "else:\n",
    "    template_file = mearec_folder / \"templates_drift_Neuropixels2-384.h5\""
   ]
  },
  {
   "cell_type": "code",
   "execution_count": null,
   "id": "d019a5fc",
   "metadata": {},
   "outputs": [],
   "source": [
    "tempgen = mr.load_templates(template_file)"
   ]
  },
  {
   "cell_type": "code",
   "execution_count": null,
   "id": "c132a8e8",
   "metadata": {},
   "outputs": [],
   "source": [
    "recordings_params = mr.get_default_recordings_params()"
   ]
  },
  {
   "cell_type": "code",
   "execution_count": null,
   "id": "81fe57c6",
   "metadata": {},
   "outputs": [],
   "source": [
    "recordings_params[\"recordings\"]"
   ]
  },
  {
   "cell_type": "code",
   "execution_count": null,
   "id": "ddf60d67",
   "metadata": {},
   "outputs": [],
   "source": [
    "# NP1.0 settings\n",
    "recordings_params[\"recordings\"][\"dtype\"] = \"int16\"\n",
    "recordings_params[\"recordings\"][\"filter\"] = False\n",
    "\n",
    "recordings_params[\"recordings\"][\"adc_bit_depth\"] = 10\n",
    "recordings_params[\"recordings\"][\"gain\"] = 0.195\n",
    "recordings_params[\"recordings\"][\"dtype\"] = \"int16\"\n",
    "recordings_params[\"recordings\"][\"chunk_duration\"] = 10\n",
    "recordings_params[\"recordings\"][\"noise_mode\"] = \"distance-correlated\"\n",
    "\n",
    "\n",
    "recordings_params[\"spiketrains\"][\"n_exc\"] = 80\n",
    "recordings_params[\"spiketrains\"][\"n_inh\"] = 20\n",
    "recordings_params[\"spiketrains\"][\"duration\"] = 600"
   ]
  },
  {
   "cell_type": "code",
   "execution_count": null,
   "id": "4ff9392a",
   "metadata": {},
   "outputs": [],
   "source": [
    "if np_version == 1:\n",
    "    recordings_params[\"recordings\"][\"lsb\"] = 12\n",
    "else:\n",
    "    recordings_params[\"recordings\"][\"lsb\"] = 3"
   ]
  },
  {
   "cell_type": "code",
   "execution_count": null,
   "id": "c2742a08",
   "metadata": {},
   "outputs": [],
   "source": [
    "recordings_params[\"recordings\"][\"lsb\"]"
   ]
  },
  {
   "cell_type": "code",
   "execution_count": null,
   "id": "b4bcf59a",
   "metadata": {},
   "outputs": [],
   "source": [
    "recgen = mr.gen_recordings(params=recordings_params, tempgen=tempgen, \n",
    "                           n_jobs=10, verbose=True,)"
   ]
  },
  {
   "cell_type": "code",
   "execution_count": null,
   "id": "0d4b3e8c",
   "metadata": {},
   "outputs": [],
   "source": [
    "mearec_data_folder = Path(\"../data/mearec\")\n",
    "mearec_data_folder.mkdir(exist_ok=True)\n",
    "\n",
    "\n",
    "rec_name = f\"np{np_version}_mearec_dist-corr.h5\"\n",
    "\n",
    "mr.save_recording_generator(recgen, mearec_folder / rec_name)"
   ]
  }
 ],
 "metadata": {
  "kernelspec": {
   "display_name": "Python 3 (ipykernel)",
   "language": "python",
   "name": "python3"
  },
  "language_info": {
   "codemirror_mode": {
    "name": "ipython",
    "version": 3
   },
   "file_extension": ".py",
   "mimetype": "text/x-python",
   "name": "python",
   "nbconvert_exporter": "python",
   "pygments_lexer": "ipython3",
   "version": "3.9.11"
  }
 },
 "nbformat": 4,
 "nbformat_minor": 5
}
