{
 "cells": [
  {
   "cell_type": "markdown",
   "id": "476a16e6",
   "metadata": {},
   "source": [
    "# Benchmark lossless compression strategies\n",
    "\n",
    "In this notebook we analyze the performance of different lossless compression strategies in terms of:\n",
    "\n",
    "* compression ratio (n_bytes / n_stored_bytes)\n",
    "* compression speed\n",
    "* decompression speed\n",
    "\n",
    "The lossless compression algorithms compared are:\n",
    "\n",
    "- Zarr BLOSC compressors\n",
    "    * lz4 \n",
    "    * lz4hc \n",
    "    * zlib\n",
    "    * zstd\n",
    "- Audio compressor\n",
    "    * FLAC\n",
    "    * WavPack\n",
    "    \n",
    "The zarr compressors are implemented via the SpikeInterface `save(format=\"zarr\")` function and run with different options:\n",
    "\n",
    "* clevel (1 - min, 5, 9 - max)\n",
    "* BLOSC shuffle filter (no, auto/shuffle, bit)\n",
    "\n",
    "For the FLAC compression see the custom implementationof a SpikeInterface-like save function in `audiocompression.py` using [pyFLAC](https://github.com/sonos/pyFLAC). \n",
    "Since pyFLAC supports 2 channels at most, the input data is split into streams of 2-channels and the block chunking mechanism is also implemented *externally*\n",
    "\n",
    "All compressors are run with different chunk sizes (0.1s, 1s, 10s). Additionally, compression is run for two cases:\n",
    "\n",
    "- raw data (no preprocessing)\n",
    "- median subtraction and LSB division\n",
    "\n",
    "\n",
    "This notebook assumes the `scripts/benchmark-lossless.py` has been run and the `\"benchmark-lossless.csv\"` is available.\n"
   ]
  },
  {
   "cell_type": "code",
   "execution_count": null,
   "id": "cc97da1c",
   "metadata": {},
   "outputs": [],
   "source": [
    "import pandas as pd\n",
    "import seaborn as sns\n",
    "import matplotlib.pyplot as plt\n",
    "import numpy as np\n",
    "from pathlib import Path\n",
    "\n",
    "%matplotlib notebook"
   ]
  },
  {
   "cell_type": "code",
   "execution_count": null,
   "id": "67c65c45",
   "metadata": {},
   "outputs": [],
   "source": [
    "save_fig = False\n",
    "\n",
    "fig_folder = Path(\".\") / \"figures\"\n",
    "fig_folder.mkdir(exist_ok=True)"
   ]
  },
  {
   "cell_type": "code",
   "execution_count": null,
   "id": "a4bd42fb",
   "metadata": {},
   "outputs": [],
   "source": [
    "audio_compressors = ['flac', 'wavpack']"
   ]
  },
  {
   "cell_type": "code",
   "execution_count": null,
   "id": "95d54b34",
   "metadata": {},
   "outputs": [],
   "source": [
    "res = pd.read_csv(\"../data/results/benchmark-lossless-lsb.csv\", index_col=False)\n",
    "\n",
    "print(len(res))\n",
    "\n",
    "# res_no_median = res.query(\"lsb != 'min'\")\n",
    "# print(len(res_no_median))\n",
    "# res_no_median[\"lsb_bool\"] = [False] * len(res_no_median)\n",
    "\n",
    "# res_no_median.loc[res_no_median.lsb == \"median\", \"lsb_bool\"] = True"
   ]
  },
  {
   "cell_type": "code",
   "execution_count": null,
   "id": "95632881",
   "metadata": {},
   "outputs": [],
   "source": [
    "res.loc[:, \"xRT\"]  = res[\"duration\"] / res[\"C-speed\"]"
   ]
  },
  {
   "cell_type": "code",
   "execution_count": null,
   "id": "175e5477",
   "metadata": {},
   "outputs": [],
   "source": [
    "res_zarr = res.query(f\"compressor != {audio_compressors}\")"
   ]
  },
  {
   "cell_type": "code",
   "execution_count": null,
   "id": "3d6d2dec",
   "metadata": {},
   "outputs": [],
   "source": [
    "res_zarr"
   ]
  },
  {
   "cell_type": "markdown",
   "id": "74145802",
   "metadata": {},
   "source": [
    "# ZARR\n",
    "\n",
    "We start by comparing compression options readily available via Zarr"
   ]
  },
  {
   "cell_type": "markdown",
   "id": "03b78dc6",
   "metadata": {},
   "source": [
    "### What is the best ZARR-based option in terms of CR?"
   ]
  },
  {
   "cell_type": "code",
   "execution_count": null,
   "id": "be944d5c",
   "metadata": {},
   "outputs": [],
   "source": [
    "dset = res_zarr"
   ]
  },
  {
   "cell_type": "code",
   "execution_count": null,
   "id": "daa616f8",
   "metadata": {},
   "outputs": [],
   "source": [
    "res_np1 = dset.query(\"probe == 'Neuropixels1.0'\")\n",
    "res_np2 = dset.query(\"probe == 'Neuropixels2.0'\")"
   ]
  },
  {
   "cell_type": "code",
   "execution_count": null,
   "id": "b94bdc1a",
   "metadata": {},
   "outputs": [],
   "source": [
    "print(\"\\nNP1\\n\")\n",
    "print(res_np1.iloc[np.argmax(res_np1.CR)])\n",
    "print(\"\\nNP2\\n\")\n",
    "print(res_np2.iloc[np.argmax(res_np2.CR)])"
   ]
  },
  {
   "cell_type": "markdown",
   "id": "8de7d63b",
   "metadata": {},
   "source": [
    "For both NP1 and NP2, the best zarr compressor is **Zstd - level 9 - chunk 1s - shuffle BIT**"
   ]
  },
  {
   "cell_type": "markdown",
   "id": "538ed0c9",
   "metadata": {},
   "source": [
    "### Effect of shuffling options"
   ]
  },
  {
   "cell_type": "code",
   "execution_count": null,
   "id": "d661de9c",
   "metadata": {},
   "outputs": [],
   "source": [
    "fig_sh_all, axs_sh_all = plt.subplots(ncols=3, figsize=(10, 7))\n",
    "\n",
    "sns.boxplot(data=dset, x=\"shuffle\", y=\"CR\", ax=axs_sh_all[0])\n",
    "sns.boxplot(data=dset, x=\"shuffle\", y=\"xRT\", ax=axs_sh_all[1])\n",
    "sns.boxplot(data=dset, x=\"shuffle\", y=\"D-10s\", ax=axs_sh_all[2])\n",
    "\n",
    "fig_sh_all.subplots_adjust(wspace=0.3)\n",
    "\n",
    "fig_sh, axs_sh = plt.subplots(ncols=3, figsize=(10, 7))\n",
    "\n",
    "sns.boxplot(data=dset, x=\"shuffle\", y=\"CR\", hue=\"compressor\", ax=axs_sh[0])\n",
    "sns.boxplot(data=dset, x=\"shuffle\", y=\"xRT\", hue=\"compressor\", ax=axs_sh[1])\n",
    "sns.boxplot(data=dset, x=\"shuffle\", y=\"D-10s\", hue=\"compressor\", ax=axs_sh[2])\n",
    "\n",
    "fig_sh.subplots_adjust(wspace=0.3)"
   ]
  },
  {
   "cell_type": "markdown",
   "id": "c5fc58f8",
   "metadata": {},
   "source": [
    "**COMMENT**\n",
    "\n",
    "The `BIT shuffle` options appears to generally improve CR, without affecting compression/decompression speed. \n",
    "Let's focus on that for the rest of the analysis."
   ]
  },
  {
   "cell_type": "code",
   "execution_count": null,
   "id": "f0a0c7cb",
   "metadata": {},
   "outputs": [],
   "source": [
    "selected_shuffle = \"bit\"\n",
    "dset_shuffle = dset.query(f\"shuffle == '{selected_shuffle}'\")\n",
    "dset_shuffle"
   ]
  },
  {
   "cell_type": "markdown",
   "id": "db016a11",
   "metadata": {},
   "source": [
    "### Effect of chunk duration"
   ]
  },
  {
   "cell_type": "code",
   "execution_count": null,
   "id": "acf5d6ea",
   "metadata": {},
   "outputs": [],
   "source": [
    "fig_ch_all, axs_ch_all = plt.subplots(ncols=3, figsize=(10, 7))\n",
    "\n",
    "sns.boxplot(data=dset_shuffle, x=\"chunk_dur\", y=\"CR\", ax=axs_ch_all[0])\n",
    "sns.boxplot(data=dset_shuffle, x=\"chunk_dur\", y=\"xRT\", ax=axs_ch_all[1])\n",
    "sns.boxplot(data=dset_shuffle, x=\"chunk_dur\", y=\"D-10s\", ax=axs_ch_all[2])\n",
    "\n",
    "fig_ch_all.subplots_adjust(wspace=0.3)\n",
    "\n",
    "fig_ch, axs_ch = plt.subplots(ncols=3, figsize=(10, 7))\n",
    "\n",
    "sns.boxplot(data=dset_shuffle, x=\"chunk_dur\", y=\"CR\", hue=\"compressor\", ax=axs_ch[0])\n",
    "sns.boxplot(data=dset_shuffle, x=\"chunk_dur\", y=\"xRT\", hue=\"compressor\", ax=axs_ch[1])\n",
    "sns.boxplot(data=dset_shuffle, x=\"chunk_dur\", y=\"D-10s\", hue=\"compressor\", ax=axs_ch[2])\n",
    "\n",
    "fig_ch.subplots_adjust(wspace=0.3)"
   ]
  },
  {
   "cell_type": "markdown",
   "id": "8cafbba1",
   "metadata": {},
   "source": [
    "**COMMENT**\n",
    "\n",
    "Chunk duration seems to be relatively irrelevant for compression metrics. So let's pick 1s:"
   ]
  },
  {
   "cell_type": "code",
   "execution_count": null,
   "id": "62fa741e",
   "metadata": {},
   "outputs": [],
   "source": [
    "selected_chunk = \"1s\"\n",
    "dset_chunk = dset_shuffle.query(f\"chunk_dur == '{selected_chunk}'\")"
   ]
  },
  {
   "cell_type": "markdown",
   "id": "e10e13e4",
   "metadata": {},
   "source": [
    "Let's now confirm that the level does its job..."
   ]
  },
  {
   "cell_type": "markdown",
   "id": "428eb0ea",
   "metadata": {},
   "source": [
    "### Effect of compression level"
   ]
  },
  {
   "cell_type": "code",
   "execution_count": null,
   "id": "63622387",
   "metadata": {},
   "outputs": [],
   "source": [
    "fig_lev_all, axs_lev_all = plt.subplots(ncols=3, figsize=(10, 7))\n",
    "\n",
    "sns.boxplot(data=dset_chunk, x=\"level\", y=\"CR\", ax=axs_lev_all[0])\n",
    "sns.boxplot(data=dset_chunk, x=\"level\", y=\"xRT\", ax=axs_lev_all[1])\n",
    "sns.boxplot(data=dset_chunk, x=\"level\", y=\"D-10s\", ax=axs_lev_all[2])\n",
    "\n",
    "fig_lev_all.subplots_adjust(wspace=0.3)\n",
    "\n",
    "fig_lev, axs_lev = plt.subplots(ncols=3, figsize=(10, 7))\n",
    "\n",
    "sns.boxplot(data=dset_chunk, x=\"level\", y=\"CR\", hue=\"compressor\", ax=axs_lev[0])\n",
    "sns.boxplot(data=dset_chunk, x=\"level\", y=\"xRT\", hue=\"compressor\", ax=axs_lev[1])\n",
    "sns.boxplot(data=dset_chunk, x=\"level\", y=\"D-10s\", hue=\"compressor\", ax=axs_lev[2])\n",
    "\n",
    "fig_lev.subplots_adjust(wspace=0.3)"
   ]
  },
  {
   "cell_type": "markdown",
   "id": "1f40a810",
   "metadata": {},
   "source": [
    "**COMMENT**\n",
    "\n",
    "For most compressors, compression level does its job (increasing levels yield increasing CR). Strangely, for `zlib` the level seems to have the opposite effect. Of course, the higher the level the slower the compression speed. Decompression speed doesn't seem to be affected.\n",
    "\n",
    "For the final analysis, let's pick level 9 and compare the raw compression with the median+lsb preprocessing."
   ]
  },
  {
   "cell_type": "code",
   "execution_count": null,
   "id": "631205c5",
   "metadata": {},
   "outputs": [],
   "source": [
    "selected_level = 9\n",
    "dset_level = dset_chunk.query(f\"level == {selected_level}\")"
   ]
  },
  {
   "cell_type": "markdown",
   "id": "2a39e7fd",
   "metadata": {},
   "source": [
    "### Effect of LSB correction\n",
    "\n",
    "For Open Ephys saved data, the `int16` binary files actually have an lsb > 1:\n",
    "\n",
    "- NP1: lsb = 12 --> ~2.34 uV\n",
    "- NP2: lab = 3 --> ~0.585 uV\n",
    "\n",
    "While this does not affect the signals, it might affect compression because more bits than needed are used to encode for the voltage values.\n",
    "\n",
    "For NP1, in addition, the channel signals are not always centered at 0, meaning that one channel could have **central** values of (-12, 0, 12) and another channel could have, for instance (-11, 1, 13). For NP2, this is not the case, but many channels are not centered at 0.\n",
    "\n",
    "In order to account for this, we first estimate the median for each channel using chunks of the data and, before compression, we subtract the median and divide the signals by the LSB.\n",
    "\n",
    "At decompression, to recover the original data, the signals are rescaled by the LSB and the median is re-added. Note that these last two steps are not necessary:\n",
    "\n",
    "- the median values are irrelevant for downstrem analysis\n",
    "- the LSB scaling can be accounted for simply by resetting the `gain` values with the initial scaling\n",
    "\n",
    "For these reasons, the decompression speeds displayed below are an over-estimation of the actual values.\n"
   ]
  },
  {
   "cell_type": "code",
   "execution_count": null,
   "id": "23111ff1",
   "metadata": {
    "scrolled": false
   },
   "outputs": [],
   "source": [
    "for probe in np.unique(dset_level.probe):\n",
    "    dset_probe = dset_level.query(f\"probe == '{probe}'\")\n",
    "    fig_lsb_all, axs_lsb_all = plt.subplots(ncols=3, figsize=(10, 7))\n",
    "\n",
    "    sns.boxplot(data=dset_probe, x=\"lsb\", y=\"CR\", ax=axs_lsb_all[0])\n",
    "    sns.boxplot(data=dset_probe, x=\"lsb\", y=\"xRT\", ax=axs_lsb_all[1])\n",
    "    sns.boxplot(data=dset_probe, x=\"lsb\", y=\"D-10s\", ax=axs_lsb_all[2])\n",
    "\n",
    "    fig_lsb_all.subplots_adjust(wspace=0.3)\n",
    "    fig_lsb_all.suptitle(probe)\n",
    "\n",
    "    fig_lsb, axs_lsb = plt.subplots(ncols=3, figsize=(10, 7))\n",
    "\n",
    "    sns.barplot(data=dset_probe, x=\"lsb\", y=\"CR\", hue=\"compressor\", ax=axs_lsb[0])\n",
    "    sns.barplot(data=dset_probe, x=\"lsb\", y=\"xRT\", hue=\"compressor\", ax=axs_lsb[1])\n",
    "    sns.barplot(data=dset_probe, x=\"lsb\", y=\"D-10s\", hue=\"compressor\", ax=axs_lsb[2])\n",
    "\n",
    "    fig_lsb.subplots_adjust(wspace=0.3)\n",
    "    fig_lsb.suptitle(probe)"
   ]
  },
  {
   "cell_type": "code",
   "execution_count": null,
   "id": "dc8b5cb1",
   "metadata": {},
   "outputs": [],
   "source": [
    "for probe in np.unique(dset_level.probe):\n",
    "    dset_probe = dset_level.query(f\"probe == '{probe}'\")\n",
    "    dset_no = dset_probe.query(\"lsb == False\")\n",
    "    dset_lsb = dset_probe.query(\"lsb == True\")\n",
    "    \n",
    "    print(f\"\\n\\n{probe}\\n\")\n",
    "    print(dset_probe.groupby(\"lsb\")[\"CR\"].max())"
   ]
  },
  {
   "cell_type": "markdown",
   "id": "48306efc",
   "metadata": {},
   "source": [
    "**COMMENT**\n",
    "\n",
    "For both NP1 and NP2, the LSB correction significantly improves CRs.\n",
    "\n",
    "- NP1: from 2.1 ($\\sim$47% size) to 3.13 ($\\sim$32% size) \n",
    "- NP2: from 1.5 ($\\sim$66% size) to 1.88 ($\\sim$53% size)\n",
    "\n",
    "Compression speed is reduced (especially for `lz4`) due to the preprocessing (which requires upcasting to float, scaling, and downcasting back to int16)."
   ]
  },
  {
   "cell_type": "markdown",
   "id": "cac911e2",
   "metadata": {},
   "source": [
    "As a final step, we select LSB and Zstd as best options:"
   ]
  },
  {
   "cell_type": "code",
   "execution_count": null,
   "id": "6fbd08f9",
   "metadata": {},
   "outputs": [],
   "source": [
    "selected_lsb = True\n",
    "selected_compressor = \"zstd\"\n",
    "dset_best_zarr = dset_level.query(f\"compressor == '{selected_compressor}' and lsb == {selected_lsb}\")\n",
    "dset_best_zarr"
   ]
  },
  {
   "cell_type": "markdown",
   "id": "e1696124",
   "metadata": {},
   "source": [
    "# AUDIO compression\n",
    "\n",
    "Lossless audio codecs could provide a good alternative to general-purpose compression algorithms because: \n",
    "\n",
    "- Audio signals are also timeseries \n",
    "- Frequiency range is similar\n",
    "- Multiple channels are correlated\n",
    "\n",
    "We tried to use FLAC and WavPack. FLAC supports up to 8 channels, so we need to either:\n",
    "- concatenate multi-channel signals into (num_samples x 2)\n",
    "- save multiple streams"
   ]
  },
  {
   "cell_type": "code",
   "execution_count": null,
   "id": "ff6913b9",
   "metadata": {},
   "outputs": [],
   "source": [
    "dset_audio = res.query(f\"compressor in {audio_compressors}\")"
   ]
  },
  {
   "cell_type": "markdown",
   "id": "2c791ec1",
   "metadata": {},
   "source": [
    "No shuffling is available in FLAC, so we just select the same chunk duration for the comparison. \n",
    "WavPack doesn't have a compression level."
   ]
  },
  {
   "cell_type": "code",
   "execution_count": null,
   "id": "cfc351fd",
   "metadata": {},
   "outputs": [],
   "source": [
    "selected_chunk = \"1s\"\n",
    "dset_audio_chunk = dset_audio.query(f\"chunk_dur == '{selected_chunk}'\")"
   ]
  },
  {
   "cell_type": "code",
   "execution_count": null,
   "id": "36b54adb",
   "metadata": {},
   "outputs": [],
   "source": [
    "fig_lev_all, axs_lev_all = plt.subplots(ncols=3, figsize=(10, 7))\n",
    "\n",
    "sns.boxplot(data=dset_audio_chunk, x=\"level\", y=\"CR\", ax=axs_lev_all[0])\n",
    "sns.boxplot(data=dset_audio_chunk, x=\"level\", y=\"xRT\", ax=axs_lev_all[1])\n",
    "sns.boxplot(data=dset_audio_chunk, x=\"level\", y=\"D-10s\", ax=axs_lev_all[2])\n",
    "\n",
    "fig_lev_all.subplots_adjust(wspace=0.3)\n",
    "\n",
    "fig_lev, axs_lev = plt.subplots(ncols=3, figsize=(10, 7))\n",
    "\n",
    "sns.boxplot(data=dset_audio, x=\"level\", y=\"CR\", hue=\"compressor\", ax=axs_lev[0])\n",
    "sns.boxplot(data=dset_audio, x=\"level\", y=\"xRT\", hue=\"compressor\", ax=axs_lev[1])\n",
    "sns.boxplot(data=dset_audio, x=\"level\", y=\"D-10s\", hue=\"compressor\", ax=axs_lev[2])\n",
    "\n",
    "fig_lev.subplots_adjust(wspace=0.3)"
   ]
  },
  {
   "cell_type": "markdown",
   "id": "dc42df18",
   "metadata": {},
   "source": [
    "Only a slight increase in compression performance is visible. Let's select level 9 for FLAC and see how lsb correction affects CR:"
   ]
  },
  {
   "cell_type": "code",
   "execution_count": null,
   "id": "3e6957c7",
   "metadata": {},
   "outputs": [],
   "source": [
    "selected_level = 9\n",
    "dset_wv = dset_audio_chunk.query(f\"compressor == 'wavpack'\")\n",
    "dset_flac = dset_audio_chunk.query(f\"compressor == 'flac' and level == {selected_level}\")\n",
    "dset_level = pd.concat([dset_wv, dset_flac])"
   ]
  },
  {
   "cell_type": "code",
   "execution_count": null,
   "id": "e1596601",
   "metadata": {},
   "outputs": [],
   "source": [
    "dset_level"
   ]
  },
  {
   "cell_type": "code",
   "execution_count": null,
   "id": "01ee7ca5",
   "metadata": {},
   "outputs": [],
   "source": [
    "for probe in np.unique(dset_level.probe):\n",
    "    dset_probe = dset_level.query(f\"probe == '{probe}'\")\n",
    "    fig_lsb_all, axs_lsb_all = plt.subplots(ncols=3, figsize=(10, 7))\n",
    "\n",
    "    sns.barplot(data=dset_probe, x=\"lsb\", y=\"CR\", hue=\"compressor\", ax=axs_lsb_all[0])\n",
    "    sns.barplot(data=dset_probe, x=\"lsb\", y=\"xRT\", hue=\"compressor\",  ax=axs_lsb_all[1])\n",
    "    sns.barplot(data=dset_probe, x=\"lsb\", y=\"D-10s\", hue=\"compressor\", ax=axs_lsb_all[2])\n",
    "\n",
    "    fig_lsb_all.subplots_adjust(wspace=0.3)\n",
    "    fig_lsb_all.suptitle(probe)"
   ]
  },
  {
   "cell_type": "code",
   "execution_count": null,
   "id": "cefd11f7",
   "metadata": {},
   "outputs": [],
   "source": [
    "dset_best_audio = dset_level.query(f\"lsb == {selected_lsb}\")"
   ]
  },
  {
   "cell_type": "code",
   "execution_count": null,
   "id": "51d5e5a5",
   "metadata": {},
   "outputs": [],
   "source": [
    "dset_best = pd.concat([dset_best_zarr, dset_best_audio])"
   ]
  },
  {
   "cell_type": "code",
   "execution_count": null,
   "id": "8342650f",
   "metadata": {
    "scrolled": false
   },
   "outputs": [],
   "source": [
    "for probe in np.unique(dset_best.probe):\n",
    "    dset_probe = dset_best.query(f\"probe == '{probe}'\")\n",
    "    fig_lsb_all, axs_lsb_all = plt.subplots(ncols=3, figsize=(10, 7))\n",
    "\n",
    "    sns.barplot(data=dset_probe, x=\"compressor\", y=\"CR\", ax=axs_lsb_all[0])\n",
    "    sns.barplot(data=dset_probe, x=\"compressor\", y=\"xRT\", ax=axs_lsb_all[1])\n",
    "    sns.barplot(data=dset_probe, x=\"compressor\", y=\"D-10s\", ax=axs_lsb_all[2])\n",
    "\n",
    "    fig_lsb_all.subplots_adjust(wspace=0.3)\n",
    "    fig_lsb_all.suptitle(probe)\n",
    "    display(dset_probe)"
   ]
  },
  {
   "cell_type": "markdown",
   "id": "a8d8d0a2",
   "metadata": {},
   "source": [
    "**COMMENT**\n",
    "\n"
   ]
  },
  {
   "cell_type": "code",
   "execution_count": null,
   "id": "aef0b473",
   "metadata": {},
   "outputs": [],
   "source": []
  }
 ],
 "metadata": {
  "kernelspec": {
   "display_name": "Python 3 (ipykernel)",
   "language": "python",
   "name": "python3"
  },
  "language_info": {
   "codemirror_mode": {
    "name": "ipython",
    "version": 3
   },
   "file_extension": ".py",
   "mimetype": "text/x-python",
   "name": "python",
   "nbconvert_exporter": "python",
   "pygments_lexer": "ipython3",
   "version": "3.9.11"
  }
 },
 "nbformat": 4,
 "nbformat_minor": 5
}
