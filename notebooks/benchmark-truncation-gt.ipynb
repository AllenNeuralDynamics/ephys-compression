{
 "cells": [
  {
   "cell_type": "markdown",
   "id": "393c05e0",
   "metadata": {},
   "source": [
    "# Benchmark truncation on GT MEArec data\n",
    "\n",
    "In this notebook we analyze how bit truncation affects downstream analysis, insclusing spike sorting. \n",
    "\n",
    "The analysis focuses on:\n",
    "\n",
    "* assessing if truncating bits from NP1 and NP2 data affects extracted waveforms/templates shapes and features (in this case, GT spyking activity is used)\n",
    "* assessing if spike sorting results are degraded by truncating bits\n",
    "\n",
    "This notebook assumes the `scripts/benchmark-truncation-gt.py` has been run and the `data/benchmark-truncation-gt.csv` is available."
   ]
  },
  {
   "cell_type": "code",
   "execution_count": null,
   "id": "cc97da1c",
   "metadata": {},
   "outputs": [],
   "source": [
    "import pandas as pd\n",
    "import seaborn as sns\n",
    "import matplotlib.pyplot as plt\n",
    "import numpy as np\n",
    "from pathlib import Path\n",
    "\n",
    "import spikeinterface.full as si\n",
    "\n",
    "%matplotlib notebook"
   ]
  },
  {
   "cell_type": "code",
   "execution_count": null,
   "id": "67c65c45",
   "metadata": {},
   "outputs": [],
   "source": [
    "save_fig = False\n",
    "\n",
    "fig_folder = Path(\".\") / \"figures\"\n",
    "fig_folder.mkdir(exist_ok=True)\n",
    "\n",
    "mearec_folder = Path(\"mearec/\")"
   ]
  },
  {
   "cell_type": "code",
   "execution_count": null,
   "id": "c78c7261",
   "metadata": {},
   "outputs": [],
   "source": [
    "data_folder = Path(\"../data\")"
   ]
  },
  {
   "cell_type": "code",
   "execution_count": null,
   "id": "95d54b34",
   "metadata": {},
   "outputs": [],
   "source": [
    "res = pd.read_csv(data_folder / \"benchmark-truncation-gt.csv\", index_col=False)"
   ]
  },
  {
   "cell_type": "code",
   "execution_count": null,
   "id": "38f1dbf9",
   "metadata": {},
   "outputs": [],
   "source": [
    "res"
   ]
  },
  {
   "cell_type": "code",
   "execution_count": null,
   "id": "393599e0",
   "metadata": {},
   "outputs": [],
   "source": [
    "job_kwargs = {\"n_jobs\": 20, \"chunk_duration\": \"1s\", \"progress_bar\": True}"
   ]
  },
  {
   "cell_type": "code",
   "execution_count": null,
   "id": "07576615",
   "metadata": {},
   "outputs": [],
   "source": [
    "# # plot some traces\n",
    "res_np1 = res.query(\"probe == 'Neuropixels1.0'\")\n",
    "res_np2 = res.query(\"probe == 'Neuropixels2.0'\")"
   ]
  },
  {
   "cell_type": "markdown",
   "id": "490179c5",
   "metadata": {},
   "source": [
    "### Neuropixels 1"
   ]
  },
  {
   "cell_type": "code",
   "execution_count": null,
   "id": "9642f1c2",
   "metadata": {},
   "outputs": [],
   "source": [
    "np_version = 1\n",
    "max_truncation = 6\n",
    "radius_um = 50\n",
    "probe_name = \"Neuropixels1.0\""
   ]
  },
  {
   "cell_type": "code",
   "execution_count": null,
   "id": "c4414544",
   "metadata": {},
   "outputs": [],
   "source": [
    "fig_np1, axs_np1 = plt.subplots(ncols=2)\n",
    "ax = axs_np1[0]\n",
    "sns.pointplot(data=res_np1, x=\"trunc_bit\", y=\"CR\", ax=ax, color=\"C1\")\n",
    "ax.spines[\"top\"].set_visible(False)\n",
    "ax.spines[\"right\"].set_visible(False)\n",
    "ax = axs_np1[1]\n",
    "sns.pointplot(data=res_np1, x=\"trunc_bit\", y=\"rmse\", ax=ax, color=\"C1\")\n",
    "ax.spines[\"top\"].set_visible(False)\n",
    "ax.spines[\"right\"].set_visible(False)\n",
    "\n",
    "fig_np1.suptitle(\"Neuropixels 1.0\", fontsize=15)"
   ]
  },
  {
   "cell_type": "code",
   "execution_count": null,
   "id": "522c5659",
   "metadata": {},
   "outputs": [],
   "source": [
    "mearec_file = mearec_folder / f\"np{np_version}_mearec_dist-corr.h5\"\n",
    "\n",
    "rec_gt, sort_gt = si.read_mearec(mearec_file)\n",
    "\n",
    "we_gt = si.extract_waveforms(rec_gt, sort_gt, folder=mearec_folder / f\"wf_{mearec_file.stem}\",\n",
    "                             load_if_exists=True, **job_kwargs)"
   ]
  },
  {
   "cell_type": "code",
   "execution_count": null,
   "id": "1ccffbcc",
   "metadata": {},
   "outputs": [],
   "source": [
    "si.plot_timeseries(rec_gt, channel_ids=rec_gt.channel_ids[::10], show_channel_ids=True)"
   ]
  },
  {
   "cell_type": "code",
   "execution_count": null,
   "id": "400eb701",
   "metadata": {},
   "outputs": [],
   "source": [
    "channel_index = 350\n",
    "nsec = 2\n",
    "t_start = 30\n",
    "time_range = [t_start, t_start + nsec]\n",
    "timestamps = np.linspace(time_range[0], time_range[1], int(nsec * rec_gt.get_sampling_frequency()))\n",
    "\n",
    "fig_np1, axs = plt.subplots(nrows=3, sharex=True, sharey=False)\n",
    "\n",
    "traces_gt = rec_gt.get_traces(start_frame=start_frame, end_frame=end_frame,\n",
    "                              channel_ids=channel_ids, return_scaled=True)[:, 0]\n",
    "\n",
    "axs[0].plot(timestamps, traces_gt, color=\"k\", alpha=0.8, label=\"GT\")\n",
    "\n",
    "for index, row in res_np1.iterrows():\n",
    "    trunc_bit = row[\"trunc_bit\"]\n",
    "    rec_zarr = si.read_zarr(row[\"rec_zarr_path\"])\n",
    "    rec_zarr = si.scale(rec_zarr, gain=row.lsb_value, dtype=rec_zarr.get_dtype())\n",
    "    rec_f = si.bandpass_filter(rec_zarr)\n",
    "    fs = rec_zarr.get_sampling_frequency()\n",
    "\n",
    "    start_frame = int(time_range[0] *fs)\n",
    "    end_frame = int(time_range[1] *fs)\n",
    "\n",
    "    channel_ids = [rec_zarr.channel_ids[channel_index]]\n",
    "\n",
    "    traces = rec_zarr.get_traces(start_frame=start_frame, end_frame=end_frame,\n",
    "                                 channel_ids=channel_ids, return_scaled=True)[:, 0]\n",
    "    traces_f = rec_f.get_traces(start_frame=start_frame, end_frame=end_frame,\n",
    "                                channel_ids=channel_ids, return_scaled=True)[:, 0]\n",
    "    axs[1].plot(timestamps, traces, color=f\"C{trunc_bit}\", alpha=0.8, label=trunc_bit)\n",
    "    axs[2].plot(timestamps, traces_f, color=f\"C{trunc_bit}\", alpha=0.8, label=trunc_bit)    \n",
    "axs[1].legend()\n",
    "fig_np1.suptitle(\"Neuropixels 1.0\", fontsize=15)"
   ]
  },
  {
   "cell_type": "code",
   "execution_count": null,
   "id": "a6646f01",
   "metadata": {},
   "outputs": [],
   "source": [
    "unit_idxs = [0, 1, 2, 3, 4, 5, 6]"
   ]
  },
  {
   "cell_type": "code",
   "execution_count": null,
   "id": "763fffc8",
   "metadata": {
    "scrolled": true
   },
   "outputs": [],
   "source": [
    "fig_u, ax_u = plt.subplots(nrows=len(unit_idxs), figsize=(7, 15))\n",
    "\n",
    "for i, unit_idx in enumerate(unit_idxs):\n",
    "    ax = ax_u[i]\n",
    "    unit_id = we_gt.sorting.unit_ids[unit_idx]\n",
    "    si.plot_unit_templates(we_gt, unit_ids=[unit_id], unit_colors={unit_id: \"k\"}, axes=[ax], radius_um=100)\n",
    "    ax.get_lines()[-1].set_label(\"GT\")\n",
    "\n",
    "    for index, row in res.iterrows():\n",
    "        if str(np_version) in row[\"probe\"]:\n",
    "            trunc_bit = row['trunc_bit']\n",
    "            if trunc_bit <= max_truncation:\n",
    "                we_bit = si.WaveformExtractor.load_from_folder(row[\"we_path\"])\n",
    "\n",
    "                si.plot_unit_templates(we_bit, unit_ids=[unit_id], unit_colors={unit_id: f\"C{row['trunc_bit']}\"}, \n",
    "                                       axes=[ax], radius_um=100)\n",
    "                ax.get_lines()[-1].set_label(f\"bit{row['trunc_bit']}\")\n",
    "    if i == len(unit_idxs) // 2:\n",
    "        ax.legend(bbox_to_anchor=(1.2, 0.2))\n",
    "\n",
    "fig_u.subplots_adjust(hspace=0.5, right=0.8)"
   ]
  },
  {
   "cell_type": "code",
   "execution_count": null,
   "id": "d5db34e6",
   "metadata": {},
   "outputs": [],
   "source": [
    "sparsity_dict = dict(method=\"radius\", radius_um=radius_um)\n",
    "\n",
    "# compute template metrics\n",
    "df_tm = None\n",
    "for index, row in res.iterrows():\n",
    "    if str(np_version) in row[\"probe\"]:\n",
    "        trunc_bit = row['trunc_bit']\n",
    "        if trunc_bit <= max_truncation:\n",
    "            print(f\"Calculating template metrics for trunc bit: {trunc_bit}\")\n",
    "            we_bit = si.WaveformExtractor.load_from_folder(row[\"we_path\"])\n",
    "            tm = si.calculate_template_metrics(we_bit, upsample=10,\n",
    "                                               sparsity_dict=sparsity_dict)\n",
    "            tm[\"trunc_bit\"] = [trunc_bit] * len(tm)\n",
    "            if sparsity_dict is None:\n",
    "                tm[\"unit_id\"] = tm.index\n",
    "                tm[\"channel_idx\"] = [\"0\"] * len(tm)\n",
    "            else:\n",
    "                tm[\"unit_id\"] = tm.index.to_frame()[\"unit_id\"].values\n",
    "                tm[\"channel_id\"] = tm.index.to_frame()[\"channel_id\"].values\n",
    "                \n",
    "                # add channel rank\n",
    "                for unit_id in np.unique(tm.unit_id):\n",
    "                    tm_unit = tm.query(f\"unit_id == '{unit_id}'\")\n",
    "                    i = 0\n",
    "                    for index, row in tm_unit.iterrows():\n",
    "                        tm.at[index, \"channel_idx\"] = str(i)\n",
    "                        i += 1\n",
    "                \n",
    "            if df_tm is None:\n",
    "                df_tm = tm\n",
    "            else:\n",
    "                df_tm = pd.concat([df_tm, tm], ignore_index=True)\n"
   ]
  },
  {
   "cell_type": "code",
   "execution_count": null,
   "id": "21270ab0",
   "metadata": {
    "scrolled": false
   },
   "outputs": [],
   "source": [
    "n_unit_to_plot = 10\n",
    "\n",
    "if sparsity_dict is None:\n",
    "    style = \"unit_id\"\n",
    "else:\n",
    "    style = \"channel_id\"\n",
    "\n",
    "unit_ids = we_gt.sorting.unit_ids\n",
    "\n",
    "units = unit_ids[np.random.permutation(len(unit_ids))[:n_unit_to_plot]]\n",
    "\n",
    "for rank in np.unique(df_tm.channel_idx):\n",
    "    fig, ax = plt.subplots(figsize=(10, 7))\n",
    "\n",
    "    df_rank = df_tm.query(f\"channel_idx == '{rank}'\")\n",
    "    df_units = df_rank.query(f\"unit_id in {list(units)}\")\n",
    "    sns.scatterplot(data=df_units, x=\"peak_to_valley\", \n",
    "                    y=\"half_width\", hue=\"unit_id\",\n",
    "                    size=\"trunc_bit\", palette=\"tab20\", ax=ax)\n",
    "    ax.legend(ncol=3)\n",
    "    \n",
    "    fig.suptitle(f\"Rank channel {rank}\", fontsize=15)"
   ]
  },
  {
   "cell_type": "code",
   "execution_count": null,
   "id": "876e39b8",
   "metadata": {},
   "outputs": [],
   "source": [
    "features = [\"peak_to_valley\", \"peak_trough_ratio\", \"half_width\", \"repolarization_slope\", \"recovery_slope\"]"
   ]
  },
  {
   "cell_type": "code",
   "execution_count": null,
   "id": "2c98389c",
   "metadata": {},
   "outputs": [],
   "source": [
    "# compare with bit trunc 0\n",
    "for index, row in df_tm.iterrows():\n",
    "    unit_id = row[\"unit_id\"]\n",
    "    channel_id = row[\"channel_id\"]\n",
    "    \n",
    "    df_ref = df_tm.query(f\"unit_id == '{unit_id}' and channel_id == '{channel_id}' and trunc_bit == 0\")\n",
    "        \n",
    "    if len(df_ref) == 1:\n",
    "        ref_series = df_ref.iloc[0]\n",
    "        for feat in features:\n",
    "            df_tm.at[index, f\"err_{feat}\"] = abs((row[feat] - ref_series[feat]) / ref_series[feat])\n",
    "    else:\n",
    "        for feat in features:\n",
    "            df_tm.at[index, f\"err_{feat}\"] = np.nan"
   ]
  },
  {
   "cell_type": "code",
   "execution_count": null,
   "id": "1cf9b4fa",
   "metadata": {
    "scrolled": false
   },
   "outputs": [],
   "source": [
    "for feat in features:\n",
    "    fig_err, ax_err = plt.subplots(ncols=2, figsize=(10, 7))\n",
    "    \n",
    "    sns.boxplot(data=df_tm.query(\"channel_idx == '0'\"), x=\"trunc_bit\", y=f\"err_{feat}\", showfliers=False, \n",
    "                ax=ax_err[0])\n",
    "    ax_err[0].set_title(\"Best channel\")\n",
    "    \n",
    "    sns.boxplot(data=df_tm, hue=\"trunc_bit\", y=f\"err_{feat}\", x=\"channel_idx\", showfliers=False,\n",
    "                ax=ax_err[1])\n",
    "    ax_err[1].set_title(\"All best channels\")\n",
    "\n",
    "    \n",
    "    fig_err.suptitle(feat, fontsize=15)"
   ]
  },
  {
   "cell_type": "code",
   "execution_count": null,
   "id": "3e9e6bbd",
   "metadata": {},
   "outputs": [],
   "source": [
    "df_tm.iloc[np.argmax(df_tm.err_recovery_slope)]"
   ]
  },
  {
   "cell_type": "code",
   "execution_count": null,
   "id": "49f7f015",
   "metadata": {},
   "outputs": [],
   "source": [
    "unit_id = df_tm.iloc[np.argmax(df_tm.err_recovery_slope)].unit_id"
   ]
  },
  {
   "cell_type": "code",
   "execution_count": null,
   "id": "511f0f08",
   "metadata": {
    "scrolled": false
   },
   "outputs": [],
   "source": [
    "fig_u, ax_u = plt.subplots(figsize=(7, 15))\n",
    "\n",
    "\n",
    "ax = ax_u\n",
    "si.plot_unit_templates(we_gt, unit_ids=[unit_id], unit_colors={unit_id: \"k\"}, axes=[ax], radius_um=100)\n",
    "ax.get_lines()[-1].set_label(\"GT\")\n",
    "\n",
    "for index, row in res.iterrows():\n",
    "    if str(np_version) in row[\"probe\"]:\n",
    "        trunc_bit = row['trunc_bit']\n",
    "        if trunc_bit <= max_truncation:\n",
    "            we_bit = si.WaveformExtractor.load_from_folder(row[\"we_path\"])\n",
    "\n",
    "            si.plot_unit_templates(we_bit, unit_ids=[unit_id], unit_colors={unit_id: f\"C{row['trunc_bit']}\"}, \n",
    "                                   axes=[ax], radius_um=100)\n",
    "            ax.get_lines()[-1].set_label(f\"bit{row['trunc_bit']}\")\n",
    "ax.legend(bbox_to_anchor=(1.1, 0.2))\n",
    "\n",
    "fig_u.subplots_adjust(hspace=0.5, right=0.8)"
   ]
  },
  {
   "cell_type": "markdown",
   "id": "8a1fda5c",
   "metadata": {},
   "source": [
    "### Plot study results"
   ]
  },
  {
   "cell_type": "code",
   "execution_count": null,
   "id": "32fd2d57",
   "metadata": {},
   "outputs": [],
   "source": [
    "sorter = \"kilosort2_5\"\n",
    "trunc_folder = data_folder / \"tmp_compression_bit_gt\" / \"trunc_GT\"\n",
    "study_folder = trunc_folder / f\"study_{probe_name}_{sorter}\"\n",
    "\n",
    "study = si.GroundTruthStudy(study_folder)"
   ]
  },
  {
   "cell_type": "code",
   "execution_count": null,
   "id": "602c2dde",
   "metadata": {
    "scrolled": true
   },
   "outputs": [],
   "source": [
    "study.run_comparisons(exhaustive_gt=True, verbose=True)"
   ]
  },
  {
   "cell_type": "code",
   "execution_count": null,
   "id": "94cd8e1f",
   "metadata": {},
   "outputs": [],
   "source": [
    "len(sort_gt.unit_ids)"
   ]
  },
  {
   "cell_type": "code",
   "execution_count": null,
   "id": "9bb92e69",
   "metadata": {},
   "outputs": [],
   "source": [
    "dfs = study.aggregate_dataframes()"
   ]
  },
  {
   "cell_type": "code",
   "execution_count": null,
   "id": "63bf0ddf",
   "metadata": {},
   "outputs": [],
   "source": [
    "order = [f\"bit{i}\" for i in range(max_truncation + 1)]"
   ]
  },
  {
   "cell_type": "code",
   "execution_count": null,
   "id": "a4014986",
   "metadata": {
    "scrolled": false
   },
   "outputs": [],
   "source": [
    "fig_perf, axs_perf = plt.subplots(nrows=3, figsize=(7, 12))\n",
    "\n",
    "sns.swarmplot(data=dfs[\"perf_by_unit\"], x=\"rec_name\", y=\"accuracy\", order=order,\n",
    "              palette=\"Greens\", ax=axs_perf[0])\n",
    "axs_perf[0].set_title(\"Accuracy\", fontsize=15)\n",
    "\n",
    "sns.swarmplot(data=dfs[\"perf_by_unit\"], x=\"rec_name\", y=\"precision\", order=order,\n",
    "              palette=\"Blues\", ax=axs_perf[1])\n",
    "axs_perf[1].set_title(\"Precision\", fontsize=15)\n",
    "\n",
    "sns.swarmplot(data=dfs[\"perf_by_unit\"], x=\"rec_name\", y=\"recall\", order=order,\n",
    "              palette=\"Reds\", ax=axs_perf[2])\n",
    "axs_perf[2].set_title(\"Recall\", fontsize=15)\n",
    "\n",
    "\n",
    "fig_perf.subplots_adjust(hspace=0.3)"
   ]
  },
  {
   "cell_type": "code",
   "execution_count": null,
   "id": "aaaeeb11",
   "metadata": {},
   "outputs": [],
   "source": [
    "fig, ax = plt.subplots()\n",
    "p = ax.get_position()\n",
    "p.x1 = 0.85\n",
    "ax.set_position(p)\n",
    "sns.set_palette(sns.color_palette(\"Set1\"))\n",
    "df = pd.melt(dfs['perf_by_unit'], id_vars='rec_name', var_name='Metric', value_name='Score', \n",
    "             value_vars=('accuracy','precision', 'recall'))\n",
    "sns.swarmplot(data=df, x='rec_name', y='Score', hue='Metric', dodge=True,\n",
    "              order=order, ax=ax)\n",
    "ax.set_xticklabels(order, rotation=30, ha='center')\n",
    "ax.legend(bbox_to_anchor=(1.0, 1), loc=2, borderaxespad=0., frameon=False, fontsize=8, markerscale=0.5)\n",
    "ax.set_xlabel(None);\n",
    "ax.set_ylabel('Score');"
   ]
  },
  {
   "cell_type": "code",
   "execution_count": null,
   "id": "dd82690c",
   "metadata": {},
   "outputs": [],
   "source": [
    "fig, ax = plt.subplots()\n",
    "p = ax.get_position()\n",
    "p.x1=0.85\n",
    "ax.set_position(p)\n",
    "df = pd.melt(dfs['count_units'], id_vars='rec_name', var_name='Type', value_name='Units', \n",
    "             value_vars=('num_well_detected', 'num_false_positive', 'num_redundant', 'num_overmerged'))\n",
    "sns.set_palette(sns.color_palette(\"Set1\"))\n",
    "sns.barplot(x='rec_name', y='Units', hue='Type', data=df,\n",
    "            order=order, ax=ax)\n",
    "ax.set_xticklabels(order, rotation=30, ha='right')\n",
    "ax.axhline(len(sort_gt.unit_ids), color=\"grey\", ls=\"--\")\n",
    "ax.legend(bbox_to_anchor=(1.0, 1), loc=2, borderaxespad=0., frameon=False, fontsize=8, markerscale=0.1)"
   ]
  },
  {
   "cell_type": "code",
   "execution_count": null,
   "id": "ad23edbd",
   "metadata": {},
   "outputs": [],
   "source": [
    "dsets = {}\n",
    "for rec_name in study.rec_names:\n",
    "    for sort_name in study.sorter_names:\n",
    "        sorting = study.get_sorting(sort_name, rec_name)\n",
    "        if sorting is not None:\n",
    "            dsets[f\"{rec_name}_{sort_name}\"] = study.get_sorting(sort_name, rec_name)"
   ]
  },
  {
   "cell_type": "code",
   "execution_count": null,
   "id": "a7d685d5",
   "metadata": {},
   "outputs": [],
   "source": [
    "mcmp = si.compare_multiple_sorters(sorting_list=list(dsets.values()), \n",
    "                                   name_list=list(dsets.keys()), \n",
    "                                   verbose=True)"
   ]
  },
  {
   "cell_type": "code",
   "execution_count": null,
   "id": "a2865444",
   "metadata": {},
   "outputs": [],
   "source": [
    "si.plot_multicomp_agreement(mcmp)\n",
    "\n",
    "fig, axs = plt.subplots(nrows=2, ncols=4, figsize=(10, 7))\n",
    "\n",
    "axes = axs.ravel()[:len(study.rec_names)]\n",
    "for ax in axs.ravel()[len(study.rec_names):]:\n",
    "    ax.axis(\"off\")\n",
    "\n",
    "si.plot_multicomp_agreement_by_sorter(mcmp, axes=axes)"
   ]
  },
  {
   "cell_type": "markdown",
   "id": "b17d180d",
   "metadata": {},
   "source": [
    "### Neuropixels 2"
   ]
  },
  {
   "cell_type": "code",
   "execution_count": null,
   "id": "040f8003",
   "metadata": {},
   "outputs": [],
   "source": [
    "np_version = 2\n",
    "max_truncation = 6\n",
    "radius_um = 30\n",
    "probe_name = \"Neuropixels2.0\""
   ]
  },
  {
   "cell_type": "code",
   "execution_count": null,
   "id": "4fa19b83",
   "metadata": {},
   "outputs": [],
   "source": [
    "fig_np2, axs_np2 = plt.subplots(ncols=2)\n",
    "ax = axs_np2[0]\n",
    "sns.pointplot(data=res_np2, x=\"trunc_bit\", y=\"CR\", ax=ax, color=\"C0\")\n",
    "ax.spines[\"top\"].set_visible(False)\n",
    "ax.spines[\"right\"].set_visible(False)\n",
    "ax = axs_np2[1]\n",
    "sns.pointplot(data=res_np2, x=\"trunc_bit\", y=\"rmse\", ax=ax, color=\"C0\")\n",
    "ax.spines[\"top\"].set_visible(False)\n",
    "ax.spines[\"right\"].set_visible(False)\n",
    "\n",
    "fig_np2.suptitle(\"Neuropixels 2.0\", fontsize=15)"
   ]
  },
  {
   "cell_type": "code",
   "execution_count": null,
   "id": "b0eafc78",
   "metadata": {},
   "outputs": [],
   "source": [
    "mearec_file = mearec_folder / f\"np{np_version}_mearec_dist-corr.h5\"\n",
    "\n",
    "rec_gt, sort_gt = si.read_mearec(mearec_file)\n",
    "\n",
    "we_gt = si.extract_waveforms(rec_gt, sort_gt, folder=mearec_folder / f\"wf_{mearec_file.stem}\",\n",
    "                             load_if_exists=True, **job_kwargs)"
   ]
  },
  {
   "cell_type": "code",
   "execution_count": null,
   "id": "7b4e9ac7",
   "metadata": {},
   "outputs": [],
   "source": [
    "unit_idxs = [0, 1, 2, 3, 4, 5, 6]\n",
    "\n",
    "fig_u, ax_u = plt.subplots(nrows=len(unit_idxs), figsize=(7, 15))\n",
    "\n",
    "for i, unit_idx in enumerate(unit_idxs):\n",
    "    ax = ax_u[i]\n",
    "    unit_id = we_gt.sorting.unit_ids[unit_idx]\n",
    "    si.plot_unit_templates(we_gt, unit_ids=[unit_id], unit_colors={unit_id: \"k\"}, axes=[ax], radius_um=100)\n",
    "    ax.get_lines()[-1].set_label(\"GT\")\n",
    "\n",
    "    for index, row in res.iterrows():\n",
    "        if str(np_version) in row[\"probe\"]:\n",
    "            trunc_bit = row['trunc_bit']\n",
    "            if trunc_bit <= max_truncation:\n",
    "                we_bit = si.WaveformExtractor.load_from_folder(row[\"we_path\"])\n",
    "\n",
    "                si.plot_unit_templates(we_bit, unit_ids=[unit_id], unit_colors={unit_id: f\"C{row['trunc_bit']}\"}, \n",
    "                                       axes=[ax], radius_um=100)\n",
    "                ax.get_lines()[-1].set_label(f\"bit{row['trunc_bit']}\")\n",
    "    if i == len(unit_idxs) // 2:\n",
    "        ax.legend(bbox_to_anchor=(1.2, 0.2))\n",
    "\n",
    "fig_u.subplots_adjust(hspace=0.5, right=0.8)"
   ]
  },
  {
   "cell_type": "code",
   "execution_count": null,
   "id": "32b0415e",
   "metadata": {},
   "outputs": [],
   "source": [
    "sparsity_dict = dict(method=\"radius\", radius_um=radius_um)\n",
    "\n",
    "# compute template metrics\n",
    "df_tm = None\n",
    "for index, row in res.iterrows():\n",
    "    if str(np_version) in row[\"probe\"]:\n",
    "        trunc_bit = row['trunc_bit']\n",
    "        if trunc_bit <= max_truncation:\n",
    "            print(f\"Calculating template metrics for trunc bit: {trunc_bit}\")\n",
    "            we_bit = si.WaveformExtractor.load_from_folder(row[\"we_path\"])\n",
    "            tm = si.calculate_template_metrics(we_bit, upsample=10,\n",
    "                                               sparsity_dict=sparsity_dict)\n",
    "            tm[\"trunc_bit\"] = [trunc_bit] * len(tm)\n",
    "            if sparsity_dict is None:\n",
    "                tm[\"unit_id\"] = tm.index\n",
    "                tm[\"channel_idx\"] = [\"0\"] * len(tm)\n",
    "            else:\n",
    "                tm[\"unit_id\"] = tm.index.to_frame()[\"unit_id\"].values\n",
    "                tm[\"channel_id\"] = tm.index.to_frame()[\"channel_id\"].values\n",
    "                \n",
    "                # add channel rank\n",
    "                for unit_id in np.unique(tm.unit_id):\n",
    "                    tm_unit = tm.query(f\"unit_id == '{unit_id}'\")\n",
    "                    i = 0\n",
    "                    for index, row in tm_unit.iterrows():\n",
    "                        tm.at[index, \"channel_idx\"] = str(i)\n",
    "                        i += 1\n",
    "                \n",
    "            if df_tm is None:\n",
    "                df_tm = tm\n",
    "            else:\n",
    "                df_tm = pd.concat([df_tm, tm], ignore_index=True)"
   ]
  },
  {
   "cell_type": "code",
   "execution_count": null,
   "id": "b82c48d9",
   "metadata": {
    "scrolled": false
   },
   "outputs": [],
   "source": [
    "n_unit_to_plot = 10\n",
    "\n",
    "if sparsity_dict is None:\n",
    "    style = \"unit_id\"\n",
    "else:\n",
    "    style = \"channel_id\"\n",
    "\n",
    "unit_ids = we_gt.sorting.unit_ids\n",
    "\n",
    "units = unit_ids[np.random.permutation(len(unit_ids))[:n_unit_to_plot]]\n",
    "\n",
    "for rank in np.unique(df_tm.channel_idx):\n",
    "    fig, ax = plt.subplots(figsize=(10, 7))\n",
    "\n",
    "    df_rank = df_tm.query(f\"channel_idx == '{rank}'\")\n",
    "    df_units = df_rank.query(f\"unit_id in {list(units)}\")\n",
    "    sns.scatterplot(data=df_units, x=\"peak_to_valley\", \n",
    "                    y=\"half_width\", hue=\"unit_id\",\n",
    "                    size=\"trunc_bit\", palette=\"tab20\", ax=ax)\n",
    "    ax.legend(ncol=3)\n",
    "    \n",
    "    fig.suptitle(f\"Rank channel {rank}\", fontsize=15)"
   ]
  },
  {
   "cell_type": "code",
   "execution_count": null,
   "id": "6607399d",
   "metadata": {},
   "outputs": [],
   "source": [
    "features = [\"peak_to_valley\", \"peak_trough_ratio\", \"half_width\", \"repolarization_slope\", \"recovery_slope\"]\n",
    "\n",
    "# compare with bit trunc 0\n",
    "for index, row in df_tm.iterrows():\n",
    "    unit_id = row[\"unit_id\"]\n",
    "    channel_id = row[\"channel_id\"]\n",
    "    \n",
    "    df_ref = df_tm.query(f\"unit_id == '{unit_id}' and channel_id == '{channel_id}' and trunc_bit == 0\")\n",
    "        \n",
    "    if len(df_ref) == 1:\n",
    "        ref_series = df_ref.iloc[0]\n",
    "        for feat in features:\n",
    "            df_tm.at[index, f\"err_{feat}\"] = abs((row[feat] - ref_series[feat]) / ref_series[feat])\n",
    "    else:\n",
    "        for feat in features:\n",
    "            df_tm.at[index, f\"err_{feat}\"] = np.nan"
   ]
  },
  {
   "cell_type": "code",
   "execution_count": null,
   "id": "1e440dc9",
   "metadata": {
    "scrolled": false
   },
   "outputs": [],
   "source": [
    "for feat in features:\n",
    "    fig_err, ax_err = plt.subplots(ncols=2, figsize=(10, 7))\n",
    "    \n",
    "    sns.boxplot(data=df_tm.query(\"channel_idx == '0'\"), x=\"trunc_bit\", y=f\"err_{feat}\", showfliers=False, \n",
    "                ax=ax_err[0])\n",
    "    ax_err[0].set_title(\"Best channel\")\n",
    "    \n",
    "    sns.boxplot(data=df_tm, hue=\"trunc_bit\", y=f\"err_{feat}\", x=\"channel_idx\", showfliers=False,\n",
    "                ax=ax_err[1])\n",
    "    ax_err[1].set_title(\"All best channels\")\n",
    "\n",
    "    \n",
    "    fig_err.suptitle(feat, fontsize=15)"
   ]
  },
  {
   "cell_type": "code",
   "execution_count": null,
   "id": "6506793f",
   "metadata": {},
   "outputs": [],
   "source": [
    "print(df_tm.iloc[np.argmax(df_tm.err_recovery_slope)])\n",
    "\n",
    "unit_id = df_tm.iloc[np.argmax(df_tm.err_recovery_slope)].unit_id"
   ]
  },
  {
   "cell_type": "code",
   "execution_count": null,
   "id": "067d8bd9",
   "metadata": {},
   "outputs": [],
   "source": [
    "fig_u, ax_u = plt.subplots(figsize=(7, 15))\n",
    "\n",
    "ax = ax_u\n",
    "si.plot_unit_templates(we_gt, unit_ids=[unit_id], unit_colors={unit_id: \"k\"}, axes=[ax], radius_um=100)\n",
    "ax.get_lines()[-1].set_label(\"GT\")\n",
    "\n",
    "for index, row in res.iterrows():\n",
    "    if str(np_version) in row[\"probe\"]:\n",
    "        trunc_bit = row['trunc_bit']\n",
    "        if trunc_bit <= max_truncation:\n",
    "            we_bit = si.WaveformExtractor.load_from_folder(row[\"we_path\"])\n",
    "\n",
    "            si.plot_unit_templates(we_bit, unit_ids=[unit_id], unit_colors={unit_id: f\"C{row['trunc_bit']}\"}, \n",
    "                                   axes=[ax], radius_um=100)\n",
    "            ax.get_lines()[-1].set_label(f\"bit{row['trunc_bit']}\")\n",
    "ax.legend(bbox_to_anchor=(1.1, 0.2))\n",
    "\n",
    "fig_u.subplots_adjust(hspace=0.5, right=0.8)"
   ]
  },
  {
   "cell_type": "markdown",
   "id": "15309e5f",
   "metadata": {},
   "source": [
    "### Plot study results"
   ]
  },
  {
   "cell_type": "code",
   "execution_count": null,
   "id": "dab2816f",
   "metadata": {},
   "outputs": [],
   "source": [
    "study_folder"
   ]
  },
  {
   "cell_type": "code",
   "execution_count": null,
   "id": "0ebc712b",
   "metadata": {},
   "outputs": [],
   "source": [
    "sorter = \"kilosort2_5\"\n",
    "trunc_folder = data_folder / \"tmp_compression_bit_gt\" / \"trunc_GT\"\n",
    "study_folder = trunc_folder / f\"study_{probe_name}_{sorter}\"\n",
    "\n",
    "study = si.GroundTruthStudy(study_folder)\n",
    "study.run_comparisons(exhaustive_gt=True, verbose=True)"
   ]
  },
  {
   "cell_type": "code",
   "execution_count": null,
   "id": "6c53b830",
   "metadata": {},
   "outputs": [],
   "source": [
    "print(len(sort_gt.unit_ids))"
   ]
  },
  {
   "cell_type": "code",
   "execution_count": null,
   "id": "c02aa65c",
   "metadata": {},
   "outputs": [],
   "source": [
    "dfs = study.aggregate_dataframes()\n",
    "\n",
    "order = [f\"bit{i}\" for i in range(max_truncation + 1)]"
   ]
  },
  {
   "cell_type": "code",
   "execution_count": null,
   "id": "02d4b4af",
   "metadata": {
    "scrolled": false
   },
   "outputs": [],
   "source": [
    "fig_perf, axs_perf = plt.subplots(nrows=3, figsize=(7, 12))\n",
    "\n",
    "sns.swarmplot(data=dfs[\"perf_by_unit\"], x=\"rec_name\", y=\"accuracy\", order=order,\n",
    "              palette=\"Greens\", ax=axs_perf[0])\n",
    "axs_perf[0].set_title(\"Accuracy\", fontsize=15)\n",
    "\n",
    "sns.swarmplot(data=dfs[\"perf_by_unit\"], x=\"rec_name\", y=\"precision\", order=order,\n",
    "              palette=\"Blues\", ax=axs_perf[1])\n",
    "axs_perf[1].set_title(\"Precision\", fontsize=15)\n",
    "\n",
    "sns.swarmplot(data=dfs[\"perf_by_unit\"], x=\"rec_name\", y=\"recall\", order=order,\n",
    "              palette=\"Reds\", ax=axs_perf[2])\n",
    "axs_perf[2].set_title(\"Recall\", fontsize=15)\n",
    "\n",
    "fig_perf.subplots_adjust(hspace=0.3)\n"
   ]
  },
  {
   "cell_type": "code",
   "execution_count": null,
   "id": "bb07737a",
   "metadata": {},
   "outputs": [],
   "source": [
    "fig, ax = plt.subplots()\n",
    "p = ax.get_position()\n",
    "p.x1 = 0.85\n",
    "ax.set_position(p)\n",
    "sns.set_palette(sns.color_palette(\"Set1\"))\n",
    "df = pd.melt(dfs['perf_by_unit'], id_vars='rec_name', var_name='Metric', value_name='Score', \n",
    "             value_vars=('accuracy','precision', 'recall'))\n",
    "sns.swarmplot(data=df, x='rec_name', y='Score', hue='Metric', dodge=True,\n",
    "              order=order, ax=ax)\n",
    "ax.set_xticklabels(order, rotation=30, ha='center')\n",
    "ax.legend(bbox_to_anchor=(1.0, 1), loc=2, borderaxespad=0., frameon=False, fontsize=8, markerscale=0.5)\n",
    "ax.set_xlabel(None);\n",
    "ax.set_ylabel('Score');"
   ]
  },
  {
   "cell_type": "code",
   "execution_count": null,
   "id": "9337e130",
   "metadata": {},
   "outputs": [],
   "source": [
    "fig, ax = plt.subplots()\n",
    "p = ax.get_position()\n",
    "p.x1=0.85\n",
    "ax.set_position(p)\n",
    "df = pd.melt(dfs['count_units'], id_vars='rec_name', var_name='Type', value_name='Units', \n",
    "             value_vars=('num_well_detected', 'num_false_positive', 'num_redundant', 'num_overmerged'))\n",
    "sns.set_palette(sns.color_palette(\"Set1\"))\n",
    "sns.barplot(x='rec_name', y='Units', hue='Type', data=df,\n",
    "            order=order, ax=ax)\n",
    "ax.set_xticklabels(order, rotation=30, ha='right')\n",
    "ax.axhline(len(sort_gt.unit_ids), color=\"grey\", ls=\"--\")\n",
    "ax.legend(bbox_to_anchor=(1.0, 1), loc=2, borderaxespad=0., frameon=False, fontsize=8, markerscale=0.1)"
   ]
  },
  {
   "cell_type": "code",
   "execution_count": null,
   "id": "533cceaf",
   "metadata": {},
   "outputs": [],
   "source": [
    "dsets = {}\n",
    "for rec_name in study.rec_names:\n",
    "    for sort_name in study.sorter_names:\n",
    "        sorting = study.get_sorting(sort_name, rec_name)\n",
    "        if sorting is not None:\n",
    "            dsets[f\"{rec_name}_{sort_name}\"] = study.get_sorting(sort_name, rec_name)"
   ]
  },
  {
   "cell_type": "code",
   "execution_count": null,
   "id": "3e42b73d",
   "metadata": {
    "scrolled": true
   },
   "outputs": [],
   "source": [
    "mcmp = si.compare_multiple_sorters(sorting_list=list(dsets.values()), \n",
    "                                   name_list=list(dsets.keys()), \n",
    "                                   verbose=True)"
   ]
  },
  {
   "cell_type": "code",
   "execution_count": null,
   "id": "4b71ee05",
   "metadata": {},
   "outputs": [],
   "source": [
    "si.plot_multicomp_agreement(mcmp)\n",
    "\n",
    "fig, axs = plt.subplots(nrows=2, ncols=4, figsize=(10, 7))\n",
    "\n",
    "axes = axs.ravel()[:len(study.rec_names)]\n",
    "for ax in axs.ravel()[len(study.rec_names):]:\n",
    "    ax.axis(\"off\")\n",
    "\n",
    "si.plot_multicomp_agreement_by_sorter(mcmp, axes=axes)"
   ]
  }
 ],
 "metadata": {
  "kernelspec": {
   "display_name": "Python 3 (ipykernel)",
   "language": "python",
   "name": "python3"
  },
  "language_info": {
   "codemirror_mode": {
    "name": "ipython",
    "version": 3
   },
   "file_extension": ".py",
   "mimetype": "text/x-python",
   "name": "python",
   "nbconvert_exporter": "python",
   "pygments_lexer": "ipython3",
   "version": "3.9.11"
  }
 },
 "nbformat": 4,
 "nbformat_minor": 5
}
