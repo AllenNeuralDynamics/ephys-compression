{
 "cells": [
  {
   "cell_type": "code",
   "execution_count": null,
   "id": "f6d98f5c",
   "metadata": {},
   "outputs": [],
   "source": [
    "import gcsfs\n",
    "\n",
    "import spikeinterface.full as si\n",
    "\n",
    "import zarr"
   ]
  },
  {
   "cell_type": "markdown",
   "id": "adf1b523",
   "metadata": {},
   "source": [
    "# TODO monitor download"
   ]
  },
  {
   "cell_type": "code",
   "execution_count": null,
   "id": "bdd72699",
   "metadata": {},
   "outputs": [],
   "source": [
    "token = \"/home/alessio/.config/gcloud/legacy_credentials/alessiop.buccino@gmail.com/adc.json\""
   ]
  },
  {
   "cell_type": "code",
   "execution_count": null,
   "id": "11b9b412",
   "metadata": {},
   "outputs": [],
   "source": [
    "# create a toy example\n",
    "rec, sort = si.toy_example()"
   ]
  },
  {
   "cell_type": "code",
   "execution_count": null,
   "id": "3f3115df",
   "metadata": {},
   "outputs": [],
   "source": [
    "fs = gcsfs.GCSFileSystem(project=\"neural-dynamics-338018\", token=token)\n",
    "zarr_path = fs.get_mapper('aind-transfer-service-test/zarr-test-folder/si-toy-1job1.zarr')"
   ]
  },
  {
   "cell_type": "code",
   "execution_count": null,
   "id": "31e7c9d6",
   "metadata": {},
   "outputs": [],
   "source": [
    "rec_gcloud = rec.save(format=\"zarr\", zarr_path=zarr_path, progress_bar=True, chunk_duration=\"1s\", n_jobs=1)"
   ]
  },
  {
   "cell_type": "code",
   "execution_count": null,
   "id": "7a2931f4",
   "metadata": {},
   "outputs": [],
   "source": [
    "rec_gcloud"
   ]
  },
  {
   "cell_type": "code",
   "execution_count": null,
   "id": "0eb71bc4",
   "metadata": {},
   "outputs": [],
   "source": [
    "si.plot_timeseries(rec_gcloud, segment_index=1, time_range=[0, 1])"
   ]
  }
 ],
 "metadata": {
  "kernelspec": {
   "display_name": "Python 3 (ipykernel)",
   "language": "python",
   "name": "python3"
  },
  "language_info": {
   "codemirror_mode": {
    "name": "ipython",
    "version": 3
   },
   "file_extension": ".py",
   "mimetype": "text/x-python",
   "name": "python",
   "nbconvert_exporter": "python",
   "pygments_lexer": "ipython3",
   "version": "3.9.11"
  }
 },
 "nbformat": 4,
 "nbformat_minor": 5
}
