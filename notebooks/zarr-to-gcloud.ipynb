{
 "cells": [
  {
   "cell_type": "code",
   "execution_count": null,
   "id": "f6d98f5c",
   "metadata": {},
   "outputs": [],
   "source": [
    "# import gcsfs\n",
    "import sys\n",
    "import zarr\n",
    "from pathlib import Path\n",
    "import spikeinterface.full as si\n",
    "import time\n",
    "import numpy as np\n",
    "\n",
    "sys.path.append(\"..\")\n",
    "\n",
    "from utils import get_median_and_lsb\n",
    "\n",
    "%matplotlib notebook"
   ]
  },
  {
   "cell_type": "markdown",
   "id": "adf1b523",
   "metadata": {},
   "source": [
    "## SAVE"
   ]
  },
  {
   "cell_type": "code",
   "execution_count": null,
   "id": "bdd72699",
   "metadata": {},
   "outputs": [],
   "source": [
    "token = \"/home/alessio/.config/gcloud/legacy_credentials/alessiop.buccino@gmail.com/adc.json\""
   ]
  },
  {
   "cell_type": "code",
   "execution_count": null,
   "id": "3f3115df",
   "metadata": {},
   "outputs": [],
   "source": [
    "# fs = gcsfs.GCSFileSystem(project=\"neural-dynamics-338018\", token=token)\n",
    "# zarr_path = fs.get_mapper('aind-transfer-service-test/zarr-test-folder/si-toy-jobs8.zarr')"
   ]
  },
  {
   "cell_type": "code",
   "execution_count": null,
   "id": "e3449c6b",
   "metadata": {},
   "outputs": [],
   "source": [
    "storage_options={\"token\": token}"
   ]
  },
  {
   "cell_type": "code",
   "execution_count": null,
   "id": "85d3dd02",
   "metadata": {},
   "outputs": [],
   "source": [
    "np_version = 2\n",
    "\n",
    "if np_version == 2:\n",
    "    oe_folder = Path(\"/home/alessio/Documents/data/allen/npix-open-ephys/595262_2022-02-21_15-18-07\")\n",
    "else:\n",
    "    oe_folder = Path(\"/home/alessio/Documents/data/allen/npix-open-ephys/618382_2022-03-31_14-27-03\")\n",
    "rec_oe = si.read_openephys(oe_folder, stream_id=\"0\")\n",
    "rec_oe = si.split_recording(rec_oe)[0]\n",
    "print(rec_oe)\n",
    "\n",
    "dtype = rec_oe.get_dtype()\n",
    "\n",
    "# lsb_value, median_values = get_median_and_lsb(rec_oe)"
   ]
  },
  {
   "cell_type": "code",
   "execution_count": null,
   "id": "0a6efc92",
   "metadata": {},
   "outputs": [],
   "source": [
    "# # median correction\n",
    "rec_to_compress = si.scale(rec_oe, gain=1., offset=-median_values, dtype=dtype)\n",
    "rec_to_compress = si.scale(rec_oe, gain=1. / lsb_value, dtype=dtype)\n",
    "rec_to_compress.set_channel_gains(rec_to_compress.get_channel_gains() * lsb_value)"
   ]
  },
  {
   "cell_type": "code",
   "execution_count": null,
   "id": "03048f24",
   "metadata": {},
   "outputs": [],
   "source": [
    "duration = rec_to_compress.get_num_samples() / rec_to_compress.get_sampling_frequency()"
   ]
  },
  {
   "cell_type": "code",
   "execution_count": null,
   "id": "23c6b1e5",
   "metadata": {},
   "outputs": [],
   "source": [
    "zarr_path = f\"gcs://aind-transfer-service-test/zarr-test-folder/{oe_folder.name}_compressed.zarr\""
   ]
  },
  {
   "cell_type": "code",
   "execution_count": null,
   "id": "a6bd12dc",
   "metadata": {},
   "outputs": [],
   "source": [
    "# z = zarr.open(zarr_path, mode=\"w\", storage_options=storage_options)"
   ]
  },
  {
   "cell_type": "markdown",
   "id": "257ed1a4",
   "metadata": {},
   "source": [
    "**NOTE**: it doesn't seem to work with `n_jobs>1`. Need to investigate this!"
   ]
  },
  {
   "cell_type": "code",
   "execution_count": null,
   "id": "c2d115f4",
   "metadata": {},
   "outputs": [],
   "source": [
    "n_jobs = 1"
   ]
  },
  {
   "cell_type": "code",
   "execution_count": null,
   "id": "31e7c9d6",
   "metadata": {
    "scrolled": false
   },
   "outputs": [],
   "source": [
    "t_start = time.perf_counter()\n",
    "rec_gcloud = rec_to_compress.save(format=\"zarr\", zarr_path=zarr_path, storage_options=storage_options,\n",
    "                                  progress_bar=True, chunk_duration=\"1s\", n_jobs=n_jobs)\n",
    "t_stop = time.perf_counter()\n",
    "elapsed_time = np.round(t_stop - t_start, 2)\n",
    "\n",
    "xRT = duration / elapsed_time\n",
    "\n",
    "print(f\"Elapsed time to save to gcloud: {elapsed_time}s ({xRT} xRT)\")"
   ]
  },
  {
   "cell_type": "markdown",
   "id": "9f444bde",
   "metadata": {},
   "source": [
    "### Test on demand access"
   ]
  },
  {
   "cell_type": "code",
   "execution_count": null,
   "id": "23a6b29c",
   "metadata": {},
   "outputs": [],
   "source": [
    "rec_gcloud = si.read_zarr(zarr_path, storage_options=storage_options)"
   ]
  },
  {
   "cell_type": "code",
   "execution_count": null,
   "id": "5942d4f2",
   "metadata": {},
   "outputs": [],
   "source": [
    "rec_gcloud"
   ]
  },
  {
   "cell_type": "code",
   "execution_count": null,
   "id": "0eb71bc4",
   "metadata": {},
   "outputs": [],
   "source": [
    "chunk_duration = [1, 2, 5, 10, 20, 40]\n",
    "num_samples = rec_gcloud.get_num_samples()\n",
    "\n",
    "for i, dur in enumerate(chunk_duration):\n",
    "    print(f\"Chunk duration {dur}s\")\n",
    "    samples = int(rec_gcloud.get_sampling_frequency() * dur)\n",
    "    start_frame = np.random.randint(num_samples - samples - 1)\n",
    "    end_frame = start_frame + samples\n",
    "\n",
    "    t_start = time.perf_counter()\n",
    "    tr_ch = rec_gcloud.get_traces(start_frame=start_frame, end_frame=end_frame)\n",
    "    t_stop = time.perf_counter()\n",
    "    elapsed_time = np.round(t_stop - t_start, 2)\n",
    "    print(f\"Elapsed time to retrieve {dur}s traces: {elapsed_time} s\")"
   ]
  },
  {
   "cell_type": "code",
   "execution_count": null,
   "id": "73a3fbb7",
   "metadata": {},
   "outputs": [],
   "source": [
    "rec_gcloud.get_annotation(\"compression_ratio\")"
   ]
  },
  {
   "cell_type": "code",
   "execution_count": null,
   "id": "20b1ce16",
   "metadata": {},
   "outputs": [],
   "source": []
  }
 ],
 "metadata": {
  "kernelspec": {
   "display_name": "Python 3 (ipykernel)",
   "language": "python",
   "name": "python3"
  },
  "language_info": {
   "codemirror_mode": {
    "name": "ipython",
    "version": 3
   },
   "file_extension": ".py",
   "mimetype": "text/x-python",
   "name": "python",
   "nbconvert_exporter": "python",
   "pygments_lexer": "ipython3",
   "version": "3.9.11"
  }
 },
 "nbformat": 4,
 "nbformat_minor": 5
}
