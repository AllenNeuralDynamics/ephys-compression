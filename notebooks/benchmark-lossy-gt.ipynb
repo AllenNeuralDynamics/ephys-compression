{
 "cells": [
  {
   "cell_type": "markdown",
   "id": "393c05e0",
   "metadata": {},
   "source": [
    "# Benchmark lossy strategies on GT MEArec data\n",
    "\n",
    "In this notebook we analyze how lossy compression affects downstream analysis, inscluding spike sorting. \n",
    "\n",
    "We use two different strategies:\n",
    "\n",
    "- Bit truncation\n",
    "- WavPack hybrid mode\n",
    "\n",
    "The analysis focuses on:\n",
    "\n",
    "* compression performance\n",
    "* influence on spike sorting results\n",
    "* influence on waveform shapes\n",
    "\n",
    "This notebook assumes the `ephys-compression/scripts/benchmark-lossy-gt.py` has been run and the `ephys-compression/data/results/benchmark-lossy-gt.csv` and `ephys-compression/data/results/benchmark-lossy-gt-wfs.csv` are available. Moreover, ground-truth recordings for NP1 and NP2 needs to be present in the `ephys-compression/data/mearec` folder (using the `ephys-compression/notebooks/generate-gt-neuropixels-recordings.ipynb` notebook)."
   ]
  },
  {
   "cell_type": "code",
   "execution_count": null,
   "id": "cc97da1c",
   "metadata": {},
   "outputs": [],
   "source": [
    "import pandas as pd\n",
    "import seaborn as sns\n",
    "import matplotlib.pyplot as plt\n",
    "import numpy as np\n",
    "import sys\n",
    "from pathlib import Path\n",
    "\n",
    "import spikeinterface.full as si\n",
    "\n",
    "sys.path.append(\"..\")\n",
    "\n",
    "from audio_numcodecs import WavPackCodec\n",
    "from utils import prettify_axes\n",
    "\n",
    "%matplotlib notebook"
   ]
  },
  {
   "cell_type": "code",
   "execution_count": null,
   "id": "67c65c45",
   "metadata": {},
   "outputs": [],
   "source": [
    "save_fig = True\n",
    "\n",
    "fig_folder = Path(\".\") / \"figures\" / \"lossy\"\n",
    "fig_folder.mkdir(exist_ok=True, parents=True)"
   ]
  },
  {
   "cell_type": "code",
   "execution_count": null,
   "id": "c78c7261",
   "metadata": {},
   "outputs": [],
   "source": [
    "data_folder = Path(\"../data\")"
   ]
  },
  {
   "cell_type": "code",
   "execution_count": null,
   "id": "95d54b34",
   "metadata": {},
   "outputs": [],
   "source": [
    "res = pd.read_csv(data_folder / \"results\" / \"benchmark-lossy-gt.csv\", index_col=False)\n",
    "res_wfs = pd.read_csv(data_folder / \"results\" / \"benchmark-lossy-gt-wfs.csv\", index_col=False)"
   ]
  },
  {
   "cell_type": "code",
   "execution_count": null,
   "id": "393599e0",
   "metadata": {},
   "outputs": [],
   "source": [
    "job_kwargs = {\"n_jobs\": 10, \"chunk_duration\": \"1s\", \"progress_bar\": True}"
   ]
  },
  {
   "cell_type": "code",
   "execution_count": null,
   "id": "07576615",
   "metadata": {},
   "outputs": [],
   "source": [
    "# # plot some traces\n",
    "res_np1 = res.query(\"probe == 'Neuropixels1.0'\")\n",
    "res_np2 = res.query(\"probe == 'Neuropixels2.0'\")"
   ]
  },
  {
   "cell_type": "code",
   "execution_count": null,
   "id": "99c4d082",
   "metadata": {},
   "outputs": [],
   "source": [
    "res.head()"
   ]
  },
  {
   "cell_type": "code",
   "execution_count": null,
   "id": "ab279f17",
   "metadata": {},
   "outputs": [],
   "source": [
    "res_wv = res.query(\"strategy == 'wavpack'\")\n",
    "wv_order = [0] + list(np.sort(np.unique(res_wv.factor))[::-1][:-1])\n",
    "res_bit = res.query(\"strategy == 'bit_truncation'\")\n",
    "bit_order = list(np.sort(np.unique(res_bit.factor)))"
   ]
  },
  {
   "cell_type": "markdown",
   "id": "58f1fe11",
   "metadata": {},
   "source": [
    "Compute dataframe with relative errors"
   ]
  },
  {
   "cell_type": "code",
   "execution_count": null,
   "id": "614cf16c",
   "metadata": {},
   "outputs": [],
   "source": [
    "template_metrics = si.get_template_metric_names()\n",
    "df_errors = None\n",
    "for bit in bit_order[1:]:\n",
    "    strategy = \"bit_truncation\"\n",
    "    new_e_df = res_wfs[[\"probe\", \"unit_id\", \"distance\"]].copy()\n",
    "    new_e_df.loc[:, \"strategy\"] = [strategy] * len(new_e_df)\n",
    "    new_e_df.loc[:, \"factor\"] = [bit] * len(new_e_df)\n",
    "\n",
    "    for metric in template_metrics:\n",
    "        metric_gt = f\"{metric}_gt\"\n",
    "        metric_tested = f\"{metric}_{strategy}_{bit}\"\n",
    "        error = np.abs(res_wfs[metric_tested] - res_wfs[metric_gt]) / np.abs(res_wfs[metric_gt])\n",
    "        new_e_df.loc[:, f\"err_{metric}\"] = error\n",
    "        \n",
    "    if df_errors is None:\n",
    "        df_errors = new_e_df\n",
    "    else:\n",
    "        df_errors = pd.concat([df_errors, new_e_df])\n",
    "        \n",
    "for wv in wv_order[1:]:\n",
    "    strategy = \"wavpack\"\n",
    "    new_e_df = res_wfs[[\"probe\", \"unit_id\", \"distance\"]].copy()\n",
    "    new_e_df.loc[:, \"strategy\"] = [strategy] * len(new_e_df)\n",
    "    new_e_df.loc[:, \"factor\"] = [wv] * len(new_e_df)\n",
    "\n",
    "    for metric in template_metrics:\n",
    "        metric_gt = f\"{metric}_gt\"\n",
    "        metric_tested = f\"{metric}_{strategy}_{wv}\"\n",
    "        error = np.abs(res_wfs[metric_tested] - res_wfs[metric_gt]) / np.abs(res_wfs[metric_gt])\n",
    "        new_e_df.loc[:, f\"err_{metric}\"] = error\n",
    "        \n",
    "    if df_errors is None:\n",
    "        df_errors = new_e_df\n",
    "    else:\n",
    "        df_errors = pd.concat([df_errors, new_e_df])"
   ]
  },
  {
   "cell_type": "code",
   "execution_count": null,
   "id": "551623b6",
   "metadata": {},
   "outputs": [],
   "source": [
    "bit_cmap = plt.get_cmap(\"tab10\")\n",
    "wv_cmap = plt.get_cmap(\"tab10\")\n",
    "\n",
    "bit_colors = {}\n",
    "for b, bit in enumerate(bit_order):\n",
    "    bit_colors[bit] = bit_cmap(b / len(bit_order))\n",
    "wv_colors = {}\n",
    "for w, wv in enumerate(wv_order):\n",
    "    wv_colors[wv] = wv_cmap(w / len(wv_order))"
   ]
  },
  {
   "cell_type": "code",
   "execution_count": null,
   "id": "aa00407e",
   "metadata": {},
   "outputs": [],
   "source": [
    "probes = np.unique(res.probe)"
   ]
  },
  {
   "cell_type": "code",
   "execution_count": null,
   "id": "522c5659",
   "metadata": {},
   "outputs": [],
   "source": [
    "mearec_file_np1 = res_np1.iloc[0][\"rec_gt\"]\n",
    "mearec_file_np2 = res_np2.iloc[0][\"rec_gt\"]\n",
    "\n",
    "rec_gt1, sort_gt1 = si.read_mearec(mearec_file_np1)\n",
    "rec_gt2, sort_gt2 = si.read_mearec(mearec_file_np2)\n",
    "\n",
    "gt_dict = {\"Neuropixels1.0\": {\"rec\": rec_gt1, \"sort\": sort_gt1},\n",
    "           \"Neuropixels2.0\": {\"rec\": rec_gt2, \"sort\": sort_gt2}}\n",
    "\n",
    "fs = rec_gt1.get_sampling_frequency()"
   ]
  },
  {
   "cell_type": "markdown",
   "id": "9b18f434",
   "metadata": {},
   "source": [
    "# Bit truncation"
   ]
  },
  {
   "cell_type": "code",
   "execution_count": null,
   "id": "40c64893",
   "metadata": {},
   "outputs": [],
   "source": [
    "res_bit.head()"
   ]
  },
  {
   "cell_type": "code",
   "execution_count": null,
   "id": "c4414544",
   "metadata": {
    "scrolled": false
   },
   "outputs": [],
   "source": [
    "fig_bit_cr_rmse, axs_bit_cr_rmse = plt.subplots(ncols=2, nrows=1, figsize=(15, 6))\n",
    "\n",
    "# bit truncation\n",
    "ax = axs_bit_cr_rmse[0]\n",
    "sns.pointplot(data=res_bit, x=\"factor\", y=\"CR\", hue=\"probe\", ax=ax)\n",
    "ax.set_ylim(0, 100)\n",
    "ax.axhline(10, color=\"grey\", ls=\"--\")\n",
    "ax.axhline(5, color=\"grey\", ls=\"-.\")\n",
    "ax.text(-0.5, 10.2, \"10\", color=\"grey\", fontsize=12)\n",
    "ax.text(-0.5, 5.2, \"5\", color=\"grey\", fontsize=12)\n",
    "\n",
    "ax = axs_bit_cr_rmse[1]\n",
    "sns.pointplot(data=res_bit, x=\"factor\", y=\"rmse\", hue=\"probe\", ax=ax)\n",
    "ax.set_ylim(-0.5, 7)\n",
    "ax.axhline(1.5, color=\"grey\", ls=\"--\")\n",
    "ax.text(-0.5, 1.55, \"1.5\", color=\"grey\", fontsize=12)\n",
    "\n",
    "prettify_axes(axs_bit_cr_rmse)\n",
    "\n",
    "fig_bit_cr_rmse.suptitle(\"Bit truncation\", fontsize=20)\n",
    "fig_bit_cr_rmse.subplots_adjust(hspace=0.3)"
   ]
  },
  {
   "cell_type": "code",
   "execution_count": null,
   "id": "bfa159fb",
   "metadata": {},
   "outputs": [],
   "source": [
    "if save_fig:\n",
    "    fig_bit_cr_rmse.savefig(fig_folder / \"bit_cr_rmse.pdf\")"
   ]
  },
  {
   "cell_type": "markdown",
   "id": "022ff952",
   "metadata": {},
   "source": [
    "### Check traces"
   ]
  },
  {
   "cell_type": "code",
   "execution_count": null,
   "id": "47f1116a",
   "metadata": {},
   "outputs": [],
   "source": [
    "fig_bit_traces, axs = plt.subplots(nrows=2, ncols=2, sharex=False, sharey=False, figsize=(15, 10))\n",
    "\n",
    "alpha = 0.7\n",
    "channel_ids1 = [\"351\"]\n",
    "channel_ids2 = [\"313\"]\n",
    "nsec = 0.003\n",
    "t_start1 = 30.044\n",
    "t_start2 = 30.02\n",
    "\n",
    "time_range1 = [t_start1, t_start1 + nsec]\n",
    "time_range2 = [t_start2, t_start2 + nsec]\n",
    "\n",
    "lw_gt = 3\n",
    "\n",
    "rec_gt1_f = si.bandpass_filter(rec_gt1)\n",
    "rec_gt2_f = si.bandpass_filter(rec_gt2)\n",
    "\n",
    "time_range = time_range1\n",
    "timestamps = np.linspace(time_range[0], time_range[1], int(nsec * rec_gt1.get_sampling_frequency()))\n",
    "start_frame = int(time_range[0] * fs)\n",
    "end_frame = int(time_range[1] * fs)\n",
    "traces_gt1 = rec_gt1.get_traces(start_frame=start_frame, end_frame=end_frame,\n",
    "                                channel_ids=channel_ids1, return_scaled=True)[:, 0]\n",
    "\n",
    "traces_gt1_f = rec_gt1_f.get_traces(start_frame=start_frame, end_frame=end_frame,\n",
    "                                    channel_ids=channel_ids1, return_scaled=True)[:, 0]\n",
    "axs[0, 0].plot(timestamps, traces_gt1, color=\"k\", alpha=alpha, lw=lw_gt, label=\"GT\")\n",
    "axs[1, 0].plot(timestamps, traces_gt1_f, color=\"k\", alpha=alpha, lw=lw_gt, label=\"GT\")\n",
    "\n",
    "time_range = time_range2\n",
    "timestamps = np.linspace(time_range[0], time_range[1], int(nsec * rec_gt1.get_sampling_frequency()))\n",
    "start_frame = int(time_range[0] * fs)\n",
    "end_frame = int(time_range[1] * fs)\n",
    "traces_gt2 = rec_gt2.get_traces(start_frame=start_frame, end_frame=end_frame,\n",
    "                                channel_ids=channel_ids2, return_scaled=True)[:, 0]\n",
    "\n",
    "traces_gt2_f = rec_gt2_f.get_traces(start_frame=start_frame, end_frame=end_frame,\n",
    "                                    channel_ids=channel_ids2, return_scaled=True)[:, 0]\n",
    "axs[0, 1].plot(timestamps, traces_gt2, color=\"k\", alpha=alpha, lw=lw_gt, label=\"GT\")\n",
    "axs[1, 1].plot(timestamps, traces_gt2_f, color=\"k\", alpha=alpha, lw=lw_gt, label=\"GT\")\n",
    "\n",
    "for bit in bit_order:\n",
    "    if bit > 0: # skip lossless\n",
    "        for probe in probes:\n",
    "            row = res_bit.query(f\"factor == {bit} and probe == '{probe}'\").iloc[0]\n",
    "            factor = row[\"factor\"]\n",
    "            strategy = row[\"strategy\"]\n",
    "            rec_zarr = si.read_zarr(row[\"rec_zarr_path\"])\n",
    "            rec_f = si.bandpass_filter(rec_zarr)\n",
    "            if \"1\" in probe:\n",
    "                ax_idx = 0\n",
    "                channel_ids = channel_ids1\n",
    "                time_range = time_range1\n",
    "            else:\n",
    "                ax_idx = 1\n",
    "                channel_ids = channel_ids2\n",
    "                time_range = time_range2\n",
    "            timestamps = np.linspace(time_range[0], time_range[1], int(nsec * rec_gt1.get_sampling_frequency()))\n",
    "            start_frame = int(time_range[0] * fs)\n",
    "            end_frame = int(time_range[1] * fs)\n",
    "\n",
    "            traces = rec_zarr.get_traces(start_frame=start_frame, end_frame=end_frame,\n",
    "                                         channel_ids=channel_ids, return_scaled=True)[:, 0]\n",
    "            traces_f = rec_f.get_traces(start_frame=start_frame, end_frame=end_frame,\n",
    "                                        channel_ids=channel_ids, return_scaled=True)[:, 0]\n",
    "            \n",
    "            axs[0, ax_idx].plot(timestamps, traces, color=bit_colors[factor], alpha=alpha, label=f\"bit{factor}\")\n",
    "            axs[1, ax_idx].plot(timestamps, traces_f, color=bit_colors[factor], alpha=alpha, label=f\"bit{factor}\") \n",
    "        \n",
    "\n",
    "axs[0, 0].set_title(\"Neuropixels 1.0\\nRaw\")\n",
    "axs[0, 1].set_title(\"Neuropixels 2.0\\nRaw\")\n",
    "axs[1, 0].set_title(\"Filtered\")\n",
    "axs[1, 1].set_title(\"Filtered\")\n",
    "axs[0, 0].legend(ncol=4)\n",
    "axs[0, 1].legend(ncol=4)\n",
    "\n",
    "axs[0, 0].set_ylabel(\"V ($\\mu$V)\")\n",
    "axs[1, 0].set_ylabel(\"V ($\\mu$V)\")\n",
    "axs[1, 0].set_xlabel(\"time (s)\")\n",
    "axs[1, 1].set_xlabel(\"time (s)\")\n",
    "\n",
    "prettify_axes(axs)\n",
    "fig_bit_traces.suptitle(\"Bit truncation - traces\", fontsize=15)"
   ]
  },
  {
   "cell_type": "code",
   "execution_count": null,
   "id": "447aed0c",
   "metadata": {},
   "outputs": [],
   "source": [
    "if save_fig:\n",
    "    fig_bit_traces.savefig(fig_folder / \"bit_traces.pdf\")"
   ]
  },
  {
   "cell_type": "code",
   "execution_count": null,
   "id": "4688e28a",
   "metadata": {},
   "outputs": [],
   "source": [
    "np1_lsb_uV = res_np1.iloc[0].lsb_value * 0.195\n",
    "np2_lsb_uV = res_np2.iloc[0].lsb_value * 0.195"
   ]
  },
  {
   "cell_type": "code",
   "execution_count": null,
   "id": "393afbb6",
   "metadata": {},
   "outputs": [],
   "source": [
    "for bit in bit_order:\n",
    "    print(\"NP1\", np1_lsb_uV * 2**bit, \"NP2\", np2_lsb_uV * 2**bit)"
   ]
  },
  {
   "cell_type": "code",
   "execution_count": null,
   "id": "3ec7da07",
   "metadata": {},
   "outputs": [],
   "source": [
    "print(res_bit.query(\"probe == 'Neuropixels2.0'\").sort_values(\"factor\").to_latex(columns=[\"factor\", \"CR\", \"rmse\"], index=False))"
   ]
  },
  {
   "cell_type": "markdown",
   "id": "5f359231",
   "metadata": {},
   "source": [
    "### Spike sorting "
   ]
  },
  {
   "cell_type": "code",
   "execution_count": null,
   "id": "1a1ebd28",
   "metadata": {},
   "outputs": [],
   "source": [
    "fig_bit_ss, axs_bit_ss = plt.subplots(ncols=2, nrows=2, figsize=(15, 6))\n",
    "\n",
    "bit_labels = [int(b) for b in bit_order]\n",
    "\n",
    "for probe in probes:\n",
    "    if \"1\" in probe:\n",
    "        col = 0\n",
    "    else:\n",
    "        col = 1\n",
    "    \n",
    "    res_probe = res_bit.query(f\"probe == '{probe}'\")\n",
    "    \n",
    "    ax = axs_bit_ss[0, col]\n",
    "    df_perf = pd.melt(res_probe, id_vars='factor', var_name='metric', value_name='value', \n",
    "                      value_vars=('avg_accuracy', 'avg_precision', 'avg_recall'))\n",
    "    sns.barplot(x='factor', y='value', hue='metric', data=df_perf,\n",
    "                order=bit_order, ax=ax, palette=sns.color_palette(\"Set2\"))\n",
    "    ax.set_xticklabels(bit_labels, rotation=30, ha='right')\n",
    "    ax.legend(loc=3)\n",
    "    ax.set_ylabel(\"\")\n",
    "    ax.set_xlabel(\"\")\n",
    "    \n",
    "    ax = axs_bit_ss[1, col]\n",
    "    df_count = pd.melt(res_probe, id_vars='factor', var_name='Type', value_name='Units', \n",
    "             value_vars=('num_well_detected', 'num_false_positive', 'num_redundant', 'num_overmerged'))\n",
    "    sns.barplot(x='factor', y='Units', hue='Type', data=df_count,\n",
    "                order=bit_order, ax=ax, palette=sns.color_palette(\"Set2\"))\n",
    "    ax.set_xticklabels(bit_labels, rotation=30, ha='right')\n",
    "    ax.legend(loc=2)\n",
    "    ax.set_ylabel(\"# units\")\n",
    "    ax.set_xlabel(\"\")\n",
    "    ax.set_ylim(-1, 500)\n",
    "    ax.axhline(100, color=\"grey\", ls=\"--\")\n",
    "\n",
    "axs_bit_ss[0, 0].set_title(\"Neuropixels 1.0\", fontsize=18)\n",
    "axs_bit_ss[0, 1].set_title(\"Neuropixels 2.0\", fontsize=18)\n",
    "axs_bit_ss[1, 0].set_xlabel(\"# bit\")\n",
    "axs_bit_ss[1, 1].set_xlabel(\"# bit\")\n",
    "axs_bit_ss[0, 0].set_ylabel(\"avg. value\")\n",
    "axs_bit_ss[1, 0].set_ylabel(\"avg. value\")\n",
    "\n",
    "\n",
    "prettify_axes(axs_bit_ss)\n",
    "\n",
    "fig_bit_ss.suptitle(\"Spike sorting performance\", fontsize=20)\n",
    "fig_bit_ss.subplots_adjust(hspace=0.3)"
   ]
  },
  {
   "cell_type": "code",
   "execution_count": null,
   "id": "9bc123ca",
   "metadata": {},
   "outputs": [],
   "source": [
    "if save_fig:\n",
    "    fig_bit_ss.savefig(fig_folder / \"bit_ss.pdf\")"
   ]
  },
  {
   "cell_type": "markdown",
   "id": "15cbfa47",
   "metadata": {},
   "source": [
    "### Waveforms"
   ]
  },
  {
   "cell_type": "code",
   "execution_count": null,
   "id": "3093659b",
   "metadata": {
    "scrolled": false
   },
   "outputs": [],
   "source": [
    "fig_bit_feat, ax_bit_feat = plt.subplots(ncols=len(template_metrics), nrows=2, figsize=(15, 10))\n",
    "\n",
    "df_errors_bit = df_errors.query(\"strategy == 'bit_truncation'\")\n",
    "\n",
    "for probe in probes:\n",
    "    if \"1\" in probe:\n",
    "        row = 0\n",
    "    else:\n",
    "        row = 1\n",
    "    for i, metric in enumerate(template_metrics):\n",
    "        ax = ax_bit_feat[row, i]\n",
    "        sns.boxenplot(data=df_errors_bit.query(f\"probe == '{probe}'\"), \n",
    "                      x=\"factor\", y=f\"err_{metric}\", hue=\"distance\",\n",
    "                      order=bit_order[1:], showfliers=False, ax=ax,\n",
    "                      palette=sns.color_palette(\"tab10\"))\n",
    "        ax.set_xlabel(\"\")\n",
    "        ax.set_ylabel(\"\")\n",
    "        if i == 0:\n",
    "            ax.set_ylabel(f\"{probe}\\n values\")\n",
    "        if row == 1:\n",
    "            ax.set_xlabel(\"# bit\")\n",
    "        else:\n",
    "            ax.set_title(metric, fontsize=15)\n",
    "        ax.axhline(0.1, color=\"grey\", ls=\"--\")\n",
    "        ax.text(0, 0.11, \"10%\", fontsize=10, color=\"grey\")\n",
    "        ax.set_ylim(-0.05, 0.5)\n",
    "prettify_axes(ax_bit_feat, label_fs=15)\n",
    "fig_bit_feat.suptitle(\"Waveform features\", fontsize=20)\n",
    "fig_bit_feat.subplots_adjust(hspace=0.3, wspace=0.2)"
   ]
  },
  {
   "cell_type": "code",
   "execution_count": null,
   "id": "b97c5e34",
   "metadata": {},
   "outputs": [],
   "source": [
    "if save_fig:\n",
    "    fig_bit_feat.savefig(fig_folder / \"bit_feature_errors.pdf\")"
   ]
  },
  {
   "cell_type": "code",
   "execution_count": null,
   "id": "f8030485",
   "metadata": {
    "scrolled": true
   },
   "outputs": [],
   "source": [
    "distances = np.unique(res_wfs[\"distance\"])\n",
    "strategy = \"bit_truncation\"\n",
    "figs_bit_features = {}\n",
    "for probe in probes:\n",
    "    df_wfs_probe = res_wfs.query(f\"probe == '{probe}'\")\n",
    "    for bit in bit_order[1:]:\n",
    "        fig_m, axs_m = plt.subplots(nrows=len(template_metrics), ncols=len(distances), figsize=(15, 10))\n",
    "\n",
    "        for i, metric in enumerate(template_metrics):\n",
    "            for j, dist in enumerate(distances):\n",
    "                tm_dist = df_wfs_probe.query(f\"distance == {dist}\")\n",
    "                gt_metric_name = f\"{metric}_gt\"\n",
    "                sns.scatterplot(data=tm_dist, x=gt_metric_name, y=f\"{metric}_{strategy}_{bit}\", \n",
    "                                color=f\"C{j}\",\n",
    "                                ax=axs_m[i, j])\n",
    "                axs_m[i, j].set_yticks([])\n",
    "                axs_m[i, j].set_xticks([])\n",
    "                axs_m[i, j].set_xlabel(\"\")\n",
    "                axs_m[i, j].set_ylabel(\"\")\n",
    "                lims = [np.min(tm_dist[gt_metric_name]) - 0.2 * np.ptp(tm_dist[gt_metric_name]), \n",
    "                        np.max(tm_dist[gt_metric_name]) + 0.2 * np.ptp(tm_dist[gt_metric_name])]\n",
    "                axs_m[i, j].plot(lims, lims, color=\"grey\", alpha=0.7, ls=\"--\")\n",
    "                axs_m[i, j].axis(\"equal\")\n",
    "                if i == 0:\n",
    "                    axs_m[i, j].set_title(f\"Dist: {int(dist)} $\\mu$m\")\n",
    "                if i == len(template_metrics) - 1:\n",
    "                    axs_m[i, j].set_xlabel(f\"(gt)\")\n",
    "                if j == 0:\n",
    "                    axs_m[i, j].set_ylabel(f\"{metric}\\n({bit})\")\n",
    "\n",
    "        prettify_axes(axs_m, label_fs=11)\n",
    "        fig_m.suptitle(f\"{probe} - {strategy}-{bit}\")\n",
    "        fig_m.subplots_adjust(wspace=0.1, hspace=0.3)\n",
    "        figs_bit_features[f\"{probe}_{strategy}_{bit}\"] = fig_m"
   ]
  },
  {
   "cell_type": "code",
   "execution_count": null,
   "id": "56407af2",
   "metadata": {},
   "outputs": [],
   "source": [
    "if save_fig:\n",
    "    fig_features_folder = fig_folder / \"features_bit\"\n",
    "    fig_features_folder.mkdir(exist_ok=True)\n",
    "    for fig_name, fig in figs_bit_features.items():\n",
    "        fig.savefig(fig_features_folder / f\"{fig_name}.pdf\")"
   ]
  },
  {
   "cell_type": "markdown",
   "id": "69708440",
   "metadata": {},
   "source": [
    "# WavPack Hybrid"
   ]
  },
  {
   "cell_type": "code",
   "execution_count": null,
   "id": "ae24a7be",
   "metadata": {},
   "outputs": [],
   "source": [
    "res_wv.head()"
   ]
  },
  {
   "cell_type": "code",
   "execution_count": null,
   "id": "65cbdc3e",
   "metadata": {
    "scrolled": false
   },
   "outputs": [],
   "source": [
    "fig_wv_cr_rmse, axs_wv_cr_rmse = plt.subplots(ncols=2, nrows=1, figsize=(15, 6))\n",
    "\n",
    "# bit truncation\n",
    "ax = axs_wv_cr_rmse[0]\n",
    "sns.pointplot(data=res_wv, x=\"factor\", y=\"CR\", hue=\"probe\", ax=ax, order=wv_order)\n",
    "ax.set_ylim(0, 11)\n",
    "ax.axhline(10, color=\"grey\", ls=\"--\")\n",
    "ax.axhline(5, color=\"grey\", ls=\"-.\")\n",
    "ax.text(-0.5, 10.2, \"10\", color=\"grey\", fontsize=12)\n",
    "ax.text(-0.5, 5.2, \"5\", color=\"grey\", fontsize=12)\n",
    "\n",
    "ax = axs_wv_cr_rmse[1]\n",
    "sns.pointplot(data=res_wv, x=\"factor\", y=\"rmse\", hue=\"probe\", ax=ax, order=wv_order)\n",
    "ax.set_ylim(-0.5, 7)\n",
    "ax.axhline(1.5, color=\"grey\", ls=\"--\")\n",
    "ax.text(-0.5, 1.55, \"1.5\", color=\"grey\", fontsize=12)\n",
    "\n",
    "prettify_axes(axs_wv_cr_rmse)\n",
    "\n",
    "fig_wv_cr_rmse.suptitle(\"WavPack Hybrid\", fontsize=20)\n",
    "fig_wv_cr_rmse.subplots_adjust(hspace=0.3)"
   ]
  },
  {
   "cell_type": "code",
   "execution_count": null,
   "id": "c4d09fb7",
   "metadata": {},
   "outputs": [],
   "source": [
    "if save_fig:\n",
    "    fig_wv_cr_rmse.savefig(fig_folder / \"wv_cr_rmse.pdf\")"
   ]
  },
  {
   "cell_type": "markdown",
   "id": "d1db3daf",
   "metadata": {},
   "source": [
    "### Check traces"
   ]
  },
  {
   "cell_type": "code",
   "execution_count": null,
   "id": "e5f3dbab",
   "metadata": {},
   "outputs": [],
   "source": [
    "fig_wv_traces, axs = plt.subplots(nrows=2, ncols=2, sharex=False, sharey=False, figsize=(15, 10))\n",
    "\n",
    "alpha = 0.8\n",
    "channel_ids1 = [\"351\"]\n",
    "channel_ids2 = [\"313\"]\n",
    "nsec = 0.003\n",
    "t_start1 = 30.044\n",
    "t_start2 = 30.02\n",
    "\n",
    "time_range1 = [t_start1, t_start1 + nsec]\n",
    "time_range2 = [t_start2, t_start2 + nsec]\n",
    "\n",
    "lw_gt = 3\n",
    "\n",
    "rec_gt1_f = si.bandpass_filter(rec_gt1)\n",
    "rec_gt2_f = si.bandpass_filter(rec_gt2)\n",
    "\n",
    "time_range = time_range1\n",
    "timestamps = np.linspace(time_range[0], time_range[1], int(nsec * rec_gt1.get_sampling_frequency()))\n",
    "start_frame = int(time_range[0] * fs)\n",
    "end_frame = int(time_range[1] * fs)\n",
    "traces_gt1 = rec_gt1.get_traces(start_frame=start_frame, end_frame=end_frame,\n",
    "                                channel_ids=channel_ids1, return_scaled=True)[:, 0]\n",
    "\n",
    "traces_gt1_f = rec_gt1_f.get_traces(start_frame=start_frame, end_frame=end_frame,\n",
    "                                    channel_ids=channel_ids1, return_scaled=True)[:, 0]\n",
    "axs[0, 0].plot(timestamps, traces_gt1, color=\"k\", alpha=alpha, lw=lw_gt, label=\"GT\")\n",
    "axs[1, 0].plot(timestamps, traces_gt1_f, color=\"k\", alpha=alpha, lw=lw_gt, label=\"GT\")\n",
    "\n",
    "time_range = time_range2\n",
    "timestamps = np.linspace(time_range[0], time_range[1], int(nsec * rec_gt1.get_sampling_frequency()))\n",
    "start_frame = int(time_range[0] * fs)\n",
    "end_frame = int(time_range[1] * fs)\n",
    "traces_gt2 = rec_gt2.get_traces(start_frame=start_frame, end_frame=end_frame,\n",
    "                                channel_ids=channel_ids2, return_scaled=True)[:, 0]\n",
    "\n",
    "traces_gt2_f = rec_gt2_f.get_traces(start_frame=start_frame, end_frame=end_frame,\n",
    "                                    channel_ids=channel_ids2, return_scaled=True)[:, 0]\n",
    "axs[0, 1].plot(timestamps, traces_gt2, color=\"k\", alpha=alpha, lw=lw_gt, label=\"GT\")\n",
    "axs[1, 1].plot(timestamps, traces_gt2_f, color=\"k\", alpha=alpha, lw=lw_gt, label=\"GT\")\n",
    "\n",
    "for wv in wv_order:\n",
    "    if wv > 0: # skip lossless\n",
    "        for probe in probes:\n",
    "            row = res_wv.query(f\"factor == {wv} and probe == '{probe}'\").iloc[0]\n",
    "            factor = row[\"factor\"]\n",
    "            strategy = row[\"strategy\"]\n",
    "            rec_zarr = si.read_zarr(row[\"rec_zarr_path\"])\n",
    "            rec_f = si.bandpass_filter(rec_zarr)\n",
    "            if \"1\" in probe:\n",
    "                ax_idx = 0\n",
    "                channel_ids = channel_ids1\n",
    "                time_range = time_range1\n",
    "            else:\n",
    "                ax_idx = 1\n",
    "                channel_ids = channel_ids2\n",
    "                time_range = time_range2\n",
    "            timestamps = np.linspace(time_range[0], time_range[1], int(nsec * rec_gt1.get_sampling_frequency()))\n",
    "            start_frame = int(time_range[0] * fs)\n",
    "            end_frame = int(time_range[1] * fs)\n",
    "\n",
    "            traces = rec_zarr.get_traces(start_frame=start_frame, end_frame=end_frame,\n",
    "                                         channel_ids=channel_ids, return_scaled=True)[:, 0]\n",
    "            traces_f = rec_f.get_traces(start_frame=start_frame, end_frame=end_frame,\n",
    "                                        channel_ids=channel_ids, return_scaled=True)[:, 0]\n",
    "            \n",
    "            axs[0, ax_idx].plot(timestamps, traces, color=wv_colors[factor], alpha=alpha, label=f\"wv{factor}\")\n",
    "            axs[1, ax_idx].plot(timestamps, traces_f, color=wv_colors[factor], alpha=alpha, label=f\"wv{factor}\") \n",
    "        \n",
    "\n",
    "axs[0, 0].set_title(\"Neuropixels 1.0\\nRaw\")\n",
    "axs[0, 1].set_title(\"Neuropixels 2.0\\nRaw\")\n",
    "axs[1, 0].set_title(\"Filtered\")\n",
    "axs[1, 1].set_title(\"Filtered\")\n",
    "axs[0, 0].legend(ncol=4)\n",
    "axs[0, 1].legend(ncol=4)\n",
    "\n",
    "axs[0, 0].set_ylabel(\"V ($\\mu$V)\")\n",
    "axs[1, 0].set_ylabel(\"V ($\\mu$V)\")\n",
    "axs[1, 0].set_xlabel(\"time (s)\")\n",
    "axs[1, 1].set_xlabel(\"time (s)\")\n",
    "\n",
    "prettify_axes(axs)\n",
    "fig_wv_traces.suptitle(\"WavPack Hybrid - traces\", fontsize=15)"
   ]
  },
  {
   "cell_type": "code",
   "execution_count": null,
   "id": "aa9f8cf4",
   "metadata": {},
   "outputs": [],
   "source": [
    "if save_fig:\n",
    "    fig_wv_traces.savefig(fig_folder / \"wv_traces.pdf\")"
   ]
  },
  {
   "cell_type": "code",
   "execution_count": null,
   "id": "c4263fbe",
   "metadata": {},
   "outputs": [],
   "source": [
    "print(res_wv.query(\"probe == 'Neuropixels1.0'\").sort_values(\"factor\", ascending=False).to_latex(columns=[\"probe\", \"factor\", \"CR\", \"rmse\"], index=False))\n",
    "\n",
    "print(res_wv.query(\"probe == 'Neuropixels2.0'\").sort_values(\"factor\", ascending=False).to_latex(columns=[\"probe\", \"factor\", \"CR\", \"rmse\"], index=False))"
   ]
  },
  {
   "cell_type": "code",
   "execution_count": null,
   "id": "f39c496d",
   "metadata": {},
   "outputs": [],
   "source": [
    "fig_wv_ss, axs_wv_ss = plt.subplots(ncols=2, nrows=2, figsize=(15, 6))\n",
    "\n",
    "wv_labels = wv_order\n",
    "\n",
    "for probe in probes:\n",
    "    if \"1\" in probe:\n",
    "        col = 0\n",
    "    else:\n",
    "        col = 1\n",
    "    \n",
    "    res_probe = res_wv.query(f\"probe == '{probe}'\")\n",
    "    \n",
    "    ax = axs_wv_ss[0, col]\n",
    "    df_perf = pd.melt(res_probe, id_vars='factor', var_name='metric', value_name='value', \n",
    "                      value_vars=('avg_accuracy', 'avg_precision', 'avg_recall'))\n",
    "    sns.barplot(x='factor', y='value', hue='metric', data=df_perf,\n",
    "                order=wv_order, ax=ax, palette=sns.color_palette(\"Set2\"))\n",
    "    ax.set_xticklabels(wv_labels, rotation=30, ha='right')\n",
    "    ax.legend(loc=3)\n",
    "    ax.set_ylabel(\"\")\n",
    "    ax.set_xlabel(\"\")\n",
    "    \n",
    "    ax = axs_wv_ss[1, col]\n",
    "    df_count = pd.melt(res_probe, id_vars='factor', var_name='Type', value_name='Units', \n",
    "                       value_vars=('num_well_detected', 'num_false_positive', 'num_redundant', 'num_overmerged'))\n",
    "    sns.barplot(x='factor', y='Units', hue='Type', data=df_count,\n",
    "                order=wv_order, ax=ax, palette=sns.color_palette(\"Set1\"))\n",
    "    ax.set_xticklabels(wv_labels, rotation=30, ha='right')\n",
    "    ax.legend(loc=2, ncol=2)\n",
    "    ax.set_ylabel(\"# units\")\n",
    "    ax.set_xlabel(\"\")\n",
    "    ax.set_ylim(-1, 150)\n",
    "    ax.axhline(100, color=\"grey\", ls=\"--\")\n",
    "\n",
    "axs_wv_ss[0, 0].set_title(\"Neuropixels 1.0\", fontsize=18)\n",
    "axs_wv_ss[0, 1].set_title(\"Neuropixels 2.0\", fontsize=18)\n",
    "axs_wv_ss[1, 0].set_xlabel(\"hybrid factor\")\n",
    "axs_wv_ss[1, 1].set_xlabel(\"hybrid factor\")\n",
    "axs_wv_ss[0, 0].set_ylabel(\"avg. value\")\n",
    "axs_wv_ss[1, 0].set_ylabel(\"avg. value\")\n",
    "\n",
    "\n",
    "prettify_axes(axs_wv_ss)\n",
    "\n",
    "fig_wv_ss.suptitle(\"Spike sorting performance\", fontsize=20)\n",
    "fig_wv_ss.subplots_adjust(hspace=0.3)"
   ]
  },
  {
   "cell_type": "code",
   "execution_count": null,
   "id": "8bd12f70",
   "metadata": {},
   "outputs": [],
   "source": [
    "if save_fig:\n",
    "    fig_wv_ss.savefig(fig_folder / \"wv_ss.pdf\")"
   ]
  },
  {
   "cell_type": "code",
   "execution_count": null,
   "id": "d5c8923a",
   "metadata": {
    "scrolled": false
   },
   "outputs": [],
   "source": [
    "fig_wv_feat, ax_wv_feat = plt.subplots(ncols=len(template_metrics), nrows=2, figsize=(15, 10))\n",
    "\n",
    "df_errors_wv = df_errors.query(\"strategy == 'wavpack'\")\n",
    "\n",
    "for probe in probes:\n",
    "    if \"1\" in probe:\n",
    "        row = 0\n",
    "    else:\n",
    "        row = 1\n",
    "    for i, metric in enumerate(template_metrics):\n",
    "        ax = ax_wv_feat[row, i]\n",
    "        sns.boxenplot(data=df_errors_wv.query(f\"probe == '{probe}'\"), \n",
    "                      x=\"factor\", y=f\"err_{metric}\", hue=\"distance\",\n",
    "                      order=wv_order[1:], showfliers=False, ax=ax)\n",
    "        ax.set_xlabel(\"\")\n",
    "        ax.set_ylabel(\"\")\n",
    "        if i == 0:\n",
    "            ax.set_ylabel(f\"{probe}\\n values\")\n",
    "        if row == 1:\n",
    "            ax.set_xlabel(\"hybrid factor\")\n",
    "        else:\n",
    "            ax.set_title(metric, fontsize=15)\n",
    "        ax.axhline(0.1, color=\"grey\", ls=\"--\")\n",
    "        ax.text(0, 0.11, \"10%\", fontsize=10, color=\"grey\")\n",
    "        ax.set_ylim(-0.05, 0.5)\n",
    "prettify_axes(ax_wv_feat, label_fs=15)\n",
    "fig_wv_feat.suptitle(\"Waveform features\", fontsize=20)\n",
    "fig_wv_feat.subplots_adjust(hspace=0.3, wspace=0.2)"
   ]
  },
  {
   "cell_type": "code",
   "execution_count": null,
   "id": "38a1659d",
   "metadata": {},
   "outputs": [],
   "source": [
    "if save_fig:\n",
    "    fig_wv_feat.savefig(fig_folder / \"wv_feature_errors.pdf\")"
   ]
  },
  {
   "cell_type": "code",
   "execution_count": null,
   "id": "44110cc0",
   "metadata": {
    "scrolled": true
   },
   "outputs": [],
   "source": [
    "distances = np.unique(res_wfs[\"distance\"])\n",
    "strategy = \"wavpack\"\n",
    "figs_wv_features = {}\n",
    "for probe in probes:\n",
    "    df_wfs_probe = res_wfs.query(f\"probe == '{probe}'\")\n",
    "    for wv in wv_order[1:]:\n",
    "        fig_m, axs_m = plt.subplots(nrows=len(template_metrics), ncols=len(distances), figsize=(15, 10))\n",
    "\n",
    "        for i, metric in enumerate(template_metrics):\n",
    "            for j, dist in enumerate(distances):\n",
    "                tm_dist = df_wfs_probe.query(f\"distance == {dist}\")\n",
    "                gt_metric_name = f\"{metric}_gt\"\n",
    "                sns.scatterplot(data=tm_dist, x=gt_metric_name, y=f\"{metric}_{strategy}_{wv}\", \n",
    "                                color=f\"C{j}\",\n",
    "                                ax=axs_m[i, j])\n",
    "                axs_m[i, j].set_yticks([])\n",
    "                axs_m[i, j].set_xticks([])\n",
    "                axs_m[i, j].set_xlabel(\"\")\n",
    "                axs_m[i, j].set_ylabel(\"\")\n",
    "                lims = [np.min(tm_dist[gt_metric_name]) - 0.2 * np.ptp(tm_dist[gt_metric_name]), \n",
    "                        np.max(tm_dist[gt_metric_name]) + 0.2 * np.ptp(tm_dist[gt_metric_name])]\n",
    "                axs_m[i, j].plot(lims, lims, color=\"grey\", alpha=0.7, ls=\"--\")\n",
    "                axs_m[i, j].axis(\"equal\")\n",
    "                if i == 0:\n",
    "                    axs_m[i, j].set_title(f\"Dist: {int(dist)} $\\mu$m\")\n",
    "                if i == len(template_metrics) - 1:\n",
    "                    axs_m[i, j].set_xlabel(f\"(gt)\")\n",
    "                if j == 0:\n",
    "                    axs_m[i, j].set_ylabel(f\"{metric}\\n({wv})\")\n",
    "\n",
    "        prettify_axes(axs_m, label_fs=11)\n",
    "        fig_m.suptitle(f\"{probe} - {strategy}-{wv}\")\n",
    "        fig_m.subplots_adjust(wspace=0.1, hspace=0.3)\n",
    "        figs_wv_features[f\"{probe}_{strategy}_{wv}\"] = fig_m"
   ]
  },
  {
   "cell_type": "code",
   "execution_count": null,
   "id": "226cae30",
   "metadata": {},
   "outputs": [],
   "source": [
    "if save_fig:\n",
    "    fig_features_folder = fig_folder / \"features_wv\"\n",
    "    fig_features_folder.mkdir(exist_ok=True)\n",
    "    for fig_name, fig in figs_wv_features.items():\n",
    "        fig.savefig(fig_features_folder / f\"{fig_name}.pdf\")"
   ]
  }
 ],
 "metadata": {
  "kernelspec": {
   "display_name": "Python 3 (ipykernel)",
   "language": "python",
   "name": "python3"
  },
  "language_info": {
   "codemirror_mode": {
    "name": "ipython",
    "version": 3
   },
   "file_extension": ".py",
   "mimetype": "text/x-python",
   "name": "python",
   "nbconvert_exporter": "python",
   "pygments_lexer": "ipython3",
   "version": "3.9.11"
  }
 },
 "nbformat": 4,
 "nbformat_minor": 5
}
