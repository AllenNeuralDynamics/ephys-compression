{
 "cells": [
  {
   "cell_type": "markdown",
   "id": "393c05e0",
   "metadata": {},
   "source": [
    "# Benchmark lossy strategies on experimental data\n",
    "\n",
    "In this notebook we analyze how lossy compression affects experimental datasets.\n",
    "\n",
    "We use two different strategies:\n",
    "\n",
    "- Bit truncation\n",
    "- WavPack hybrid mode\n",
    "\n",
    "The analysis focuses:\n",
    "\n",
    "* compression performance\n",
    "* influence on spike sorting results\n",
    "\n",
    "This notebook assumes the `ephys-compression/scripts/benchmark-lossy-nogt.py` has been run and the `ephys-compression/data/results/benchmark-lossy-nogt.csv` is available."
   ]
  },
  {
   "cell_type": "code",
   "execution_count": null,
   "id": "cc97da1c",
   "metadata": {},
   "outputs": [],
   "source": [
    "import pandas as pd\n",
    "import seaborn as sns\n",
    "import matplotlib.pyplot as plt\n",
    "import numpy as np\n",
    "import sys\n",
    "from pathlib import Path\n",
    "\n",
    "import spikeinterface.full as si\n",
    "\n",
    "sys.path.append(\"..\")\n",
    "\n",
    "from audio_numcodecs import WavPackCodec\n",
    "from utils import prettify_axes\n",
    "\n",
    "%matplotlib notebook"
   ]
  },
  {
   "cell_type": "code",
   "execution_count": null,
   "id": "67c65c45",
   "metadata": {},
   "outputs": [],
   "source": [
    "save_fig = True\n",
    "\n",
    "fig_folder = Path(\".\") / \"figures\" / \"lossy-nogt\"\n",
    "fig_folder.mkdir(exist_ok=True, parents=True)"
   ]
  },
  {
   "cell_type": "code",
   "execution_count": null,
   "id": "c78c7261",
   "metadata": {},
   "outputs": [],
   "source": [
    "data_folder = Path(\"../data\")"
   ]
  },
  {
   "cell_type": "code",
   "execution_count": null,
   "id": "95d54b34",
   "metadata": {},
   "outputs": [],
   "source": [
    "res = pd.read_csv(data_folder / \"results\" / \"benchmark-lossy-nogt.csv\", index_col=False)"
   ]
  },
  {
   "cell_type": "code",
   "execution_count": null,
   "id": "393599e0",
   "metadata": {},
   "outputs": [],
   "source": [
    "job_kwargs = {\"n_jobs\": 10, \"chunk_duration\": \"1s\", \"progress_bar\": True}"
   ]
  },
  {
   "cell_type": "code",
   "execution_count": null,
   "id": "07576615",
   "metadata": {},
   "outputs": [],
   "source": [
    "# # plot some traces\n",
    "res_np1 = res.query(\"probe == 'Neuropixels1.0'\")\n",
    "res_np2 = res.query(\"probe == 'Neuropixels2.0'\")"
   ]
  },
  {
   "cell_type": "code",
   "execution_count": null,
   "id": "99c4d082",
   "metadata": {},
   "outputs": [],
   "source": [
    "res.head()"
   ]
  },
  {
   "cell_type": "code",
   "execution_count": null,
   "id": "ab279f17",
   "metadata": {},
   "outputs": [],
   "source": [
    "res_wv = res.query(\"strategy == 'wavpack'\")\n",
    "wv_order = [0] + list(np.sort(np.unique(res_wv.factor))[::-1][:-1])\n",
    "res_bit = res.query(\"strategy == 'bit_truncation'\")\n",
    "bit_order = list(np.sort(np.unique(res_bit.factor)))"
   ]
  },
  {
   "cell_type": "code",
   "execution_count": null,
   "id": "551623b6",
   "metadata": {},
   "outputs": [],
   "source": [
    "bit_cmap = plt.get_cmap(\"tab10\")\n",
    "wv_cmap = plt.get_cmap(\"tab10\")\n",
    "\n",
    "bit_colors = {}\n",
    "for b, bit in enumerate(bit_order):\n",
    "    bit_colors[bit] = bit_cmap(b / len(bit_order))\n",
    "bit_colors[0] = \"k\"\n",
    "wv_colors = {}\n",
    "for w, wv in enumerate(wv_order):\n",
    "    wv_colors[wv] = wv_cmap(w / len(wv_order))\n",
    "wv_colors[0] = \"k\""
   ]
  },
  {
   "cell_type": "code",
   "execution_count": null,
   "id": "aa00407e",
   "metadata": {},
   "outputs": [],
   "source": [
    "probes = np.unique(res.probe)"
   ]
  },
  {
   "cell_type": "markdown",
   "id": "9b18f434",
   "metadata": {},
   "source": [
    "# CR - RMSE"
   ]
  },
  {
   "cell_type": "code",
   "execution_count": null,
   "id": "c4414544",
   "metadata": {
    "scrolled": false
   },
   "outputs": [],
   "source": [
    "fig_cr_rmse, axs_cr_rmse = plt.subplots(ncols=2, nrows=2, figsize=(15, 10))\n",
    "\n",
    "# bit truncation\n",
    "ax = axs_cr_rmse[0, 0]\n",
    "sns.pointplot(data=res_bit, x=\"factor\", y=\"CR\", hue=\"probe\", ax=ax,\n",
    "              order=bit_order)\n",
    "ax.set_ylim(0, 50)\n",
    "ax.axhline(10, color=\"grey\", ls=\"--\")\n",
    "ax.axhline(5, color=\"grey\", ls=\"-.\")\n",
    "ax.text(-0.5, 10.2, \"10\", color=\"grey\", fontsize=12)\n",
    "ax.text(-0.5, 5.2, \"5\", color=\"grey\", fontsize=12)\n",
    "ax.set_ylabel(\"Bit truncation\\nCR\")\n",
    "\n",
    "ax = axs_cr_rmse[0, 1]\n",
    "sns.pointplot(data=res_bit, x=\"factor\", y=\"rmse\", hue=\"probe\", ax=ax,\n",
    "              order=bit_order)\n",
    "ax.set_ylim(-0.5, 30)\n",
    "ax.axhline(1.5, color=\"grey\", ls=\"--\")\n",
    "ax.text(-0.5, 1.55, \"1.5\", color=\"grey\", fontsize=12)\n",
    "\n",
    "ax = axs_cr_rmse[1, 0]\n",
    "sns.pointplot(data=res_wv, x=\"factor\", y=\"CR\", hue=\"probe\", ax=ax,\n",
    "              order=wv_order)\n",
    "ax.set_ylim(0, 15)\n",
    "ax.axhline(10, color=\"grey\", ls=\"--\")\n",
    "ax.axhline(5, color=\"grey\", ls=\"-.\")\n",
    "ax.text(-0.5, 10.2, \"10\", color=\"grey\", fontsize=12)\n",
    "ax.text(-0.5, 5.2, \"5\", color=\"grey\", fontsize=12)\n",
    "ax.set_ylabel(\"WavPack hybrid\\nCR\")\n",
    "\n",
    "ax = axs_cr_rmse[1, 1]\n",
    "sns.pointplot(data=res_wv, x=\"factor\", y=\"rmse\", hue=\"probe\", ax=ax,\n",
    "              order=wv_order)\n",
    "ax.set_ylim(-0.5, 10)\n",
    "ax.axhline(1.5, color=\"grey\", ls=\"--\")\n",
    "ax.text(-0.5, 1.55, \"1.5\", color=\"grey\", fontsize=12)\n",
    "\n",
    "prettify_axes(axs_cr_rmse)\n",
    "\n",
    "# fig_bit_cr_rmse.suptitle(\"Bit truncation\", fontsize=20)\n",
    "fig_cr_rmse.subplots_adjust(hspace=0.3)"
   ]
  },
  {
   "cell_type": "code",
   "execution_count": null,
   "id": "bfa159fb",
   "metadata": {},
   "outputs": [],
   "source": [
    "if save_fig:\n",
    "    fig_cr_rmse.savefig(fig_folder / \"cr_rmse.pdf\")"
   ]
  },
  {
   "cell_type": "markdown",
   "id": "022ff952",
   "metadata": {},
   "source": [
    "# Traces"
   ]
  },
  {
   "cell_type": "code",
   "execution_count": null,
   "id": "47f1116a",
   "metadata": {
    "scrolled": false
   },
   "outputs": [],
   "source": [
    "fig_bit_traces, axs = plt.subplots(nrows=2, ncols=2, sharex=False, sharey=False, figsize=(15, 10))\n",
    "\n",
    "alpha = 0.7\n",
    "channel_ids1 = [\"AP241\"]\n",
    "channel_ids2 = [\"AP21\"]\n",
    "nsec = 0.004\n",
    "t_start1 = 30.056\n",
    "t_start2 = 30.188\n",
    "\n",
    "time_range1 = [t_start1, t_start1 + nsec]\n",
    "time_range2 = [t_start2, t_start2 + nsec]\n",
    "\n",
    "lw_gt = 3\n",
    "\n",
    "for bit in bit_order:\n",
    "    for probe in probes:\n",
    "        row = res_bit.query(f\"factor == {bit} and probe == '{probe}'\").iloc[0]\n",
    "        factor = row[\"factor\"]\n",
    "        strategy = row[\"strategy\"]\n",
    "        rec_zarr = si.read_zarr(row[\"rec_zarr_path\"])\n",
    "        rec_f = si.bandpass_filter(rec_zarr)\n",
    "        if \"1\" in probe:\n",
    "            ax_idx = 0\n",
    "            channel_ids = channel_ids1\n",
    "            time_range = time_range1\n",
    "        else:\n",
    "            ax_idx = 1\n",
    "            channel_ids = channel_ids2\n",
    "            time_range = time_range2\n",
    "            \n",
    "        fs = rec_zarr.get_sampling_frequency()\n",
    "        timestamps = np.linspace(time_range[0], time_range[1], int(nsec * fs))\n",
    "        start_frame = int(time_range[0] * fs)\n",
    "        end_frame = int(time_range[1] * fs)\n",
    "\n",
    "        traces = rec_zarr.get_traces(start_frame=start_frame, end_frame=end_frame,\n",
    "                                     channel_ids=channel_ids, return_scaled=True)[:, 0]\n",
    "        traces_f = rec_f.get_traces(start_frame=start_frame, end_frame=end_frame,\n",
    "                                    channel_ids=channel_ids, return_scaled=True)[:, 0]\n",
    "\n",
    "        axs[0, ax_idx].plot(timestamps, traces, color=bit_colors[factor], alpha=alpha, label=f\"bit{factor}\")\n",
    "        axs[1, ax_idx].plot(timestamps, traces_f, color=bit_colors[factor], alpha=alpha, label=f\"bit{factor}\") \n",
    "        \n",
    "\n",
    "axs[0, 0].set_title(\"Neuropixels 1.0\\nRaw\")\n",
    "axs[0, 1].set_title(\"Neuropixels 2.0\\nRaw\")\n",
    "axs[1, 0].set_title(\"Filtered\")\n",
    "axs[1, 1].set_title(\"Filtered\")\n",
    "axs[0, 0].legend(ncol=4)\n",
    "axs[0, 1].legend(ncol=4)\n",
    "\n",
    "axs[0, 0].set_ylabel(\"V ($\\mu$V)\")\n",
    "axs[1, 0].set_ylabel(\"V ($\\mu$V)\")\n",
    "axs[1, 0].set_xlabel(\"time (s)\")\n",
    "axs[1, 1].set_xlabel(\"time (s)\")\n",
    "\n",
    "prettify_axes(axs)\n",
    "fig_bit_traces.suptitle(\"Bit truncation - traces\", fontsize=15)"
   ]
  },
  {
   "cell_type": "code",
   "execution_count": null,
   "id": "5460a6c9",
   "metadata": {},
   "outputs": [],
   "source": [
    "fig_wv_traces, axs = plt.subplots(nrows=2, ncols=2, sharex=False, sharey=False, figsize=(15, 10))\n",
    "\n",
    "alpha = 0.7\n",
    "channel_ids1 = [\"AP241\"]\n",
    "channel_ids2 = [\"AP21\"]\n",
    "nsec = 0.004\n",
    "t_start1 = 30.056\n",
    "t_start2 = 30.188\n",
    "\n",
    "time_range1 = [t_start1, t_start1 + nsec]\n",
    "time_range2 = [t_start2, t_start2 + nsec]\n",
    "\n",
    "lw_gt = 3\n",
    "\n",
    "for wv in wv_order:\n",
    "    for probe in probes:\n",
    "        row = res_wv.query(f\"factor == {wv} and probe == '{probe}'\").iloc[0]\n",
    "        factor = row[\"factor\"]\n",
    "        strategy = row[\"strategy\"]\n",
    "        rec_zarr = si.read_zarr(row[\"rec_zarr_path\"])\n",
    "        rec_f = si.bandpass_filter(rec_zarr)\n",
    "        if \"1\" in probe:\n",
    "            ax_idx = 0\n",
    "            channel_ids = channel_ids1\n",
    "            time_range = time_range1\n",
    "        else:\n",
    "            ax_idx = 1\n",
    "            channel_ids = channel_ids2\n",
    "            time_range = time_range2\n",
    "            \n",
    "        fs = rec_zarr.get_sampling_frequency()\n",
    "        timestamps = np.linspace(time_range[0], time_range[1], int(nsec * fs))\n",
    "        start_frame = int(time_range[0] * fs)\n",
    "        end_frame = int(time_range[1] * fs)\n",
    "\n",
    "        traces = rec_zarr.get_traces(start_frame=start_frame, end_frame=end_frame,\n",
    "                                     channel_ids=channel_ids, return_scaled=True)[:, 0]\n",
    "        traces_f = rec_f.get_traces(start_frame=start_frame, end_frame=end_frame,\n",
    "                                    channel_ids=channel_ids, return_scaled=True)[:, 0]\n",
    "\n",
    "        axs[0, ax_idx].plot(timestamps, traces, color=wv_colors[factor], alpha=alpha, label=f\"hf{factor}\")\n",
    "        axs[1, ax_idx].plot(timestamps, traces_f, color=wv_colors[factor], alpha=alpha, label=f\"hf{factor}\") \n",
    "        \n",
    "\n",
    "axs[0, 0].set_title(\"Neuropixels 1.0\\nRaw\")\n",
    "axs[0, 1].set_title(\"Neuropixels 2.0\\nRaw\")\n",
    "axs[1, 0].set_title(\"Filtered\")\n",
    "axs[1, 1].set_title(\"Filtered\")\n",
    "axs[0, 0].legend(ncol=4)\n",
    "axs[0, 1].legend(ncol=4)\n",
    "\n",
    "axs[0, 0].set_ylabel(\"V ($\\mu$V)\")\n",
    "axs[1, 0].set_ylabel(\"V ($\\mu$V)\")\n",
    "axs[1, 0].set_xlabel(\"time (s)\")\n",
    "axs[1, 1].set_xlabel(\"time (s)\")\n",
    "\n",
    "prettify_axes(axs)\n",
    "fig_wv_traces.suptitle(\"WavPack hybrid - traces\", fontsize=15)"
   ]
  },
  {
   "cell_type": "code",
   "execution_count": null,
   "id": "447aed0c",
   "metadata": {},
   "outputs": [],
   "source": [
    "if save_fig:\n",
    "    fig_wv_traces.savefig(fig_folder / \"exp_wv_traces.pdf\")"
   ]
  },
  {
   "cell_type": "markdown",
   "id": "2b93ebd2",
   "metadata": {},
   "source": [
    "# Spike sorting"
   ]
  },
  {
   "cell_type": "code",
   "execution_count": null,
   "id": "1a1ebd28",
   "metadata": {},
   "outputs": [],
   "source": [
    "fig_ss, axs_ss = plt.subplots(ncols=2, nrows=2, figsize=(15, 6))\n",
    "\n",
    "bit_labels = [int(b) for b in bit_order]\n",
    "wv_labels = wv_order\n",
    "\n",
    "for probe in probes:\n",
    "    if \"1\" in probe:\n",
    "        col = 0\n",
    "    else:\n",
    "        col = 1\n",
    "    \n",
    "    res_bit_probe = res_bit.query(f\"probe == '{probe}'\")\n",
    "    res_wv_probe = res_wv.query(f\"probe == '{probe}'\")\n",
    "    \n",
    "    ax = axs_ss[0, col]\n",
    "    df_bit = pd.melt(res_bit_probe, id_vars='factor', var_name='Type', value_name='Units', \n",
    "                     value_vars=('n_curated_good_units', 'n_curated_bad_units'))\n",
    "    sns.barplot(x='factor', y='Units', hue='Type', data=df_bit,\n",
    "                order=bit_order, ax=ax, palette=sns.color_palette(\"Set1\"))\n",
    "    ax.set_xticklabels(bit_labels, rotation=30, ha='right')\n",
    "    if col == 0 and \"1\" in probe:\n",
    "        ax.legend(loc=2)\n",
    "    else:\n",
    "        ax.legend(loc=3)\n",
    "    ax.set_ylabel(\"\")\n",
    "    ax.set_xlabel(\"\")\n",
    "    n_good_lossless = res_bit_probe.query(\"factor == 0\")[\"n_curated_good_units\"].values[0]\n",
    "    ax.axhline(n_good_lossless, color=\"grey\", ls=\"--\")    \n",
    "    \n",
    "    ax = axs_ss[1, col]\n",
    "    df_wv = pd.melt(res_wv_probe, id_vars='factor', var_name='Type', value_name='Units', \n",
    "                    value_vars=('n_curated_good_units', 'n_curated_bad_units'))\n",
    "    sns.barplot(x='factor', y='Units', hue='Type', data=df_wv,\n",
    "                order=wv_order, ax=ax, palette=sns.color_palette(\"Set2\"))\n",
    "    ax.set_xticklabels(wv_labels, rotation=30, ha='right')\n",
    "    ax.legend(loc=4)\n",
    "    ax.set_ylabel(\"\")\n",
    "    ax.set_xlabel(\"\")\n",
    "    n_good_lossless = res_wv_probe.query(\"factor == 0\")[\"n_curated_good_units\"].values[0]\n",
    "    ax.axhline(n_good_lossless, color=\"grey\", ls=\"--\")\n",
    "\n",
    "axs_ss[0, 0].set_title(\"Neuropixels 1.0\", fontsize=18)\n",
    "axs_ss[0, 1].set_title(\"Neuropixels 2.0\", fontsize=18)\n",
    "axs_ss[0, 0].set_xlabel(\"# bits\")\n",
    "axs_ss[0, 1].set_xlabel(\"# bits\")\n",
    "axs_ss[1, 0].set_xlabel(\"hybrid factor\")\n",
    "axs_ss[1, 1].set_xlabel(\"hybrid factor\")\n",
    "axs_ss[0, 0].set_ylabel(\"Bit truncation\\n# units\")\n",
    "axs_ss[1, 0].set_ylabel(\"WavPack hybrid\\n# units\")\n",
    "\n",
    "\n",
    "prettify_axes(axs_ss)\n",
    "\n",
    "fig_ss.suptitle(\"Spike sorting performance\", fontsize=20)\n",
    "fig_ss.subplots_adjust(hspace=0.3)"
   ]
  },
  {
   "cell_type": "code",
   "execution_count": null,
   "id": "9bc123ca",
   "metadata": {},
   "outputs": [],
   "source": [
    "if save_fig:\n",
    "    fig_ss.savefig(fig_folder / \"exp_ss.pdf\")"
   ]
  }
 ],
 "metadata": {
  "kernelspec": {
   "display_name": "Python 3 (ipykernel)",
   "language": "python",
   "name": "python3"
  },
  "language_info": {
   "codemirror_mode": {
    "name": "ipython",
    "version": 3
   },
   "file_extension": ".py",
   "mimetype": "text/x-python",
   "name": "python",
   "nbconvert_exporter": "python",
   "pygments_lexer": "ipython3",
   "version": "3.9.11"
  }
 },
 "nbformat": 4,
 "nbformat_minor": 5
}
