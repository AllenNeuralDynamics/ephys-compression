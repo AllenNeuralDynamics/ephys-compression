{
 "cells": [
  {
   "cell_type": "code",
   "execution_count": null,
   "id": "6bd81ba6",
   "metadata": {},
   "outputs": [],
   "source": [
    "import numpy as np\n",
    "from tqdm import tqdm\n",
    "import matplotlib.pyplot as plt\n",
    "import time\n",
    "import os\n",
    "\n",
    "import sys\n",
    "\n",
    "import spikeinterface.full as si\n",
    "\n",
    "%matplotlib widget\n",
    "\n",
    "sys.path.append(\"../ephys-compression/\")\n",
    "\n",
    "from audiocompression import write_recording_audio, AudioRecordingExtractor"
   ]
  },
  {
   "cell_type": "code",
   "execution_count": null,
   "id": "f9abc564",
   "metadata": {},
   "outputs": [],
   "source": [
    "def get_dir_size(path='.'):\n",
    "    total = 0\n",
    "    with os.scandir(path) as it:\n",
    "        for entry in it:\n",
    "            if entry.is_file():\n",
    "                total += entry.stat().st_size\n",
    "            elif entry.is_dir():\n",
    "                total += get_dir_size(entry.path)\n",
    "    return total"
   ]
  },
  {
   "cell_type": "code",
   "execution_count": null,
   "id": "8157932e",
   "metadata": {},
   "outputs": [],
   "source": [
    "oe_folder = \"/home/alessio/Documents/data/allen/npix-open-ephys/595262_2022-02-21_15-18-07/Record Node 102\"\n",
    "rec_oe = si.read_openephys(oe_folder, stream_id=\"0\")\n",
    "rec_oe = si.split_recording(rec_oe)[0]\n",
    "print(rec_oe)"
   ]
  },
  {
   "cell_type": "code",
   "execution_count": null,
   "id": "4a353d68",
   "metadata": {},
   "outputs": [],
   "source": [
    "fs = rec_oe.get_sampling_frequency()"
   ]
  },
  {
   "cell_type": "code",
   "execution_count": null,
   "id": "6f79768f",
   "metadata": {},
   "outputs": [],
   "source": [
    "total_bytes = rec_oe.get_num_samples() * rec_oe.get_num_channels() * rec_oe.get_dtype().itemsize"
   ]
  },
  {
   "cell_type": "code",
   "execution_count": null,
   "id": "fa205115",
   "metadata": {},
   "outputs": [],
   "source": [
    "rec_audio_flac = write_recording_audio(rec_oe, \"data/test_full_flac\", cformat=\"flac\",\n",
    "                                       chunk_duration=\"5s\", n_jobs=10, overwrite=True,\n",
    "                                       progress_bar=True)"
   ]
  },
  {
   "cell_type": "code",
   "execution_count": null,
   "id": "a7b458ff",
   "metadata": {},
   "outputs": [],
   "source": [
    "total_bytes_flac = get_dir_size(\"data/test_full_flac/\")\n",
    "cr_flac = total_bytes / total_bytes_flac \n",
    "print(f\"CR FLAC: {cr_flac}\")"
   ]
  },
  {
   "cell_type": "code",
   "execution_count": null,
   "id": "64dc3d0c",
   "metadata": {},
   "outputs": [],
   "source": [
    "rec_audio_mp3 = write_recording_audio(rec_oe, \"data/test_full_mp3\", cformat=\"mp3\",\n",
    "                                      chunk_duration=\"5s\", n_jobs=10, overwrite=True,\n",
    "                                      progress_bar=True, verbose=True)"
   ]
  },
  {
   "cell_type": "code",
   "execution_count": null,
   "id": "67aa6d27",
   "metadata": {},
   "outputs": [],
   "source": [
    "total_bytes_mp3 = get_dir_size(\"data/test_full_mp3/\")\n",
    "cr_mp3 = total_bytes / total_bytes_mp3 \n",
    "print(f\"CR MP3: {cr_mp3}\")"
   ]
  },
  {
   "cell_type": "code",
   "execution_count": null,
   "id": "494a8cbd",
   "metadata": {},
   "outputs": [],
   "source": [
    "rec_audio_aac = write_recording_audio(rec_oe, \"data/test_full_aac\", cformat=\"aac\",\n",
    "                                      chunk_duration=\"10s\", n_jobs=10, overwrite=True,\n",
    "                                      progress_bar=True)"
   ]
  },
  {
   "cell_type": "code",
   "execution_count": null,
   "id": "144a6756",
   "metadata": {},
   "outputs": [],
   "source": [
    "total_bytes_aac = get_dir_size(\"data/test_full_aac/\")\n",
    "cr_aac = total_bytes / total_bytes_aac \n",
    "print(f\"CR AAC: {cr_aac}\")"
   ]
  },
  {
   "cell_type": "code",
   "execution_count": null,
   "id": "b0597615",
   "metadata": {},
   "outputs": [],
   "source": [
    "rec_audio_flac = AudioRecordingExtractor(\"data/test_full_flac/\")\n",
    "rec_audio_flac.set_probegroup(rec_oe.get_probegroup(), in_place=True)\n",
    "rec_oe.copy_metadata(rec_audio_flac)\n",
    "\n",
    "rec_audio_mp3 = AudioRecordingExtractor(\"data/test_full_mp3/\")\n",
    "rec_audio_mp3.set_probegroup(rec_oe.get_probegroup(), in_place=True)\n",
    "rec_oe.copy_metadata(rec_audio_mp3)\n",
    "# rec_audio_aac = AudioRecordingExtractor(\"data/test_full_aac/\")"
   ]
  },
  {
   "cell_type": "code",
   "execution_count": null,
   "id": "22f9b312",
   "metadata": {},
   "outputs": [],
   "source": [
    "time_range = [60, 70]\n",
    "start_frame = int(time_range[0] * fs)\n",
    "end_frame = int(time_range[1] * fs)\n",
    "\n",
    "channel_ids = rec_oe.channel_ids[50:60]"
   ]
  },
  {
   "cell_type": "code",
   "execution_count": null,
   "id": "29dce09d",
   "metadata": {},
   "outputs": [],
   "source": [
    "fig, ax = plt.subplots()\n",
    "\n",
    "si.plot_timeseries(rec_oe, time_range=time_range, channel_ids=channel_ids, color=\"C0\",\n",
    "                   alpha=0.8, ax=ax)\n",
    "si.plot_timeseries(rec_audio_mp3, time_range=time_range, channel_ids=channel_ids, color=\"C1\",\n",
    "                   alpha=0.8, ax=ax)"
   ]
  },
  {
   "cell_type": "code",
   "execution_count": null,
   "id": "6fe263f0",
   "metadata": {},
   "outputs": [],
   "source": [
    "rec_oe_f = si.bandpass_filter(rec_oe)\n",
    "rec_audio_mp3_f = si.bandpass_filter(rec_audio_mp3)\n",
    "\n",
    "fig, ax = plt.subplots()\n",
    "\n",
    "si.plot_timeseries(rec_oe_f, time_range=time_range, channel_ids=channel_ids, color=\"C0\",\n",
    "                   alpha=0.8, ax=ax)\n",
    "si.plot_timeseries(rec_audio_mp3_f, time_range=time_range, channel_ids=channel_ids, color=\"C1\",\n",
    "                   alpha=0.8, ax=ax)"
   ]
  },
  {
   "cell_type": "code",
   "execution_count": null,
   "id": "3472a1c8",
   "metadata": {},
   "outputs": [],
   "source": [
    "channel_ids"
   ]
  },
  {
   "cell_type": "code",
   "execution_count": null,
   "id": "89b4be32",
   "metadata": {},
   "outputs": [],
   "source": [
    "plt.figure()\n",
    "\n",
    "plt.plot(tr_oe_f[:, 0])\n",
    "plt.plot(tr_mp3_f[:, 0])"
   ]
  },
  {
   "cell_type": "code",
   "execution_count": null,
   "id": "3e5ed840",
   "metadata": {},
   "outputs": [],
   "source": [
    "rec = rec_audio_flac"
   ]
  },
  {
   "cell_type": "code",
   "execution_count": null,
   "id": "a25255b5",
   "metadata": {},
   "outputs": [],
   "source": [
    "# assert FLAC is lossless\n",
    "chunk_sizes_s = [1, 5, 10, 20]\n",
    "nchunks = 2\n",
    "for i in range(nchunks):\n",
    "    for chunk_s in chunk_sizes_s:\n",
    "        print(f\"chunk in s: {chunk_s} -- {i + 1} / {nchunks}\")\n",
    "        num_samples = int(chunk_s * fs)\n",
    "        random_start = np.random.randint(0, rec_audio_mp3.get_num_samples() - num_samples)\n",
    "        start_frame = random_start\n",
    "        end_frame = random_start + num_samples\n",
    "        tr_audio = rec.get_traces(start_frame=start_frame, end_frame=end_frame)\n",
    "        tr_orig = rec_oe.get_traces(start_frame=start_frame, end_frame=end_frame)  \n",
    "        assert np.allclose(tr_audio, tr_orig)"
   ]
  },
  {
   "cell_type": "code",
   "execution_count": null,
   "id": "f559d176",
   "metadata": {},
   "outputs": [],
   "source": [
    "# try to spike sort mp3?"
   ]
  },
  {
   "cell_type": "code",
   "execution_count": null,
   "id": "c6287140",
   "metadata": {},
   "outputs": [],
   "source": [
    "si.get_default_params(\"tridesclous\")"
   ]
  },
  {
   "cell_type": "code",
   "execution_count": null,
   "id": "176ba0ee",
   "metadata": {},
   "outputs": [],
   "source": [
    "nsec = 60"
   ]
  },
  {
   "cell_type": "code",
   "execution_count": null,
   "id": "ed6a4d8c",
   "metadata": {},
   "outputs": [],
   "source": [
    "rec_sub_mp3 = rec_audio_mp3_f.frame_slice(start_frame=0, end_frame=int(nsec * fs))"
   ]
  },
  {
   "cell_type": "code",
   "execution_count": null,
   "id": "f44be600",
   "metadata": {},
   "outputs": [],
   "source": [
    "sort_mp3 = si.run_tridesclous(rec_sub_mp3, n_jobs_bin=10, total_memory=\"2G\", verbose=True)"
   ]
  },
  {
   "cell_type": "code",
   "execution_count": null,
   "id": "7ff1e79d",
   "metadata": {},
   "outputs": [],
   "source": []
  }
 ],
 "metadata": {
  "kernelspec": {
   "display_name": "Python 3 (ipykernel)",
   "language": "python",
   "name": "python3"
  },
  "language_info": {
   "codemirror_mode": {
    "name": "ipython",
    "version": 3
   },
   "file_extension": ".py",
   "mimetype": "text/x-python",
   "name": "python",
   "nbconvert_exporter": "python",
   "pygments_lexer": "ipython3",
   "version": "3.9.11"
  }
 },
 "nbformat": 4,
 "nbformat_minor": 5
}
