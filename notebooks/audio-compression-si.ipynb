{
 "cells": [
  {
   "cell_type": "markdown",
   "id": "d50c8e2e",
   "metadata": {},
   "source": [
    "# AUDIO compression for ephys data\n",
    "\n",
    "This notebook showcases the current write implementation of SI objects to audio formats:\n",
    "\n",
    "- lossless\n",
    "  - FLAC\n",
    "  - WavPack\n",
    "- lossy\n",
    "  - MP3"
   ]
  },
  {
   "cell_type": "code",
   "execution_count": null,
   "id": "6bd81ba6",
   "metadata": {},
   "outputs": [],
   "source": [
    "import numpy as np\n",
    "from tqdm import tqdm\n",
    "import matplotlib.pyplot as plt\n",
    "import time\n",
    "import os\n",
    "from pathlib import Path\n",
    "import shutil\n",
    "import scipy.io.wavfile as wavfile\n",
    "\n",
    "import sys\n",
    "\n",
    "import spikeinterface.full as si\n",
    "\n",
    "%matplotlib widget\n",
    "\n",
    "sys.path.append(\"..\")\n",
    "\n",
    "from audiocompression import write_recording_audio, AudioRecordingExtractor, _max_channels_per_stream\n",
    "from utils import get_median_and_lsb"
   ]
  },
  {
   "cell_type": "code",
   "execution_count": null,
   "id": "73cd9625",
   "metadata": {},
   "outputs": [],
   "source": [
    "test_audio_folder = Path(\"../data/audio/\")"
   ]
  },
  {
   "cell_type": "code",
   "execution_count": null,
   "id": "2b7543c6",
   "metadata": {},
   "outputs": [],
   "source": [
    "n_jobs = 10\n",
    "job_kwargs = dict(n_jobs=n_jobs, chunk_duration=\"1s\", progress_bar=True)"
   ]
  },
  {
   "cell_type": "code",
   "execution_count": null,
   "id": "f9abc564",
   "metadata": {},
   "outputs": [],
   "source": [
    "def get_dir_size(path='.'):\n",
    "    total = 0\n",
    "    with os.scandir(path) as it:\n",
    "        for entry in it:\n",
    "            if entry.is_file():\n",
    "                total += entry.stat().st_size\n",
    "            elif entry.is_dir():\n",
    "                total += get_dir_size(entry.path)\n",
    "    return total"
   ]
  },
  {
   "cell_type": "code",
   "execution_count": null,
   "id": "d5427fc4",
   "metadata": {},
   "outputs": [],
   "source": [
    "np_version = 1\n",
    "\n",
    "if np_version == 2:\n",
    "    oe_folder = \"/home/alessio/Documents/data/allen/npix-open-ephys/595262_2022-02-21_15-18-07/Record Node 102\"\n",
    "else:\n",
    "    oe_folder = \"/home/alessio/Documents/data/allen/npix-open-ephys/618382_2022-03-31_14-27-03/Record Node 102/\"\n",
    "rec_oe = si.read_openephys(oe_folder, stream_id=\"0\")\n",
    "rec_oe = si.split_recording(rec_oe)[0]\n",
    "print(rec_oe)\n",
    "\n",
    "lsb_value, median_values = get_median_and_lsb(rec_oe)"
   ]
  },
  {
   "cell_type": "code",
   "execution_count": null,
   "id": "d95974ff",
   "metadata": {},
   "outputs": [],
   "source": [
    "dur = rec_oe.get_num_samples() / rec_oe.get_sampling_frequency()\n",
    "dtype = rec_oe.get_dtype()\n",
    "gain = rec_oe.get_channel_gains()[0]"
   ]
  },
  {
   "cell_type": "code",
   "execution_count": null,
   "id": "4a353d68",
   "metadata": {},
   "outputs": [],
   "source": [
    "fs = rec_oe.get_sampling_frequency()"
   ]
  },
  {
   "cell_type": "code",
   "execution_count": null,
   "id": "07b26055",
   "metadata": {},
   "outputs": [],
   "source": [
    "# median correction\n",
    "rec_to_compress = si.scale(rec_oe, gain=1., offset=-median_values, dtype=dtype)\n",
    "rec_to_compress = si.scale(rec_oe, gain=1. / lsb_value, dtype=dtype)"
   ]
  },
  {
   "cell_type": "code",
   "execution_count": null,
   "id": "c372fe65",
   "metadata": {},
   "outputs": [],
   "source": [
    "w = si.plot_probe_map(rec_to_compress)\n",
    "w.ax.set_xlim(-20, 60)\n",
    "w.ax.set_ylim(300, 600)"
   ]
  },
  {
   "cell_type": "code",
   "execution_count": null,
   "id": "6f79768f",
   "metadata": {},
   "outputs": [],
   "source": [
    "total_bytes = rec_oe.get_num_samples() * rec_oe.get_num_channels() * rec_oe.get_dtype().itemsize"
   ]
  },
  {
   "cell_type": "code",
   "execution_count": null,
   "id": "4d21123f",
   "metadata": {},
   "outputs": [],
   "source": [
    "import math\n",
    "\n",
    "math.gcd(257, 256)"
   ]
  },
  {
   "cell_type": "markdown",
   "id": "ce4e7fcd",
   "metadata": {},
   "source": [
    "# LOSSLESS\n",
    "\n",
    "### FLAC"
   ]
  },
  {
   "cell_type": "code",
   "execution_count": null,
   "id": "abacde87",
   "metadata": {},
   "outputs": [],
   "source": [
    "flac_stream = test_audio_folder / \"flac_stream\"\n",
    "flac_concat = test_audio_folder / \"flac_concat\""
   ]
  },
  {
   "cell_type": "code",
   "execution_count": null,
   "id": "fa205115",
   "metadata": {},
   "outputs": [],
   "source": [
    "rec_audio_flac_stream = write_recording_audio(rec_to_compress, flac_stream, cformat=\"flac\",\n",
    "                                              overwrite=True, mode=\"stream\", **job_kwargs)\n",
    "\n",
    "rec_audio_flac_concat = write_recording_audio(rec_to_compress, flac_concat, cformat=\"flac\",\n",
    "                                              overwrite=True, mode=\"concat\", **job_kwargs)"
   ]
  },
  {
   "cell_type": "code",
   "execution_count": null,
   "id": "5d25cac1",
   "metadata": {},
   "outputs": [],
   "source": [
    "from audio_numcodecs import FlacCodec, WavPackCodec"
   ]
  },
  {
   "cell_type": "code",
   "execution_count": null,
   "id": "0d68fa60",
   "metadata": {
    "scrolled": true
   },
   "outputs": [],
   "source": [
    "zarr_path = test_audio_folder / \"flac-si.zarr\"\n",
    "\n",
    "if zarr_path.is_dir():\n",
    "    shutil.rmtree(zarr_path)\n",
    "\n",
    "rec_flac_zarr = rec_to_compress.save(format=\"zarr\", zarr_path=zarr_path, \n",
    "                                     compressor=FlacCodec(compression_level=5),\n",
    "                                     **job_kwargs)"
   ]
  },
  {
   "cell_type": "code",
   "execution_count": null,
   "id": "0d81f524",
   "metadata": {},
   "outputs": [],
   "source": [
    "tr_flac = rec_flac_zarr.get_traces(end_frame=30000)\n"
   ]
  },
  {
   "cell_type": "code",
   "execution_count": null,
   "id": "d8ce5975",
   "metadata": {},
   "outputs": [],
   "source": [
    "plt.figure()\n",
    "\n",
    "plt.plot(tr_or[:, 100])\n",
    "plt.plot(tr_flac[:, 100])"
   ]
  },
  {
   "cell_type": "code",
   "execution_count": null,
   "id": "f0185394",
   "metadata": {},
   "outputs": [],
   "source": [
    "total_bytes_flac_stream = get_dir_size(flac_stream)\n",
    "cr_flac_stream = total_bytes / total_bytes_flac_stream\n",
    "print(f\"CR FLAC - stream mode: {cr_flac_stream}\")\n",
    "\n",
    "total_bytes_flac_concat = get_dir_size(flac_concat)\n",
    "cr_flac_concat = total_bytes / total_bytes_flac_concat\n",
    "print(f\"CR FLAC - concat mode: {cr_flac_concat}\")\n",
    "\n",
    "print(f\"CR FLAC SI - concat mode: {rec_flac_zarr.get_annotation('compression_ratio')}\")"
   ]
  },
  {
   "cell_type": "markdown",
   "id": "13ef69b0",
   "metadata": {},
   "source": [
    "### WAVPACK"
   ]
  },
  {
   "cell_type": "code",
   "execution_count": null,
   "id": "43a687ee",
   "metadata": {},
   "outputs": [],
   "source": [
    "wv_stream = test_audio_folder / \"wv_stream\"\n",
    "wv_concat = test_audio_folder / \"wv_concat\""
   ]
  },
  {
   "cell_type": "code",
   "execution_count": null,
   "id": "fadc3210",
   "metadata": {
    "scrolled": false
   },
   "outputs": [],
   "source": [
    "rec_audio_wv_stream = write_recording_audio(rec_to_compress, wv_stream, cformat=\"wavpack\",\n",
    "                                            overwrite=True, mode=\"stream\", **job_kwargs)\n",
    "rec_audio_wv_concat = write_recording_audio(rec_to_compress, wv_concat, cformat=\"wavpack\",\n",
    "                                     overwrite=True, mode=\"concat\", **job_kwargs)"
   ]
  },
  {
   "cell_type": "code",
   "execution_count": null,
   "id": "defc55a7",
   "metadata": {
    "scrolled": false
   },
   "outputs": [],
   "source": [
    "zarr_path = test_audio_folder / \"wavpack-si.zarr\"\n",
    "\n",
    "if zarr_path.is_dir():\n",
    "    shutil.rmtree(zarr_path)\n",
    "    \n",
    "rec_wv_zarr = rec_to_compress.save(format=\"zarr\", zarr_path=zarr_path, \n",
    "                                   compressor=WavPackCodec(),\n",
    "                                   **job_kwargs)"
   ]
  },
  {
   "cell_type": "code",
   "execution_count": null,
   "id": "e089d9ea",
   "metadata": {},
   "outputs": [],
   "source": [
    "total_bytes_wv = get_dir_size(wv_stream)\n",
    "cr_wv_stream = total_bytes / total_bytes_wv \n",
    "print(f\"CR WV - stream: {cr_wv_stream}\")\n",
    "\n",
    "total_bytes_wv = get_dir_size(wv_concat)\n",
    "cr_wv_concat = total_bytes / total_bytes_wv \n",
    "print(f\"CR WV - concat: {cr_wv_concat}\")\n",
    "\n",
    "print(f\"CR WV SI - concat mode: {rec_wv_zarr.get_annotation('compression_ratio')}\")"
   ]
  },
  {
   "cell_type": "markdown",
   "id": "3b3b575c",
   "metadata": {},
   "source": [
    "# LOSSY"
   ]
  },
  {
   "cell_type": "code",
   "execution_count": null,
   "id": "49ff28ef",
   "metadata": {},
   "outputs": [],
   "source": [
    "mp3_file = test_audio_folder / \"mp3_stream\""
   ]
  },
  {
   "cell_type": "code",
   "execution_count": null,
   "id": "64dc3d0c",
   "metadata": {},
   "outputs": [],
   "source": [
    "rec_audio_mp3 = write_recording_audio(rec_to_compress, mp3_file, cformat=\"mp3\",\n",
    "                                      overwrite=True, mode=\"stream\", **job_kwargs)"
   ]
  },
  {
   "cell_type": "code",
   "execution_count": null,
   "id": "47f72125",
   "metadata": {},
   "outputs": [],
   "source": [
    "total_bytes_mp3 = get_dir_size(mp3_file)\n",
    "cr_mp3 = total_bytes / total_bytes_mp3 \n",
    "print(f\"CR MP3: {cr_mp3}\")"
   ]
  },
  {
   "cell_type": "code",
   "execution_count": null,
   "id": "46860e0c",
   "metadata": {},
   "outputs": [],
   "source": [
    "wv_file_lossy = test_audio_folder / \"wv_stream_lossy\""
   ]
  },
  {
   "cell_type": "code",
   "execution_count": null,
   "id": "44637002",
   "metadata": {},
   "outputs": [],
   "source": [
    "rec_audio_wv_lossy = write_recording_audio(rec_to_compress, wv_file_lossy, cformat=\"wavpack\",\n",
    "                                           lossless=False, overwrite=True, mode=\"stream\", **job_kwargs)"
   ]
  },
  {
   "cell_type": "code",
   "execution_count": null,
   "id": "b11c7f5e",
   "metadata": {},
   "outputs": [],
   "source": [
    "total_bytes_wv_lossy = get_dir_size(wv_file_lossy)\n",
    "cr_wv_lossy = total_bytes / total_bytes_wv_lossy \n",
    "print(f\"CR WV-HYBRID: {cr_wv_lossy}\")"
   ]
  },
  {
   "cell_type": "code",
   "execution_count": null,
   "id": "e6f10c28",
   "metadata": {},
   "outputs": [],
   "source": [
    "# check traces"
   ]
  },
  {
   "cell_type": "code",
   "execution_count": null,
   "id": "41ee5727",
   "metadata": {
    "scrolled": false
   },
   "outputs": [],
   "source": [
    "#stream VS concat\n",
    "\n",
    "snippet_durations = [0.5, 1, 2, 5]\n",
    "num_chunks = 3\n",
    "num_channels = [10, 384]\n",
    "num_samples = rec_to_compress.get_num_samples()\n",
    "\n",
    "for dur in snippet_durations:\n",
    "    print(f\"Snippet duration {dur}s\")\n",
    "    fig, axs = plt.subplots(nrows=num_chunks, ncols=len(num_channels))\n",
    "    for ch in range(num_chunks):\n",
    "        samples = int(rec_to_compress.get_sampling_frequency() * dur)\n",
    "        start_frame = np.random.randint(num_samples - samples - 1)\n",
    "        end_frame = start_frame + samples\n",
    "        \n",
    "        for inc, nc in enumerate(num_channels):\n",
    "            channel_ids = rec_to_compress.channel_ids[np.random.permutation(rec_to_compress.get_num_channels())[:nc]]\n",
    "            \n",
    "            random_channel = np.random.randint(nc)\n",
    "            tr_or = rec_to_compress.get_traces(start_frame=start_frame, end_frame=end_frame,\n",
    "                                               channel_ids=channel_ids)\n",
    "            t_start = time.perf_counter()\n",
    "            tr_flac_str = rec_audio_flac_stream.get_traces(start_frame=start_frame, end_frame=end_frame,\n",
    "                                                channel_ids=channel_ids)\n",
    "            t_stop = time.perf_counter()\n",
    "            elapsed_time_flac = np.round(t_stop - t_start, 2)\n",
    "            print(f\"FLAC {ch} - stream - num channels {nc}: {elapsed_time_flac} s\")\n",
    "            \n",
    "            t_start = time.perf_counter()\n",
    "            tr_flac_cnc = rec_audio_flac_concat.get_traces(start_frame=start_frame, end_frame=end_frame,\n",
    "                                                channel_ids=channel_ids)\n",
    "            t_stop = time.perf_counter()\n",
    "            elapsed_time_flac = np.round(t_stop - t_start, 2)\n",
    "            print(f\"FLAC {ch} - concat - num channels {nc}: {elapsed_time_flac} s\")\n",
    "            \n",
    "            axs[ch, inc].plot(tr_or[:, random_channel], \"k\", label=\"GT\", lw=2, alpha=0.8)\n",
    "            axs[ch, inc].plot(tr_flac_str[:, random_channel], \"C0\", label=\"FLAC\", alpha=0.8)            \n",
    "            axs[ch, inc].plot(tr_flac_cnc[:, random_channel], \"C1\", label=\"WV\", alpha=0.8)            "
   ]
  },
  {
   "cell_type": "code",
   "execution_count": null,
   "id": "206977eb",
   "metadata": {
    "scrolled": false
   },
   "outputs": [],
   "source": [
    "snippet_durations = [0.5, 1, 2, 5]\n",
    "num_chunks = 3\n",
    "num_channels = [10, 384]\n",
    "num_samples = rec_to_compress.get_num_samples()\n",
    "\n",
    "for dur in snippet_durations:\n",
    "    print(f\"Snippet duration {dur}s\")\n",
    "    fig, axs = plt.subplots(nrows=num_chunks, ncols=len(num_channels))\n",
    "    for ch in range(num_chunks):\n",
    "        samples = int(rec_to_compress.get_sampling_frequency() * dur)\n",
    "        start_frame = np.random.randint(num_samples - samples - 1)\n",
    "        end_frame = start_frame + samples\n",
    "        \n",
    "        for inc, nc in enumerate(num_channels):\n",
    "            channel_ids = rec_to_compress.channel_ids[np.random.permutation(rec_to_compress.get_num_channels())[:nc]]\n",
    "            \n",
    "            random_channel = np.random.randint(nc)\n",
    "            tr_or = rec_to_compress.get_traces(start_frame=start_frame, end_frame=end_frame,\n",
    "                                               channel_ids=channel_ids)\n",
    "            t_start = time.perf_counter()\n",
    "            tr_flac = rec_audio_flac.get_traces(start_frame=start_frame, end_frame=end_frame,\n",
    "                                                channel_ids=channel_ids)\n",
    "            t_stop = time.perf_counter()\n",
    "            elapsed_time_flac = np.round(t_stop - t_start, 2)\n",
    "            print(f\"FLAC {ch} - dur{dur} - num channels {nc}: {elapsed_time_flac} s\")\n",
    "            \n",
    "            t_start = time.perf_counter()\n",
    "            tr_wv = rec_audio_wv.get_traces(start_frame=start_frame, end_frame=end_frame,\n",
    "                                            channel_ids=channel_ids)\n",
    "            t_stop = time.perf_counter()\n",
    "            elapsed_time_wv = np.round(t_stop - t_start, 2)\n",
    "            print(f\"WV test{ch} - num channels {nc}: {elapsed_time_wv} s\")\n",
    "            \n",
    "            axs[ch, inc].plot(tr_or[:, random_channel], \"k\", label=\"GT\", lw=2, alpha=0.8)\n",
    "            axs[ch, inc].plot(tr_flac[:, random_channel], \"C0\", label=\"FLAC\", alpha=0.8)            \n",
    "            axs[ch, inc].plot(tr_wv[:, random_channel], \"C1\", label=\"WV\", alpha=0.8)            "
   ]
  },
  {
   "cell_type": "code",
   "execution_count": null,
   "id": "8066eeb0",
   "metadata": {
    "scrolled": false
   },
   "outputs": [],
   "source": [
    "snippet_durations = [0.5, 1, 2, 5]\n",
    "num_chunks = 3\n",
    "num_channels = [10, 384]\n",
    "num_samples = rec_to_compress.get_num_samples()\n",
    "\n",
    "for dur in snippet_durations:\n",
    "    print(f\"Snippet duration {dur}s\")\n",
    "    fig, axs = plt.subplots(nrows=num_chunks, ncols=len(num_channels))\n",
    "    for ch in range(num_chunks):\n",
    "        samples = int(rec_to_compress.get_sampling_frequency() * dur)\n",
    "        start_frame = np.random.randint(num_samples - samples - 1)\n",
    "        end_frame = start_frame + samples\n",
    "        \n",
    "        for inc, nc in enumerate(num_channels):\n",
    "            channel_ids = rec_to_compress.channel_ids[np.random.permutation(rec_to_compress.get_num_channels())[:nc]]\n",
    "            \n",
    "            random_channel = np.random.randint(nc)\n",
    "            tr_or = rec_to_compress.get_traces(start_frame=start_frame, end_frame=end_frame,\n",
    "                                               channel_ids=channel_ids)\n",
    "            t_start = time.perf_counter()\n",
    "            tr_mp3 = rec_audio_mp3.get_traces(start_frame=start_frame, end_frame=end_frame,\n",
    "                                                channel_ids=channel_ids)\n",
    "            t_stop = time.perf_counter()\n",
    "            elapsed_time_mp3 = np.round(t_stop - t_start, 2)\n",
    "            print(f\"MP3 {ch} - dur{dur} - num channels {nc}: {elapsed_time_mp3} s\")\n",
    "            \n",
    "            axs[ch, inc].plot(tr_or[:, random_channel], \"k\", label=\"GT\", lw=2, alpha=0.8)\n",
    "            axs[ch, inc].plot(tr_mp3[:, random_channel], \"C0\", label=\"MP3\", alpha=0.8)            \n"
   ]
  },
  {
   "cell_type": "markdown",
   "id": "2a891ae3",
   "metadata": {},
   "source": [
    "### Spike sort MP3"
   ]
  },
  {
   "cell_type": "code",
   "execution_count": null,
   "id": "75085f3d",
   "metadata": {},
   "outputs": [],
   "source": [
    "sorter = \"kilosort2_5\"\n",
    "sorter_params = {\"n_jobs_bin\": 10, \"total_memory\": \"4G\"}"
   ]
  },
  {
   "cell_type": "code",
   "execution_count": null,
   "id": "f76b8c67",
   "metadata": {
    "scrolled": true
   },
   "outputs": [],
   "source": [
    "sort_mp3_KS = si.run_sorter(sorter, rec_audio_mp3, output_folder=test_audio_folder / \"mp3_ks25\", verbose=True,\n",
    "                            **sorter_params)"
   ]
  },
  {
   "cell_type": "code",
   "execution_count": null,
   "id": "944504dd",
   "metadata": {},
   "outputs": [],
   "source": [
    "print(sort_mp3_KS)"
   ]
  },
  {
   "cell_type": "code",
   "execution_count": null,
   "id": "933c81fc",
   "metadata": {},
   "outputs": [],
   "source": [
    "sort_flac_KS = si.run_sorter(sorter, rec_audio_flac, output_folder=test_audio_folder / \"flac_ks25\", \n",
    "                             verbose=True, **sorter_params)"
   ]
  },
  {
   "cell_type": "code",
   "execution_count": null,
   "id": "a1a0beef",
   "metadata": {},
   "outputs": [],
   "source": [
    "print(sort_flac_KS)"
   ]
  },
  {
   "cell_type": "code",
   "execution_count": null,
   "id": "58f12610",
   "metadata": {},
   "outputs": [],
   "source": [
    "mcmp = si.compare_multiple_sorters([sort_flac_KS, sort_mp3_KS], name_list=[\"FLAC\", \"MP3\"], verbose=True)"
   ]
  },
  {
   "cell_type": "code",
   "execution_count": null,
   "id": "7eb88f07",
   "metadata": {},
   "outputs": [],
   "source": [
    "si.plot_multicomp_agreement_by_sorter(mcmp)"
   ]
  },
  {
   "cell_type": "code",
   "execution_count": null,
   "id": "5bbb9209",
   "metadata": {},
   "outputs": [],
   "source": [
    "si.plot_agreement_matrix(mcmp.comparisons[0])"
   ]
  },
  {
   "cell_type": "code",
   "execution_count": null,
   "id": "efa3ad94",
   "metadata": {},
   "outputs": [],
   "source": [
    "cmp_gt = si.compare_sorter_to_ground_truth(sort_flac_KS, sort_mp3_KS)"
   ]
  },
  {
   "cell_type": "code",
   "execution_count": null,
   "id": "4d628ee7",
   "metadata": {},
   "outputs": [],
   "source": [
    "len(cmp_gt.get_well_detected_units(well_detected_score=0.9))"
   ]
  }
 ],
 "metadata": {
  "kernelspec": {
   "display_name": "Python 3 (ipykernel)",
   "language": "python",
   "name": "python3"
  },
  "language_info": {
   "codemirror_mode": {
    "name": "ipython",
    "version": 3
   },
   "file_extension": ".py",
   "mimetype": "text/x-python",
   "name": "python",
   "nbconvert_exporter": "python",
   "pygments_lexer": "ipython3",
   "version": "3.9.11"
  }
 },
 "nbformat": 4,
 "nbformat_minor": 5
}
