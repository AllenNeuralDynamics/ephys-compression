{
 "cells": [
  {
   "cell_type": "markdown",
   "id": "d50c8e2e",
   "metadata": {},
   "source": [
    "# AUDIO compression for ephys data\n",
    "\n",
    "This notebook showcases the current write implementation of SI objects to audio formats:\n",
    "\n",
    "- lossless\n",
    "  - FLAC\n",
    "  - WavPack\n",
    "- lossy\n",
    "  - MP3"
   ]
  },
  {
   "cell_type": "code",
   "execution_count": 1,
   "id": "6bd81ba6",
   "metadata": {},
   "outputs": [
    {
     "name": "stderr",
     "output_type": "stream",
     "text": [
      "/home/alessio/anaconda3/envs/si/lib/python3.9/site-packages/datalad/cmd.py:375: RuntimeWarning: coroutine 'run_async_cmd' was never awaited\n",
      "  new_loop = True\n",
      "RuntimeWarning: Enable tracemalloc to get the object allocation traceback\n",
      "/home/alessio/Documents/codes/spike_sorting/spikeinterface/spikeinterface/spikeinterface/core/datasets.py:12: RuntimeWarning: coroutine 'run_async_cmd' was never awaited\n",
      "  HAVE_DATALAD = False\n",
      "RuntimeWarning: Enable tracemalloc to get the object allocation traceback\n"
     ]
    }
   ],
   "source": [
    "import numpy as np\n",
    "from tqdm import tqdm\n",
    "import matplotlib.pyplot as plt\n",
    "import time\n",
    "import os\n",
    "from pathlib import Path\n",
    "import shutil\n",
    "import scipy.io.wavfile as wavfile\n",
    "\n",
    "import sys\n",
    "\n",
    "import spikeinterface.full as si\n",
    "\n",
    "%matplotlib widget\n",
    "\n",
    "sys.path.append(\"..\")\n",
    "\n",
    "from audiocompression import write_recording_audio, AudioRecordingExtractor, _max_channels_per_stream\n",
    "\n",
    "from audio_numcodecs import FlacCodec, WavPackCodec\n",
    "\n",
    "from utils import get_median_and_lsb"
   ]
  },
  {
   "cell_type": "code",
   "execution_count": 2,
   "id": "718f9cb1",
   "metadata": {},
   "outputs": [],
   "source": [
    "import numcodecs"
   ]
  },
  {
   "cell_type": "code",
   "execution_count": 3,
   "id": "663a4ec9",
   "metadata": {},
   "outputs": [
    {
     "data": {
      "text/plain": [
       "['blosclz', 'lz4', 'lz4hc', 'zlib', 'zstd']"
      ]
     },
     "execution_count": 3,
     "metadata": {},
     "output_type": "execute_result"
    }
   ],
   "source": [
    "numcodecs.blosc.list_compressors()"
   ]
  },
  {
   "cell_type": "code",
   "execution_count": 4,
   "id": "6dee4d06",
   "metadata": {},
   "outputs": [
    {
     "data": {
      "text/plain": [
       "{'zlib': numcodecs.zlib.Zlib,\n",
       " 'gzip': numcodecs.gzip.GZip,\n",
       " 'bz2': numcodecs.bz2.BZ2,\n",
       " 'lzma': numcodecs.lzma.LZMA,\n",
       " 'blosc': numcodecs.blosc.Blosc,\n",
       " 'zstd': numcodecs.zstd.Zstd,\n",
       " 'lz4': numcodecs.lz4.LZ4,\n",
       " 'zfpy': numcodecs.zfpy.ZFPY,\n",
       " 'astype': numcodecs.astype.AsType,\n",
       " 'delta': numcodecs.delta.Delta,\n",
       " 'quantize': numcodecs.quantize.Quantize,\n",
       " 'fixedscaleoffset': numcodecs.fixedscaleoffset.FixedScaleOffset,\n",
       " 'packbits': numcodecs.packbits.PackBits,\n",
       " 'categorize': numcodecs.categorize.Categorize,\n",
       " 'pickle': numcodecs.pickles.Pickle,\n",
       " 'base64': numcodecs.base64.Base64,\n",
       " 'shuffle': numcodecs.shuffle.Shuffle,\n",
       " 'msgpack2': numcodecs.msgpacks.MsgPack,\n",
       " 'crc32': numcodecs.checksum32.CRC32,\n",
       " 'adler32': numcodecs.checksum32.Adler32,\n",
       " 'json2': numcodecs.json.JSON,\n",
       " 'vlen-utf8': numcodecs.vlen.VLenUTF8,\n",
       " 'vlen-bytes': numcodecs.vlen.VLenBytes,\n",
       " 'vlen-array': numcodecs.vlen.VLenArray,\n",
       " 'n5_wrapper': zarr.n5.N5ChunkWrapper,\n",
       " 'flac': audio_numcodecs.FlacCodec,\n",
       " 'wavpack': audio_numcodecs.WavPackCodec}"
      ]
     },
     "execution_count": 4,
     "metadata": {},
     "output_type": "execute_result"
    }
   ],
   "source": [
    "numcodecs.registry.codec_registry"
   ]
  },
  {
   "cell_type": "code",
   "execution_count": 5,
   "id": "73cd9625",
   "metadata": {},
   "outputs": [],
   "source": [
    "test_audio_folder = Path(\"../data/audio/\")"
   ]
  },
  {
   "cell_type": "code",
   "execution_count": 6,
   "id": "2b7543c6",
   "metadata": {},
   "outputs": [],
   "source": [
    "n_jobs = 10\n",
    "job_kwargs = dict(n_jobs=n_jobs, chunk_duration=\"1s\", progress_bar=True)"
   ]
  },
  {
   "cell_type": "code",
   "execution_count": 7,
   "id": "f9abc564",
   "metadata": {},
   "outputs": [],
   "source": [
    "def get_dir_size(path='.'):\n",
    "    total = 0\n",
    "    with os.scandir(path) as it:\n",
    "        for entry in it:\n",
    "            if entry.is_file():\n",
    "                total += entry.stat().st_size\n",
    "            elif entry.is_dir():\n",
    "                total += get_dir_size(entry.path)\n",
    "    return total"
   ]
  },
  {
   "cell_type": "code",
   "execution_count": 8,
   "id": "d5427fc4",
   "metadata": {},
   "outputs": [
    {
     "name": "stdout",
     "output_type": "stream",
     "text": [
      "SelectSegmentRecording: 384 channels - 1 segments - 30.0kHz - 732.276s\n"
     ]
    },
    {
     "name": "stderr",
     "output_type": "stream",
     "text": [
      "Extracting chunks: 100%|███████████████████████████████████████████████████████████████████████████████████████████████████████████████████████████████████████████████████| 10/10 [00:05<00:00,  1.81it/s]\n",
      "Estimating channel stats: 100%|██████████████████████████████████████████████████████████████████████████████████████████████████████████████████████████████████████████| 384/384 [02:14<00:00,  2.85it/s]"
     ]
    },
    {
     "name": "stdout",
     "output_type": "stream",
     "text": [
      "LSB int16 3 --> 0.5849999785423278 uV\n"
     ]
    },
    {
     "name": "stderr",
     "output_type": "stream",
     "text": [
      "\n"
     ]
    }
   ],
   "source": [
    "np_version = 2\n",
    "\n",
    "if np_version == 2:\n",
    "    oe_folder = \"/home/alessio/Documents/data/allen/npix-open-ephys/595262_2022-02-21_15-18-07/Record Node 102\"\n",
    "else:\n",
    "    oe_folder = \"/home/alessio/Documents/data/allen/npix-open-ephys/618382_2022-03-31_14-27-03/Record Node 102/\"\n",
    "rec_oe = si.read_openephys(oe_folder, stream_id=\"0\")\n",
    "rec_oe = si.split_recording(rec_oe)[0]\n",
    "print(rec_oe)\n",
    "\n",
    "lsb_value, median_values = get_median_and_lsb(rec_oe)"
   ]
  },
  {
   "cell_type": "code",
   "execution_count": 9,
   "id": "d95974ff",
   "metadata": {},
   "outputs": [],
   "source": [
    "dur = rec_oe.get_num_samples() / rec_oe.get_sampling_frequency()\n",
    "dtype = rec_oe.get_dtype()\n",
    "gain = rec_oe.get_channel_gains()[0]"
   ]
  },
  {
   "cell_type": "code",
   "execution_count": 10,
   "id": "4a353d68",
   "metadata": {},
   "outputs": [],
   "source": [
    "fs = rec_oe.get_sampling_frequency()"
   ]
  },
  {
   "cell_type": "code",
   "execution_count": 11,
   "id": "07b26055",
   "metadata": {},
   "outputs": [],
   "source": [
    "# median correction\n",
    "rec_to_compress = si.scale(rec_oe, gain=1., offset=-median_values, dtype=dtype)\n",
    "rec_to_compress = si.scale(rec_oe, gain=1. / lsb_value, dtype=dtype)\n",
    "rec_to_compress.set_channel_gains(rec_to_compress.get_channel_gains() * lsb_value)"
   ]
  },
  {
   "cell_type": "code",
   "execution_count": 12,
   "id": "c372fe65",
   "metadata": {},
   "outputs": [
    {
     "data": {
      "text/plain": [
       "(300.0, 600.0)"
      ]
     },
     "execution_count": 12,
     "metadata": {},
     "output_type": "execute_result"
    },
    {
     "data": {
      "application/vnd.jupyter.widget-view+json": {
       "model_id": "c32ffaf4446b40f7a3b35e142668fcd7",
       "version_major": 2,
       "version_minor": 0
      },
      "image/png": "[encoded data removed]",
      "text/html": [
       "\n",
       "            <div style=\"display: inline-block;\">\n",
       "                <div class=\"jupyter-widgets widget-label\" style=\"text-align: center;\">\n",
       "                    Figure\n",
       "                </div>\n",
       "                <img src='data:image/png;base64,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' width=640.0/>\n",
       "            </div>\n",
       "        "
      ],
      "text/plain": [
       "Canvas(toolbar=Toolbar(toolitems=[('Home', 'Reset original view', 'home', 'home'), ('Back', 'Back to previous …"
      ]
     },
     "metadata": {},
     "output_type": "display_data"
    }
   ],
   "source": [
    "w = si.plot_probe_map(rec_to_compress)\n",
    "w.ax.set_xlim(-20, 60)\n",
    "w.ax.set_ylim(300, 600)"
   ]
  },
  {
   "cell_type": "code",
   "execution_count": 13,
   "id": "6f79768f",
   "metadata": {},
   "outputs": [],
   "source": [
    "total_bytes = rec_oe.get_num_samples() * rec_oe.get_num_channels() * rec_oe.get_dtype().itemsize"
   ]
  },
  {
   "cell_type": "markdown",
   "id": "ce4e7fcd",
   "metadata": {},
   "source": [
    "# LOSSLESS\n",
    "\n",
    "### FLAC"
   ]
  },
  {
   "cell_type": "code",
   "execution_count": null,
   "id": "abacde87",
   "metadata": {},
   "outputs": [],
   "source": []
  },
  {
   "cell_type": "code",
   "execution_count": null,
   "id": "fa205115",
   "metadata": {},
   "outputs": [],
   "source": [
    "# flac_stream = test_audio_folder / \"flac_stream\"\n",
    "# flac_concat = test_audio_folder / \"flac_concat\"\n",
    "# rec_audio_flac_stream = write_recording_audio(rec_to_compress, flac_stream, cformat=\"flac\",\n",
    "#                                               overwrite=True, mode=\"stream\", **job_kwargs)\n",
    "\n",
    "# rec_audio_flac_concat = write_recording_audio(rec_to_compress, flac_concat, cformat=\"flac\",\n",
    "#                                               overwrite=True, mode=\"concat\", **job_kwargs)"
   ]
  },
  {
   "cell_type": "code",
   "execution_count": 14,
   "id": "0d68fa60",
   "metadata": {
    "scrolled": true
   },
   "outputs": [
    {
     "name": "stdout",
     "output_type": "stream",
     "text": [
      "write_zarr_recording with n_jobs 10  chunk_size 30000\n"
     ]
    },
    {
     "name": "stderr",
     "output_type": "stream",
     "text": [
      "write_zarr_recording: 100%|██████████████████████████████████████████████████████████████████████████████████████████████████████████████████████████████████████████████| 733/733 [00:32<00:00, 22.28it/s]\n"
     ]
    },
    {
     "name": "stdout",
     "output_type": "stream",
     "text": [
      "Skipping field contact_plane_axes: only 1D and 2D arrays can be serialized\n",
      "write_zarr_recording with n_jobs 10  chunk_size 30000\n"
     ]
    },
    {
     "name": "stderr",
     "output_type": "stream",
     "text": [
      "write_zarr_recording: 100%|██████████████████████████████████████████████████████████████████████████████████████████████████████████████████████████████████████████████| 733/733 [00:32<00:00, 22.22it/s]\n"
     ]
    },
    {
     "name": "stdout",
     "output_type": "stream",
     "text": [
      "Skipping field contact_plane_axes: only 1D and 2D arrays can be serialized\n"
     ]
    }
   ],
   "source": [
    "zarr_path = test_audio_folder / f\"flac-si-{np_version}.zarr\"\n",
    "\n",
    "if zarr_path.is_dir():\n",
    "    shutil.rmtree(zarr_path)\n",
    "\n",
    "rec_flac_zarr = rec_to_compress.save(format=\"zarr\", zarr_path=zarr_path, flatten=True,\n",
    "                                     compressor=FlacCodec(compression_level=8),\n",
    "                                     **job_kwargs)\n",
    "\n",
    "zarr_path = test_audio_folder / f\"flac-si-{np_version}2.zarr\"\n",
    "\n",
    "if zarr_path.is_dir():\n",
    "    shutil.rmtree(zarr_path)\n",
    "\n",
    "rec_flac_zarr2 = rec_to_compress.save(format=\"zarr\", zarr_path=zarr_path, flatten=True,\n",
    "                                      compressor=FlacCodec(compression_level=8),\n",
    "                                      channels_per_chunk=2,\n",
    "                                      **job_kwargs)"
   ]
  },
  {
   "cell_type": "code",
   "execution_count": null,
   "id": "aa622bc5",
   "metadata": {},
   "outputs": [],
   "source": [
    "job_kwargs[\"n_jobs\"] = 1"
   ]
  },
  {
   "cell_type": "code",
   "execution_count": null,
   "id": "a1bbe376",
   "metadata": {},
   "outputs": [],
   "source": [
    "zarr_path = test_audio_folder / f\"flac-si-{np_version}2.zarr\"\n",
    "\n",
    "if zarr_path.is_dir():\n",
    "    shutil.rmtree(zarr_path)\n",
    "\n",
    "rec_flac_zarr2 = rec_to_compress.save(format=\"zarr\", zarr_path=zarr_path, flatten=True,\n",
    "                                      compressor=FlacCodec(compression_level=8),\n",
    "                                      channels_per_chunk=2,\n",
    "                                      **job_kwargs)"
   ]
  },
  {
   "cell_type": "code",
   "execution_count": null,
   "id": "f7616930",
   "metadata": {},
   "outputs": [],
   "source": [
    "from numcodecs import Blosc"
   ]
  },
  {
   "cell_type": "code",
   "execution_count": null,
   "id": "64bd1b1f",
   "metadata": {},
   "outputs": [],
   "source": [
    "zarr_path = test_audio_folder / f\"zstd-{np_version}.zarr\"\n",
    "\n",
    "if zarr_path.is_dir():\n",
    "    shutil.rmtree(zarr_path)\n",
    "    \n",
    "compressor = Blosc(cname='zstd', clevel=9, shuffle=Blosc.BITSHUFFLE)\n",
    "\n",
    "rec_zstd_zarr = rec_to_compress.save(format=\"zarr\", zarr_path=zarr_path,\n",
    "                                     compressor=compressor,\n",
    "                                     **job_kwargs)"
   ]
  },
  {
   "cell_type": "code",
   "execution_count": null,
   "id": "9e27e11e",
   "metadata": {},
   "outputs": [],
   "source": [
    "zarr_path = test_audio_folder / f\"zstd-{np_version}-4chans.zarr\"\n",
    "\n",
    "if zarr_path.is_dir():\n",
    "    shutil.rmtree(zarr_path)\n",
    "    \n",
    "rec_zstd_zarr4 = rec_to_compress.save(format=\"zarr\", \n",
    "                                      zarr_path=zarr_path, flatten=True,\n",
    "                                      compressor=compressor,\n",
    "                                      channel_chunk_size=4,\n",
    "                                      **job_kwargs)"
   ]
  },
  {
   "cell_type": "code",
   "execution_count": null,
   "id": "17707ddb",
   "metadata": {},
   "outputs": [],
   "source": [
    "print(f\"CR ZSTD - flatten: {rec_zstd_zarr.get_annotation('compression_ratio')}\")\n",
    "\n",
    "print(f\"CR ZSTD - 8-channels: {rec_zstd_zarr8.get_annotation('compression_ratio')}\")\n",
    "\n",
    "print(f\"CR ZSTD - 4-channels: {rec_zstd_zarr4.get_annotation('compression_ratio')}\")"
   ]
  },
  {
   "cell_type": "code",
   "execution_count": null,
   "id": "b5847702",
   "metadata": {},
   "outputs": [],
   "source": [
    "print(f\"CR FLAC SI - flatten: {rec_flac_zarr.get_annotation('compression_ratio')}\")\n",
    "\n",
    "print(f\"CR FLAC SI - 2-channels: {rec_flac_zarr2.get_annotation('compression_ratio')}\")"
   ]
  },
  {
   "cell_type": "code",
   "execution_count": null,
   "id": "0d81f524",
   "metadata": {},
   "outputs": [],
   "source": [
    "tr_or = rec_to_compress.get_traces(end_frame=30000)\n",
    "tr_flac = rec_flac_zarr.get_traces(end_frame=30000)\n",
    "tr_flac2 = rec_flac_zarr2.get_traces(end_frame=30000)\n"
   ]
  },
  {
   "cell_type": "code",
   "execution_count": null,
   "id": "d8ce5975",
   "metadata": {},
   "outputs": [],
   "source": [
    "plt.figure()\n",
    "\n",
    "plt.plot(tr_or[:, 100])\n",
    "plt.plot(tr_flac[:, 100])\n",
    "plt.plot(tr_flac2[:, 100])"
   ]
  },
  {
   "cell_type": "code",
   "execution_count": null,
   "id": "f0185394",
   "metadata": {},
   "outputs": [],
   "source": [
    "total_bytes_flac_stream = get_dir_size(flac_stream)\n",
    "cr_flac_stream = total_bytes / total_bytes_flac_stream\n",
    "print(f\"CR FLAC - stream mode: {cr_flac_stream}\")\n",
    "\n",
    "total_bytes_flac_concat = get_dir_size(flac_concat)\n",
    "cr_flac_concat = total_bytes / total_bytes_flac_concat\n",
    "print(f\"CR FLAC - concat mode: {cr_flac_concat}\")\n",
    "\n"
   ]
  },
  {
   "cell_type": "markdown",
   "id": "13ef69b0",
   "metadata": {},
   "source": [
    "### WAVPACK - lossless"
   ]
  },
  {
   "cell_type": "code",
   "execution_count": null,
   "id": "43a687ee",
   "metadata": {},
   "outputs": [],
   "source": [
    "# wv_stream = test_audio_folder / \"wv_stream\"\n",
    "# wv_concat = test_audio_folder / \"wv_concat\""
   ]
  },
  {
   "cell_type": "code",
   "execution_count": null,
   "id": "fadc3210",
   "metadata": {
    "scrolled": false
   },
   "outputs": [],
   "source": [
    "# rec_audio_wv_stream = write_recording_audio(rec_to_compress, wv_stream, cformat=\"wavpack\",\n",
    "#                                             overwrite=True, mode=\"stream\", **job_kwargs)\n",
    "# # rec_audio_wv_concat = write_recording_audio(rec_to_compress, wv_concat, cformat=\"wavpack\",\n",
    "# #                                      overwrite=True, mode=\"concat\", **job_kwargs)"
   ]
  },
  {
   "cell_type": "code",
   "execution_count": null,
   "id": "c3b7c5bd",
   "metadata": {},
   "outputs": [],
   "source": [
    "rec_to_compress"
   ]
  },
  {
   "cell_type": "code",
   "execution_count": 16,
   "id": "defc55a7",
   "metadata": {
    "scrolled": false
   },
   "outputs": [
    {
     "name": "stdout",
     "output_type": "stream",
     "text": [
      "write_zarr_recording with n_jobs 10  chunk_size 30000\n"
     ]
    },
    {
     "name": "stderr",
     "output_type": "stream",
     "text": [
      "write_zarr_recording: 100%|██████████████████████████████████████████████████████████████████████████████████████████████████████████████████████████████████████████████| 733/733 [00:48<00:00, 15.12it/s]"
     ]
    },
    {
     "name": "stdout",
     "output_type": "stream",
     "text": [
      "Skipping field contact_plane_axes: only 1D and 2D arrays can be serialized\n"
     ]
    },
    {
     "name": "stderr",
     "output_type": "stream",
     "text": [
      "\n"
     ]
    }
   ],
   "source": [
    "zarr_path = test_audio_folder / \"wavpack-si.zarr\"\n",
    "\n",
    "if zarr_path.is_dir():\n",
    "    shutil.rmtree(zarr_path)\n",
    "\n",
    "rec_wv_zarr = rec_to_compress.save(format=\"zarr\", zarr_path=zarr_path, \n",
    "                                   compressor=WavPackCodec(compression_mode=\"h\"),\n",
    "                                   **job_kwargs)    "
   ]
  },
  {
   "cell_type": "code",
   "execution_count": 17,
   "id": "2b2e55b0",
   "metadata": {},
   "outputs": [
    {
     "name": "stdout",
     "output_type": "stream",
     "text": [
      "write_zarr_recording with n_jobs 10  chunk_size 30000\n"
     ]
    },
    {
     "name": "stderr",
     "output_type": "stream",
     "text": [
      "write_zarr_recording: 100%|██████████████████████████████████████████████████████████████████████████████████████████████████████████████████████████████████████████████| 733/733 [00:58<00:00, 12.57it/s]"
     ]
    },
    {
     "name": "stdout",
     "output_type": "stream",
     "text": [
      "Skipping field contact_plane_axes: only 1D and 2D arrays can be serialized\n"
     ]
    },
    {
     "name": "stderr",
     "output_type": "stream",
     "text": [
      "\n"
     ]
    }
   ],
   "source": [
    "zarr_path = test_audio_folder / \"wavpack-si-corr.zarr\"\n",
    "\n",
    "if zarr_path.is_dir():\n",
    "    shutil.rmtree(zarr_path)\n",
    "\n",
    "rec_wv_zarr_nocc = rec_to_compress.save(format=\"zarr\", zarr_path=zarr_path, \n",
    "                                        compressor=WavPackCodec(compression_mode=\"h\", hybrid_factor=2),\n",
    "                                        **job_kwargs) "
   ]
  },
  {
   "cell_type": "code",
   "execution_count": 15,
   "id": "73542aee",
   "metadata": {
    "scrolled": true
   },
   "outputs": [
    {
     "name": "stdout",
     "output_type": "stream",
     "text": [
      "write_zarr_recording with n_jobs 10  chunk_size 30000\n"
     ]
    },
    {
     "name": "stderr",
     "output_type": "stream",
     "text": [
      "write_zarr_recording: 100%|██████████████████████████████████████████████████████████████████████████████████████████████████████████████████████████████████████████████| 733/733 [01:03<00:00, 11.47it/s]"
     ]
    },
    {
     "name": "stdout",
     "output_type": "stream",
     "text": [
      "Skipping field contact_plane_axes: only 1D and 2D arrays can be serialized\n"
     ]
    },
    {
     "name": "stderr",
     "output_type": "stream",
     "text": [
      "\n"
     ]
    }
   ],
   "source": [
    "zarr_path = test_audio_folder / \"wavpack-si-corr.zarr\"\n",
    "\n",
    "if zarr_path.is_dir():\n",
    "    shutil.rmtree(zarr_path)\n",
    "\n",
    "rec_wv_zarr_cc = rec_to_compress.save(format=\"zarr\", zarr_path=zarr_path, \n",
    "                                      compressor=WavPackCodec(compression_mode=\"h\", hybrid_factor=2, cc=True),\n",
    "                                      **job_kwargs) "
   ]
  },
  {
   "cell_type": "code",
   "execution_count": 18,
   "id": "227525a8",
   "metadata": {},
   "outputs": [
    {
     "name": "stdout",
     "output_type": "stream",
     "text": [
      "CR WV SI: 2.3444542823491332\n",
      "CR WV SI - hybrid - NO CC: 6.8980750740101255\n",
      "CR WV SI - hybrid - CC: 6.898637568128799\n"
     ]
    }
   ],
   "source": [
    "print(f\"CR WV SI: {rec_wv_zarr.get_annotation('compression_ratio')}\")\n",
    "print(f\"CR WV SI - hybrid - NO CC: {rec_wv_zarr_nocc.get_annotation('compression_ratio')}\")\n",
    "print(f\"CR WV SI - hybrid - CC: {rec_wv_zarr_cc.get_annotation('compression_ratio')}\")"
   ]
  },
  {
   "cell_type": "code",
   "execution_count": null,
   "id": "99de87ea",
   "metadata": {
    "scrolled": false
   },
   "outputs": [],
   "source": [
    "rec_wv_zarr_c.get_traces(end_frame=100)"
   ]
  },
  {
   "cell_type": "code",
   "execution_count": null,
   "id": "9160bc24",
   "metadata": {},
   "outputs": [],
   "source": [
    "zarr_path = test_audio_folder / \"wavpack-si-shuffle.zarr\"\n",
    "\n",
    "if zarr_path.is_dir():\n",
    "    shutil.rmtree(zarr_path)\n",
    "rec_wv_zarr_sh = rec_to_compress.save(format=\"zarr\", zarr_path=zarr_path, \n",
    "                                   compressor=WavPackCodec(compression_mode=\"hh\"),\n",
    "                                   filters=[shuffle],\n",
    "                                   **job_kwargs)"
   ]
  },
  {
   "cell_type": "code",
   "execution_count": null,
   "id": "40469773",
   "metadata": {},
   "outputs": [],
   "source": [
    "numcodecs.registry.codec_registry"
   ]
  },
  {
   "cell_type": "code",
   "execution_count": null,
   "id": "b0f90d7f",
   "metadata": {},
   "outputs": [],
   "source": [
    "print(f\"CR WV no shuffle: {rec_wv_zarr.get_annotation('compression_ratio')}\")\n",
    "print(f\"CR WV shuffle: {rec_wv_zarr_sh.get_annotation('compression_ratio')}\")"
   ]
  },
  {
   "cell_type": "code",
   "execution_count": null,
   "id": "5da6672a",
   "metadata": {},
   "outputs": [],
   "source": [
    "hybryd_factors = [None, 4, 3, 2.5, 2]\n",
    "\n",
    "rec_wv_dict = {}\n",
    "\n",
    "for hf in hybryd_factors:\n",
    "    print(f\"Hybrid factor: {hf}\")\n",
    "    zarr_path = test_audio_folder / f\"wavpack-si-lossy-{hf}.zarr\"\n",
    "\n",
    "    if zarr_path.is_dir():\n",
    "        shutil.rmtree(zarr_path)\n",
    "\n",
    "    rec_wv_zarr_lossy = rec_to_compress.save(format=\"zarr\", zarr_path=zarr_path, \n",
    "                                             compressor=WavPackCodec(compression_mode=\"h\", hybrid_factor=hf),\n",
    "                                             **job_kwargs)\n",
    "    if hf is None:\n",
    "        rec_wv_dict[0] = rec_wv_zarr_lossy\n",
    "    else:\n",
    "        rec_wv_dict[hf] = rec_wv_zarr_lossy\n",
    "    print(f\"CR WV SI LOSSY - hf {hf}: {rec_wv_zarr_lossy.get_annotation('compression_ratio')}\")"
   ]
  },
  {
   "cell_type": "code",
   "execution_count": null,
   "id": "de9b00b1",
   "metadata": {},
   "outputs": [],
   "source": [
    "channel_id = 150\n",
    "\n",
    "plt.figure()\n",
    "\n",
    "for hf, rec in rec_wv_dict.items():\n",
    "    tr = rec.get_traces(end_frame=30000)\n",
    "    plt.plot(tr[:, channel_id], label=f\"{hf}\", alpha=0.8)\n",
    "plt.legend()"
   ]
  },
  {
   "cell_type": "code",
   "execution_count": null,
   "id": "e089d9ea",
   "metadata": {},
   "outputs": [],
   "source": [
    "# total_bytes_wv = get_dir_size(wv_stream)\n",
    "# cr_wv_stream = total_bytes / total_bytes_wv \n",
    "# print(f\"CR WV - stream: {cr_wv_stream}\")\n",
    "\n",
    "# total_bytes_wv = get_dir_size(wv_concat)\n",
    "# cr_wv_concat = total_bytes / total_bytes_wv \n",
    "# print(f\"CR WV - concat: {cr_wv_concat}\")\n",
    "\n",
    "print(f\"CR WV SI - concat mode: {rec_wv_zarr.get_annotation('compression_ratio')}\")\n",
    "\n",
    "print(f\"CR WV SI LOSSY - concat mode: {rec_wv_zarr_lossy.get_annotation('compression_ratio')}\")\n",
    "\n",
    "# tr_or = rec_to_compress.get_traces(end_frame=30000)\n",
    "# tr_wv = rec_wv_zarr.get_traces(end_frame=30000)\n",
    "# tr_wv_lossy = rec_wv_zarr_lossy.get_traces(end_frame=30000)\n",
    "\n",
    "\n",
    "# plt.plot(tr_or[:, 100])\n",
    "# plt.plot(tr_wv[:, 100])\n",
    "# plt.plot(tr_wv_lossy[:, 100])"
   ]
  },
  {
   "cell_type": "markdown",
   "id": "3b3b575c",
   "metadata": {},
   "source": [
    "# LOSSY"
   ]
  },
  {
   "cell_type": "code",
   "execution_count": null,
   "id": "49ff28ef",
   "metadata": {},
   "outputs": [],
   "source": [
    "mp3_file = test_audio_folder / \"mp3_stream\""
   ]
  },
  {
   "cell_type": "code",
   "execution_count": null,
   "id": "64dc3d0c",
   "metadata": {},
   "outputs": [],
   "source": [
    "rec_audio_mp3 = write_recording_audio(rec_to_compress, mp3_file, cformat=\"mp3\",\n",
    "                                      overwrite=True, mode=\"stream\", **job_kwargs)"
   ]
  },
  {
   "cell_type": "code",
   "execution_count": null,
   "id": "47f72125",
   "metadata": {},
   "outputs": [],
   "source": [
    "total_bytes_mp3 = get_dir_size(mp3_file)\n",
    "cr_mp3 = total_bytes / total_bytes_mp3 \n",
    "print(f\"CR MP3: {cr_mp3}\")"
   ]
  },
  {
   "cell_type": "code",
   "execution_count": null,
   "id": "46860e0c",
   "metadata": {},
   "outputs": [],
   "source": [
    "wv_file_lossy = test_audio_folder / \"wv_stream_lossy\""
   ]
  },
  {
   "cell_type": "code",
   "execution_count": null,
   "id": "44637002",
   "metadata": {},
   "outputs": [],
   "source": [
    "rec_audio_wv_lossy = write_recording_audio(rec_to_compress, wv_file_lossy, cformat=\"wavpack\",\n",
    "                                           lossless=False, overwrite=True, mode=\"stream\", **job_kwargs)"
   ]
  },
  {
   "cell_type": "code",
   "execution_count": null,
   "id": "b11c7f5e",
   "metadata": {},
   "outputs": [],
   "source": [
    "total_bytes_wv_lossy = get_dir_size(wv_file_lossy)\n",
    "cr_wv_lossy = total_bytes / total_bytes_wv_lossy \n",
    "print(f\"CR WV-HYBRID: {cr_wv_lossy}\")"
   ]
  },
  {
   "cell_type": "code",
   "execution_count": null,
   "id": "e6f10c28",
   "metadata": {},
   "outputs": [],
   "source": [
    "# check traces"
   ]
  },
  {
   "cell_type": "code",
   "execution_count": null,
   "id": "c5fa3cb5",
   "metadata": {},
   "outputs": [],
   "source": [
    "t_start = time.perf_counter()\n",
    "tr_flac_str = rec_flac_zarr2.get_traces(start_frame=start_frame, end_frame=end_frame,\n",
    "                                    channel_ids=channel_ids)\n",
    "t_stop = time.perf_counter()\n",
    "elapsed_time_flac = np.round(t_stop - t_start, 2)\n",
    "print(f\"FLAC {ch} - flatten - num channels {nc}: {elapsed_time_flac} s\")\n"
   ]
  },
  {
   "cell_type": "code",
   "execution_count": null,
   "id": "41ee5727",
   "metadata": {
    "scrolled": false
   },
   "outputs": [],
   "source": [
    "#stream VS concat\n",
    "\n",
    "snippet_durations = [0.5, 1, 2, 5]\n",
    "num_chunks = 3\n",
    "num_channels = [10, 384]\n",
    "num_samples = rec_to_compress.get_num_samples()\n",
    "\n",
    "for dur in snippet_durations:\n",
    "    print(f\"Snippet duration {dur}s\")\n",
    "#     fig, axs = plt.subplots(nrows=num_chunks, ncols=len(num_channels))\n",
    "    for ch in range(num_chunks):\n",
    "        samples = int(rec_to_compress.get_sampling_frequency() * dur)\n",
    "        start_frame = np.random.randint(num_samples - samples - 1)\n",
    "        end_frame = start_frame + samples\n",
    "        \n",
    "        for inc, nc in enumerate(num_channels):\n",
    "            channel_ids = rec_to_compress.channel_ids[np.random.permutation(rec_to_compress.get_num_channels())[:nc]]\n",
    "            \n",
    "            random_channel = np.random.randint(nc)\n",
    "            tr_or = rec_to_compress.get_traces(start_frame=start_frame, end_frame=end_frame,\n",
    "                                               channel_ids=channel_ids)\n",
    "            t_start = time.perf_counter()\n",
    "            tr_flac_str = rec_flac_zarr2.get_traces(start_frame=start_frame, end_frame=end_frame,\n",
    "                                                channel_ids=channel_ids)\n",
    "            t_stop = time.perf_counter()\n",
    "            elapsed_time_flac = np.round(t_stop - t_start, 2)\n",
    "            print(f\"FLAC {ch} - flatten - num channels {nc}: {elapsed_time_flac} s\")\n",
    "            \n",
    "            t_start = time.perf_counter()\n",
    "            tr_flac_cnc = rec_flac_zarr2.get_traces(start_frame=start_frame, end_frame=end_frame,\n",
    "                                                channel_ids=channel_ids)\n",
    "            t_stop = time.perf_counter()\n",
    "            elapsed_time_flac = np.round(t_stop - t_start, 2)\n",
    "            print(f\"FLAC {ch} - 2-chans - num channels {nc}: {elapsed_time_flac} s\")\n",
    "            \n",
    "#             axs[ch, inc].plot(tr_or[:, random_channel], \"k\", label=\"GT\", lw=2, alpha=0.8)\n",
    "#             axs[ch, inc].plot(tr_flac_str[:, random_channel], \"C0\", label=\"FLAC\", alpha=0.8)            \n",
    "#             axs[ch, inc].plot(tr_flac_cnc[:, random_channel], \"C1\", label=\"WV\", alpha=0.8)            "
   ]
  },
  {
   "cell_type": "code",
   "execution_count": null,
   "id": "6f05791b",
   "metadata": {},
   "outputs": [],
   "source": [
    "plt.figure()\n",
    "\n",
    "plt.plot(tr_or[:, 0])\n",
    "plt.plot(tr_flac_str[:, 0])\n",
    "plt.plot(tr_flac_cnc[:, 0])"
   ]
  },
  {
   "cell_type": "code",
   "execution_count": null,
   "id": "206977eb",
   "metadata": {
    "scrolled": false
   },
   "outputs": [],
   "source": [
    "snippet_durations = [0.5, 1, 2, 5]\n",
    "num_chunks = 3\n",
    "num_channels = [10, 384]\n",
    "num_samples = rec_to_compress.get_num_samples()\n",
    "\n",
    "for dur in snippet_durations:\n",
    "    print(f\"Snippet duration {dur}s\")\n",
    "    fig, axs = plt.subplots(nrows=num_chunks, ncols=len(num_channels))\n",
    "    for ch in range(num_chunks):\n",
    "        samples = int(rec_to_compress.get_sampling_frequency() * dur)\n",
    "        start_frame = np.random.randint(num_samples - samples - 1)\n",
    "        end_frame = start_frame + samples\n",
    "        \n",
    "        for inc, nc in enumerate(num_channels):\n",
    "            channel_ids = rec_to_compress.channel_ids[np.random.permutation(rec_to_compress.get_num_channels())[:nc]]\n",
    "            \n",
    "            random_channel = np.random.randint(nc)\n",
    "            tr_or = rec_to_compress.get_traces(start_frame=start_frame, end_frame=end_frame,\n",
    "                                               channel_ids=channel_ids)\n",
    "            t_start = time.perf_counter()\n",
    "            tr_flac = rec_audio_flac.get_traces(start_frame=start_frame, end_frame=end_frame,\n",
    "                                                channel_ids=channel_ids)\n",
    "            t_stop = time.perf_counter()\n",
    "            elapsed_time_flac = np.round(t_stop - t_start, 2)\n",
    "            print(f\"FLAC {ch} - dur{dur} - num channels {nc}: {elapsed_time_flac} s\")\n",
    "            \n",
    "            t_start = time.perf_counter()\n",
    "            tr_wv = rec_audio_wv.get_traces(start_frame=start_frame, end_frame=end_frame,\n",
    "                                            channel_ids=channel_ids)\n",
    "            t_stop = time.perf_counter()\n",
    "            elapsed_time_wv = np.round(t_stop - t_start, 2)\n",
    "            print(f\"WV test{ch} - num channels {nc}: {elapsed_time_wv} s\")\n",
    "            \n",
    "            axs[ch, inc].plot(tr_or[:, random_channel], \"k\", label=\"GT\", lw=2, alpha=0.8)\n",
    "            axs[ch, inc].plot(tr_flac[:, random_channel], \"C0\", label=\"FLAC\", alpha=0.8)            \n",
    "            axs[ch, inc].plot(tr_wv[:, random_channel], \"C1\", label=\"WV\", alpha=0.8)            "
   ]
  },
  {
   "cell_type": "code",
   "execution_count": null,
   "id": "8066eeb0",
   "metadata": {
    "scrolled": false
   },
   "outputs": [],
   "source": [
    "snippet_durations = [0.5, 1, 2, 5]\n",
    "num_chunks = 3\n",
    "num_channels = [10, 384]\n",
    "num_samples = rec_to_compress.get_num_samples()\n",
    "\n",
    "for dur in snippet_durations:\n",
    "    print(f\"Snippet duration {dur}s\")\n",
    "    fig, axs = plt.subplots(nrows=num_chunks, ncols=len(num_channels))\n",
    "    for ch in range(num_chunks):\n",
    "        samples = int(rec_to_compress.get_sampling_frequency() * dur)\n",
    "        start_frame = np.random.randint(num_samples - samples - 1)\n",
    "        end_frame = start_frame + samples\n",
    "        \n",
    "        for inc, nc in enumerate(num_channels):\n",
    "            channel_ids = rec_to_compress.channel_ids[np.random.permutation(rec_to_compress.get_num_channels())[:nc]]\n",
    "            \n",
    "            random_channel = np.random.randint(nc)\n",
    "            tr_or = rec_to_compress.get_traces(start_frame=start_frame, end_frame=end_frame,\n",
    "                                               channel_ids=channel_ids)\n",
    "            t_start = time.perf_counter()\n",
    "            tr_mp3 = rec_audio_mp3.get_traces(start_frame=start_frame, end_frame=end_frame,\n",
    "                                                channel_ids=channel_ids)\n",
    "            t_stop = time.perf_counter()\n",
    "            elapsed_time_mp3 = np.round(t_stop - t_start, 2)\n",
    "            print(f\"MP3 {ch} - dur{dur} - num channels {nc}: {elapsed_time_mp3} s\")\n",
    "            \n",
    "            axs[ch, inc].plot(tr_or[:, random_channel], \"k\", label=\"GT\", lw=2, alpha=0.8)\n",
    "            axs[ch, inc].plot(tr_mp3[:, random_channel], \"C0\", label=\"MP3\", alpha=0.8)            \n"
   ]
  },
  {
   "cell_type": "markdown",
   "id": "2a891ae3",
   "metadata": {},
   "source": [
    "### Spike sort LOSSY"
   ]
  },
  {
   "cell_type": "code",
   "execution_count": null,
   "id": "75085f3d",
   "metadata": {},
   "outputs": [],
   "source": [
    "sorter = \"kilosort2_5\"\n",
    "sorter_params = {\"n_jobs_bin\": 10, \"total_memory\": \"100M\"}"
   ]
  },
  {
   "cell_type": "code",
   "execution_count": null,
   "id": "d921ba8a",
   "metadata": {},
   "outputs": [],
   "source": [
    "rec_lossless_preproc = si.bandpass_filter(rec_wv_zarr)\n",
    "rec_lossless_preproc = si.common_reference(rec_lossless_preproc, reference=\"local\")"
   ]
  },
  {
   "cell_type": "code",
   "execution_count": null,
   "id": "f303b655",
   "metadata": {},
   "outputs": [],
   "source": [
    "tr_10s = rec_wv_zarr.get_traces(start_frame=int(20*fs), end_frame=int(40*fs))"
   ]
  },
  {
   "cell_type": "code",
   "execution_count": null,
   "id": "f76b8c67",
   "metadata": {
    "scrolled": false
   },
   "outputs": [],
   "source": [
    "sort_wv_KS = si.run_sorter(sorter, rec_lossless_preproc, \n",
    "                           output_folder=test_audio_folder / \"wv_ks25\", verbose=True,\n",
    "                           **sorter_params)\n",
    "print(sort_wv_KS)"
   ]
  },
  {
   "cell_type": "code",
   "execution_count": null,
   "id": "8c0b890b",
   "metadata": {},
   "outputs": [],
   "source": [
    "rec_lossy_preproc = si.bandpass_filter(rec_wv_zarr_lossy)\n",
    "rec_lossy_preproc = si.common_reference(rec_lossy_preproc, reference=\"local\")"
   ]
  },
  {
   "cell_type": "code",
   "execution_count": null,
   "id": "933c81fc",
   "metadata": {
    "scrolled": false
   },
   "outputs": [],
   "source": [
    "sort_wvl_KS = si.run_sorter(sorter, rec_wv_zarr_lossy, output_folder=test_audio_folder / \"flac_ks25\", \n",
    "                            verbose=True, **sorter_params)\n",
    "print(sort_wvl_KS)"
   ]
  },
  {
   "cell_type": "code",
   "execution_count": null,
   "id": "58f12610",
   "metadata": {},
   "outputs": [],
   "source": [
    "mcmp = si.compare_multiple_sorters([sort_wv_KS, sort_wvl_KS], name_list=[\"WV\", \"WV_LOSSY\"], verbose=True)"
   ]
  },
  {
   "cell_type": "code",
   "execution_count": null,
   "id": "7eb88f07",
   "metadata": {},
   "outputs": [],
   "source": [
    "si.plot_multicomp_agreement_by_sorter(mcmp)"
   ]
  },
  {
   "cell_type": "code",
   "execution_count": null,
   "id": "5bbb9209",
   "metadata": {},
   "outputs": [],
   "source": [
    "si.plot_agreement_matrix(mcmp.comparisons[0])"
   ]
  },
  {
   "cell_type": "code",
   "execution_count": null,
   "id": "efa3ad94",
   "metadata": {},
   "outputs": [],
   "source": [
    "cmp_gt = si.compare_sorter_to_ground_truth(sort_wv_KS, sort_wvl_KS)"
   ]
  },
  {
   "cell_type": "code",
   "execution_count": null,
   "id": "4d628ee7",
   "metadata": {},
   "outputs": [],
   "source": [
    "len(cmp_gt.get_well_detected_units(well_detected_score=0.8))"
   ]
  },
  {
   "cell_type": "code",
   "execution_count": null,
   "id": "1eb29ffc",
   "metadata": {},
   "outputs": [],
   "source": []
  },
  {
   "cell_type": "code",
   "execution_count": null,
   "id": "f5d0ff40",
   "metadata": {},
   "outputs": [],
   "source": []
  },
  {
   "cell_type": "code",
   "execution_count": null,
   "id": "7c441b63",
   "metadata": {},
   "outputs": [],
   "source": [
    "ch_idx = 150\n",
    "\n",
    "tr_wv = rec_lossless_preproc.get_traces(end_frame=30000)\n",
    "tr_wv_lossy = rec_lossy_preproc.get_traces(end_frame=30000)\n",
    "\n",
    "plt.figure()\n",
    "\n",
    "plt.plot(tr_wv[:, ch_idx])\n",
    "plt.plot(tr_wv_lossy[:, ch_idx])"
   ]
  },
  {
   "cell_type": "code",
   "execution_count": null,
   "id": "baa2873e",
   "metadata": {},
   "outputs": [],
   "source": [
    "import spikeinterface.full as si\n",
    "from numcodecs import Blosc\n",
    "\n",
    "open_ephys_path = \"path-to-oe-folder\"\n",
    "\n",
    "recording = si.read_open_ephys(open_ephys_path)\n",
    "\n",
    "compressor = Blosc(cname=\"zstd\", clevel=5, shuffle=2)\n",
    "\n",
    "recording_zarr = recording.save(format=\"zarr\", zarr_path=\"oe-dset.zarr\",\n",
    "                                compressor=compressor)"
   ]
  },
  {
   "cell_type": "code",
   "execution_count": null,
   "id": "cb5188b2",
   "metadata": {},
   "outputs": [],
   "source": [
    "storage_options = {token: \"my-private-auth\"}\n",
    "zarr_path = \"gcs://aind-bucket/oe-dset.zarr\"\n",
    "\n",
    "recording_zarr = recording.save(format=\"zarr\", zarr_path=zarr_path,\n",
    "                                storage_options=storage_options,\n",
    "                                compressor=compressor)"
   ]
  }
 ],
 "metadata": {
  "kernelspec": {
   "display_name": "Python 3 (ipykernel)",
   "language": "python",
   "name": "python3"
  },
  "language_info": {
   "codemirror_mode": {
    "name": "ipython",
    "version": 3
   },
   "file_extension": ".py",
   "mimetype": "text/x-python",
   "name": "python",
   "nbconvert_exporter": "python",
   "pygments_lexer": "ipython3",
   "version": "3.9.11"
  }
 },
 "nbformat": 4,
 "nbformat_minor": 5
}
