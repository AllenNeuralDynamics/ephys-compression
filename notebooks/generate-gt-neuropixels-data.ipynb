{
 "cells": [
  {
   "cell_type": "code",
   "execution_count": 9,
   "id": "01b9b911",
   "metadata": {},
   "outputs": [
    {
     "name": "stderr",
     "output_type": "stream",
     "text": [
      "/home/alessio/anaconda3/envs/si/lib/python3.9/site-packages/datalad/cmd.py:375: RuntimeWarning: coroutine 'run_async_cmd' was never awaited\n",
      "  new_loop = True\n",
      "RuntimeWarning: Enable tracemalloc to get the object allocation traceback\n",
      "/home/alessio/Documents/codes/spike_sorting/spikeinterface/spikeinterface/spikeinterface/core/datasets.py:12: RuntimeWarning: coroutine 'run_async_cmd' was never awaited\n",
      "  HAVE_DATALAD = False\n",
      "RuntimeWarning: Enable tracemalloc to get the object allocation traceback\n"
     ]
    }
   ],
   "source": [
    "import MEArec as mr\n",
    "import MEAutility as mu\n",
    "import yaml\n",
    "import numpy as np\n",
    "from pprint import pprint\n",
    "import spikeinterface.full as si\n",
    "import matplotlib.pylab as plt\n",
    "%matplotlib notebook"
   ]
  },
  {
   "cell_type": "code",
   "execution_count": 2,
   "id": "d019a5fc",
   "metadata": {},
   "outputs": [],
   "source": [
    "tempgen = mr.load_templates('/home/alessio/Documents/data/mearec/templates/templates_Neuropixels-128.h5')"
   ]
  },
  {
   "cell_type": "code",
   "execution_count": 3,
   "id": "c132a8e8",
   "metadata": {},
   "outputs": [
    {
     "name": "stdout",
     "output_type": "stream",
     "text": [
      "Copying settings from version 1.7.2 to new version 1.8.0\n",
      "\n"
     ]
    }
   ],
   "source": [
    "recordings_params = mr.get_default_recordings_params()"
   ]
  },
  {
   "cell_type": "code",
   "execution_count": 13,
   "id": "81fe57c6",
   "metadata": {},
   "outputs": [
    {
     "data": {
      "text/plain": [
       "{'fs': None,\n",
       " 'dtype': 'int16',\n",
       " 'adc_bit_depth': 10,\n",
       " 'lsb': 12,\n",
       " 'overlap': False,\n",
       " 'extract_waveforms': False,\n",
       " 'sync_rate': None,\n",
       " 'sync_jitt': 1,\n",
       " 'chunk_duration': 10,\n",
       " 'modulation': 'electrode',\n",
       " 'sdrand': 0.05,\n",
       " 'bursting': False,\n",
       " 'bursting_units': None,\n",
       " 'exp_decay': 0.2,\n",
       " 'n_burst_spikes': 10,\n",
       " 'max_burst_duration': 100,\n",
       " 'shape_mod': False,\n",
       " 'shape_stretch': 30.0,\n",
       " 'n_bursting': None,\n",
       " 'noise_level': 10,\n",
       " 'noise_mode': 'uncorrelated',\n",
       " 'noise_color': False,\n",
       " 'noise_half_distance': 30,\n",
       " 'far_neurons_n': 300,\n",
       " 'far_neurons_max_amp': 10,\n",
       " 'far_neurons_noise_floor': 0.5,\n",
       " 'far_neurons_exc_inh_ratio': 0.8,\n",
       " 'color_peak': 300,\n",
       " 'color_q': 2,\n",
       " 'color_noise_floor': 1,\n",
       " 'filter': False,\n",
       " 'filter_cutoff': [300, 6000],\n",
       " 'filter_order': 3,\n",
       " 'drifting': False,\n",
       " 'drift_mode': 'slow',\n",
       " 'n_drifting': None,\n",
       " 'preferred_dir': [0, 0, 1],\n",
       " 'angle_tol': 15,\n",
       " 'slow_drift_velocity': 5,\n",
       " 'fast_drift_period': 10,\n",
       " 'fast_drift_max_jump': 20,\n",
       " 'fast_drift_min_jump': 5,\n",
       " 't_start_drift': 0}"
      ]
     },
     "execution_count": 13,
     "metadata": {},
     "output_type": "execute_result"
    }
   ],
   "source": [
    "recordings_params[\"recordings\"]"
   ]
  },
  {
   "cell_type": "code",
   "execution_count": 14,
   "id": "ddf60d67",
   "metadata": {},
   "outputs": [],
   "source": [
    "# NP1.0 settings\n",
    "recordings_params[\"recordings\"][\"dtype\"] = \"int16\"\n",
    "recordings_params[\"recordings\"][\"filter\"] = False\n",
    "\n",
    "recordings_params[\"recordings\"][\"adc_bit_depth\"] = 10\n",
    "recordings_params[\"recordings\"][\"lsb\"] = 12\n",
    "recordings_params[\"recordings\"][\"dtype\"] = \"int16\"\n",
    "recordings_params[\"recordings\"][\"chunk_duration\"] = 10\n",
    "recordings_params[\"recordings\"][\"noise_mode\"] = \"distance-correlated\"\n",
    "\n",
    "\n",
    "recordings_params[\"spiketrains\"][\"n_exc\"] = 50\n",
    "recordings_params[\"spiketrains\"][\"n_inh\"] = 10\n",
    "recordings_params[\"spiketrains\"][\"duration\"] = 600"
   ]
  },
  {
   "cell_type": "code",
   "execution_count": 15,
   "id": "b4bcf59a",
   "metadata": {},
   "outputs": [
    {
     "name": "stdout",
     "output_type": "stream",
     "text": [
      "Spiketrains seed:  6982\n",
      "dtype int16\n",
      "ADC bit depth: 10 -- LSB: 12\n",
      "Noise Level  10\n",
      "Templates selection seed:  3213\n",
      "Selecting cells\n",
      "Templates and noise scaled by gain: 19.534874768880602\n",
      "Padding template edges\n",
      "Elapsed pad time: 1.7367184162139893\n",
      "Creating time jittering\n",
      "Elapsed jitter time: 3.774014472961426\n",
      "Computing spike train SNR\n",
      "Adding spiketrain annotations\n",
      "Convolution seed:  3472\n",
      "Electrode modulaton\n",
      "Adding noise\n",
      "Noise seed:  9905\n",
      "Elapsed time:  47.75848785000562\n"
     ]
    }
   ],
   "source": [
    "recgen = mr.gen_recordings(params=recordings_params, tempgen=tempgen, \n",
    "                           n_jobs=20, verbose=True)"
   ]
  },
  {
   "cell_type": "code",
   "execution_count": 17,
   "id": "0d4b3e8c",
   "metadata": {},
   "outputs": [],
   "source": [
    "mr.save_recording_generator(recgen, \"np1_mearec_dist-corr.h5\")"
   ]
  }
 ],
 "metadata": {
  "kernelspec": {
   "display_name": "Python 3 (ipykernel)",
   "language": "python",
   "name": "python3"
  },
  "language_info": {
   "codemirror_mode": {
    "name": "ipython",
    "version": 3
   },
   "file_extension": ".py",
   "mimetype": "text/x-python",
   "name": "python",
   "nbconvert_exporter": "python",
   "pygments_lexer": "ipython3",
   "version": "3.9.11"
  }
 },
 "nbformat": 4,
 "nbformat_minor": 5
}
